{
 "cells": [
  {
   "cell_type": "code",
   "execution_count": 3,
   "metadata": {},
   "outputs": [],
   "source": [
    "from datetime import datetime\n",
    "import numpy as np\n",
    "import os\n",
    "import importlib\n",
    "import sys\n",
    "from Bio import SeqIO\n",
    "\n",
    "\n",
    "import WCM_analysis\n",
    "importlib.reload(WCM_analysis)\n",
    "\n",
    "import WCM_gene as gene\n",
    "import WCM_ptn as ptn"
   ]
  },
  {
   "cell_type": "markdown",
   "metadata": {},
   "source": [
    "#### Read in the pkl file"
   ]
  },
  {
   "cell_type": "code",
   "execution_count": 4,
   "metadata": {},
   "outputs": [],
   "source": [
    "in_dir = '../healthy_10replicates/'\n",
    "\n",
    "pkl_dir = in_dir\n",
    "\n",
    "pkl_label = 'WCMensemble_healthy_10replicates'\n",
    "\n",
    "# create a WCM_analysis class\n",
    "w = WCM_analysis.WCM_ensemble()\n",
    "\n",
    "# Read in the pkl file\n",
    "w.read_merged_ensemble(pkl_dir,pkl_label)\n",
    "\n",
    "fig_dir = './plots_WCM/'\n",
    "\n",
    "if not os.path.exists(fig_dir):\n",
    "        os.makedirs(fig_dir)\n",
    "\n",
    "min_rep = 1\n",
    "max_rep = 10\n",
    "\n",
    "healthy_list = np.arange(min_rep,max_rep+1,dtype=np.int32)\n",
    "healthy_indices = [rep -1 for rep in healthy_list]"
   ]
  },
  {
   "cell_type": "markdown",
   "metadata": {},
   "source": [
    "#### Cell Growth"
   ]
  },
  {
   "cell_type": "code",
   "execution_count": 5,
   "metadata": {},
   "outputs": [],
   "source": [
    "fig_label = 'growth'\n",
    "\n",
    "w.plot_volume(fig_dir, fig_label,healthy_list,'.png',True )\n",
    "\n",
    "w.plot_surfacearea(fig_dir, fig_label, healthy_list, '.png', True)"
   ]
  },
  {
   "cell_type": "markdown",
   "metadata": {},
   "source": [
    "#### Replication Initiation"
   ]
  },
  {
   "cell_type": "code",
   "execution_count": 6,
   "metadata": {},
   "outputs": [],
   "source": [
    "count_initcheck = w.get_specie_trace('RepInitCheck')[:,healthy_indices]\n",
    "\n",
    "# Distribution of rounds of initiation\n",
    "xlabel = 'Rounds of Replication Initiation'\n",
    "ylabel = 'Frequency'\n",
    "title = 'Distribution_of_Initiation_Rounds_After_105_Mins'\n",
    "fig_label = 'Initiation_' \n",
    "\n",
    "w.plot_hist(fig_dir, fig_label, '.png', count_initcheck[-1,:], xlabel, ylabel, title, bins=10)"
   ]
  },
  {
   "cell_type": "code",
   "execution_count": 7,
   "metadata": {},
   "outputs": [],
   "source": [
    "filas_mother, filas_d1, filas_d2 = gene.get_filamentlength_new(w)\n",
    "filas = [filas_mother, filas_d1, filas_d2]\n",
    "ylabel = r'Filament Length [\\#]'\n",
    "titles = ['Filalength_mother_all' ]\n",
    "\n",
    "for i in range(len(titles)):\n",
    "        title = titles[i]\n",
    "        fila = filas[i]\n",
    "        w.plot_in_replicates_single(fig_dir, fig_label, '.png', fila, healthy_list, ylabel, title, False, True)\n",
    "        "
   ]
  },
  {
   "cell_type": "code",
   "execution_count": 8,
   "metadata": {},
   "outputs": [
    {
     "name": "stdout",
     "output_type": "stream",
     "text": [
      "Following is the initiation analysis of 10 replicates 0, 1, 2, 3, 4, 5, 6, 7, 8, 9.\n",
      "Replicate 0 finished 3 rounds of replication initiation at 3.2666666666666666,68.6,78.98333333333333, minutes\n",
      "Replicate 1 finished 7 rounds of replication initiation at 6.816666666666666,56.63333333333333,57.13333333333333,101.61666666666666,103.25,103.75,104.1, minutes\n",
      "Replicate 2 finished 5 rounds of replication initiation at 0.9,47.583333333333336,63.35,93.58333333333333,97.3, minutes\n",
      "Replicate 3 finished 3 rounds of replication initiation at 16.85,63.416666666666664,67.73333333333333, minutes\n",
      "Replicate 4 finished 3 rounds of replication initiation at 2.566666666666667,73.43333333333334,85.58333333333333, minutes\n",
      "Replicate 5 finished 5 rounds of replication initiation at 2.5166666666666666,52.733333333333334,61.983333333333334,96.25,96.95, minutes\n",
      "Replicate 6 finished 4 rounds of replication initiation at 5.833333333333333,54.516666666666666,56.2,104.28333333333333, minutes\n",
      "Replicate 7 finished 3 rounds of replication initiation at 1.9333333333333333,59.93333333333333,74.98333333333333, minutes\n",
      "Replicate 8 finished 5 rounds of replication initiation at 6.666666666666667,56.43333333333333,57.483333333333334,100.26666666666667,104.06666666666666, minutes\n",
      "Replicate 9 finished 3 rounds of replication initiation at 5.983333333333333,55.233333333333334,72.15, minutes\n",
      "Average rounds of initiation is 4.10 over the whole cell cycle\n",
      "Minimum rounds of replication initiation is 3, maximum rounds is 7\n",
      "Distribution of initiation: 0 round 0.00, 1 round 0.00, 2 rounds 0.00, 3 rounds 0.50, 4 rounds 0.10, 5 rounds 0.30\n"
     ]
    }
   ],
   "source": [
    "ini_rounds, ini_times, ini_mother_times, ini_daughter1_times, ini_daughter2_times = gene.analyze_initiation(w,healthy_list)\n",
    "\n",
    "ini_mother_times = [time/60 for time in ini_mother_times]\n",
    "\n",
    "# Distribution of time to finish the first initiation\n",
    "xlabel = 'Time to Finish First Round Replication Initiation [Min]'\n",
    "ylabel = 'Frequency'\n",
    "title = 'Distribution_of_Time_to_Finish_First_Initiation'\n",
    "\n",
    "w.plot_hist(fig_dir, fig_label, '.png', ini_mother_times, xlabel, ylabel, title, bins=20)"
   ]
  },
  {
   "cell_type": "markdown",
   "metadata": {},
   "source": [
    "#### Gene Copy Number"
   ]
  },
  {
   "cell_type": "code",
   "execution_count": 9,
   "metadata": {},
   "outputs": [
    {
     "name": "stdout",
     "output_type": "stream",
     "text": [
      "27169\n",
      "Six types of genes in Syn3A are protein, ncRNA, gene, rRNA, tRNA, tmRNA with respective numbers 455, 2, 3, 6, 29, 1.\n"
     ]
    }
   ],
   "source": [
    "genomeFile3A =  '../input_data/syn3A.gb'\n",
    "\n",
    "genome3A = next(SeqIO.parse(genomeFile3A, \"gb\"))\n",
    "\n",
    "genomeDict = gene.mapDNA(genome3A)\n",
    "\n",
    "LocusNumstoType, geneTypes = gene.categorizeGenes(genomeDict)\n",
    "\n",
    "ptncoding_genes = ['G_{0}'.format(locusNum) for locusNum in LocusNumstoType['protein'] ]\n",
    "tRNA_genes = ['G_{0}'.format(locusNum) for locusNum in LocusNumstoType['tRNA'] ]\n",
    "rRNA_genes = ['G_{0}'.format(locusNum) for locusNum in LocusNumstoType['rRNA'] ]\n",
    "tmRNA_genes = ['G_{0}'.format(locusNum) for locusNum in LocusNumstoType['tmRNA'] ]\n",
    "ncRNA_genes = ['G_{0}'.format(locusNum) for locusNum in LocusNumstoType['ncRNA'] ]\n",
    "pesudo_genes = ['G_{0}'.format(locusNum) for locusNum in LocusNumstoType['gene'] ]\n",
    "\n",
    "entire_genes = ptncoding_genes + tRNA_genes + rRNA_genes + tmRNA_genes + ncRNA_genes\n",
    "\n",
    "Produced_total_genes = ['Produced_{0}'.format(Gene) for Gene in entire_genes ]\n",
    "\n",
    "RNAP_total_genes = ['RNAP_{0}'.format(Gene) for Gene in entire_genes]\n",
    "\n",
    "\n",
    "free_genes_counts = w.get_species_traces(entire_genes)\n",
    "Produced_genes_counts = w.get_species_traces(Produced_total_genes)\n",
    "Bound_genes_counts = w.get_species_traces(RNAP_total_genes)\n",
    "\n",
    "total_genes_counts = free_genes_counts + Bound_genes_counts "
   ]
  },
  {
   "cell_type": "code",
   "execution_count": 10,
   "metadata": {},
   "outputs": [],
   "source": [
    "fig_label = 'replication_'\n",
    "\n",
    "title = 'Gene_Copy_Numbers'\n",
    "\n",
    "w.plot_ensemble_averaged_multiples(fig_dir, fig_label, '.png', np.mean(total_genes_counts[:,:,healthy_indices], axis = 2), entire_genes, 'count', title, True )\n",
    "\n",
    "xlabel = 'Gene Copy Numbers'\n",
    "ylabel = 'Frequency'\n",
    "title = 'Distribution_of_Gene_Copy_Numbers_After_105_min'\n",
    "\n",
    "w.plot_hist(fig_dir, fig_label, '.png', np.mean(total_genes_counts[:,:,healthy_indices], axis = 2)[:,-1], xlabel, ylabel, title, bins=50  )"
   ]
  },
  {
   "cell_type": "code",
   "execution_count": 11,
   "metadata": {},
   "outputs": [],
   "source": [
    "\n",
    "Produced_G_420 = w.get_specie_trace('Produced_G_0420')[:,healthy_indices]\n",
    "\n",
    "t_end_list = []\n",
    "\n",
    "no_rep = []\n",
    "\n",
    "for i_rep in range(Produced_G_420.shape[1]):\n",
    "        trace = Produced_G_420[:,i_rep]\n",
    "        try:\n",
    "                tend_replication = np.where(trace == 1)[0][0]/60\n",
    "                t_end_list.append(tend_replication)\n",
    "        except:\n",
    "                no_rep.append(i_rep)\n",
    "                t_end_list.append(6300/60)\n",
    "\n",
    "\n",
    "xlabel = 'Time to Finish First Round Replication [Min]'\n",
    "ylabel = 'Frequency'\n",
    "title = 'Distribution_of_Time_to_Finish_First_Replication'\n",
    "\n",
    "w.plot_hist(fig_dir, fig_label, '.png', t_end_list, xlabel, ylabel, title, bins=20)"
   ]
  },
  {
   "cell_type": "markdown",
   "metadata": {},
   "source": [
    "#### Transcriptomics/mRNAs"
   ]
  },
  {
   "cell_type": "code",
   "execution_count": 12,
   "metadata": {},
   "outputs": [],
   "source": [
    "mRNA_LocusTag_Dict = {}\n",
    "\n",
    "mRNA_Counts_Dict = {}\n",
    "\n",
    "Categories = ['free', 'produced','ribosome', 'degradosome', 'degradated']\n",
    "\n",
    "Prefixes = ['R_', 'Produced_R_', 'Ribosome_mRNA_', 'Degradosome_mRNA_', 'Degradated_mRNA_']\n",
    "\n",
    "for i_cate, Category in enumerate(Categories):\n",
    "\n",
    "        prefix = Prefixes[i_cate]\n",
    "\n",
    "        mRNA_LocusTag_Dict[Category] = [prefix+locusNum for locusNum in LocusNumstoType['protein']] \n",
    "\n",
    "        mRNA_Counts_Dict[Category] = w.get_species_traces(mRNA_LocusTag_Dict[Category])"
   ]
  },
  {
   "cell_type": "code",
   "execution_count": 13,
   "metadata": {},
   "outputs": [],
   "source": [
    "fig_label = 'mRNA_'\n",
    "Counts1 = mRNA_Counts_Dict['free'] + mRNA_Counts_Dict['ribosome'] + mRNA_Counts_Dict['degradosome']\n",
    "ylabel = 'Count [\\#]'\n",
    "title =  'Counts_All_mRNAs'\n",
    "\n",
    "w.plot_in_replicates_single(fig_dir, fig_label, '.png', np.sum(Counts1, axis=0), healthy_list, ylabel, title, True, True)"
   ]
  },
  {
   "cell_type": "markdown",
   "metadata": {},
   "source": [
    "#### Proteomics"
   ]
  },
  {
   "cell_type": "code",
   "execution_count": 14,
   "metadata": {},
   "outputs": [],
   "source": [
    "normal_ptns, ribosomal_ptns, ten_ptns = ptn.get_categories_ptn()\n",
    "\n",
    "fig_label = 'ptn_'\n",
    "\n",
    "ptns_list =  normal_ptns\n",
    "\n",
    "Produced_ptns = ['Produced_P_{0}'.format(locusNum) for locusNum in ptns_list ]\n",
    "ptns = ['P_{0}'.format(locusNum) for locusNum in ptns_list ]\n",
    "\n",
    "Produced_ptns_counts = w.get_species_traces(Produced_ptns)\n",
    "ptns_counts = w.get_species_traces(ptns)\n",
    "\n",
    "total_ptns = np.zeros_like(ptns_counts)\n",
    "ratio = np.zeros_like(ptns_counts)\n",
    "\n",
    "\n",
    "for i_time in range(np.shape(ptns_counts)[1]):\n",
    "        total_ptns[:,i_time,:] = Produced_ptns_counts[:,i_time,:] + ptns_counts[:,0,:]\n",
    "        ratio[:,i_time,:] = Produced_ptns_counts[:,i_time,:]/ptns_counts[:,0,:] + 1\n",
    "\n",
    "# Ensemble averaged counts of proteins\n",
    "w.plot_ensemble_averaged_multiples(fig_dir, fig_label, '.png',np.mean(total_ptns[:,:,healthy_indices], axis=2),ptns, 'count',title, True )\n",
    "\n",
    "# Ensemble averaged ratio of proteins\n",
    "w.plot_ensemble_averaged_multiples(fig_dir, fig_label, '.png', np.mean(ratio[:,:,healthy_indices], axis =2), ptns, 'ratio', title, True)\n",
    "\n",
    "scaledPtn = np.mean(ratio[:,-1,healthy_indices], axis = 1)\n",
    "\n",
    "xlabel = 'Scaled Protein Abundance After 105 min'\n",
    "ylabel = 'Frequency'\n",
    "\n",
    "# histogram of scaled ptn abundance after 105 min\n",
    "w.plot_hist(fig_dir, fig_label, '.png', scaledPtn, xlabel, ylabel, title, bins=50)"
   ]
  },
  {
   "cell_type": "code",
   "execution_count": 16,
   "metadata": {},
   "outputs": [],
   "source": [
    "fig_dir = './plots_WCM_Metabolites/'\n",
    "\n",
    "if not os.path.exists(fig_dir):\n",
    "        os.makedirs(fig_dir)\n"
   ]
  },
  {
   "cell_type": "markdown",
   "metadata": {},
   "source": [
    "#### Plots the time traces of All Metabolites"
   ]
  },
  {
   "cell_type": "code",
   "execution_count": 17,
   "metadata": {},
   "outputs": [
    {
     "name": "stderr",
     "output_type": "stream",
     "text": [
      "/home/enguang/Documents/LM_Workshop2024/CME/WholeCellModel/analysis/WCM_analysis.py:704: UserWarning: Attempting to set identical bottom == top == 0.0 results in singular transformations; automatically expanding.\n",
      "  1.2*np.amax(y))\n",
      "/home/enguang/Documents/LM_Workshop2024/CME/WholeCellModel/analysis/WCM_analysis.py:704: UserWarning: Attempting to set identical bottom == top == 0.0 results in singular transformations; automatically expanding.\n",
      "  1.2*np.amax(y))\n",
      "/home/enguang/Documents/LM_Workshop2024/CME/WholeCellModel/analysis/WCM_analysis.py:704: UserWarning: Attempting to set identical bottom == top == 0.0 results in singular transformations; automatically expanding.\n",
      "  1.2*np.amax(y))\n",
      "/home/enguang/Documents/LM_Workshop2024/CME/WholeCellModel/analysis/WCM_analysis.py:704: UserWarning: Attempting to set identical bottom == top == 0.0 results in singular transformations; automatically expanding.\n",
      "  1.2*np.amax(y))\n",
      "/home/enguang/Documents/LM_Workshop2024/CME/WholeCellModel/analysis/WCM_analysis.py:704: UserWarning: Attempting to set identical bottom == top == 0.0 results in singular transformations; automatically expanding.\n",
      "  1.2*np.amax(y))\n",
      "/home/enguang/Documents/LM_Workshop2024/CME/WholeCellModel/analysis/WCM_analysis.py:704: UserWarning: Attempting to set identical bottom == top == 0.0 results in singular transformations; automatically expanding.\n",
      "  1.2*np.amax(y))\n",
      "/home/enguang/Documents/LM_Workshop2024/CME/WholeCellModel/analysis/WCM_analysis.py:704: UserWarning: Attempting to set identical bottom == top == 0.0 results in singular transformations; automatically expanding.\n",
      "  1.2*np.amax(y))\n",
      "/home/enguang/Documents/LM_Workshop2024/CME/WholeCellModel/analysis/WCM_analysis.py:704: UserWarning: Attempting to set identical bottom == top == 0.0 results in singular transformations; automatically expanding.\n",
      "  1.2*np.amax(y))\n",
      "/home/enguang/Documents/LM_Workshop2024/CME/WholeCellModel/analysis/WCM_analysis.py:704: UserWarning: Attempting to set identical bottom == top == 0.0 results in singular transformations; automatically expanding.\n",
      "  1.2*np.amax(y))\n",
      "/home/enguang/Documents/LM_Workshop2024/CME/WholeCellModel/analysis/WCM_analysis.py:704: UserWarning: Attempting to set identical bottom == top == 0.0 results in singular transformations; automatically expanding.\n",
      "  1.2*np.amax(y))\n",
      "/home/enguang/Documents/LM_Workshop2024/CME/WholeCellModel/analysis/WCM_analysis.py:704: UserWarning: Attempting to set identical bottom == top == 0.0 results in singular transformations; automatically expanding.\n",
      "  1.2*np.amax(y))\n"
     ]
    }
   ],
   "source": [
    "fig_label = 'metabolites_'\n",
    "\n",
    "intra_metabolites = []\n",
    "\n",
    "for species, index in w.species_map.items():\n",
    "        if species.startswith('M_'):\n",
    "                intra_metabolites.append(species)\n",
    "\n",
    "intra_metabolites.extend(['ptsi','ptsh','crr','ptsg','ptsi_P','ptsh_P','crr_P','ptsg_P'])\n",
    "\n",
    "\n",
    "w.plot_individual_concentrations(fig_dir, fig_label, '.png', intra_metabolites, healthy_list, True )"
   ]
  },
  {
   "cell_type": "markdown",
   "metadata": {},
   "source": []
  }
 ],
 "metadata": {
  "kernelspec": {
   "display_name": "LM_Cell",
   "language": "python",
   "name": "python3"
  },
  "language_info": {
   "codemirror_mode": {
    "name": "ipython",
    "version": 3
   },
   "file_extension": ".py",
   "mimetype": "text/x-python",
   "name": "python",
   "nbconvert_exporter": "python",
   "pygments_lexer": "ipython3",
   "version": "3.7.3"
  }
 },
 "nbformat": 4,
 "nbformat_minor": 2
}
