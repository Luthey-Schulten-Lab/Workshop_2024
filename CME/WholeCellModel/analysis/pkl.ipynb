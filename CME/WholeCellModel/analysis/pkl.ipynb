{
 "cells": [
  {
   "cell_type": "markdown",
   "metadata": {},
   "source": [
    "In this *pkl.ipynb*, you will serialize 10 CSV files into one pkl file for the further analysis."
   ]
  },
  {
   "cell_type": "code",
   "execution_count": null,
   "metadata": {},
   "outputs": [],
   "source": [
    "from datetime import datetime\n",
    "import numpy as np\n",
    "import os\n",
    "\n",
    "import importlib\n",
    "import sys\n",
    "import WCM_analysis\n",
    "importlib.reload(WCM_analysis)"
   ]
  },
  {
   "cell_type": "code",
   "execution_count": null,
   "metadata": {},
   "outputs": [],
   "source": [
    "start_time = datetime.now()\n",
    "\n",
    "print('The merging of CSV files starts at '+ str(start_time))\n",
    "\n",
    "in_dir = '../healthy_10replicates/'\n",
    "\n",
    "in_label = 'counts_SA_fluxes'\n",
    "min_rep = 1\n",
    "max_rep = 10\n",
    "\n",
    "reps_total = np.arange(min_rep,max_rep+1,dtype=np.int32)\n",
    "\n",
    "print('{0} CSV files will be transformed to pkl file'.format(len(reps_total)))\n",
    "\n",
    "pkl_dir = in_dir\n",
    "\n",
    "pkl_label = 'WCMensemble_healthy_10replicates'\n",
    "\n",
    "\n",
    "###################################\n",
    "# pre-processing trajectory files #\n",
    "###################################\n",
    "\n",
    "w = WCM_analysis.WCM_ensemble()\n",
    "\n",
    "# this assumes trajectories are in the below format\n",
    "# (in_dir)/(in_label).(replicate).csv\n",
    "w.set_traj_files(in_dir,in_label,reps_total)\n",
    "\n",
    "w.load_trajs()\n",
    "\n",
    "w.merge_trajs()\n",
    "\n",
    "w.write_merged_ensemble(pkl_dir,pkl_label)\n",
    "\n",
    "print('New ensemble of trajectories Created in folder {0}'.format(pkl_dir))\n",
    "\n",
    "\n",
    "end_time = datetime.now()\n",
    "\n",
    "print('The merging of CSV files finishes at '+ str(end_time))\n",
    "\n",
    "print('Time (hour:minutes:seconds) taken to finish the serializing: {0}'.format(end_time - start_time))\n"
   ]
  },
  {
   "cell_type": "code",
   "execution_count": null,
   "metadata": {},
   "outputs": [],
   "source": []
  }
 ],
 "metadata": {
  "kernelspec": {
   "display_name": "LM_Cell",
   "language": "python",
   "name": "python3"
  },
  "language_info": {
   "codemirror_mode": {
    "name": "ipython",
    "version": 3
   },
   "file_extension": ".py",
   "mimetype": "text/x-python",
   "name": "python",
   "nbconvert_exporter": "python",
   "pygments_lexer": "ipython3",
   "version": "3.7.3"
  }
 },
 "nbformat": 4,
 "nbformat_minor": 2
}
