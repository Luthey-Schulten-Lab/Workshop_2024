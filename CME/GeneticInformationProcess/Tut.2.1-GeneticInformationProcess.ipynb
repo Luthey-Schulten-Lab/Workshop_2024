{
 "cells": [
  {
   "cell_type": "markdown",
   "metadata": {},
   "source": [
    "# Tutorial 1.2 - Stochastic Genetic Information Process\n",
    "\n",
    "Here we examine a CME model of stochastic Genetic Information Process.\n",
    "\n",
    "In this model, we include the transcription and translation of gene and mRNA together with degradation of both mRNA and protein.\n",
    "\n",
    "The model presented here can be found in the article: [Analytical distributions for stochastic gene expression](https://www.pnas.org/doi/full/10.1073/pnas.0803850105).\n"
   ]
  },
  {
   "cell_type": "code",
   "execution_count": 1,
   "metadata": {},
   "outputs": [],
   "source": [
    "# Import Standard Python Libraries\n",
    "import os\n",
    "import numpy as np\n",
    "import matplotlib.pyplot as plt\n",
    "\n",
    "# Import pyLM Libraries\n",
    "from pyLM import *\n",
    "from pyLM.units import *\n",
    "from pySTDLM import *\n",
    "from pySTDLM.PostProcessing import *\n",
    "\n",
    "# Enable plotting inline in the Jupyter notebook\n",
    "%matplotlib inline"
   ]
  },
  {
   "cell_type": "markdown",
   "metadata": {},
   "source": [
    "## Constants\n",
    "\n",
    "Rates of reactions come from the [cell](https://www.cell.com/cell/fulltext/S0092-8674(21)01488-4?_returnURL=https%3A%2F%2Flinkinghub.elsevier.com%2Fretrieve%2Fpii%2FS0092867421014884%3Fshowall%3Dtrue) paper's Whole Cell Model of DnaA coding gene (G_0001) at initial conditions.\n",
    "\n",
    "Degradation rate of protein is calculated based on 25 hours' half life in [Maier et al, 2011](https://www.embopress.org/doi/full/10.1038/msb.2011.38)."
   ]
  },
  {
   "cell_type": "code",
   "execution_count": 2,
   "metadata": {},
   "outputs": [],
   "source": [
    "# Constants\n",
    "v0  = 6.41e-4       # Transcription, s^-1\n",
    "d0 = 2.59e-3     # degradation of mRNA, s^-1\n",
    "v1 = 7.2e-2        # translation, s^-1\n",
    "d1 = 7.70e-6      # degradation of protein, s^-1"
   ]
  },
  {
   "cell_type": "markdown",
   "metadata": {},
   "source": [
    "## Define CME simulation"
   ]
  },
  {
   "cell_type": "markdown",
   "metadata": {},
   "source": [
    "We begin by creating a [CMESimulation](https://luthey-schulten.chemistry.illinois.edu/software/LM2.4/_autosummary/pyLM.CME.html#module-pyLM.CME) \"object\" that we call ```sim```. This object will include the definition of the whole stochastic simulation."
   ]
  },
  {
   "cell_type": "code",
   "execution_count": 3,
   "metadata": {},
   "outputs": [],
   "source": [
    "# Create our CME simulation object\n",
    "sim = CME.CMESimulation(name='Gene Expression')"
   ]
  },
  {
   "cell_type": "markdown",
   "metadata": {},
   "source": [
    "Next we define the chemical species with simulation. First. we specify the names of the chemical species.  Then we register these species with the simulation.  The [```defineSpecies()```](https://luthey-schulten.chemistry.illinois.edu/software/LM2.4/_autosummary/pyLM.CME.html#module-pyLM.CME) function can be called multiple times and will add any new names to the list of species."
   ]
  },
  {
   "cell_type": "code",
   "execution_count": 4,
   "metadata": {},
   "outputs": [],
   "source": [
    "# Define our chemical species\n",
    "species = ['gene', 'mRNA', 'ptn']\n",
    "sim.defineSpecies(species)"
   ]
  },
  {
   "cell_type": "markdown",
   "metadata": {},
   "source": [
    "Here we add reactions to the simulation. We use the [```addReaction()```](https://luthey-schulten.chemistry.illinois.edu/software/LM2.4/_autosummary/pyLM.CME.html#module-pyLM.CME) function that is a member of the ```CMESimulation``` object. We add a bimolecular association reaction and a unimolecular dissociation reaction. When more than one reactant is involved, the list of reactant names should be passed as a tuple as can be seen in the reactant of the association reaction. The rates in this command must be in units of molecules and seconds, for instance units of ```/molecule/sec``` for the association reaction."
   ]
  },
  {
   "cell_type": "code",
   "execution_count": 5,
   "metadata": {},
   "outputs": [],
   "source": [
    "# Add reactions to the simulation\n",
    "\n",
    "sim.addReaction(reactant='gene', product=('gene','mRNA'), rate=v0)\n",
    "sim.addReaction(reactant='mRNA', product='', rate=d0)\n",
    "sim.addReaction(reactant='mRNA', product=('mRNA','ptn'), rate=v1)\n",
    "sim.addReaction(reactant='ptn', product='', rate=d1)\n"
   ]
  },
  {
   "cell_type": "markdown",
   "metadata": {},
   "source": [
    "Next, we add the initial particle counts to the simulation using the [```addParticles()```](https://luthey-schulten.chemistry.illinois.edu/software/LM2.4/_autosummary/pyLM.CME.html#module-pyLM.CME) function."
   ]
  },
  {
   "cell_type": "code",
   "execution_count": 6,
   "metadata": {},
   "outputs": [],
   "source": [
    "# Set our initial species counts\n",
    "\n",
    "sim.addParticles(species='gene', count=1)\n",
    "sim.addParticles(species='mRNA', count=1)\n",
    "sim.addParticles(species='ptn', count=0)"
   ]
  },
  {
   "cell_type": "markdown",
   "metadata": {},
   "source": [
    "Finally, we define the simulation execution parameters. We have the simulation run for 6300 seconds of real time to cover the entire cell cyle.\n",
    "\n",
    "The traces are recorded per 1 second.\n",
    "\n",
    "Then we name the simulation output file and save the simulation definition to it."
   ]
  },
  {
   "cell_type": "code",
   "execution_count": 7,
   "metadata": {},
   "outputs": [],
   "source": [
    "# Simulation time is 6300, entire cell life cycle.\n",
    "writeInterval = 1\n",
    "simtime = 6300\n",
    "\n",
    "sim.setWriteInterval(writeInterval)\n",
    "sim.setSimulationTime(simtime)\n",
    "\n",
    "filename = \"./T2.1-GeneticInformationProcess.lm\"\n",
    "\n",
    "os.system(\"rm -rf %s\"%(filename)) # Remove previous LM file \n",
    "\n",
    "sim.save(filename)"
   ]
  },
  {
   "cell_type": "code",
   "execution_count": 8,
   "metadata": {
    "scrolled": true
   },
   "outputs": [
    {
     "data": {
      "text/html": [
       "<h1> CME Simulation: Gene Expression</h1><h2> Simulation Parameters </h2>writeInterval: 1</br>maxTime: 6300</br><h2> Species </h2><table><tr><td style=\"text-align:left\"><b>Specie</b></td><td style=\"text-align:center\"><b>Particle ID</b></td><td style=\"text-align:center\"><b>Initial Count</b></td></tr><tr><td style=\"text-align:left\">gene</td><td style=\"text-align:center\">1</td><td style=\"text-align:center\">1</td></tr><tr><td style=\"text-align:left\">mRNA</td><td style=\"text-align:center\">2</td><td style=\"text-align:center\">1</td></tr><tr><td style=\"text-align:left\">ptn</td><td style=\"text-align:center\">3</td><td style=\"text-align:center\">0</td></tr></table><h2> Reaction Model </h2><table><tr><td style=\"text-align:left\"><b>Reaction</b></td><td style=\"text-align:center\"><b>Rate</b></td><td style=\"text-align:center\"><b>Units</b></td></tr><tr><td style=\"text-align:left\">gene ⟶ gene + mRNA</td><td style=\"text-align:center\">0.000641</td><td style=\"text-align:center\">s⁻¹</td></tr><tr><td style=\"text-align:left\">mRNA ⟶ ∅</td><td style=\"text-align:center\">0.00259</td><td style=\"text-align:center\">s⁻¹</td></tr><tr><td style=\"text-align:left\">mRNA ⟶ mRNA + ptn</td><td style=\"text-align:center\">0.072</td><td style=\"text-align:center\">s⁻¹</td></tr><tr><td style=\"text-align:left\">ptn ⟶ ∅</td><td style=\"text-align:center\">7.7e-06</td><td style=\"text-align:center\">s⁻¹</td></tr></table>"
      ],
      "text/plain": [
       "<pyLM.CME.CMESimulation at 0x70dd303c0518>"
      ]
     },
     "execution_count": 8,
     "metadata": {},
     "output_type": "execute_result"
    }
   ],
   "source": [
    "# Print out the information of the system\n",
    "sim"
   ]
  },
  {
   "cell_type": "markdown",
   "metadata": {},
   "source": [
    "## Run Simulation"
   ]
  },
  {
   "cell_type": "code",
   "execution_count": 9,
   "metadata": {
    "scrolled": true
   },
   "outputs": [
    {
     "name": "stderr",
     "output_type": "stream",
     "text": [
      "\r",
      "  0%|                                                                                                                                                                                      | 0/100 [00:00<?, ?it/s]"
     ]
    },
    {
     "name": "stdout",
     "output_type": "stream",
     "text": [
      "2024-05-02 10:10:05) Info: Using 56 processor(s) and 1 CUDA device(s) per process.\n",
      "2024-05-02 10:10:05) Info: Assigning 1.00 processor(s) and 1.00 CUDA device(s) per replicate.\n",
      "2024-05-02 10:10:05) Info: Data output thread running.\n",
      "2024-05-02 10:10:05) Info: Seeding xorwow rng with top word 1 and bottom word 708967203\n",
      "2024-05-02 10:10:05) Info: Data output thread finished.\n",
      "2024-05-02 10:10:05) Info: Simulation file closed.\n"
     ]
    },
    {
     "name": "stderr",
     "output_type": "stream",
     "text": [
      "\r",
      "  1%|#7                                                                                                                                                                            | 1/100 [00:00<00:13,  7.48it/s]"
     ]
    },
    {
     "name": "stdout",
     "output_type": "stream",
     "text": [
      "2024-05-02 10:10:05) Info: Using 56 processor(s) and 1 CUDA device(s) per process.\n",
      "2024-05-02 10:10:05) Info: Assigning 1.00 processor(s) and 1.00 CUDA device(s) per replicate.\n",
      "2024-05-02 10:10:05) Info: Data output thread running.\n",
      "2024-05-02 10:10:05) Info: Seeding xorwow rng with top word 2 and bottom word 746057721\n",
      "2024-05-02 10:10:05) Info: Data output thread finished.\n",
      "2024-05-02 10:10:05) Info: Simulation file closed.\n",
      "2024-05-02 10:10:05) Info: Using 56 processor(s) and 1 CUDA device(s) per process.\n",
      "2024-05-02 10:10:05) Info: Assigning 1.00 processor(s) and 1.00 CUDA device(s) per replicate.\n",
      "2024-05-02 10:10:05) Info: Data output thread running.\n",
      "2024-05-02 10:10:05) Info: Seeding xorwow rng with top word 3 and bottom word 775064814\n",
      "2024-05-02 10:10:05) Info: Data output thread finished.\n",
      "2024-05-02 10:10:05) Info: Simulation file closed.\n",
      "2024-05-02 10:10:05) Info: Using 56 processor(s) and 1 CUDA device(s) per process.\n",
      "2024-05-02 10:10:05) Info: Assigning 1.00 processor(s) and 1.00 CUDA device(s) per replicate.\n",
      "2024-05-02 10:10:05) Info: Data output thread running.\n",
      "2024-05-02 10:10:05) Info: Seeding xorwow rng with top word 4 and bottom word 803108757\n",
      "2024-05-02 10:10:05) Info: Data output thread finished.\n",
      "2024-05-02 10:10:05) Info: Simulation file closed.\n",
      "2024-05-02 10:10:05) Info: Using 56 processor(s) and 1 CUDA device(s) per process.\n",
      "2024-05-02 10:10:05) Info: Assigning 1.00 processor(s) and 1.00 CUDA device(s) per replicate.\n",
      "2024-05-02 10:10:05) Info: Data output thread running.\n",
      "2024-05-02 10:10:05) Info: Seeding xorwow rng with top word 5 and bottom word 831523923\n",
      "2024-05-02 10:10:05) Info: Data output thread finished.\n",
      "2024-05-02 10:10:05) Info: Simulation file closed.\n"
     ]
    },
    {
     "name": "stderr",
     "output_type": "stream",
     "text": [
      "\r",
      "  5%|########7                                                                                                                                                                     | 5/100 [00:00<00:04, 22.71it/s]"
     ]
    },
    {
     "name": "stdout",
     "output_type": "stream",
     "text": [
      "2024-05-02 10:10:05) Info: Using 56 processor(s) and 1 CUDA device(s) per process.\n",
      "2024-05-02 10:10:05) Info: Assigning 1.00 processor(s) and 1.00 CUDA device(s) per replicate.\n",
      "2024-05-02 10:10:05) Info: Data output thread running.\n",
      "2024-05-02 10:10:05) Info: Seeding xorwow rng with top word 6 and bottom word 859085571\n",
      "2024-05-02 10:10:05) Info: Data output thread finished.\n",
      "2024-05-02 10:10:05) Info: Simulation file closed.\n",
      "2024-05-02 10:10:05) Info: Using 56 processor(s) and 1 CUDA device(s) per process.\n",
      "2024-05-02 10:10:05) Info: Assigning 1.00 processor(s) and 1.00 CUDA device(s) per replicate.\n",
      "2024-05-02 10:10:05) Info: Data output thread running.\n",
      "2024-05-02 10:10:05) Info: Seeding xorwow rng with top word 7 and bottom word 886711853\n",
      "2024-05-02 10:10:05) Info: Data output thread finished.\n",
      "2024-05-02 10:10:05) Info: Simulation file closed.\n",
      "2024-05-02 10:10:05) Info: Using 56 processor(s) and 1 CUDA device(s) per process.\n",
      "2024-05-02 10:10:05) Info: Assigning 1.00 processor(s) and 1.00 CUDA device(s) per replicate.\n",
      "2024-05-02 10:10:05) Info: Data output thread running.\n",
      "2024-05-02 10:10:05) Info: Seeding xorwow rng with top word 8 and bottom word 912804092\n",
      "2024-05-02 10:10:05) Info: Data output thread finished.\n",
      "2024-05-02 10:10:05) Info: Simulation file closed.\n",
      "2024-05-02 10:10:05) Info: Using 56 processor(s) and 1 CUDA device(s) per process.\n",
      "2024-05-02 10:10:05) Info: Assigning 1.00 processor(s) and 1.00 CUDA device(s) per replicate.\n",
      "2024-05-02 10:10:05) Info: Data output thread running.\n",
      "2024-05-02 10:10:05) Info: Seeding xorwow rng with top word 9 and bottom word 938709572\n",
      "2024-05-02 10:10:05) Info: Data output thread finished.\n",
      "2024-05-02 10:10:05) Info: Simulation file closed.\n"
     ]
    },
    {
     "name": "stderr",
     "output_type": "stream",
     "text": [
      "\r",
      "  9%|###############6                                                                                                                                                              | 9/100 [00:00<00:03, 28.80it/s]"
     ]
    },
    {
     "name": "stdout",
     "output_type": "stream",
     "text": [
      "2024-05-02 10:10:05) Info: Using 56 processor(s) and 1 CUDA device(s) per process.\n",
      "2024-05-02 10:10:05) Info: Assigning 1.00 processor(s) and 1.00 CUDA device(s) per replicate.\n",
      "2024-05-02 10:10:05) Info: Data output thread running.\n",
      "2024-05-02 10:10:05) Info: Seeding xorwow rng with top word 10 and bottom word 967367502\n",
      "2024-05-02 10:10:05) Info: Data output thread finished.\n",
      "2024-05-02 10:10:05) Info: Simulation file closed.\n",
      "2024-05-02 10:10:05) Info: Using 56 processor(s) and 1 CUDA device(s) per process.\n",
      "2024-05-02 10:10:05) Info: Assigning 1.00 processor(s) and 1.00 CUDA device(s) per replicate.\n",
      "2024-05-02 10:10:05) Info: Data output thread running.\n",
      "2024-05-02 10:10:06) Info: Seeding xorwow rng with top word 11 and bottom word 993710675\n",
      "2024-05-02 10:10:06) Info: Data output thread finished.\n",
      "2024-05-02 10:10:06) Info: Simulation file closed.\n",
      "2024-05-02 10:10:06) Info: Using 56 processor(s) and 1 CUDA device(s) per process.\n",
      "2024-05-02 10:10:06) Info: Assigning 1.00 processor(s) and 1.00 CUDA device(s) per replicate.\n",
      "2024-05-02 10:10:06) Info: Data output thread running.\n",
      "2024-05-02 10:10:06) Info: Seeding xorwow rng with top word 12 and bottom word 22128744\n",
      "2024-05-02 10:10:06) Info: Data output thread finished.\n",
      "2024-05-02 10:10:06) Info: Simulation file closed.\n",
      "2024-05-02 10:10:06) Info: Using 56 processor(s) and 1 CUDA device(s) per process.\n",
      "2024-05-02 10:10:06) Info: Assigning 1.00 processor(s) and 1.00 CUDA device(s) per replicate.\n",
      "2024-05-02 10:10:06) Info: Data output thread running.\n",
      "2024-05-02 10:10:06) Info: Seeding xorwow rng with top word 13 and bottom word 48295509\n",
      "2024-05-02 10:10:06) Info: Data output thread finished.\n",
      "2024-05-02 10:10:06) Info: Simulation file closed.\n"
     ]
    },
    {
     "name": "stderr",
     "output_type": "stream",
     "text": [
      "\r",
      " 13%|######################4                                                                                                                                                      | 13/100 [00:00<00:02, 31.85it/s]"
     ]
    },
    {
     "name": "stdout",
     "output_type": "stream",
     "text": [
      "2024-05-02 10:10:06) Info: Using 56 processor(s) and 1 CUDA device(s) per process.\n",
      "2024-05-02 10:10:06) Info: Assigning 1.00 processor(s) and 1.00 CUDA device(s) per replicate.\n",
      "2024-05-02 10:10:06) Info: Data output thread running.\n",
      "2024-05-02 10:10:06) Info: Seeding xorwow rng with top word 14 and bottom word 76365043\n",
      "2024-05-02 10:10:06) Info: Data output thread finished.\n",
      "2024-05-02 10:10:06) Info: Simulation file closed.\n",
      "2024-05-02 10:10:06) Info: Using 56 processor(s) and 1 CUDA device(s) per process.\n",
      "2024-05-02 10:10:06) Info: Assigning 1.00 processor(s) and 1.00 CUDA device(s) per replicate.\n",
      "2024-05-02 10:10:06) Info: Data output thread running.\n",
      "2024-05-02 10:10:06) Info: Seeding xorwow rng with top word 15 and bottom word 104460694\n",
      "2024-05-02 10:10:06) Info: Data output thread finished.\n",
      "2024-05-02 10:10:06) Info: Simulation file closed.\n",
      "2024-05-02 10:10:06) Info: Using 56 processor(s) and 1 CUDA device(s) per process.\n",
      "2024-05-02 10:10:06) Info: Assigning 1.00 processor(s) and 1.00 CUDA device(s) per replicate.\n",
      "2024-05-02 10:10:06) Info: Data output thread running.\n",
      "2024-05-02 10:10:06) Info: Seeding xorwow rng with top word 16 and bottom word 131564645\n",
      "2024-05-02 10:10:06) Info: Data output thread finished.\n",
      "2024-05-02 10:10:06) Info: Simulation file closed.\n",
      "2024-05-02 10:10:06) Info: Using 56 processor(s) and 1 CUDA device(s) per process.\n",
      "2024-05-02 10:10:06) Info: Assigning 1.00 processor(s) and 1.00 CUDA device(s) per replicate.\n",
      "2024-05-02 10:10:06) Info: Data output thread running.\n",
      "2024-05-02 10:10:06) Info: Seeding xorwow rng with top word 17 and bottom word 160008809\n",
      "2024-05-02 10:10:06) Info: Data output thread finished.\n",
      "2024-05-02 10:10:06) Info: Simulation file closed.\n"
     ]
    },
    {
     "name": "stderr",
     "output_type": "stream",
     "text": [
      "\r",
      " 17%|#############################4                                                                                                                                               | 17/100 [00:00<00:02, 33.32it/s]"
     ]
    },
    {
     "name": "stdout",
     "output_type": "stream",
     "text": [
      "2024-05-02 10:10:06) Info: Using 56 processor(s) and 1 CUDA device(s) per process.\n",
      "2024-05-02 10:10:06) Info: Assigning 1.00 processor(s) and 1.00 CUDA device(s) per replicate.\n",
      "2024-05-02 10:10:06) Info: Data output thread running.\n",
      "2024-05-02 10:10:06) Info: Seeding xorwow rng with top word 18 and bottom word 186988973\n",
      "2024-05-02 10:10:06) Info: Data output thread finished.\n",
      "2024-05-02 10:10:06) Info: Simulation file closed.\n",
      "2024-05-02 10:10:06) Info: Using 56 processor(s) and 1 CUDA device(s) per process.\n",
      "2024-05-02 10:10:06) Info: Assigning 1.00 processor(s) and 1.00 CUDA device(s) per replicate.\n",
      "2024-05-02 10:10:06) Info: Data output thread running.\n",
      "2024-05-02 10:10:06) Info: Seeding xorwow rng with top word 19 and bottom word 212815225\n",
      "2024-05-02 10:10:06) Info: Data output thread finished.\n",
      "2024-05-02 10:10:06) Info: Simulation file closed.\n",
      "2024-05-02 10:10:06) Info: Using 56 processor(s) and 1 CUDA device(s) per process.\n",
      "2024-05-02 10:10:06) Info: Assigning 1.00 processor(s) and 1.00 CUDA device(s) per replicate.\n",
      "2024-05-02 10:10:06) Info: Data output thread running.\n",
      "2024-05-02 10:10:06) Info: Seeding xorwow rng with top word 20 and bottom word 238472616\n",
      "2024-05-02 10:10:06) Info: Data output thread finished.\n",
      "2024-05-02 10:10:06) Info: Simulation file closed.\n",
      "2024-05-02 10:10:06) Info: Using 56 processor(s) and 1 CUDA device(s) per process.\n",
      "2024-05-02 10:10:06) Info: Assigning 1.00 processor(s) and 1.00 CUDA device(s) per replicate.\n",
      "2024-05-02 10:10:06) Info: Data output thread running.\n",
      "2024-05-02 10:10:06) Info: Seeding xorwow rng with top word 21 and bottom word 265193614\n",
      "2024-05-02 10:10:06) Info: Data output thread finished.\n",
      "2024-05-02 10:10:06) Info: Simulation file closed.\n"
     ]
    },
    {
     "name": "stderr",
     "output_type": "stream",
     "text": [
      "\r",
      " 21%|####################################3                                                                                                                                        | 21/100 [00:00<00:02, 34.79it/s]"
     ]
    },
    {
     "name": "stdout",
     "output_type": "stream",
     "text": [
      "2024-05-02 10:10:06) Info: Using 56 processor(s) and 1 CUDA device(s) per process.\n",
      "2024-05-02 10:10:06) Info: Assigning 1.00 processor(s) and 1.00 CUDA device(s) per replicate.\n",
      "2024-05-02 10:10:06) Info: Data output thread running.\n",
      "2024-05-02 10:10:06) Info: Seeding xorwow rng with top word 22 and bottom word 292838365\n",
      "2024-05-02 10:10:06) Info: Data output thread finished.\n",
      "2024-05-02 10:10:06) Info: Simulation file closed.\n",
      "2024-05-02 10:10:06) Info: Using 56 processor(s) and 1 CUDA device(s) per process.\n",
      "2024-05-02 10:10:06) Info: Assigning 1.00 processor(s) and 1.00 CUDA device(s) per replicate.\n",
      "2024-05-02 10:10:06) Info: Data output thread running.\n",
      "2024-05-02 10:10:06) Info: Seeding xorwow rng with top word 23 and bottom word 321282903\n",
      "2024-05-02 10:10:06) Info: Data output thread finished.\n",
      "2024-05-02 10:10:06) Info: Simulation file closed.\n",
      "2024-05-02 10:10:06) Info: Using 56 processor(s) and 1 CUDA device(s) per process.\n",
      "2024-05-02 10:10:06) Info: Assigning 1.00 processor(s) and 1.00 CUDA device(s) per replicate.\n",
      "2024-05-02 10:10:06) Info: Data output thread running.\n",
      "2024-05-02 10:10:06) Info: Seeding xorwow rng with top word 24 and bottom word 347768977\n",
      "2024-05-02 10:10:06) Info: Data output thread finished.\n",
      "2024-05-02 10:10:06) Info: Simulation file closed.\n",
      "2024-05-02 10:10:06) Info: Using 56 processor(s) and 1 CUDA device(s) per process.\n",
      "2024-05-02 10:10:06) Info: Assigning 1.00 processor(s) and 1.00 CUDA device(s) per replicate.\n",
      "2024-05-02 10:10:06) Info: Data output thread running.\n",
      "2024-05-02 10:10:06) Info: Seeding xorwow rng with top word 25 and bottom word 373793271\n",
      "2024-05-02 10:10:06) Info: Data output thread finished.\n",
      "2024-05-02 10:10:06) Info: Simulation file closed.\n"
     ]
    },
    {
     "name": "stderr",
     "output_type": "stream",
     "text": [
      "\r",
      " 25%|###########################################2                                                                                                                                 | 25/100 [00:00<00:02, 35.62it/s]"
     ]
    },
    {
     "name": "stdout",
     "output_type": "stream",
     "text": [
      "2024-05-02 10:10:06) Info: Using 56 processor(s) and 1 CUDA device(s) per process.\n",
      "2024-05-02 10:10:06) Info: Assigning 1.00 processor(s) and 1.00 CUDA device(s) per replicate.\n",
      "2024-05-02 10:10:06) Info: Data output thread running.\n",
      "2024-05-02 10:10:06) Info: Seeding xorwow rng with top word 26 and bottom word 399644471\n",
      "2024-05-02 10:10:06) Info: Data output thread finished.\n",
      "2024-05-02 10:10:06) Info: Simulation file closed.\n",
      "2024-05-02 10:10:06) Info: Using 56 processor(s) and 1 CUDA device(s) per process.\n",
      "2024-05-02 10:10:06) Info: Assigning 1.00 processor(s) and 1.00 CUDA device(s) per replicate.\n",
      "2024-05-02 10:10:06) Info: Data output thread running.\n",
      "2024-05-02 10:10:06) Info: Seeding xorwow rng with top word 27 and bottom word 424654734\n",
      "2024-05-02 10:10:06) Info: Data output thread finished.\n",
      "2024-05-02 10:10:06) Info: Simulation file closed.\n",
      "2024-05-02 10:10:06) Info: Using 56 processor(s) and 1 CUDA device(s) per process.\n",
      "2024-05-02 10:10:06) Info: Assigning 1.00 processor(s) and 1.00 CUDA device(s) per replicate.\n",
      "2024-05-02 10:10:06) Info: Data output thread running.\n",
      "2024-05-02 10:10:06) Info: Seeding xorwow rng with top word 28 and bottom word 453187172\n",
      "2024-05-02 10:10:06) Info: Data output thread finished.\n",
      "2024-05-02 10:10:06) Info: Simulation file closed.\n",
      "2024-05-02 10:10:06) Info: Using 56 processor(s) and 1 CUDA device(s) per process.\n",
      "2024-05-02 10:10:06) Info: Assigning 1.00 processor(s) and 1.00 CUDA device(s) per replicate.\n",
      "2024-05-02 10:10:06) Info: Data output thread running.\n",
      "2024-05-02 10:10:06) Info: Seeding xorwow rng with top word 29 and bottom word 481603487\n",
      "2024-05-02 10:10:06) Info: Data output thread finished.\n",
      "2024-05-02 10:10:06) Info: Simulation file closed.\n"
     ]
    },
    {
     "name": "stderr",
     "output_type": "stream",
     "text": [
      "\r",
      " 29%|##################################################1                                                                                                                          | 29/100 [00:00<00:01, 35.88it/s]"
     ]
    },
    {
     "name": "stdout",
     "output_type": "stream",
     "text": [
      "2024-05-02 10:10:06) Info: Using 56 processor(s) and 1 CUDA device(s) per process.\n",
      "2024-05-02 10:10:06) Info: Assigning 1.00 processor(s) and 1.00 CUDA device(s) per replicate.\n",
      "2024-05-02 10:10:06) Info: Data output thread running.\n",
      "2024-05-02 10:10:06) Info: Seeding xorwow rng with top word 30 and bottom word 510302583\n",
      "2024-05-02 10:10:06) Info: Data output thread finished.\n",
      "2024-05-02 10:10:06) Info: Simulation file closed.\n",
      "2024-05-02 10:10:06) Info: Using 56 processor(s) and 1 CUDA device(s) per process.\n",
      "2024-05-02 10:10:06) Info: Assigning 1.00 processor(s) and 1.00 CUDA device(s) per replicate.\n",
      "2024-05-02 10:10:06) Info: Data output thread running.\n",
      "2024-05-02 10:10:06) Info: Seeding xorwow rng with top word 31 and bottom word 537424532\n",
      "2024-05-02 10:10:06) Info: Data output thread finished.\n",
      "2024-05-02 10:10:06) Info: Simulation file closed.\n",
      "2024-05-02 10:10:06) Info: Using 56 processor(s) and 1 CUDA device(s) per process.\n",
      "2024-05-02 10:10:06) Info: Assigning 1.00 processor(s) and 1.00 CUDA device(s) per replicate.\n",
      "2024-05-02 10:10:06) Info: Data output thread running.\n",
      "2024-05-02 10:10:06) Info: Seeding xorwow rng with top word 32 and bottom word 562919545\n",
      "2024-05-02 10:10:06) Info: Data output thread finished.\n",
      "2024-05-02 10:10:06) Info: Simulation file closed.\n",
      "2024-05-02 10:10:06) Info: Using 56 processor(s) and 1 CUDA device(s) per process.\n",
      "2024-05-02 10:10:06) Info: Assigning 1.00 processor(s) and 1.00 CUDA device(s) per replicate.\n",
      "2024-05-02 10:10:06) Info: Data output thread running.\n",
      "2024-05-02 10:10:06) Info: Seeding xorwow rng with top word 33 and bottom word 588348369\n",
      "2024-05-02 10:10:06) Info: Data output thread finished.\n",
      "2024-05-02 10:10:06) Info: Simulation file closed.\n"
     ]
    },
    {
     "name": "stderr",
     "output_type": "stream",
     "text": [
      "\r",
      " 33%|#########################################################                                                                                                                    | 33/100 [00:01<00:01, 36.53it/s]"
     ]
    },
    {
     "name": "stdout",
     "output_type": "stream",
     "text": [
      "2024-05-02 10:10:06) Info: Using 56 processor(s) and 1 CUDA device(s) per process.\n",
      "2024-05-02 10:10:06) Info: Assigning 1.00 processor(s) and 1.00 CUDA device(s) per replicate.\n",
      "2024-05-02 10:10:06) Info: Data output thread running.\n",
      "2024-05-02 10:10:06) Info: Seeding xorwow rng with top word 34 and bottom word 615938348\n",
      "2024-05-02 10:10:06) Info: Data output thread finished.\n",
      "2024-05-02 10:10:06) Info: Simulation file closed.\n",
      "2024-05-02 10:10:06) Info: Using 56 processor(s) and 1 CUDA device(s) per process.\n",
      "2024-05-02 10:10:06) Info: Assigning 1.00 processor(s) and 1.00 CUDA device(s) per replicate.\n",
      "2024-05-02 10:10:06) Info: Data output thread running.\n",
      "2024-05-02 10:10:06) Info: Seeding xorwow rng with top word 35 and bottom word 643081839\n",
      "2024-05-02 10:10:06) Info: Data output thread finished.\n",
      "2024-05-02 10:10:06) Info: Simulation file closed.\n",
      "2024-05-02 10:10:06) Info: Using 56 processor(s) and 1 CUDA device(s) per process.\n",
      "2024-05-02 10:10:06) Info: Assigning 1.00 processor(s) and 1.00 CUDA device(s) per replicate.\n",
      "2024-05-02 10:10:06) Info: Data output thread running.\n",
      "2024-05-02 10:10:06) Info: Seeding xorwow rng with top word 36 and bottom word 670116302\n",
      "2024-05-02 10:10:06) Info: Data output thread finished.\n",
      "2024-05-02 10:10:06) Info: Simulation file closed.\n",
      "2024-05-02 10:10:06) Info: Using 56 processor(s) and 1 CUDA device(s) per process.\n",
      "2024-05-02 10:10:06) Info: Assigning 1.00 processor(s) and 1.00 CUDA device(s) per replicate.\n",
      "2024-05-02 10:10:06) Info: Data output thread running.\n",
      "2024-05-02 10:10:06) Info: Seeding xorwow rng with top word 37 and bottom word 697964057\n",
      "2024-05-02 10:10:06) Info: Data output thread finished.\n",
      "2024-05-02 10:10:06) Info: Simulation file closed.\n"
     ]
    },
    {
     "name": "stderr",
     "output_type": "stream",
     "text": [
      "\r",
      " 37%|################################################################                                                                                                             | 37/100 [00:01<00:01, 36.40it/s]"
     ]
    },
    {
     "name": "stdout",
     "output_type": "stream",
     "text": [
      "2024-05-02 10:10:06) Info: Using 56 processor(s) and 1 CUDA device(s) per process.\n",
      "2024-05-02 10:10:06) Info: Assigning 1.00 processor(s) and 1.00 CUDA device(s) per replicate.\n",
      "2024-05-02 10:10:06) Info: Data output thread running.\n",
      "2024-05-02 10:10:06) Info: Seeding xorwow rng with top word 38 and bottom word 725629132\n",
      "2024-05-02 10:10:06) Info: Data output thread finished.\n",
      "2024-05-02 10:10:06) Info: Simulation file closed.\n",
      "2024-05-02 10:10:06) Info: Using 56 processor(s) and 1 CUDA device(s) per process.\n",
      "2024-05-02 10:10:06) Info: Assigning 1.00 processor(s) and 1.00 CUDA device(s) per replicate.\n",
      "2024-05-02 10:10:06) Info: Data output thread running.\n",
      "2024-05-02 10:10:06) Info: Seeding xorwow rng with top word 39 and bottom word 752264179\n",
      "2024-05-02 10:10:06) Info: Data output thread finished.\n",
      "2024-05-02 10:10:06) Info: Simulation file closed.\n",
      "2024-05-02 10:10:06) Info: Using 56 processor(s) and 1 CUDA device(s) per process.\n",
      "2024-05-02 10:10:06) Info: Assigning 1.00 processor(s) and 1.00 CUDA device(s) per replicate.\n",
      "2024-05-02 10:10:06) Info: Data output thread running.\n",
      "2024-05-02 10:10:06) Info: Seeding xorwow rng with top word 40 and bottom word 777465945\n",
      "2024-05-02 10:10:06) Info: Data output thread finished.\n",
      "2024-05-02 10:10:06) Info: Simulation file closed.\n",
      "2024-05-02 10:10:06) Info: Using 56 processor(s) and 1 CUDA device(s) per process.\n",
      "2024-05-02 10:10:06) Info: Assigning 1.00 processor(s) and 1.00 CUDA device(s) per replicate.\n",
      "2024-05-02 10:10:06) Info: Data output thread running.\n",
      "2024-05-02 10:10:06) Info: Seeding xorwow rng with top word 41 and bottom word 805824793\n",
      "2024-05-02 10:10:06) Info: Data output thread finished.\n",
      "2024-05-02 10:10:06) Info: Simulation file closed.\n"
     ]
    },
    {
     "name": "stderr",
     "output_type": "stream",
     "text": [
      "\r",
      " 41%|######################################################################9                                                                                                      | 41/100 [00:01<00:01, 36.48it/s]"
     ]
    },
    {
     "name": "stdout",
     "output_type": "stream",
     "text": [
      "2024-05-02 10:10:06) Info: Using 56 processor(s) and 1 CUDA device(s) per process.\n",
      "2024-05-02 10:10:06) Info: Assigning 1.00 processor(s) and 1.00 CUDA device(s) per replicate.\n",
      "2024-05-02 10:10:06) Info: Data output thread running.\n",
      "2024-05-02 10:10:06) Info: Seeding xorwow rng with top word 42 and bottom word 834656533\n",
      "2024-05-02 10:10:06) Info: Data output thread finished.\n",
      "2024-05-02 10:10:06) Info: Simulation file closed.\n",
      "2024-05-02 10:10:06) Info: Using 56 processor(s) and 1 CUDA device(s) per process.\n",
      "2024-05-02 10:10:06) Info: Assigning 1.00 processor(s) and 1.00 CUDA device(s) per replicate.\n",
      "2024-05-02 10:10:06) Info: Data output thread running.\n",
      "2024-05-02 10:10:06) Info: Seeding xorwow rng with top word 43 and bottom word 860826756\n",
      "2024-05-02 10:10:06) Info: Data output thread finished.\n",
      "2024-05-02 10:10:06) Info: Simulation file closed.\n",
      "2024-05-02 10:10:06) Info: Using 56 processor(s) and 1 CUDA device(s) per process.\n",
      "2024-05-02 10:10:06) Info: Assigning 1.00 processor(s) and 1.00 CUDA device(s) per replicate.\n",
      "2024-05-02 10:10:06) Info: Data output thread running.\n",
      "2024-05-02 10:10:06) Info: Seeding xorwow rng with top word 44 and bottom word 885973110\n",
      "2024-05-02 10:10:06) Info: Data output thread finished.\n",
      "2024-05-02 10:10:06) Info: Simulation file closed.\n",
      "2024-05-02 10:10:06) Info: Using 56 processor(s) and 1 CUDA device(s) per process.\n",
      "2024-05-02 10:10:06) Info: Assigning 1.00 processor(s) and 1.00 CUDA device(s) per replicate.\n",
      "2024-05-02 10:10:06) Info: Data output thread running.\n",
      "2024-05-02 10:10:06) Info: Seeding xorwow rng with top word 45 and bottom word 910089356\n",
      "2024-05-02 10:10:06) Info: Data output thread finished.\n",
      "2024-05-02 10:10:06) Info: Simulation file closed.\n"
     ]
    },
    {
     "name": "stderr",
     "output_type": "stream",
     "text": [
      "\r",
      " 45%|#############################################################################8                                                                                               | 45/100 [00:01<00:01, 37.28it/s]"
     ]
    },
    {
     "name": "stdout",
     "output_type": "stream",
     "text": [
      "2024-05-02 10:10:06) Info: Using 56 processor(s) and 1 CUDA device(s) per process.\n",
      "2024-05-02 10:10:06) Info: Assigning 1.00 processor(s) and 1.00 CUDA device(s) per replicate.\n",
      "2024-05-02 10:10:06) Info: Data output thread running.\n",
      "2024-05-02 10:10:06) Info: Seeding xorwow rng with top word 46 and bottom word 936385514\n",
      "2024-05-02 10:10:06) Info: Data output thread finished.\n",
      "2024-05-02 10:10:06) Info: Simulation file closed.\n",
      "2024-05-02 10:10:06) Info: Using 56 processor(s) and 1 CUDA device(s) per process.\n",
      "2024-05-02 10:10:06) Info: Assigning 1.00 processor(s) and 1.00 CUDA device(s) per replicate.\n",
      "2024-05-02 10:10:06) Info: Data output thread running.\n",
      "2024-05-02 10:10:06) Info: Seeding xorwow rng with top word 47 and bottom word 962392709\n",
      "2024-05-02 10:10:06) Info: Data output thread finished.\n",
      "2024-05-02 10:10:06) Info: Simulation file closed.\n",
      "2024-05-02 10:10:06) Info: Using 56 processor(s) and 1 CUDA device(s) per process.\n",
      "2024-05-02 10:10:06) Info: Assigning 1.00 processor(s) and 1.00 CUDA device(s) per replicate.\n",
      "2024-05-02 10:10:06) Info: Data output thread running.\n",
      "2024-05-02 10:10:06) Info: Seeding xorwow rng with top word 48 and bottom word 986460328\n",
      "2024-05-02 10:10:06) Info: Data output thread finished.\n",
      "2024-05-02 10:10:07) Info: Simulation file closed.\n",
      "2024-05-02 10:10:07) Info: Using 56 processor(s) and 1 CUDA device(s) per process.\n",
      "2024-05-02 10:10:07) Info: Assigning 1.00 processor(s) and 1.00 CUDA device(s) per replicate.\n",
      "2024-05-02 10:10:07) Info: Data output thread running.\n",
      "2024-05-02 10:10:07) Info: Seeding xorwow rng with top word 49 and bottom word 10760448\n",
      "2024-05-02 10:10:07) Info: Data output thread finished.\n",
      "2024-05-02 10:10:07) Info: Simulation file closed.\n",
      "2024-05-02 10:10:07) Info: Using 56 processor(s) and 1 CUDA device(s) per process.\n",
      "2024-05-02 10:10:07) Info: Assigning 1.00 processor(s) and 1.00 CUDA device(s) per replicate.\n",
      "2024-05-02 10:10:07) Info: Data output thread running.\n",
      "2024-05-02 10:10:07) Info: Seeding xorwow rng with top word 50 and bottom word 34984135\n",
      "2024-05-02 10:10:07) Info: Data output thread finished.\n",
      "2024-05-02 10:10:07) Info: Simulation file closed.\n"
     ]
    },
    {
     "name": "stderr",
     "output_type": "stream",
     "text": [
      "\r",
      " 50%|######################################################################################5                                                                                      | 50/100 [00:01<00:01, 38.30it/s]"
     ]
    },
    {
     "name": "stdout",
     "output_type": "stream",
     "text": [
      "2024-05-02 10:10:07) Info: Using 56 processor(s) and 1 CUDA device(s) per process.\n",
      "2024-05-02 10:10:07) Info: Assigning 1.00 processor(s) and 1.00 CUDA device(s) per replicate.\n",
      "2024-05-02 10:10:07) Info: Data output thread running.\n",
      "2024-05-02 10:10:07) Info: Seeding xorwow rng with top word 51 and bottom word 60449359\n",
      "2024-05-02 10:10:07) Info: Data output thread finished.\n",
      "2024-05-02 10:10:07) Info: Simulation file closed.\n",
      "2024-05-02 10:10:07) Info: Using 56 processor(s) and 1 CUDA device(s) per process.\n",
      "2024-05-02 10:10:07) Info: Assigning 1.00 processor(s) and 1.00 CUDA device(s) per replicate.\n",
      "2024-05-02 10:10:07) Info: Data output thread running.\n",
      "2024-05-02 10:10:07) Info: Seeding xorwow rng with top word 52 and bottom word 86039131\n",
      "2024-05-02 10:10:07) Info: Data output thread finished.\n",
      "2024-05-02 10:10:07) Info: Simulation file closed.\n",
      "2024-05-02 10:10:07) Info: Using 56 processor(s) and 1 CUDA device(s) per process.\n",
      "2024-05-02 10:10:07) Info: Assigning 1.00 processor(s) and 1.00 CUDA device(s) per replicate.\n",
      "2024-05-02 10:10:07) Info: Data output thread running.\n",
      "2024-05-02 10:10:07) Info: Seeding xorwow rng with top word 53 and bottom word 110450250\n",
      "2024-05-02 10:10:07) Info: Data output thread finished.\n",
      "2024-05-02 10:10:07) Info: Simulation file closed.\n",
      "2024-05-02 10:10:07) Info: Using 56 processor(s) and 1 CUDA device(s) per process.\n",
      "2024-05-02 10:10:07) Info: Assigning 1.00 processor(s) and 1.00 CUDA device(s) per replicate.\n",
      "2024-05-02 10:10:07) Info: Data output thread running.\n",
      "2024-05-02 10:10:07) Info: Seeding xorwow rng with top word 54 and bottom word 136054823\n",
      "2024-05-02 10:10:07) Info: Data output thread finished.\n",
      "2024-05-02 10:10:07) Info: Simulation file closed.\n"
     ]
    },
    {
     "name": "stderr",
     "output_type": "stream",
     "text": [
      "\r",
      " 54%|#############################################################################################4                                                                               | 54/100 [00:01<00:01, 38.47it/s]"
     ]
    },
    {
     "name": "stdout",
     "output_type": "stream",
     "text": [
      "2024-05-02 10:10:07) Info: Using 56 processor(s) and 1 CUDA device(s) per process.\n",
      "2024-05-02 10:10:07) Info: Assigning 1.00 processor(s) and 1.00 CUDA device(s) per replicate.\n",
      "2024-05-02 10:10:07) Info: Data output thread running.\n",
      "2024-05-02 10:10:07) Info: Seeding xorwow rng with top word 55 and bottom word 163429945\n",
      "2024-05-02 10:10:07) Info: Data output thread finished.\n",
      "2024-05-02 10:10:07) Info: Simulation file closed.\n",
      "2024-05-02 10:10:07) Info: Using 56 processor(s) and 1 CUDA device(s) per process.\n",
      "2024-05-02 10:10:07) Info: Assigning 1.00 processor(s) and 1.00 CUDA device(s) per replicate.\n",
      "2024-05-02 10:10:07) Info: Data output thread running.\n",
      "2024-05-02 10:10:07) Info: Seeding xorwow rng with top word 56 and bottom word 189389660\n",
      "2024-05-02 10:10:07) Info: Data output thread finished.\n",
      "2024-05-02 10:10:07) Info: Simulation file closed.\n",
      "2024-05-02 10:10:07) Info: Using 56 processor(s) and 1 CUDA device(s) per process.\n",
      "2024-05-02 10:10:07) Info: Assigning 1.00 processor(s) and 1.00 CUDA device(s) per replicate.\n",
      "2024-05-02 10:10:07) Info: Data output thread running.\n",
      "2024-05-02 10:10:07) Info: Seeding xorwow rng with top word 57 and bottom word 216350120\n",
      "2024-05-02 10:10:07) Info: Data output thread finished.\n",
      "2024-05-02 10:10:07) Info: Simulation file closed.\n",
      "2024-05-02 10:10:07) Info: Using 56 processor(s) and 1 CUDA device(s) per process.\n",
      "2024-05-02 10:10:07) Info: Assigning 1.00 processor(s) and 1.00 CUDA device(s) per replicate.\n",
      "2024-05-02 10:10:07) Info: Data output thread running.\n",
      "2024-05-02 10:10:07) Info: Seeding xorwow rng with top word 58 and bottom word 242349106\n",
      "2024-05-02 10:10:07) Info: Data output thread finished.\n",
      "2024-05-02 10:10:07) Info: Simulation file closed.\n"
     ]
    },
    {
     "name": "stderr",
     "output_type": "stream",
     "text": [
      "\r",
      " 58%|####################################################################################################3                                                                        | 58/100 [00:01<00:01, 38.07it/s]"
     ]
    },
    {
     "name": "stdout",
     "output_type": "stream",
     "text": [
      "2024-05-02 10:10:07) Info: Using 56 processor(s) and 1 CUDA device(s) per process.\n",
      "2024-05-02 10:10:07) Info: Assigning 1.00 processor(s) and 1.00 CUDA device(s) per replicate.\n",
      "2024-05-02 10:10:07) Info: Data output thread running.\n",
      "2024-05-02 10:10:07) Info: Seeding xorwow rng with top word 59 and bottom word 270730313\n",
      "2024-05-02 10:10:07) Info: Data output thread finished.\n",
      "2024-05-02 10:10:07) Info: Simulation file closed.\n",
      "2024-05-02 10:10:07) Info: Using 56 processor(s) and 1 CUDA device(s) per process.\n",
      "2024-05-02 10:10:07) Info: Assigning 1.00 processor(s) and 1.00 CUDA device(s) per replicate.\n",
      "2024-05-02 10:10:07) Info: Data output thread running.\n",
      "2024-05-02 10:10:07) Info: Seeding xorwow rng with top word 60 and bottom word 298466737\n",
      "2024-05-02 10:10:07) Info: Data output thread finished.\n",
      "2024-05-02 10:10:07) Info: Simulation file closed.\n",
      "2024-05-02 10:10:07) Info: Using 56 processor(s) and 1 CUDA device(s) per process.\n",
      "2024-05-02 10:10:07) Info: Assigning 1.00 processor(s) and 1.00 CUDA device(s) per replicate.\n",
      "2024-05-02 10:10:07) Info: Data output thread running.\n",
      "2024-05-02 10:10:07) Info: Seeding xorwow rng with top word 61 and bottom word 328362298\n",
      "2024-05-02 10:10:07) Info: Data output thread finished.\n",
      "2024-05-02 10:10:07) Info: Simulation file closed.\n",
      "2024-05-02 10:10:07) Info: Using 56 processor(s) and 1 CUDA device(s) per process.\n",
      "2024-05-02 10:10:07) Info: Assigning 1.00 processor(s) and 1.00 CUDA device(s) per replicate.\n",
      "2024-05-02 10:10:07) Info: Data output thread running.\n",
      "2024-05-02 10:10:07) Info: Seeding xorwow rng with top word 62 and bottom word 355235922\n",
      "2024-05-02 10:10:07) Info: Data output thread finished.\n",
      "2024-05-02 10:10:07) Info: Simulation file closed.\n"
     ]
    },
    {
     "name": "stderr",
     "output_type": "stream",
     "text": [
      "\r",
      " 62%|###########################################################################################################2                                                                 | 62/100 [00:01<00:01, 37.49it/s]"
     ]
    },
    {
     "name": "stdout",
     "output_type": "stream",
     "text": [
      "2024-05-02 10:10:07) Info: Using 56 processor(s) and 1 CUDA device(s) per process.\n",
      "2024-05-02 10:10:07) Info: Assigning 1.00 processor(s) and 1.00 CUDA device(s) per replicate.\n",
      "2024-05-02 10:10:07) Info: Data output thread running.\n",
      "2024-05-02 10:10:07) Info: Seeding xorwow rng with top word 63 and bottom word 382450707\n",
      "2024-05-02 10:10:07) Info: Data output thread finished.\n",
      "2024-05-02 10:10:07) Info: Simulation file closed.\n",
      "2024-05-02 10:10:07) Info: Using 56 processor(s) and 1 CUDA device(s) per process.\n",
      "2024-05-02 10:10:07) Info: Assigning 1.00 processor(s) and 1.00 CUDA device(s) per replicate.\n",
      "2024-05-02 10:10:07) Info: Data output thread running.\n",
      "2024-05-02 10:10:07) Info: Seeding xorwow rng with top word 64 and bottom word 407794101\n",
      "2024-05-02 10:10:07) Info: Data output thread finished.\n",
      "2024-05-02 10:10:07) Info: Simulation file closed.\n",
      "2024-05-02 10:10:07) Info: Using 56 processor(s) and 1 CUDA device(s) per process.\n",
      "2024-05-02 10:10:07) Info: Assigning 1.00 processor(s) and 1.00 CUDA device(s) per replicate.\n",
      "2024-05-02 10:10:07) Info: Data output thread running.\n",
      "2024-05-02 10:10:07) Info: Seeding xorwow rng with top word 65 and bottom word 434946128\n",
      "2024-05-02 10:10:07) Info: Data output thread finished.\n",
      "2024-05-02 10:10:07) Info: Simulation file closed.\n",
      "2024-05-02 10:10:07) Info: Using 56 processor(s) and 1 CUDA device(s) per process.\n",
      "2024-05-02 10:10:07) Info: Assigning 1.00 processor(s) and 1.00 CUDA device(s) per replicate.\n",
      "2024-05-02 10:10:07) Info: Data output thread running.\n",
      "2024-05-02 10:10:07) Info: Seeding xorwow rng with top word 66 and bottom word 461215018\n",
      "2024-05-02 10:10:07) Info: Data output thread finished.\n",
      "2024-05-02 10:10:07) Info: Simulation file closed.\n"
     ]
    },
    {
     "name": "stderr",
     "output_type": "stream",
     "text": [
      "\r",
      " 66%|##################################################################################################################1                                                          | 66/100 [00:01<00:00, 37.42it/s]"
     ]
    },
    {
     "name": "stdout",
     "output_type": "stream",
     "text": [
      "2024-05-02 10:10:07) Info: Using 56 processor(s) and 1 CUDA device(s) per process.\n",
      "2024-05-02 10:10:07) Info: Assigning 1.00 processor(s) and 1.00 CUDA device(s) per replicate.\n",
      "2024-05-02 10:10:07) Info: Data output thread running.\n",
      "2024-05-02 10:10:07) Info: Seeding xorwow rng with top word 67 and bottom word 489308804\n",
      "2024-05-02 10:10:07) Info: Data output thread finished.\n",
      "2024-05-02 10:10:07) Info: Simulation file closed.\n",
      "2024-05-02 10:10:07) Info: Using 56 processor(s) and 1 CUDA device(s) per process.\n",
      "2024-05-02 10:10:07) Info: Assigning 1.00 processor(s) and 1.00 CUDA device(s) per replicate.\n",
      "2024-05-02 10:10:07) Info: Data output thread running.\n",
      "2024-05-02 10:10:07) Info: Seeding xorwow rng with top word 68 and bottom word 516959018\n",
      "2024-05-02 10:10:07) Info: Data output thread finished.\n",
      "2024-05-02 10:10:07) Info: Simulation file closed.\n",
      "2024-05-02 10:10:07) Info: Using 56 processor(s) and 1 CUDA device(s) per process.\n",
      "2024-05-02 10:10:07) Info: Assigning 1.00 processor(s) and 1.00 CUDA device(s) per replicate.\n",
      "2024-05-02 10:10:07) Info: Data output thread running.\n",
      "2024-05-02 10:10:07) Info: Seeding xorwow rng with top word 69 and bottom word 544929613\n",
      "2024-05-02 10:10:07) Info: Data output thread finished.\n",
      "2024-05-02 10:10:07) Info: Simulation file closed.\n",
      "2024-05-02 10:10:07) Info: Using 56 processor(s) and 1 CUDA device(s) per process.\n",
      "2024-05-02 10:10:07) Info: Assigning 1.00 processor(s) and 1.00 CUDA device(s) per replicate.\n",
      "2024-05-02 10:10:07) Info: Data output thread running.\n",
      "2024-05-02 10:10:07) Info: Seeding xorwow rng with top word 70 and bottom word 573666060\n",
      "2024-05-02 10:10:07) Info: Data output thread finished.\n",
      "2024-05-02 10:10:07) Info: Simulation file closed.\n"
     ]
    },
    {
     "name": "stderr",
     "output_type": "stream",
     "text": [
      "\r",
      " 70%|#########################################################################################################################1                                                   | 70/100 [00:01<00:00, 36.71it/s]"
     ]
    },
    {
     "name": "stdout",
     "output_type": "stream",
     "text": [
      "2024-05-02 10:10:07) Info: Using 56 processor(s) and 1 CUDA device(s) per process.\n",
      "2024-05-02 10:10:07) Info: Assigning 1.00 processor(s) and 1.00 CUDA device(s) per replicate.\n",
      "2024-05-02 10:10:07) Info: Data output thread running.\n",
      "2024-05-02 10:10:07) Info: Seeding xorwow rng with top word 71 and bottom word 603419324\n",
      "2024-05-02 10:10:07) Info: Data output thread finished.\n",
      "2024-05-02 10:10:07) Info: Simulation file closed.\n",
      "2024-05-02 10:10:07) Info: Using 56 processor(s) and 1 CUDA device(s) per process.\n",
      "2024-05-02 10:10:07) Info: Assigning 1.00 processor(s) and 1.00 CUDA device(s) per replicate.\n",
      "2024-05-02 10:10:07) Info: Data output thread running.\n",
      "2024-05-02 10:10:07) Info: Seeding xorwow rng with top word 72 and bottom word 633191503\n",
      "2024-05-02 10:10:07) Info: Data output thread finished.\n",
      "2024-05-02 10:10:07) Info: Simulation file closed.\n",
      "2024-05-02 10:10:07) Info: Using 56 processor(s) and 1 CUDA device(s) per process.\n",
      "2024-05-02 10:10:07) Info: Assigning 1.00 processor(s) and 1.00 CUDA device(s) per replicate.\n",
      "2024-05-02 10:10:07) Info: Data output thread running.\n",
      "2024-05-02 10:10:07) Info: Seeding xorwow rng with top word 73 and bottom word 662842076\n",
      "2024-05-02 10:10:07) Info: Data output thread finished.\n",
      "2024-05-02 10:10:07) Info: Simulation file closed.\n",
      "2024-05-02 10:10:07) Info: Using 56 processor(s) and 1 CUDA device(s) per process.\n",
      "2024-05-02 10:10:07) Info: Assigning 1.00 processor(s) and 1.00 CUDA device(s) per replicate.\n",
      "2024-05-02 10:10:07) Info: Data output thread running.\n",
      "2024-05-02 10:10:07) Info: Seeding xorwow rng with top word 74 and bottom word 691004322\n",
      "2024-05-02 10:10:07) Info: Data output thread finished.\n",
      "2024-05-02 10:10:07) Info: Simulation file closed.\n"
     ]
    },
    {
     "name": "stderr",
     "output_type": "stream",
     "text": [
      "\r",
      " 74%|################################################################################################################################                                             | 74/100 [00:02<00:00, 36.01it/s]"
     ]
    },
    {
     "name": "stdout",
     "output_type": "stream",
     "text": [
      "2024-05-02 10:10:07) Info: Using 56 processor(s) and 1 CUDA device(s) per process.\n",
      "2024-05-02 10:10:07) Info: Assigning 1.00 processor(s) and 1.00 CUDA device(s) per replicate.\n",
      "2024-05-02 10:10:07) Info: Data output thread running.\n",
      "2024-05-02 10:10:07) Info: Seeding xorwow rng with top word 75 and bottom word 719166998\n",
      "2024-05-02 10:10:07) Info: Data output thread finished.\n",
      "2024-05-02 10:10:07) Info: Simulation file closed.\n",
      "2024-05-02 10:10:07) Info: Using 56 processor(s) and 1 CUDA device(s) per process.\n",
      "2024-05-02 10:10:07) Info: Assigning 1.00 processor(s) and 1.00 CUDA device(s) per replicate.\n",
      "2024-05-02 10:10:07) Info: Data output thread running.\n",
      "2024-05-02 10:10:07) Info: Seeding xorwow rng with top word 76 and bottom word 747262659\n",
      "2024-05-02 10:10:07) Info: Data output thread finished.\n",
      "2024-05-02 10:10:07) Info: Simulation file closed.\n",
      "2024-05-02 10:10:07) Info: Using 56 processor(s) and 1 CUDA device(s) per process.\n",
      "2024-05-02 10:10:07) Info: Assigning 1.00 processor(s) and 1.00 CUDA device(s) per replicate.\n",
      "2024-05-02 10:10:07) Info: Data output thread running.\n",
      "2024-05-02 10:10:07) Info: Seeding xorwow rng with top word 77 and bottom word 774417212\n",
      "2024-05-02 10:10:07) Info: Data output thread finished.\n",
      "2024-05-02 10:10:07) Info: Simulation file closed.\n",
      "2024-05-02 10:10:07) Info: Using 56 processor(s) and 1 CUDA device(s) per process.\n",
      "2024-05-02 10:10:07) Info: Assigning 1.00 processor(s) and 1.00 CUDA device(s) per replicate.\n",
      "2024-05-02 10:10:07) Info: Data output thread running.\n",
      "2024-05-02 10:10:07) Info: Seeding xorwow rng with top word 78 and bottom word 801820479\n",
      "2024-05-02 10:10:07) Info: Data output thread finished.\n",
      "2024-05-02 10:10:07) Info: Simulation file closed.\n"
     ]
    },
    {
     "name": "stderr",
     "output_type": "stream",
     "text": [
      "\r",
      " 78%|######################################################################################################################################9                                      | 78/100 [00:02<00:00, 36.04it/s]"
     ]
    },
    {
     "name": "stdout",
     "output_type": "stream",
     "text": [
      "2024-05-02 10:10:07) Info: Using 56 processor(s) and 1 CUDA device(s) per process.\n",
      "2024-05-02 10:10:07) Info: Assigning 1.00 processor(s) and 1.00 CUDA device(s) per replicate.\n",
      "2024-05-02 10:10:07) Info: Data output thread running.\n",
      "2024-05-02 10:10:07) Info: Seeding xorwow rng with top word 79 and bottom word 830018924\n",
      "2024-05-02 10:10:07) Info: Data output thread finished.\n",
      "2024-05-02 10:10:07) Info: Simulation file closed.\n",
      "2024-05-02 10:10:07) Info: Using 56 processor(s) and 1 CUDA device(s) per process.\n",
      "2024-05-02 10:10:07) Info: Assigning 1.00 processor(s) and 1.00 CUDA device(s) per replicate.\n",
      "2024-05-02 10:10:07) Info: Data output thread running.\n",
      "2024-05-02 10:10:07) Info: Seeding xorwow rng with top word 80 and bottom word 858274361\n",
      "2024-05-02 10:10:07) Info: Data output thread finished.\n",
      "2024-05-02 10:10:07) Info: Simulation file closed.\n",
      "2024-05-02 10:10:07) Info: Using 56 processor(s) and 1 CUDA device(s) per process.\n",
      "2024-05-02 10:10:07) Info: Assigning 1.00 processor(s) and 1.00 CUDA device(s) per replicate.\n",
      "2024-05-02 10:10:07) Info: Data output thread running.\n",
      "2024-05-02 10:10:07) Info: Seeding xorwow rng with top word 81 and bottom word 884831459\n",
      "2024-05-02 10:10:07) Info: Data output thread finished.\n",
      "2024-05-02 10:10:07) Info: Simulation file closed.\n",
      "2024-05-02 10:10:07) Info: Using 56 processor(s) and 1 CUDA device(s) per process.\n",
      "2024-05-02 10:10:07) Info: Assigning 1.00 processor(s) and 1.00 CUDA device(s) per replicate.\n",
      "2024-05-02 10:10:07) Info: Data output thread running.\n",
      "2024-05-02 10:10:07) Info: Seeding xorwow rng with top word 82 and bottom word 911888121\n",
      "2024-05-02 10:10:07) Info: Data output thread finished.\n",
      "2024-05-02 10:10:07) Info: Simulation file closed.\n"
     ]
    },
    {
     "name": "stderr",
     "output_type": "stream",
     "text": [
      "\r",
      " 82%|#############################################################################################################################################8                               | 82/100 [00:02<00:00, 36.20it/s]"
     ]
    },
    {
     "name": "stdout",
     "output_type": "stream",
     "text": [
      "2024-05-02 10:10:07) Info: Using 56 processor(s) and 1 CUDA device(s) per process.\n",
      "2024-05-02 10:10:07) Info: Assigning 1.00 processor(s) and 1.00 CUDA device(s) per replicate.\n",
      "2024-05-02 10:10:07) Info: Data output thread running.\n",
      "2024-05-02 10:10:07) Info: Seeding xorwow rng with top word 83 and bottom word 939502358\n",
      "2024-05-02 10:10:07) Info: Data output thread finished.\n",
      "2024-05-02 10:10:07) Info: Simulation file closed.\n",
      "2024-05-02 10:10:07) Info: Using 56 processor(s) and 1 CUDA device(s) per process.\n",
      "2024-05-02 10:10:07) Info: Assigning 1.00 processor(s) and 1.00 CUDA device(s) per replicate.\n",
      "2024-05-02 10:10:07) Info: Data output thread running.\n",
      "2024-05-02 10:10:07) Info: Seeding xorwow rng with top word 84 and bottom word 968949955\n",
      "2024-05-02 10:10:07) Info: Data output thread finished.\n",
      "2024-05-02 10:10:07) Info: Simulation file closed.\n",
      "2024-05-02 10:10:07) Info: Using 56 processor(s) and 1 CUDA device(s) per process.\n",
      "2024-05-02 10:10:07) Info: Assigning 1.00 processor(s) and 1.00 CUDA device(s) per replicate.\n",
      "2024-05-02 10:10:07) Info: Data output thread running.\n",
      "2024-05-02 10:10:08) Info: Seeding xorwow rng with top word 85 and bottom word 995147166\n",
      "2024-05-02 10:10:08) Info: Data output thread finished.\n",
      "2024-05-02 10:10:08) Info: Simulation file closed.\n",
      "2024-05-02 10:10:08) Info: Using 56 processor(s) and 1 CUDA device(s) per process.\n",
      "2024-05-02 10:10:08) Info: Assigning 1.00 processor(s) and 1.00 CUDA device(s) per replicate.\n",
      "2024-05-02 10:10:08) Info: Data output thread running.\n",
      "2024-05-02 10:10:08) Info: Seeding xorwow rng with top word 86 and bottom word 21116980\n",
      "2024-05-02 10:10:08) Info: Data output thread finished.\n",
      "2024-05-02 10:10:08) Info: Simulation file closed.\n"
     ]
    },
    {
     "name": "stderr",
     "output_type": "stream",
     "text": [
      "\r",
      " 86%|####################################################################################################################################################7                        | 86/100 [00:02<00:00, 36.27it/s]"
     ]
    },
    {
     "name": "stdout",
     "output_type": "stream",
     "text": [
      "2024-05-02 10:10:08) Info: Using 56 processor(s) and 1 CUDA device(s) per process.\n",
      "2024-05-02 10:10:08) Info: Assigning 1.00 processor(s) and 1.00 CUDA device(s) per replicate.\n",
      "2024-05-02 10:10:08) Info: Data output thread running.\n",
      "2024-05-02 10:10:08) Info: Seeding xorwow rng with top word 87 and bottom word 49709308\n",
      "2024-05-02 10:10:08) Info: Data output thread finished.\n",
      "2024-05-02 10:10:08) Info: Simulation file closed.\n",
      "2024-05-02 10:10:08) Info: Using 56 processor(s) and 1 CUDA device(s) per process.\n",
      "2024-05-02 10:10:08) Info: Assigning 1.00 processor(s) and 1.00 CUDA device(s) per replicate.\n",
      "2024-05-02 10:10:08) Info: Data output thread running.\n",
      "2024-05-02 10:10:08) Info: Seeding xorwow rng with top word 88 and bottom word 76543413\n",
      "2024-05-02 10:10:08) Info: Data output thread finished.\n",
      "2024-05-02 10:10:08) Info: Simulation file closed.\n",
      "2024-05-02 10:10:08) Info: Using 56 processor(s) and 1 CUDA device(s) per process.\n",
      "2024-05-02 10:10:08) Info: Assigning 1.00 processor(s) and 1.00 CUDA device(s) per replicate.\n",
      "2024-05-02 10:10:08) Info: Data output thread running.\n",
      "2024-05-02 10:10:08) Info: Seeding xorwow rng with top word 89 and bottom word 104138903\n",
      "2024-05-02 10:10:08) Info: Data output thread finished.\n",
      "2024-05-02 10:10:08) Info: Simulation file closed.\n",
      "2024-05-02 10:10:08) Info: Using 56 processor(s) and 1 CUDA device(s) per process.\n",
      "2024-05-02 10:10:08) Info: Assigning 1.00 processor(s) and 1.00 CUDA device(s) per replicate.\n",
      "2024-05-02 10:10:08) Info: Data output thread running.\n",
      "2024-05-02 10:10:08) Info: Seeding xorwow rng with top word 90 and bottom word 131241549\n",
      "2024-05-02 10:10:08) Info: Data output thread finished.\n",
      "2024-05-02 10:10:08) Info: Simulation file closed.\n"
     ]
    },
    {
     "name": "stderr",
     "output_type": "stream",
     "text": [
      "\r",
      " 90%|###########################################################################################################################################################7                 | 90/100 [00:02<00:00, 36.48it/s]"
     ]
    },
    {
     "name": "stdout",
     "output_type": "stream",
     "text": [
      "2024-05-02 10:10:08) Info: Using 56 processor(s) and 1 CUDA device(s) per process.\n",
      "2024-05-02 10:10:08) Info: Assigning 1.00 processor(s) and 1.00 CUDA device(s) per replicate.\n",
      "2024-05-02 10:10:08) Info: Data output thread running.\n",
      "2024-05-02 10:10:08) Info: Seeding xorwow rng with top word 91 and bottom word 157003431\n",
      "2024-05-02 10:10:08) Info: Data output thread finished.\n",
      "2024-05-02 10:10:08) Info: Simulation file closed.\n",
      "2024-05-02 10:10:08) Info: Using 56 processor(s) and 1 CUDA device(s) per process.\n",
      "2024-05-02 10:10:08) Info: Assigning 1.00 processor(s) and 1.00 CUDA device(s) per replicate.\n",
      "2024-05-02 10:10:08) Info: Data output thread running.\n",
      "2024-05-02 10:10:08) Info: Seeding xorwow rng with top word 92 and bottom word 182477554\n",
      "2024-05-02 10:10:08) Info: Data output thread finished.\n",
      "2024-05-02 10:10:08) Info: Simulation file closed.\n",
      "2024-05-02 10:10:08) Info: Using 56 processor(s) and 1 CUDA device(s) per process.\n",
      "2024-05-02 10:10:08) Info: Assigning 1.00 processor(s) and 1.00 CUDA device(s) per replicate.\n",
      "2024-05-02 10:10:08) Info: Data output thread running.\n",
      "2024-05-02 10:10:08) Info: Seeding xorwow rng with top word 93 and bottom word 207578929\n",
      "2024-05-02 10:10:08) Info: Data output thread finished.\n",
      "2024-05-02 10:10:08) Info: Simulation file closed.\n",
      "2024-05-02 10:10:08) Info: Using 56 processor(s) and 1 CUDA device(s) per process.\n",
      "2024-05-02 10:10:08) Info: Assigning 1.00 processor(s) and 1.00 CUDA device(s) per replicate.\n",
      "2024-05-02 10:10:08) Info: Data output thread running.\n",
      "2024-05-02 10:10:08) Info: Seeding xorwow rng with top word 94 and bottom word 236955970\n",
      "2024-05-02 10:10:08) Info: Data output thread finished.\n",
      "2024-05-02 10:10:08) Info: Simulation file closed.\n"
     ]
    },
    {
     "name": "stderr",
     "output_type": "stream",
     "text": [
      "\r",
      " 94%|##################################################################################################################################################################6          | 94/100 [00:02<00:00, 36.84it/s]"
     ]
    },
    {
     "name": "stdout",
     "output_type": "stream",
     "text": [
      "2024-05-02 10:10:08) Info: Using 56 processor(s) and 1 CUDA device(s) per process.\n",
      "2024-05-02 10:10:08) Info: Assigning 1.00 processor(s) and 1.00 CUDA device(s) per replicate.\n",
      "2024-05-02 10:10:08) Info: Data output thread running.\n",
      "2024-05-02 10:10:08) Info: Seeding xorwow rng with top word 95 and bottom word 263355989\n",
      "2024-05-02 10:10:08) Info: Data output thread finished.\n",
      "2024-05-02 10:10:08) Info: Simulation file closed.\n",
      "2024-05-02 10:10:08) Info: Using 56 processor(s) and 1 CUDA device(s) per process.\n",
      "2024-05-02 10:10:08) Info: Assigning 1.00 processor(s) and 1.00 CUDA device(s) per replicate.\n",
      "2024-05-02 10:10:08) Info: Data output thread running.\n",
      "2024-05-02 10:10:08) Info: Seeding xorwow rng with top word 96 and bottom word 290035842\n",
      "2024-05-02 10:10:08) Info: Data output thread finished.\n",
      "2024-05-02 10:10:08) Info: Simulation file closed.\n",
      "2024-05-02 10:10:08) Info: Using 56 processor(s) and 1 CUDA device(s) per process.\n",
      "2024-05-02 10:10:08) Info: Assigning 1.00 processor(s) and 1.00 CUDA device(s) per replicate.\n",
      "2024-05-02 10:10:08) Info: Data output thread running.\n",
      "2024-05-02 10:10:08) Info: Seeding xorwow rng with top word 97 and bottom word 317013346\n",
      "2024-05-02 10:10:08) Info: Data output thread finished.\n",
      "2024-05-02 10:10:08) Info: Simulation file closed.\n",
      "2024-05-02 10:10:08) Info: Using 56 processor(s) and 1 CUDA device(s) per process.\n",
      "2024-05-02 10:10:08) Info: Assigning 1.00 processor(s) and 1.00 CUDA device(s) per replicate.\n",
      "2024-05-02 10:10:08) Info: Data output thread running.\n",
      "2024-05-02 10:10:08) Info: Seeding xorwow rng with top word 98 and bottom word 343188702\n",
      "2024-05-02 10:10:08) Info: Data output thread finished.\n",
      "2024-05-02 10:10:08) Info: Simulation file closed.\n"
     ]
    },
    {
     "name": "stderr",
     "output_type": "stream",
     "text": [
      "\r",
      " 98%|#########################################################################################################################################################################5   | 98/100 [00:02<00:00, 36.89it/s]"
     ]
    },
    {
     "name": "stdout",
     "output_type": "stream",
     "text": [
      "2024-05-02 10:10:08) Info: Using 56 processor(s) and 1 CUDA device(s) per process.\n",
      "2024-05-02 10:10:08) Info: Assigning 1.00 processor(s) and 1.00 CUDA device(s) per replicate.\n",
      "2024-05-02 10:10:08) Info: Data output thread running.\n",
      "2024-05-02 10:10:08) Info: Seeding xorwow rng with top word 99 and bottom word 372168880\n",
      "2024-05-02 10:10:08) Info: Data output thread finished.\n",
      "2024-05-02 10:10:08) Info: Simulation file closed.\n",
      "2024-05-02 10:10:08) Info: Using 56 processor(s) and 1 CUDA device(s) per process.\n",
      "2024-05-02 10:10:08) Info: Assigning 1.00 processor(s) and 1.00 CUDA device(s) per replicate.\n",
      "2024-05-02 10:10:08) Info: Data output thread running.\n",
      "2024-05-02 10:10:08) Info: Seeding xorwow rng with top word 100 and bottom word 398043887\n",
      "2024-05-02 10:10:08) Info: Data output thread finished.\n",
      "2024-05-02 10:10:08) Info: Simulation file closed.\n"
     ]
    },
    {
     "name": "stderr",
     "output_type": "stream",
     "text": [
      "100%|############################################################################################################################################################################| 100/100 [00:02<00:00, 35.56it/s]\n"
     ]
    }
   ],
   "source": [
    "# Run multipled replicates using the Gillespie solver\n",
    "# Will cost less than 1 minute\n",
    "reps = 100\n",
    "\n",
    "sim.run(filename=filename, method=\"lm::cme::GillespieDSolver\", replicates=reps)"
   ]
  },
  {
   "cell_type": "markdown",
   "metadata": {},
   "source": [
    "## Post-Processing"
   ]
  },
  {
   "cell_type": "code",
   "execution_count": 10,
   "metadata": {},
   "outputs": [],
   "source": [
    "fileHandle = PostProcessing.openLMFile(filename) # Create h5py file handle\n",
    "\n",
    "plotfolder = './plots_GeneticInformationProcess/'\n",
    "\n",
    "if not os.path.exists(plotfolder):\n",
    "    os.mkdir(plotfolder)\n"
   ]
  },
  {
   "cell_type": "markdown",
   "metadata": {},
   "source": [
    "Using [```plotAvgVarFromFile()```](https://luthey-schulten.chemistry.illinois.edu/software/LM2.4/_autosummary/pySTDLM.PostProcessing.html#module-pySTDLM.PostProcessing) built-in function in PostProcessing to plot the average and variance of species. "
   ]
  },
  {
   "cell_type": "code",
   "execution_count": 11,
   "metadata": {},
   "outputs": [
    {
     "data": {
      "text/plain": [
       "<Figure size 640x480 with 0 Axes>"
      ]
     },
     "metadata": {},
     "output_type": "display_data"
    }
   ],
   "source": [
    "for i_specie, specie in enumerate(species):\n",
    "    if specie != 'gene':\n",
    "        \n",
    "        picturepath = plotfolder + 'AvgVar_{0}_{1}replicates.png'.format(specie, reps)\n",
    "        PostProcessing.plotAvgVarFromFile(filename = filename, species = [specie], outfile = picturepath)"
   ]
  },
  {
   "cell_type": "markdown",
   "metadata": {},
   "source": [
    "#### Using h5py module to serialize traces in LM file to a 3D Numpy Array with dimesions *(reps, species, time)*."
   ]
  },
  {
   "cell_type": "code",
   "execution_count": 12,
   "metadata": {},
   "outputs": [],
   "source": [
    "import h5py\n",
    "\n",
    "timestep = PostProcessing.getTimesteps(fileHandle) # use PostProcessing to get the timesteps of the simulation\n",
    "\n",
    "traces = np.zeros((reps,len(sim.particleMap),len(timestep)))\n",
    "\n",
    "def get_sim_data(filename):\n",
    "\n",
    "    f=h5py.File(filename, \"r\")\n",
    "\n",
    "    for r in range(reps):\n",
    "        \n",
    "        traces[r]=f['Simulations'][str(r+1).zfill(7)]['SpeciesCounts'][()].transpose()\n",
    "        \n",
    "    f.close()\n",
    "\n",
    "    return traces\n",
    "\n",
    "traces = get_sim_data(filename)\n",
    "\n",
    "# print(traces)"
   ]
  },
  {
   "cell_type": "markdown",
   "metadata": {},
   "source": [
    "#### Plot the distribution of Protein at the end of the simulation"
   ]
  },
  {
   "cell_type": "code",
   "execution_count": 13,
   "metadata": {
    "scrolled": true
   },
   "outputs": [],
   "source": [
    "import plot_hist# User defined function to draw histogram\n",
    "\n",
    "ptns_end = traces[:,2,-1] # Slice Numpy array to get the counts of ptn at the end of the whole cell cycle\n",
    "\n",
    "fig_path = plotfolder + 'Distribution_Ptns_at_{0}_seconds_{1}replicates.png'.format(simtime, reps)\n",
    "\n",
    "xlabel = 'Counts of Protein [#]'\n",
    "\n",
    "title = 'Distribution of Ptn Counts at {0} seconds {1} replicates'.format(simtime, reps)\n",
    "    \n",
    "plot_hist.plot_histogram(data = ptns_end, figure_path = fig_path, bins = 20, xlabel = xlabel, title = title)\n",
    "\n",
    "# plt.hist(ptns_end)"
   ]
  },
  {
   "cell_type": "code",
   "execution_count": 14,
   "metadata": {},
   "outputs": [],
   "source": [
    "ptns_end = traces[:,1,-1] # Slice Numpy array to get the counts of ptn at the end of the whole cell cycle\n",
    "# print(ptns_end)\n",
    "\n",
    "fig_path = plotfolder + 'Distribution_mRNA_at_{0}_seconds_{1}replicates.png'.format(simtime, reps)\n",
    "\n",
    "xlabel = 'Counts of mRNA [#]'\n",
    "\n",
    "title = 'Distribution of mRNA Counts at {0} seconds {1} replicates'.format(simtime, reps)\n",
    "\n",
    "plot_hist.plot_histogram(data = ptns_end, figure_path = fig_path, bins = 5, xlabel = xlabel, title = title)"
   ]
  },
  {
   "cell_type": "code",
   "execution_count": 15,
   "metadata": {},
   "outputs": [
    {
     "ename": "SyntaxError",
     "evalue": "'break' outside loop (668683560.py, line 4)",
     "output_type": "error",
     "traceback": [
      "\u001b[0;36m  File \u001b[0;32m\"/tmp/ipykernel_2847314/668683560.py\"\u001b[0;36m, line \u001b[0;32m4\u001b[0m\n\u001b[0;31mSyntaxError\u001b[0m\u001b[0;31m:\u001b[0m 'break' outside loop\n"
     ]
    }
   ],
   "source": [
    "break"
   ]
  },
  {
   "cell_type": "markdown",
   "metadata": {},
   "source": [
    "## Questions 2.1\n",
    "\n",
    "1. Do mRNA and protein reach steady-state during the entire cell cycle? How can you tell this from the plots?\n",
    "\n",
    "2. The initial count of protein P_0001/DnaA is 148. Try to change the simulation length to 6300 seconds and plot the distribution of protein counts. Does the protein count double during the entire cell cycle? And why this is important?\n",
    "\n",
    "3. \\(Challenge:\\) Try to increase the simulation time to see the steady state of protein (You may want to do something crazy because the degradation rate of protein is so low).\n",
    "\n",
    "4. \\(Challenge:\\) What should be the distribution of protein counts in different replicates? You can find an analytical solution in [Swain's paper](https://www.pnas.org/doi/full/10.1073/pnas.0803850105) in 2008 ."
   ]
  }
 ],
 "metadata": {
  "kernelspec": {
   "display_name": "Python 3 (ipykernel)",
   "language": "python",
   "name": "python3"
  },
  "language_info": {
   "codemirror_mode": {
    "name": "ipython",
    "version": 3
   },
   "file_extension": ".py",
   "mimetype": "text/x-python",
   "name": "python",
   "nbconvert_exporter": "python",
   "pygments_lexer": "ipython3",
   "version": "3.7.3"
  }
 },
 "nbformat": 4,
 "nbformat_minor": 2
}
