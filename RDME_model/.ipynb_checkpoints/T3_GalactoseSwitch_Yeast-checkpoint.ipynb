{
 "cells": [
  {
   "cell_type": "markdown",
   "metadata": {},
   "source": [
    "# T3_Galactose Switch in Yeast Model (RDME-ODE)\n",
    "\n",
    "Here we create a spatial model of the galactose switch in Yeast using hybrid simulation method coupling the RDME with ODEs:"
   ]
  },
  {
   "cell_type": "code",
   "execution_count": null,
   "metadata": {
    "run_control": {
     "marked": false
    }
   },
   "outputs": [],
   "source": [
    "import pickle, lzma                         # for data import\n",
    "import numpy as np\n",
    "import scipy.integrate as spint             # for ode solver\n",
    "from jLM.Solvers import  makeSolver         # to build custom solver\n",
    "from lm import IntMpdRdmeSolver\n",
    "from jLM.RDME import Sim as RDMESim         # create RDME simulation obj\n",
    "from jLM.RDME import File as RDMEFile       # deal with final results\n",
    "from jLM.RegionBuilder import RegionBuilder # to build the spatial geometry\n",
    "import jLM"
   ]
  },
  {
   "cell_type": "markdown",
   "metadata": {
    "run_control": {
     "marked": true
    }
   },
   "source": [
    "# 1. Spatial Geometry Import\n",
    "\n",
    "Here, we directly import the regions data for the analysis, we extract and extrapolate the yeast geometry from cryo-ET data from Tyler Earnest, et al., Phy. Chem. B, 2017.doi:[10.1021/acs.jpcb.7b00672](http://dx.doi.org/10.1021/acs.jpcb.7b00672).\n",
    "\n",
    "![yeast_geo](../images/yeast_geo.gif)\n",
    "\n",
    "The geometry of yeast includes 9 regions in total: \n",
    "+ nucleus envelope\n",
    "+ cytoplasm\n",
    "+ vacuole\n",
    "+ mitochondria\n",
    "+ ribosomes\n",
    "+ plasm membrane\n",
    "+ cell wall\n",
    "+ extracellular region\n",
    "+ nucleoplasm"
   ]
  },
  {
   "cell_type": "code",
   "execution_count": null,
   "metadata": {
    "run_control": {
     "marked": false
    }
   },
   "outputs": [],
   "source": [
    "latticeData = pickle.load(lzma.open(\"./supporting_data/yeast-lattice.pkl.xz\", \"rb\"))\n",
    "\n",
    "siteMap = {n:i for i,n in enumerate(latticeData['names'])}\n",
    "def boolLattice(x):\n",
    "    return latticeData['lattice'] == siteMap[x]\n",
    "\n",
    "# here we extract the region as 3 dimensional bool matrices.\n",
    "\n",
    "extracellular = boolLattice(\"extracellular\") #| boolLattice(\"cellWall\")\n",
    "wall = boolLattice(\"cellWall\")\n",
    "boundary = boolLattice(\"boundary\")\n",
    "nenv = boolLattice(\"nuclearEnvelope\")\n",
    "mito = boolLattice(\"mitochondria\")\n",
    "vac = boolLattice('vacuole')\n",
    "ribosomes = boolLattice(\"ribosomes\")\n",
    "membrane = boolLattice(\"plasmaMembrane\")\n",
    "nucleus = boolLattice(\"nucleoplasm\") # | boolLattice(\"nuclearPores\")\n",
    "pores = boolLattice(\"nuclearPores\")\n",
    "cytoplasm = boolLattice(\"cytoplasm\")\n",
    "# This is the decimation of the latice \n",
    "decimation = latticeData['decimation']"
   ]
  },
  {
   "cell_type": "markdown",
   "metadata": {
    "run_control": {
     "marked": true
    }
   },
   "source": [
    "# 2.Create simulation object"
   ]
  },
  {
   "cell_type": "code",
   "execution_count": null,
   "metadata": {
    "run_control": {
     "marked": false
    }
   },
   "outputs": [],
   "source": [
    "sim = RDMESim(\"Galactose Switch, RDME/ODE hybrid\",\n",
    "              \"T3-Galactose_swtich_yeast.lm\",\n",
    "              latticeData['lattice'].shape,\n",
    "              latticeData['latticeSpacing'],\n",
    "              \"extracellular\",\n",
    "              dt=50e-6)"
   ]
  },
  {
   "cell_type": "markdown",
   "metadata": {},
   "source": [
    "put the region into the simulation object."
   ]
  },
  {
   "cell_type": "code",
   "execution_count": null,
   "metadata": {
    "run_control": {
     "marked": false
    }
   },
   "outputs": [],
   "source": [
    "B = RegionBuilder(sim)\n",
    "\n",
    "B.compose((sim.region('extracellular'), extracellular),\n",
    "          (sim.region('nuclearEnvelope'), nenv),\n",
    "          (sim.region('mitochondria'), mito),\n",
    "          (sim.region('vacuole'), vac),\n",
    "          (sim.region('plasmaMembrane'), membrane),\n",
    "          (sim.region('cellWall'), wall),\n",
    "          (sim.region('cytoplasm'), cytoplasm),\n",
    "          (sim.region('nucleoplasm'), nucleus),\n",
    "          (sim.region('nuclearPores'), pores),\n",
    "          (sim.region('ribosomes_region'), ribosomes))\n",
    "# (sim.region('obstructions'), obstructions),"
   ]
  },
  {
   "cell_type": "code",
   "execution_count": null,
   "metadata": {},
   "outputs": [],
   "source": [
    "sim.displayGeometry()"
   ]
  },
  {
   "cell_type": "markdown",
   "metadata": {
    "run_control": {
     "marked": true
    }
   },
   "source": [
    "## 2.2 Simulation parameters"
   ]
  },
  {
   "cell_type": "code",
   "execution_count": null,
   "metadata": {
    "run_control": {
     "marked": false
    }
   },
   "outputs": [],
   "source": [
    "sim.simulationTime= 10 # 1s\n",
    "sim.timestep = 50e-6    # 50us, units: s\n",
    "sim.latticeWriteInterval=2000 # .1s\n",
    "sim.speciesWriteInterval=2000 # .1s\n",
    "sim.hookInterval= 2000 #.1s\n",
    "\n",
    "# define the external Galactose concentration here\n",
    "externalGal = 11.1e-3 # M\n",
    "nRibosomes = np.sum(sim.siteLattice==sim.reg.ribosomes_region.idx)\n",
    "mrnaDiffusion = 0.5e-12"
   ]
  },
  {
   "cell_type": "markdown",
   "metadata": {},
   "source": [
    "define some variables for species, regions, rate constants and diffusion coefficients access."
   ]
  },
  {
   "cell_type": "code",
   "execution_count": null,
   "metadata": {},
   "outputs": [],
   "source": [
    "sp = sim.sp   # species object access\n",
    "reg = sim.reg # region object access\n",
    "rc = sim.rc   # rate constant object access\n",
    "dc = sim.dc   # diffusion constant object access"
   ]
  },
  {
   "cell_type": "markdown",
   "metadata": {
    "run_control": {
     "marked": true
    }
   },
   "source": [
    "# 3. Species Initialization"
   ]
  },
  {
   "cell_type": "markdown",
   "metadata": {
    "run_control": {
     "marked": true
    }
   },
   "source": [
    "## Reporter system"
   ]
  },
  {
   "cell_type": "code",
   "execution_count": null,
   "metadata": {
    "run_control": {
     "marked": false
    }
   },
   "outputs": [],
   "source": [
    "with sim.construct():\n",
    "    #sim.species(name,textRepr, annotation)\n",
    "    sim.species('DGrep', texRepr='D_{GFP}', annotation=\"Reporter gene\")\n",
    "    sim.species('DGrep_G4d', texRepr=\"D_{GFP}{:}G_{4D}\", annotation=\"Activated reporter gene\")\n",
    "    sim.species('DGrep_G4d_G80d', texRepr=\"D_{GFP}{:}G_{4D}{:}G_{80D}\", annotation=\"Repressed reporter gene\")\n",
    "    sim.species('Grep', texRepr=\"GFP\", annotation=\"GFP reporter\")\n",
    "    sim.species('RGrep', texRepr=\"m_{GFP}\", annotation=\"Reporter mRNA\")"
   ]
  },
  {
   "cell_type": "markdown",
   "metadata": {
    "run_control": {
     "marked": true
    }
   },
   "source": [
    "## GAL1"
   ]
  },
  {
   "cell_type": "code",
   "execution_count": null,
   "metadata": {
    "run_control": {
     "marked": false
    }
   },
   "outputs": [],
   "source": [
    "with sim.construct():\n",
    "    sim.species('R1',texRepr='m_1', annotation=\"GAL1 mRNA\")\n",
    "    sim.species('DG1', texRepr='D_{1}', annotation=\"GAL1 gene\")\n",
    "    sim.species('DG1_G4d', texRepr=\"D_{1}{:}G_{4D}\", annotation=\"Activated GAL1 gene\")\n",
    "    sim.species('DG1_G4d_G80d', texRepr=\"D_{1}{:}G_{4D}{:}G_{80D}\", annotation=\"Repressed GAL1 gene\")\n",
    "    sim.species('G1', texRepr=\"G_1\", annotation=\"Gal1p [galactokinase]\")"
   ]
  },
  {
   "cell_type": "markdown",
   "metadata": {
    "run_control": {
     "marked": true
    }
   },
   "source": [
    "## GAL2"
   ]
  },
  {
   "cell_type": "code",
   "execution_count": null,
   "metadata": {
    "run_control": {
     "marked": false
    }
   },
   "outputs": [],
   "source": [
    "with sim.construct():\n",
    "    sim.species('R2',texRepr='m_2', annotation=\"GAL2 mRNA\")\n",
    "    sim.species('DG2', texRepr='D_{2}', annotation=\"GAL2 gene\")\n",
    "    sim.species('DG2_G4d', texRepr=\"D_{2}{:}G_{4D}\", annotation=\"Activated GAL2 gene\")\n",
    "    sim.species('DG2_G4d_G80d', texRepr=\"D_{2}{:}G_{4D}{:}G_{80D}\", annotation=\"Repressed GAL2 gene\")\n",
    "    sim.species('G2', texRepr=\"G_2\", annotation=\"Gal2p [permease]\")"
   ]
  },
  {
   "cell_type": "markdown",
   "metadata": {
    "run_control": {
     "marked": true
    }
   },
   "source": [
    "## GAL3"
   ]
  },
  {
   "cell_type": "code",
   "execution_count": null,
   "metadata": {
    "run_control": {
     "marked": false
    }
   },
   "outputs": [],
   "source": [
    "with sim.construct():\n",
    "    sim.species('R3',texRepr='m_3', annotation=\"GAL3 mRNA\")\n",
    "    sim.species('DG3', texRepr='D_{3}', annotation=\"GAL3 gene\")\n",
    "    sim.species('DG3_G4d', texRepr=\"D_{3}{:}G_{4D}\", annotation=\"Activated GAL3 gene\")\n",
    "    sim.species('DG3_G4d_G80d', texRepr=\"D_{3}{:}G_{4D}{:}G_{80D}\", annotation=\"Repressed GAL3 gene\")\n",
    "    sim.species('G3', texRepr=\"G_3\", annotation=\"Gal3p [transcriptional regulator]\")\n",
    "    sim.species('G3i', texRepr=\"G^\\star_3\", annotation=\"Activated Gal3p (galactose bound)\")"
   ]
  },
  {
   "cell_type": "markdown",
   "metadata": {
    "run_control": {
     "marked": true
    }
   },
   "source": [
    "## GAL4"
   ]
  },
  {
   "cell_type": "code",
   "execution_count": null,
   "metadata": {
    "run_control": {
     "marked": false
    }
   },
   "outputs": [],
   "source": [
    "with sim.construct():\n",
    "    sim.species('DG4',texRepr='D_4', annotation=\"GAL4 gene\")\n",
    "    sim.species('R4',texRepr='m_4', annotation=\"GAL4 mRNA\")\n",
    "    sim.species('G4', texRepr=\"G_4\", annotation=\"Gal4p monomer\")\n",
    "    sim.species('G4d', texRepr=\"G_{4D}\", annotation=\"Gal4p dimer [transcription factor]\")"
   ]
  },
  {
   "cell_type": "markdown",
   "metadata": {
    "run_control": {
     "marked": true
    }
   },
   "source": [
    "## GAL80"
   ]
  },
  {
   "cell_type": "code",
   "execution_count": null,
   "metadata": {
    "run_control": {
     "marked": false
    }
   },
   "outputs": [],
   "source": [
    "with sim.construct():\n",
    "    sim.species('R80',texRepr='m_{80}', annotation=\"GAL80 mRNA\")\n",
    "    sim.species('DG80', texRepr='D_{80}', annotation=\"GAL80 gene\")\n",
    "    sim.species('DG80_G4d', texRepr=\"D_{G80}{:}G_{4D}\", annotation=\"Activated GAL80 gene\")\n",
    "    sim.species('DG80_G4d_G80d', texRepr=\"D_{G80}{:}G_{4D}{:}G_{80D}\", annotation=\"Repressed GAL80 gene\")\n",
    "    sim.species('G80', texRepr=\"G_{80}\", annotation=\"Gal80p monomer\") \n",
    "    sim.species('G80d', texRepr=\"G_{80D}\", annotation=\"Gal80p dimer [inhibits Gal4p]\")\n",
    "    sim.species('G80G3i', texRepr=\"G_{80D}{:}G^\\star_3\", annotation=\"Complex of Gal3p(activated) and Gal80Cd\")"
   ]
  },
  {
   "cell_type": "markdown",
   "metadata": {},
   "source": [
    "## Dummy mRNA\n"
   ]
  },
  {
   "cell_type": "code",
   "execution_count": null,
   "metadata": {},
   "outputs": [],
   "source": [
    "with sim.construct():\n",
    "    sim.species('Rdummy', texRepr=\"m_d\", annotation='Dummy mRNA')"
   ]
  },
  {
   "cell_type": "markdown",
   "metadata": {
    "run_control": {
     "marked": true
    }
   },
   "source": [
    "## Ribosomes"
   ]
  },
  {
   "cell_type": "markdown",
   "metadata": {},
   "source": [
    "for reaction to take place, we also define ribosomes species for certain translation to take place. \n",
    "\n",
    "Different mRNA requires different ribosome types to start the translation"
   ]
  },
  {
   "cell_type": "code",
   "execution_count": null,
   "metadata": {
    "run_control": {
     "marked": false
    }
   },
   "outputs": [],
   "source": [
    "with sim.construct():\n",
    "    sim.species('ribosome', texRepr=\"R\", annotation=\"Inactive ribosome\")\n",
    "    sim.species('ribosomeD', texRepr=\"R{:}m_d\", annotation=\"Ribosome translating dummy mRNA\")\n",
    "    sim.species('ribosomeG1', texRepr=\"R{:}m_1\", annotation=\"Ribosome translating GAL1\")\n",
    "    sim.species('ribosomeG2', texRepr=\"R{:}m_2\", annotation=\"Ribosome translating GAL2\")\n",
    "    sim.species('ribosomeG3', texRepr=\"R{:}m_3\", annotation=\"Ribosome translating GAL3\")\n",
    "    sim.species('ribosomeG4', texRepr=\"R{:}m_4\", annotation=\"Ribosome translating GAL4\")\n",
    "    sim.species('ribosomeG80', texRepr=\"R{:}m_{80}\", annotation=\"Ribosome translating GAL80\")\n",
    "    sim.species('ribosomeGrep', texRepr=\"R{:}m_{GFP}\", annotation=\"Ribosome translating GFP\")"
   ]
  },
  {
   "cell_type": "markdown",
   "metadata": {
    "run_control": {
     "marked": true
    }
   },
   "source": [
    "# 4. Reaction Initialization\n",
    "\n",
    "all the rate constants are from appendix in the paper David M. Bianchi, et al., IET, 2018. \n",
    "\n",
    "doi: [10.1049/iet-syb.2017.0070](https://doi.org/10.1049/iet-syb.2017.0070)\n",
    "\n",
    "Since the units of the rates constant are in units   ${min}^{-1}$ or ${molecules}^{-1}\\cdot {min}^{-1}$, we need to convert them to $s^{-1}$ or $M^{-1}\\cdot s^{-1}$."
   ]
  },
  {
   "cell_type": "code",
   "execution_count": null,
   "metadata": {
    "run_control": {
     "marked": false
    }
   },
   "outputs": [],
   "source": [
    "cellVol = 3.57e-14 # L\n",
    "nav = cellVol*6.022e23  #Navogadro's number * cell volume\n",
    "invMin2invSec = 1/60.0 # s^-1/min^-1\n",
    "conv2ndOrder = invMin2invSec*nav # convert to s^-1*M^-1, 2nd order reactions\n",
    "conv1stOrder = invMin2invSec # convert to s^-1, 1st order reactions"
   ]
  },
  {
   "cell_type": "markdown",
   "metadata": {
    "run_control": {
     "marked": true
    }
   },
   "source": [
    "## Dimerization"
   ]
  },
  {
   "cell_type": "markdown",
   "metadata": {},
   "source": [
    "\n",
    "define all the reactions with type:\n",
    "$$ X + X \\rightleftharpoons X_d $$\n",
    "\n",
    "Remember LM only supports irreversible reactions, so: \n",
    "$$ X + BX \\xrightarrow{k_{fd}} X_d $$\n",
    "$$ X_d \\xrightarrow{k_{rd}} X + X$$\n",
    "Dimerization can happen in `cytoplasm` and `nucleoplasm`."
   ]
  },
  {
   "cell_type": "code",
   "execution_count": null,
   "metadata": {
    "run_control": {
     "marked": false
    }
   },
   "outputs": [],
   "source": [
    "with sim.construct():\n",
    "    #sim.rateConst(\"fd\", 0.001*conv2ndOrder, order=2, annotation=\"Gal4p/Gal80p dimerization\")\n",
    "    #sim.rateConst(\"rd\", 100*conv1stOrder, order=1, annotation=\"Gal4p/Gal80p dimer dissociation\")\n",
    "    sim.rateConst(\"fd\", 100*conv2ndOrder, order=2, annotation=\"Gal4p/Gal80p dimerization !!Transposed!!\")\n",
    "    sim.rateConst(\"rd\", 0.001*conv1stOrder, order=1, annotation=\"Gal4p/Gal80p dimer dissociation !!Transposed!!\")\n",
    "    sim.reaction([sp.G4, sp.G4], [sp.G4d], rc.fd, regions=[reg.cytoplasm, reg.nucleoplasm])\n",
    "    sim.reaction([sp.G4d], [sp.G4, sp.G4], rc.rd, regions=[reg.cytoplasm, reg.nucleoplasm])\n",
    "    sim.reaction([sp.G80, sp.G80], [sp.G80d], rc.fd, regions=[reg.cytoplasm, reg.nucleoplasm])\n",
    "    sim.reaction([sp.G80d], [sp.G80, sp.G80], rc.rd, regions=[reg.cytoplasm, reg.nucleoplasm])"
   ]
  },
  {
   "cell_type": "markdown",
   "metadata": {
    "run_control": {
     "marked": true
    }
   },
   "source": [
    "## DNA binding"
   ]
  },
  {
   "cell_type": "markdown",
   "metadata": {},
   "source": [
    "DNA binding related reactions only happen in `nucleoplasm`.\n",
    "\n",
    "\n",
    "First type is DNA bind to $G_{4d}$ to activate the DNA:\n",
    "\n",
    "$$ DNA_X + G_{4d} \\xrightarrow{k_{f1}} DNA_x\\_G_{4d} $$\n",
    "$$ DNA_x\\_G_{4d} \\xrightarrow{k_{r1}} DNA_X + G_{4d}$$\n",
    "\n",
    "Second type is Activated DNA bind to $G_{80d}$, to repress the transcription:\n",
    "\n",
    "$$ DNA_x\\_G_{4d} + G_{80d} \\xrightarrow{k_{f2}} DNA_x\\_G_{4d}\\_G_{80d} $$\n",
    "$$ DNA_x\\_G_{4d}\\_G_{80d} \\xrightarrow{k_{r2}} DNA_x\\_G_{4d} + G_{80d} $$"
   ]
  },
  {
   "cell_type": "code",
   "execution_count": null,
   "metadata": {},
   "outputs": [],
   "source": [
    "with sim.construct():\n",
    "    # deine all the rate constants here, rate  constants are defined \n",
    "    # based on the number of binding sites\n",
    "    Kp4 = 0.2600 # 4 binding sites\n",
    "    Kq4 = 1.1721 \n",
    "    \n",
    "    kf1_4 = 0.1\n",
    "    kf2_4 = 0.1\n",
    "    kr1_4 = kf1_4/Kp4\n",
    "    kr2_4 = kf2_4/Kq4\n",
    "    \n",
    "    Kp5 = 0.0099 # 5 binding sites\n",
    "    Kq5 = 0.7408 \n",
    "    \n",
    "    kf1_5 = 0.1\n",
    "    kf2_5 = 0.1\n",
    "    kr1_5 = kf1_5/Kp5\n",
    "    kr2_5 = kf2_5/Kq5\n",
    "    \n",
    "    \n",
    "    Kp = 0.0248 # 1 binding site\n",
    "    Kq = 0.1885 \n",
    "    kf1 = 0.1\n",
    "    kr1 = kf1/Kp\n",
    "    kf2 = 0.1\n",
    "    kr2 = kf2/Kq\n",
    "\n",
    "    #convBinding = invMin2invSec*sim.siteNAV\n",
    "\n",
    "    sim.rateConst(\"f1\", kf1*conv2ndOrder, order=2, annotation=\"Gene/Gal4p binding [1 site]\")\n",
    "    sim.rateConst(\"r1\", kr1*conv1stOrder, order=1, annotation=\"Gene/Gal4p dissociation [1 site]\")\n",
    "    sim.rateConst(\"f2\", kf2*conv2ndOrder, order=2, annotation=\"Gene/Gal80p binding [1 site]\")\n",
    "    sim.rateConst(\"r2\", kr2*conv1stOrder, order=1, annotation=\"Gene/Gal80p dissociation [1 site]\")\n",
    "    \n",
    "    sim.rateConst(\"f1_4\", kf1_4*conv2ndOrder, order=2, annotation=\"Gene/Gal4p binding [4 sites]\")\n",
    "    sim.rateConst(\"r1_4\", kr1_4*conv1stOrder, order=1, annotation=\"Gene/Gal4p dissociation [4 sites]\")\n",
    "    sim.rateConst(\"f2_4\", kf2_4*conv2ndOrder, order=2, annotation=\"Gene/Gal80p binding [4 sites]\")\n",
    "    sim.rateConst(\"r2_4\", kr2_4*conv1stOrder, order=1, annotation=\"Gene/Gal80p dissociation [4 sites]\")\n",
    "    \n",
    "    sim.rateConst(\"f1_5\", kf1_5*conv2ndOrder, order=2, annotation=\"Gene/Gal4p binding [5 sites]\")\n",
    "    sim.rateConst(\"r1_5\", kr1_5*conv1stOrder, order=1, annotation=\"Gene/Gal4p dissociation [5 sites]\")\n",
    "    sim.rateConst(\"f2_5\", kf2_5*conv2ndOrder, order=2, annotation=\"Gene/Gal80p binding [5 sites]\")\n",
    "    sim.rateConst(\"r2_5\", kr2_5*conv1stOrder, order=1, annotation=\"Gene/Gal80p dissociation [5 sites]\")\n",
    "\n",
    "    dnas =      [sp.DG1,          sp.DG2,          sp.DG3,          sp.DG80,          sp.DGrep]\n",
    "    mrnas =     [sp.R1,           sp.R2,           sp.R3,           sp.R80,           sp.RGrep]\n",
    "    dnaActs =   [sp.DG1_G4d,      sp.DG2_G4d,      sp.DG3_G4d,      sp.DG80_G4d,      sp.DGrep_G4d]\n",
    "    dnaDeacts = [sp.DG1_G4d_G80d, sp.DG2_G4d_G80d, sp.DG3_G4d_G80d, sp.DG80_G4d_G80d, sp.DGrep_G4d_G80d]\n",
    "    f1s =       [rc.f1_4,         rc.f1_5,         rc.f1,           rc.f1,            rc.f1_4]\n",
    "    f2s =       [rc.f2_4,         rc.f2_5,         rc.f2,           rc.f2,            rc.f2_4]\n",
    "    r1s =       [rc.r1_4,         rc.r1_5,         rc.r1,           rc.r1,            rc.r1_4]\n",
    "    r2s =       [rc.r2_4,         rc.r2_5,         rc.r2,           rc.r2,            rc.r2_4]\n",
    "    \n",
    "    terms = zip(dnas,mrnas,dnaActs,dnaDeacts,f1s,f2s,r1s,r2s)\n",
    "    for dna,mrna,dnaAct,dnaDeact,f1,f2,r1,r2 in terms:\n",
    "        sim.reaction([dna,sp.G4d], dnaAct, f1, regions=reg.nucleoplasm)\n",
    "        sim.reaction(dnaAct, [dna,sp.G4d], r1, regions=reg.nucleoplasm)\n",
    "        sim.reaction([dnaAct,sp.G80d], dnaDeact, f2, regions=reg.nucleoplasm)\n",
    "        sim.reaction(dnaDeact, [dnaAct, sp.G80d], r2, regions=reg.nucleoplasm)"
   ]
  },
  {
   "cell_type": "markdown",
   "metadata": {
    "run_control": {
     "marked": true
    }
   },
   "source": [
    "## G3 activation"
   ]
  },
  {
   "cell_type": "markdown",
   "metadata": {},
   "source": [
    "Here we define the whole reactions for $G_3$:"
   ]
  },
  {
   "cell_type": "code",
   "execution_count": null,
   "metadata": {
    "run_control": {
     "marked": false
    }
   },
   "outputs": [],
   "source": [
    "with sim.construct():\n",
    "    sim.rateConst(\"fi\", 7.45e-7*conv2ndOrder, order=1, annotation=\"Gal3p activation; needs to be multiplied by [GAI] in mol/L\")\n",
    "    sim.rateConst(\"ri\", 890.0*conv1stOrder, order=1, annotation=\"Gal3p deactivation\")\n",
    "    sim.rateConst(\"fd3i80\", 0.025716*conv2ndOrder, order=2, annotation=\"Gal3p*/Gal80 association\")\n",
    "    sim.rateConst(\"dr3i80\", 0.0159616*conv1stOrder, order=1, annotation=\"Gal3p*/Gal80 disassociation\")\n",
    "    sim.rateConst(\"dp_gal3\", 0.01155*conv1stOrder, order=1, annotation=\"GAL3 degradation\")\n",
    "    sim.rateConst(\"dp_gal3gal80\", 0.5*rc.dp_gal3.value, order=1, annotation=\"Gal3p*:Gal80 degradation\")\n",
    "\n",
    "    #sim.reaction([sp.G3, sp.GAI], sp.G3i, rc.fi, regions=reg.cytoplasm)\n",
    "    sim.reaction(sp.G3, sp.G3i, rc.fi, regions=reg.cytoplasm) # XXX Hybrid in RDME\n",
    "    #sim.reaction(sp.G3i, [sp.G3, sp.GAI], rc.ri, regions=intracellular)\n",
    "    sim.reaction(sp.G3i, sp.G3, rc.ri, regions=reg.cytoplasm) # XXX Modified in RDME\n",
    "    sim.reaction(sp.G3i, [], rc.dp_gal3, regions=reg.cytoplasm)\n",
    "    sim.reaction([sp.G3i, sp.G80d], [sp.G80G3i], rc.fd3i80, regions=reg.cytoplasm)\n",
    "    sim.reaction([sp.G80G3i], [sp.G3i, sp.G80d], rc.dr3i80, regions=reg.cytoplasm)\n",
    "    sim.reaction([sp.G80G3i], [], rc.dp_gal3gal80, regions=reg.cytoplasm)"
   ]
  },
  {
   "cell_type": "markdown",
   "metadata": {
    "run_control": {
     "marked": true
    }
   },
   "source": [
    "## Transcription "
   ]
  },
  {
   "cell_type": "markdown",
   "metadata": {},
   "source": [
    "Here we define the transcription reactions and mRNA degradation.\n",
    "+ Transcription can happen in `nucleoplasm`.\n",
    "+ mRNA degradation can happen in `cytoplasm`, `nucleoplasm` and `ribosomes`.\n",
    "\n",
    "Two types of reactions are: (G1 as example)\n",
    "\n",
    "$$\n",
    "\\begin{aligned}\n",
    "D_1: G_{4 D} & \\xrightarrow{k_{\\text {alphal }}} D_1: G_{4 D}+m_1 \\\\\n",
    "m_1 & \\xrightarrow{k_{\\text {dr-gall }}} \\varnothing\n",
    "\\end{aligned}\n",
    "$$"
   ]
  },
  {
   "cell_type": "code",
   "execution_count": null,
   "metadata": {
    "run_control": {
     "marked": false
    }
   },
   "outputs": [],
   "source": [
    "with sim.construct():\n",
    "    sim.rateConst(\"alpha1\", 0.7379*conv1stOrder, order=1, annotation='GAL1 transcription')\n",
    "    sim.rateConst(\"alpha2\", 2.542*conv1stOrder, order=1, annotation='GAL2 transcription')\n",
    "    sim.rateConst(\"alpha3\", 0.571429*0.7465*conv1stOrder, order=1, annotation='GAL3 transcription')\n",
    "    sim.rateConst(\"ir_gal4\", 0.009902*conv1stOrder, order=1, annotation='GAL4 transcription')\n",
    "    sim.rateConst(\"alpha_rep\", 1.1440*conv1stOrder, order=1, annotation='GFP transcription')\n",
    "    sim.rateConst(\"alpha80\", 0.6065*conv1stOrder, order=1, annotation='GAL80 transcription')\n",
    "\n",
    "    sim.rateConst(\"dr_gal1\", 0.02236*conv1stOrder, order=1, annotation='GAL1 mRNA degradation')\n",
    "    sim.rateConst(\"dr_gal2\", 0.07702*conv1stOrder, order=1, annotation='GAL2 mRNA degradation')\n",
    "    sim.rateConst(\"dr_gal3\", 0.02666*conv1stOrder, order=1, annotation='GAL3 mRNA degradation')\n",
    "    sim.rateConst(\"dr_gal4\", 0.02476*conv1stOrder, order=1, annotation='GAL4 mRNA degradation')\n",
    "    sim.rateConst(\"dr_rep\", 0.03466*conv1stOrder, order=1, annotation='GFP mRNA degradation')\n",
    "    sim.rateConst(\"dr_gal80\", 0.02888*conv1stOrder, order=1, annotation='GAL80 mRNA degradation')\n",
    "\n",
    "    tss =   [rc.alpha1,   rc.alpha2,   rc.alpha3,   rc.ir_gal4,  rc.alpha_rep, rc.alpha80] \n",
    "    dcys =  [rc.dr_gal1,  rc.dr_gal2,  rc.dr_gal3,  rc.dr_gal4,  rc.dr_rep,    rc.dr_gal80]\n",
    "    genes = [sp.DG1_G4d,  sp.DG2_G4d,  sp.DG3_G4d,  sp.DG4,      sp.DGrep_G4d, sp.DG80_G4d]\n",
    "    mrnas = [sp.R1,       sp.R2,       sp.R3,       sp.R4,       sp.RGrep,     sp.R80]\n",
    "\n",
    "    for ts,dcy,gene,mrna in zip(tss, dcys, genes, mrnas):\n",
    "        sim.reaction(gene, [gene, mrna], ts, regions=reg.nucleoplasm)\n",
    "        sim.reaction(mrna,[], dcy, regions=[reg.cytoplasm, reg.nucleoplasm, reg.ribosomes_region])\n",
    "    otherMrna = 0.5*(6100+18300) #102988\n",
    "    otherMrnaDecay = np.log(2)/60/20 # 100205\n",
    "    tsOther = otherMrna*otherMrnaDecay/reg.nucleoplasm.volume/sim.NA\n",
    "    \n",
    "    sim.rateConst(\"dummyTs\", tsOther, order=0, annotation='Dummy mRNA transcription')\n",
    "    sim.rateConst(\"dummyDeg\", otherMrnaDecay, order=1, annotation='Dummy mRNA degradation')\n",
    "    sim.reaction([], sp.Rdummy, rc.dummyTs, regions=reg.nucleoplasm)\n",
    "    sim.reaction(sp.Rdummy, [], rc.dummyDeg, regions=[reg.cytoplasm, reg.nucleoplasm, reg.ribosomes_region])"
   ]
  },
  {
   "cell_type": "markdown",
   "metadata": {
    "run_control": {
     "marked": true
    }
   },
   "source": [
    "## Translation "
   ]
  },
  {
   "cell_type": "markdown",
   "metadata": {},
   "source": [
    "reactions happen in `ribosome` region, and we also define ribosome as a particle in the region for the reaction purpose. \n",
    "\n",
    "First, ribosome has to bind with mRNA, and then start to translate to form the protein $G$ here. \n",
    "\n",
    "Also, mRNA might degrade in the ribosome as a complex.\n",
    "\n",
    "$$\n",
    "\n",
    "R+m \\xrightarrow{k_{rib\\_asox }} R: m \\\\\n",
    "R: m \\xrightarrow{k_{pp\\_gall }} R+m+G \\\\\n",
    "R: m \\xrightarrow{k_{dr\\_gall }} R\n",
    "\n",
    "$$\n",
    "\n"
   ]
  },
  {
   "cell_type": "code",
   "execution_count": null,
   "metadata": {
    "run_control": {
     "marked": false
    }
   },
   "outputs": [],
   "source": [
    "with sim.construct():\n",
    "    #tlInitDet = 100e6 # 10.1016/j.molcel.2006.02.014 [eco]\n",
    "    tlInitDet = 0.2 * 2000 * mrnaDiffusion * sim.NA * sim.latticeSpacing\n",
    "    sim.rateConst(\"rib_assoc\", tlInitDet, order=2, annotation='mRNA/Ribosome association rate') # TODO\n",
    "    \n",
    "    otherProtein = 5e7 #106198\n",
    "    otherProtDecay = np.log(2)/60/43 # 104151\n",
    "    tlOther = otherProtDecay*otherProtein/otherMrna\n",
    "    sim.rateConst(\"dummyTl\", tlOther, order=1, annotation=\"Dummy mRNA translation\")\n",
    "\n",
    "    sim.rateConst(\"ip_gal1\", 1.9254*conv1stOrder, order=1, annotation='GAL1 translation')\n",
    "    sim.rateConst(\"ip_gal2\", 13.4779*conv1stOrder, order=1, annotation=\"GAL2 translation\")\n",
    "    sim.rateConst(\"ip_gal3\", 55.4518*conv1stOrder, order=1, annotation=\"GAL3 translation\")\n",
    "    sim.rateConst(\"ip_gal4\", 10.7091*conv1stOrder, order=1, annotation=\"GAL4 translation\")\n",
    "    sim.rateConst(\"ip_rep\", 5.7762*conv1stOrder, order=1, annotation=\"GFP translation\")\n",
    "    sim.rateConst(\"ip_gal80\", 3.6737*conv1stOrder, order=1, annotation=\"GAL80 translation\")\n",
    "\n",
    "    sim.rateConst(\"dp_gal1\", 0.003851*conv1stOrder, order=1, annotation='GAL1 degradation')\n",
    "    sim.rateConst(\"dp_gal2\", 0.003851*conv1stOrder, order=1, annotation=\"GAL2 degradation\")\n",
    "    sim.rateConst(\"dp_gal3\", 0.01155*conv1stOrder, order=1, annotation=\"GAL3 degradation\")\n",
    "    sim.rateConst(\"dp_gal4\", 0.006931*conv1stOrder, order=1, annotation=\"GAL4 degradation\")\n",
    "    sim.rateConst(\"dp_rep\", 0.01155*conv1stOrder, order=1, annotation=\"GFP degradation\")\n",
    "    sim.rateConst(\"dp_gal80\", 0.006931*conv1stOrder, order=1, annotation=\"GAL80 degradation\")\n",
    "\n",
    "    ktls =                 [rc.ip_gal1,    rc.ip_gal2,    rc.ip_gal3,    rc.ip_gal4,    rc.ip_rep,       rc.ip_gal80]\n",
    "    dcys =                 [rc.dp_gal1,    rc.dp_gal2,    rc.dp_gal3,    rc.dp_gal4,    rc.dp_rep,       rc.dp_gal80] \n",
    "    mdcys =                [rc.dr_gal1,  rc.dr_gal2,  rc.dr_gal3,  rc.dr_gal4,  rc.dr_rep,    rc.dr_gal80]\n",
    "    translatingRibosomes = [sp.ribosomeG1, sp.ribosomeG2, sp.ribosomeG3, sp.ribosomeG4, sp.ribosomeGrep, sp.ribosomeG80]\n",
    "    prots =                [sp.G1,         sp.G2,         sp.G3,         sp.G4,         sp.Grep,         sp.G80]\n",
    "    compartments =         [[reg.ribosomes_region, reg.cytoplasm], \n",
    "                            [reg.ribosomes_region, reg.cytoplasm, reg.plasmaMembrane], \n",
    "                            [reg.ribosomes_region, reg.cytoplasm], \n",
    "                            [reg.ribosomes_region, reg.cytoplasm, reg.nucleoplasm], \n",
    "                            [reg.ribosomes_region, reg.cytoplasm], \n",
    "                            [reg.ribosomes_region, reg.cytoplasm, reg.nucleoplasm]]\n",
    "\n",
    "\n",
    "    for mrna, translatingRibosome, prot, ktl, dcy,mdcy,rgs in zip(mrnas, translatingRibosomes, prots, ktls, dcys, mdcys,compartments):\n",
    "        sim.reaction([sp.ribosome, mrna], [translatingRibosome], rc.rib_assoc, regions=reg.ribosomes_region)\n",
    "        sim.reaction([translatingRibosome], [sp.ribosome, mrna, prot], ktl, regions=reg.ribosomes_region)\n",
    "        sim.reaction([translatingRibosome], [sp.ribosome], mdcy, regions=reg.ribosomes_region)\n",
    "    \n",
    "    sim.reaction([sp.ribosome, sp.Rdummy], sp.ribosomeD, rc.rib_assoc, regions=reg.ribosomes_region)\n",
    "    sim.reaction(sp.ribosomeD, [sp.ribosome, sp.Rdummy], rc.dummyTl, regions=reg.ribosomes_region)\n",
    "    sim.reaction(sp.ribosomeD, sp.ribosome, rc.dummyDeg, regions=reg.ribosomes_region)\n",
    "    "
   ]
  },
  {
   "cell_type": "markdown",
   "metadata": {},
   "source": [
    "## Protein degradation"
   ]
  },
  {
   "cell_type": "markdown",
   "metadata": {},
   "source": [
    "$$\n",
    "G \\xrightarrow{k_{dp\\_gall }} \\varnothing\n",
    "$$"
   ]
  },
  {
   "cell_type": "code",
   "execution_count": null,
   "metadata": {
    "run_control": {
     "marked": false
    }
   },
   "outputs": [],
   "source": [
    "with sim.construct():\n",
    "    sim.rateConst(\"dp_gal1\", 0.003851*conv1stOrder, order=1, annotation='GAL1 degradation')\n",
    "    sim.rateConst(\"dp_gal2\", 0.003851*conv1stOrder, order=1, annotation=\"GAL2 degradation\")\n",
    "    sim.rateConst(\"dp_gal3\", 0.01155*conv1stOrder, order=1, annotation=\"GAL3 degradation\")\n",
    "    sim.rateConst(\"dp_gal4\", 0.006931*conv1stOrder, order=1, annotation=\"GAL4 degradation\")\n",
    "    sim.rateConst(\"dp_rep\", 0.01155*conv1stOrder, order=1, annotation=\"GFP degradation\")\n",
    "    sim.rateConst(\"dp_gal80\", 0.006931*conv1stOrder, order=1, annotation=\"GAL80 degradation\")\n",
    "\n",
    "    for prot, dcy,rgs in zip(prots, dcys, compartments):\n",
    "        sim.reaction(prot,[], dcy, regions=rgs)"
   ]
  },
  {
   "cell_type": "markdown",
   "metadata": {},
   "source": [
    "## ALL reactions"
   ]
  },
  {
   "cell_type": "code",
   "execution_count": null,
   "metadata": {
    "run_control": {
     "marked": false
    }
   },
   "outputs": [],
   "source": [
    "sim.showReactions()"
   ]
  },
  {
   "cell_type": "markdown",
   "metadata": {
    "run_control": {
     "marked": true
    }
   },
   "source": [
    "# 5. Important Initial counts"
   ]
  },
  {
   "cell_type": "markdown",
   "metadata": {},
   "source": [
    "we load the initial mole concentration of each species and change it back to counts.\n",
    "\n",
    "Then we use function `sp.species.placeNumberInto(jLm.region, counts)` to initialize the counts."
   ]
  },
  {
   "cell_type": "code",
   "execution_count": null,
   "metadata": {},
   "outputs": [],
   "source": [
    "# get the \n",
    "initMolec = pickle.load(open(\"./supporting_data/ysZeroGAE.pkl\", \"rb\"))\n",
    "volScale = np.sum(B.convexHull(sim.siteLattice==reg.plasmaMembrane.idx))*sim.siteV/cellVol\n",
    "def initMol(x):\n",
    "    # get the initial number of molecules from the mole\n",
    "    v = int(initMolec[x]*volScale)\n",
    "    print(x, v)\n",
    "    return int(initMolec[x]*volScale)\n",
    "# intialize the number of genes as 1 for all the genes\n",
    "sp.DG4.placeNumberInto(reg.nucleoplasm, 1)\n",
    "for b in [\"DG1\", \"DG2\", \"DG3\", \"DGrep\", \"DG80\"]:\n",
    "    ops = [b+x for x in [\"\", \"_G4d\", \"_G4d_G80d\"]]\n",
    "    spName = max(ops, key=lambda x:initMolec[x])\n",
    "    print(\"{} in state {}\".format(b, spName))\n",
    "    sim.species(spName).placeNumberInto(reg.nucleoplasm, 1)\n",
    "#place initial protein counts\n",
    "sp.G1.placeNumberInto(reg.cytoplasm, initMol(\"G1\"))\n",
    "sp.G2.placeNumberInto(reg.plasmaMembrane, initMol(\"G2\"))\n",
    "sp.G3.placeNumberInto(reg.cytoplasm, initMol(\"G3\"))\n",
    "sp.G4d.placeNumberInto(reg.nucleoplasm, initMol(\"G4d\"))\n",
    "sp.Grep.placeNumberInto(reg.cytoplasm, initMol(\"Grep\"))\n",
    "# place one dummy mRNA for certain simulatin purposes\n",
    "sp.Rdummy.placeNumberInto(reg.cytoplasm, int(otherMrna))\n",
    "# get relative ratio of cytoplasm volume\n",
    "cscl = reg.cytoplasm.volume/(reg.cytoplasm.volume+reg.nucleoplasm.volume)\n",
    "\n",
    "# get totoal number of G80 and G80 d,\n",
    "# _C means in the cytoplasm, G80 means in the nucleoplasm\n",
    "totM = initMol(\"G80C\") + initMol(\"G80\")\n",
    "totD = initMol(\"G80Cd\") + initMol(\"G80d\")\n",
    "sp.G80.placeNumberInto(reg.cytoplasm, int(cscl*totM))\n",
    "sp.G80.placeNumberInto(reg.nucleoplasm, int((1-cscl)*totM))\n",
    "sp.G80d.placeNumberInto(reg.cytoplasm, int(cscl*totD))\n",
    "sp.G80d.placeNumberInto(reg.nucleoplasm, int((1-cscl)*totD))\n",
    "# place one ribosome particle in each ribosome region \n",
    "for x,y,z in np.argwhere(sim.siteLattice==reg.ribosomes_region.idx):\n",
    "    sp.ribosome.placeParticle(x,y,z,1)\n"
   ]
  },
  {
   "cell_type": "markdown",
   "metadata": {
    "run_control": {
     "marked": true
    }
   },
   "source": [
    "# 6. Diffusion Initialization"
   ]
  },
  {
   "cell_type": "code",
   "execution_count": null,
   "metadata": {
    "run_control": {
     "marked": false
    }
   },
   "outputs": [],
   "source": [
    "with sim.construct():\n",
    "    sim.transitionRate(None, None, None, sim.diffusionZero)"
   ]
  },
  {
   "cell_type": "markdown",
   "metadata": {
    "run_control": {
     "marked": true
    }
   },
   "source": [
    "## mRNA"
   ]
  },
  {
   "cell_type": "code",
   "execution_count": null,
   "metadata": {
    "run_control": {
     "marked": false
    }
   },
   "outputs": [],
   "source": [
    "with sim.construct():\n",
    "    sim.diffusionConst(\"mrna\", mrnaDiffusion, texRepr=r'D_{mRNA}', annotation='Generic mRNA')\n",
    "\n",
    "    for mrna in sim.speciesList.matchRegex(\"R.*\"):\n",
    "        sim.transitionRate(mrna, reg.nucleoplasm, reg.cytoplasm, dc.mrna)\n",
    "        sim.transitionRate(mrna, reg.cytoplasm, reg.nucleoplasm, sim.diffusionZero)\n",
    "        sim.transitionRate(mrna, reg.nucleoplasm, reg.nucleoplasm, dc.mrna)\n",
    "        sim.transitionRate(mrna, reg.cytoplasm, reg.cytoplasm, dc.mrna)\n",
    "        sim.transitionRate(mrna, reg.ribosomes_region, reg.ribosomes_region, dc.mrna)\n",
    "        sim.transitionRate(mrna, reg.ribosomes_region, reg.cytoplasm, dc.mrna)\n",
    "        sim.transitionRate(mrna, reg.cytoplasm, reg.ribosomes_region, dc.mrna)"
   ]
  },
  {
   "cell_type": "markdown",
   "metadata": {
    "run_control": {
     "marked": true
    }
   },
   "source": [
    "## DNA\n",
    "\n",
    "Gene locations fixed in space"
   ]
  },
  {
   "cell_type": "code",
   "execution_count": null,
   "metadata": {
    "run_control": {
     "marked": false
    }
   },
   "outputs": [],
   "source": [
    "with sim.construct():\n",
    "    for sps in sim.speciesList.matchRegex(\"D.*\"):\n",
    "        sps.diffusionRate(None, sim.diffusionZero)"
   ]
  },
  {
   "cell_type": "markdown",
   "metadata": {
    "run_control": {
     "marked": true
    }
   },
   "source": [
    "## Ribosome occlusion"
   ]
  },
  {
   "cell_type": "code",
   "execution_count": null,
   "metadata": {
    "run_control": {
     "marked": false
    }
   },
   "outputs": [],
   "source": [
    "with sim.construct():\n",
    "    sim.diffusionConst(\"prot\", 1e-12, texRepr=r'D_{prot}', annotation='Generic protein')\n",
    "    for sps in [sp.G1, sp.G2, sp.G3, sp.G3i, sp.G4, sp.G4d, sp.G80, sp.G80d, sp.G80G3i, sp.Grep]:\n",
    "        sps.diffusionRate(reg.cytoplasm, dc.prot)\n",
    "        sim.transitionRate(sps, reg.ribosomes_region, reg.cytoplasm, sim.diffusionFast)\n",
    "        sim.transitionRate(sps, reg.cytoplasm, reg.ribosomes_region, sim.diffusionZero)"
   ]
  },
  {
   "cell_type": "markdown",
   "metadata": {
    "run_control": {
     "marked": true
    }
   },
   "source": [
    "## Transcription factors"
   ]
  },
  {
   "cell_type": "code",
   "execution_count": null,
   "metadata": {
    "run_control": {
     "marked": false
    }
   },
   "outputs": [],
   "source": [
    "with sim.construct():\n",
    "    for sps in [sp.G4d, sp.G4d, sp.G80, sp.G80d]:\n",
    "        sps.diffusionRate(reg.nucleoplasm, dc.prot)\n",
    "        sim.transitionRate(sps, reg.nucleoplasm, reg.cytoplasm, dc.prot)\n",
    "        sim.transitionRate(sps, reg.cytoplasm, reg.nucleoplasm, dc.prot)"
   ]
  },
  {
   "cell_type": "markdown",
   "metadata": {
    "run_control": {
     "marked": true
    }
   },
   "source": [
    "## Cytoplasmic protein"
   ]
  },
  {
   "cell_type": "code",
   "execution_count": null,
   "metadata": {
    "run_control": {
     "marked": false
    }
   },
   "outputs": [],
   "source": [
    "with sim.construct():\n",
    "    for sps in [sp.G1, sp.G2, sp.G3, sp.G3i, sp.G80G3i, sp.Grep]:\n",
    "        sim.transitionRate(sps, reg.cytoplasm, reg.nucleoplasm, sim.diffusionZero) "
   ]
  },
  {
   "cell_type": "markdown",
   "metadata": {
    "run_control": {
     "marked": true
    }
   },
   "source": [
    "## Transporter"
   ]
  },
  {
   "cell_type": "code",
   "execution_count": null,
   "metadata": {
    "run_control": {
     "marked": false
    }
   },
   "outputs": [],
   "source": [
    "with sim.construct():\n",
    "    sim.transitionRate(sp.G2, reg.cytoplasm, reg.plasmaMembrane, dc.prot)\n",
    "    sim.transitionRate(sp.G2, reg.plasmaMembrane, reg.cytoplasm, sim.diffusionZero)\n",
    "    sim.diffusionConst(\"mem\", 0.1e-12, texRepr=r'D_{mem}', annotation='Generic protein on membrane')\n",
    "    sp.G2.diffusionRate(reg.plasmaMembrane, dc.mem)"
   ]
  },
  {
   "cell_type": "markdown",
   "metadata": {
    "run_control": {
     "marked": true
    }
   },
   "source": [
    "## Ribosomes"
   ]
  },
  {
   "cell_type": "code",
   "execution_count": null,
   "metadata": {
    "run_control": {
     "marked": false
    }
   },
   "outputs": [],
   "source": [
    "with sim.construct():\n",
    "    for sps in sim.speciesList.matchRegex(\"ribosome.*\"):\n",
    "        sim.transitionRate(sps, None, None, sim.diffusionZero)"
   ]
  },
  {
   "cell_type": "markdown",
   "metadata": {},
   "source": [
    "Finish all initialization, show species:"
   ]
  },
  {
   "cell_type": "code",
   "execution_count": null,
   "metadata": {
    "run_control": {
     "marked": false
    }
   },
   "outputs": [],
   "source": [
    "sim.showAllSpecies()"
   ]
  },
  {
   "cell_type": "markdown",
   "metadata": {},
   "source": [
    "# 7.RDME-ODE model"
   ]
  },
  {
   "cell_type": "markdown",
   "metadata": {},
   "source": [
    "Here we need to define a custom solver to include ode function."
   ]
  },
  {
   "cell_type": "code",
   "execution_count": null,
   "metadata": {
    "run_control": {
     "marked": false
    }
   },
   "outputs": [],
   "source": [
    "import pyximport\n",
    "pyximport.install(setup_args={ \"include_dirs\":np.get_include()})\n",
    "from ode import RHS"
   ]
  },
  {
   "cell_type": "code",
   "execution_count": null,
   "metadata": {},
   "outputs": [],
   "source": [
    "class OdeRdmeHybridSolver:\n",
    "    \"\"\"Hybrid solver for Galactose switch\n",
    "    \n",
    "    Transport reactions and galactose metabolism handled by ODE, rest by RDME. The\n",
    "    ODE system is coupled to the RDME by updating the protein counts in the ODE \n",
    "    each communication step. New proteins are added to the state unbound to\n",
    "    galactose. If the number of proteins decreases, both bound and unbound \n",
    "    states are decreased by the same proportion and the galactose is\n",
    "    added back as internal or external galactose. The RDME is coupled to the \n",
    "    ODE system through the internal galactose concentration. The rate of\n",
    "    G3 -> G3i is updated with the internal galactose concentration each\n",
    "    communication step.\"\"\"\n",
    "    def copyInitialConditions(self, cts):\n",
    "        y = np.zeros(len(self.odeSpNames))\n",
    "        y[self.odeSpIndex(\"GAI\")] = 0\n",
    "        y[self.odeSpIndex(\"G1\")] = cts['countBySpecies'][self.rdme.sp.G1]/self.NAV # XXX think about which volume\n",
    "        y[self.odeSpIndex(\"G1GAI\")] = 0\n",
    "        y[self.odeSpIndex(\"G2\")] = cts['countBySpecies'][self.rdme.sp.G2]/self.NAV\n",
    "        y[self.odeSpIndex(\"G2GAE\")] = 0\n",
    "        y[self.odeSpIndex(\"G2GAI\")] = 0\n",
    "        self.boundGal = self.rdmeGal(cts)\n",
    "        return y\n",
    "  \n",
    "    def rdmeGal(self, cts):\n",
    "        return (cts['countBySpecies'][self.rdme.sp.G3i] + cts['countBySpecies'][self.rdme.sp.G80G3i])/self.NAV\n",
    "\n",
    "    def rdme2odeConc(self, y0, cts):\n",
    "        y = y0.copy()\n",
    "        \n",
    "        g1ode = y0[self.odeSpIndex(\"G1\")]\n",
    "        g1gaiode = y0[self.odeSpIndex(\"G1GAI\")]\n",
    "        g1rdme = cts['countBySpecies'][self.rdme.sp.G1]/self.NAV\n",
    "        \n",
    "        change = g1rdme-g1ode-g1gaiode\n",
    "        \n",
    "        if change > 0:\n",
    "            y[self.odeSpIndex(\"G1\")] = g1ode + change\n",
    "        else:\n",
    "            fracChange = g1rdme/(g1ode+g1gaiode)\n",
    "            y[self.odeSpIndex(\"G1\")] = g1ode*fracChange\n",
    "            y[self.odeSpIndex(\"G1GAI\")] = g1gaiode*fracChange\n",
    "            y[self.odeSpIndex(\"GAI\")] += g1gaiode*(1-fracChange)\n",
    "            \n",
    "        \n",
    "        g2ode = y0[self.odeSpIndex(\"G2\")]\n",
    "        g2gaiode = y0[self.odeSpIndex(\"G2GAI\")]\n",
    "        g2gaeode = y0[self.odeSpIndex(\"G2GAE\")]\n",
    "        g2rdme = cts['countBySpeciesRegion'][self.rdme.sp.G2][self.rdme.reg.plasmaMembrane]/self.NAV\n",
    "        \n",
    "        change = g2rdme-g2ode-g2gaiode-g2gaeode\n",
    "        \n",
    "        if change >= 0:\n",
    "            y[self.odeSpIndex(\"G2\")] = g2ode + change\n",
    "        else:\n",
    "            fracChange = g2rdme/(g2ode+g2gaiode+g2gaeode)\n",
    "            y[self.odeSpIndex(\"G2\")] = g2ode*fracChange\n",
    "            y[self.odeSpIndex(\"G2GAI\")] = g2gaiode*fracChange\n",
    "            y[self.odeSpIndex(\"GAI\")] += g2gaiode*(1-fracChange)\n",
    "            y[self.odeSpIndex(\"G2GAE\")] = g2gaeode*fracChange\n",
    "            \n",
    "        g0 = self.boundGal\n",
    "        g1 = self.rdmeGal(cts)\n",
    "        y[self.odeSpIndex(\"GAI\")] += g1-g0\n",
    "        self.boundGal = g1\n",
    "            \n",
    "        return y\n",
    "  \n",
    "        \n",
    "    def __init__(self, lmFile, initialExternalGalactose):\n",
    "        super(OdeRdmeHybridSolver, self).__init__()\n",
    "        self.GAE = initialExternalGalactose\n",
    "        self.odeYs = None\n",
    "        self.lastOdeEval = 0\n",
    "        self.odeEvals = []\n",
    "        if isinstance(lmFile, (RDMEFile, RDMESim)):\n",
    "            self.rdme = lmFile\n",
    "        else:\n",
    "            self.rdme = RDME.File(lmFile)\n",
    "        self.cellVol = self.rdme.reg.cytoplasm.volume + self.rdme.reg.nucleoplasm.volume + self.rdme.reg.plasmaMembrane.volume\n",
    "        self.NAV = 6.022e23*self.cellVol\n",
    "        self.buildOdeSys(\n",
    "                 [[[\"G1\",\"GAI\"],  [\"G1GAI\"],     1.442e5],\n",
    "                  [[\"G1GAI\"],     [\"G1\", \"GAI\"], 30.708],\n",
    "                  [[\"G1GAI\"],     [\"G1\"],        55.833],\n",
    "                  [[                                                                                                                                                                                                                                                                                                                                                                                                                                                     \"G2GAI\"],     [\"G2GAE\"],     72.5],\n",
    "                  [[\"G2GAE\"],     [\"G2GAI\"],     72.5],\n",
    "                  [[\"G2GAE\"],     [\"G2\"], 39.875],\n",
    "                  [[\"G2\"],        [\"G2GAE\"],     1.123e5*self.GAE],\n",
    "                  [[\"G2\", \"GAI\"], [\"G2GAI\"],     1.123e5],\n",
    "                  [[\"G2GAI\"],     [\"G2\", \"GAI\"], 39.875]])\n",
    "        \n",
    "                  \n",
    "        self.g3actRidx = self.rdme.reaction(self.rdme.sp.G3, self.rdme.sp.G3i, self.rdme.rc.fi).idx\n",
    "        self.g3actRc = self.rdme.rc.fi._toLM()\n",
    "     \n",
    "                   \n",
    "    def hookSimulation(self, t, lattice):\n",
    "         \n",
    "        cts = self.rdme.particleStatistics(particleLattice=lattice.getParticleLatticeView(),\n",
    "                                           siteLattice=lattice.getSiteLatticeView())\n",
    "        if self.odeYs is None:\n",
    "            ys0 = self.copyInitialConditions(cts)\n",
    "        else:\n",
    "            ys0 = self.rdme2odeConc(self.odeYs, cts)\n",
    "                   \n",
    "        dt = t-self.lastOdeEval\n",
    "        if dt>0:\n",
    "            ys1 = self.stepOde(dt, ys0)\n",
    "        else:\n",
    "            ys1 = ys0\n",
    "            \n",
    "        self.odeEvals.append((t,ys1))\n",
    "        self.odeYs = ys1\n",
    "        self.lastOdeEval = t\n",
    "            \n",
    "        assocRt = self.g3actRc*ys1[self.odeSpIndex(\"GAI\")]\n",
    "        # print(self.rdme.reactionList[self.g3actRidx].rate.value)\n",
    "        self.setReactionRate(self.g3actRidx, assocRt)\n",
    "        # print(self.rdme.reactionList[self.g3actRidx].rate.value)\n",
    "        print(\"=\"*80)\n",
    "        print(\"t=\",t)\n",
    "        print(\"ODE\")\n",
    "        for i,n in enumerate(self.odeSpNames):\n",
    "            print(\"  {:<16s}{:16.5g}\".format(n,self.odeYs[i]))\n",
    "        print(\"RDME\")\n",
    "        for n in self.rdme.speciesList:\n",
    "            print(\"  {:<16s}{:16d}\".format(n.name,cts['countBySpecies'][n]))\n",
    "        print(\"new rate: {:.3g}\".format(assocRt))\n",
    "        print(\"-\"*80)\n",
    "        \n",
    "        return 0\n",
    "\n",
    "    def odeSpIndex(self, sp):\n",
    "        return self.odeSpNames.index(sp)\n",
    "    \n",
    "    def buildOdeSys(self, rxns):\n",
    "        odeSpNames = set()\n",
    "        for react, prod, _ in rxns:\n",
    "            odeSpNames |= set(prod) | set(react)\n",
    "        nsp = len(odeSpNames)\n",
    "        nrxn = len(rxns)\n",
    "        stoch = np.zeros((nrxn, nsp), dtype=np.int32)\n",
    "        dep = np.zeros((nrxn, nsp), dtype=np.int32)\n",
    "        ks = np.zeros(nrxn, dtype=np.float64)\n",
    "        self.odeSpNames = sorted(odeSpNames)\n",
    "        for i, (react, prod, rate) in enumerate(rxns):\n",
    "            ks[i] = rate\n",
    "            for r in react:\n",
    "                dep[i, self.odeSpIndex(r)] += 1\n",
    "                stoch[i, self.odeSpIndex(r)] -= 1\n",
    "            for p in prod:\n",
    "                stoch[i, self.odeSpIndex(p)] += 1\n",
    "        self.odeStoch = stoch\n",
    "        self.odeDep = dep\n",
    "        self.odeKs = ks\n",
    "    \n",
    "    def stepOde(self, t, ys0):\n",
    "        rhs = RHS(self.odeStoch, self.odeDep, self.odeKs)\n",
    "        ts = np.linspace(0,t, 10)\n",
    "        ys = spint.odeint(rhs.evaluate, ys0, ts)\n",
    "        return ys[-1,:]"
   ]
  },
  {
   "cell_type": "code",
   "execution_count": null,
   "metadata": {
    "run_control": {
     "marked": true
    }
   },
   "outputs": [],
   "source": [
    "# create the custom solver class, and stantiating the solver\n",
    "Solver = makeSolver(IntMpdRdmeSolver, OdeRdmeHybridSolver)\n",
    "solver = Solver(sim, externalGal)"
   ]
  },
  {
   "cell_type": "code",
   "execution_count": null,
   "metadata": {},
   "outputs": [],
   "source": [
    "sim.finalize()"
   ]
  },
  {
   "cell_type": "markdown",
   "metadata": {},
   "source": [
    "# 8. Start the Simulation"
   ]
  },
  {
   "cell_type": "code",
   "execution_count": null,
   "metadata": {
    "run_control": {
     "marked": false
    }
   },
   "outputs": [],
   "source": [
    "try:\n",
    "    traj = sim.run(solver=solver, cudaDevices=[0])\n",
    "    \n",
    "finally:\n",
    "    # when it ends, also save the ode data.\n",
    "    odeData = dict(ts=np.array([x[0] for x in solver.odeEvals]),\n",
    "                   ys=np.array([x[1] for x in solver.odeEvals]),\n",
    "                   names=solver.odeSpNames)\n",
    "    pickle.dump(odeData, open(traj.filename+\"_ode.pkl\", \"wb\"))"
   ]
  }
 ],
 "metadata": {
  "kernelspec": {
   "display_name": "Python 3",
   "language": "python",
   "name": "python3"
  },
  "language_info": {
   "codemirror_mode": {
    "name": "ipython",
    "version": 3
   },
   "file_extension": ".py",
   "mimetype": "text/x-python",
   "name": "python",
   "nbconvert_exporter": "python",
   "pygments_lexer": "ipython3",
   "version": "3.8.8"
  },
  "toc": {
   "colors": {
    "hover_highlight": "#DAA520",
    "running_highlight": "#FF0000",
    "selected_highlight": "#FFD700"
   },
   "moveMenuLeft": true,
   "nav_menu": {
    "height": "456px",
    "width": "252px"
   },
   "navigate_menu": true,
   "number_sections": true,
   "sideBar": true,
   "threshold": 4,
   "toc_cell": false,
   "toc_position": {
    "height": "886px",
    "left": "0px",
    "right": "1696px",
    "top": "106px",
    "width": "212px"
   },
   "toc_section_display": "block",
   "toc_window_display": true
  }
 },
 "nbformat": 4,
 "nbformat_minor": 4
}
