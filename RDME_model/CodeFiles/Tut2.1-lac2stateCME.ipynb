{
 "cells": [
  {
   "cell_type": "markdown",
   "metadata": {},
   "source": [
    "<h1> Tutorial 2.1 - A Bistable Genetic Switch </h1>\n",
    "\n",
    "The [*lac*](https://en.wikipedia.org/wiki/Lac_operon) system is perhaps the most well studied genetic switch. When *E. coli* is put in lactose, a regulatory system is initiated that incudes the expression of a lactose permease (*lacY*) that brings in the sugar. In this simulation, we start with cells that are in an uninduced state (e.g. they have low copy number of *lacY*) where a repressor dimer molecule (R2) sits on the operator site of the *lac* gene, preventing it from being transcribed. At the start of the simulation, they are introduced to a concentration of lactose inducer (I; here an analog of lactose that cannot be metabolized).  Depending on the initial concentration and the time considered, a bistable population will arise with different populations of induced (high copy number of *lac* permease) and uninduced (low copy number of *lac* permease) cells. <br/>\n",
    "\n",
    "The model presented here can be found in the article: [Noise Contributions in an Inducible Genetic Switch: A Whole-Cell Simulation Study](http://journals.plos.org/ploscompbiol/article?id=10.1371/journal.pcbi.1002010)."
   ]
  },
  {
   "cell_type": "code",
   "execution_count": null,
   "metadata": {
    "ExecuteTime": {
     "end_time": "2016-06-07T19:31:16.521454",
     "start_time": "2016-06-07T19:31:16.083002"
    },
    "collapsed": false
   },
   "outputs": [],
   "source": [
    "from pyLM import *\n",
    "from pyLM.units import *\n",
    "from pySTDLM import *\n",
    "from pySTDLM.PostProcessing import *\n",
    "from pySTDLM.NetworkVisualization import *\n",
    "import math as m\n",
    "import numpy as np\n",
    "import matplotlib.pyplot as plt\n",
    "%matplotlib inline\n"
   ]
  },
  {
   "cell_type": "code",
   "execution_count": null,
   "metadata": {
    "ExecuteTime": {
     "end_time": "2016-06-07T19:31:16.525229",
     "start_time": "2016-06-07T19:31:16.522971"
    },
    "code_folding": [],
    "collapsed": false
   },
   "outputs": [],
   "source": [
    "# Create our simulation object\n",
    "sim=CME.CMESimulation(name=\"Lac Genetic Switch\")"
   ]
  },
  {
   "cell_type": "markdown",
   "metadata": {},
   "source": [
    "<h2> Species </h2>\n",
    "\n",
    "<h3> Lactose Gene, Product and Inducer Species </h3>\n",
    "O - *lac* operator (e.g. the *lac* gene); it is transcribed to produce mY <br/>\n",
    "mY - mRNA that encodes the lactose permease; it is translated to produce Y<br/>\n",
    "Y - lactose permease; it can transport inducer into the cell <br/>\n",
    "I - intracellular inducer (lactose analog) <br/>\n",
    "Iex - extracellular inducer <br/>\n",
    "YI - lactose analog bound by the lactose permease <br/>\n",
    "\n",
    "<h3> Free (cytosolic) Repressor Sepcies</h3>\n",
    "R2 - free repressor dimer <br/>\n",
    "IR2 - free repressor with a single inducer bound <br/>\n",
    "I2R2 - free repressor with inducer bound to both dimer subunits <br/>\n",
    "\n",
    "<h3> Repressed Gene Species </h3>\n",
    "R2O - repressed gene with dimer sitting on the operator <br/>\n",
    "IR2O - repressed gene with a single inducer bound to the dimer <br/>\n",
    "I2R2O - repressed gene with inducer molecules bound to both dimer subunits <br/>\n"
   ]
  },
  {
   "cell_type": "code",
   "execution_count": null,
   "metadata": {
    "ExecuteTime": {
     "end_time": "2016-06-07T19:31:17.111478",
     "start_time": "2016-06-07T19:31:17.106532"
    },
    "collapsed": true
   },
   "outputs": [],
   "source": [
    "# Add the reactants\n",
    "species = ['R2','O','R2O','IR2','IR2O','I2R2','I2R2O','mY','Y','I','Iex','YI']\n",
    "sim.defineSpecies(species)"
   ]
  },
  {
   "cell_type": "code",
   "execution_count": null,
   "metadata": {
    "ExecuteTime": {
     "end_time": "2016-06-07T19:31:17.532690",
     "start_time": "2016-06-07T19:31:17.506662"
    },
    "collapsed": true
   },
   "outputs": [],
   "source": [
    "scalar = 2.076e-9 # Rate conversion from experiments to stochastic\n",
    "\n",
    "# Add the reactions\n",
    "# Lac operon regulation\n",
    "sim.addReaction(reactant=('R2','O'), product='R2O',rate=2.43e6*scalar)\n",
    "sim.addReaction(('IR2','O'),  'IR2O',       1.21e6*scalar)\n",
    "sim.addReaction(('I2R2','O'), 'I2R2O',      2.43e4*scalar)\n",
    "sim.addReaction('R2O',        ('R2','O'),   6.30e-4)\n",
    "sim.addReaction('IR2O',       ('IR2','O'),  6.30e-4)\n",
    "sim.addReaction('I2R2O',      ('I2R2','O'), 3.15e-1)\n",
    "\n",
    "# Transcription, translation, and degredation\n",
    "sim.addReaction('O',          ('O','mY'),   1.26e-1)\n",
    "sim.addReaction('mY',         ('mY','Y'),   4.44e-2)\n",
    "sim.addReaction('mY',         '',           1.11e-2)\n",
    "sim.addReaction('Y',          '',           2.10e-4)\n",
    "\n",
    "# Inducer-repressor interactions\n",
    "sim.addReaction(('I','R2'),   'IR2',        2.27e4*scalar)\n",
    "sim.addReaction(('I','IR2'),  'I2R2',       1.14e4*scalar)\n",
    "sim.addReaction(('I','R2O'),  'IR2O',       6.67e2*scalar)\n",
    "sim.addReaction(('I','IR2O'), 'I2R2O',      3.33e2*scalar)\n",
    "sim.addReaction('IR2',        ('I','R2'),   2.00e-1)\n",
    "sim.addReaction('I2R2',       ('I','IR2'),  4.00e-1)\n",
    "sim.addReaction('IR2O',       ('I','R2O'),  1.00)\n",
    "sim.addReaction('I2R2O',      ('I','IR2O'), 2.00)\n",
    "\n",
    "# Inducer transport\n",
    "sim.addReaction('Iex',        'I',          2.33e-3)\n",
    "sim.addReaction('I',          'Iex',        2.33e-3)\n",
    "sim.addReaction(('Y','Iex'),  ('YI','Iex'), 3.03e4*scalar)\n",
    "sim.addReaction('YI',         ('Y','Iex'),  1.20e-1)\n",
    "sim.addReaction('YI',         ('Y','I'),    1.20e+1)\n"
   ]
  },
  {
   "cell_type": "markdown",
   "metadata": {},
   "source": [
    "<h2> Initial Conditions </h2>\n",
    "\n",
    "We start in an undiced state with no repressors bound to the operators. <br/>\n",
    "\n",
    "We start with a concentration of about 27 $\\mu$M (assuming a cell is about 1.8 fL). You may try investigating how different concentrations effect the switching time. We suggest trying 0, 8, 16, 24, 32 and 40 $\\mu$M and investigating the switching time over 10 hours."
   ]
  },
  {
   "cell_type": "code",
   "execution_count": null,
   "metadata": {
    "ExecuteTime": {
     "end_time": "2016-06-07T19:31:18.280880",
     "start_time": "2016-06-07T19:31:18.273733"
    },
    "collapsed": true
   },
   "outputs": [],
   "source": [
    "# Populate the model with particles\n",
    "sim.addParticles(species='R2',   count=9)\n",
    "sim.addParticles('O',    1)\n",
    "sim.addParticles('Y',    30)\n",
    "sim.addParticles('I',    0)\n",
    "sim.addParticles('Iex',  7224*4)"
   ]
  },
  {
   "cell_type": "code",
   "execution_count": null,
   "metadata": {
    "ExecuteTime": {
     "end_time": "2016-06-07T19:31:18.620736",
     "start_time": "2016-06-07T19:31:18.618076"
    },
    "collapsed": true
   },
   "outputs": [],
   "source": [
    "# Set up the times\n",
    "sim.setTimestep(ms(100))\n",
    "sim.setWriteInterval(1)\n",
    "sim.setSimulationTime(3600.0)"
   ]
  },
  {
   "cell_type": "code",
   "execution_count": null,
   "metadata": {
    "ExecuteTime": {
     "end_time": "2016-06-07T19:31:19.011187",
     "start_time": "2016-06-07T19:31:18.992064"
    },
    "collapsed": false
   },
   "outputs": [],
   "source": [
    "# Save the simulation state to a file\n",
    "filename='T2.1-lac2state.lm'\n",
    "os.system(\"rm -rf %s\"%(filename))\n",
    "sim.save(filename)"
   ]
  },
  {
   "cell_type": "code",
   "execution_count": null,
   "metadata": {
    "ExecuteTime": {
     "end_time": "2016-06-07T19:31:19.506674",
     "start_time": "2016-06-07T19:31:19.498469"
    },
    "collapsed": false
   },
   "outputs": [],
   "source": [
    "# Interrogate the Simulation\n",
    "sim"
   ]
  },
  {
   "cell_type": "code",
   "execution_count": null,
   "metadata": {
    "ExecuteTime": {
     "end_time": "2016-06-07T19:32:38.943525",
     "start_time": "2016-06-07T19:31:20.232953"
    },
    "collapsed": false
   },
   "outputs": [],
   "source": [
    "# Run the simulation for 10 hours\n",
    "reps=10\n",
    "sim.run(filename, \"lm::cme::GillespieDSolver\", reps)"
   ]
  },
  {
   "cell_type": "code",
   "execution_count": null,
   "metadata": {
    "ExecuteTime": {
     "end_time": "2016-06-07T19:29:58.082028",
     "start_time": "2016-06-07T19:29:55.248865"
    },
    "collapsed": false
   },
   "outputs": [],
   "source": [
    "# Post-processing\n",
    "fileHandle=openLMFile(filename)\n",
    "for i in range(1,min(reps,10)):\n",
    "    plotTraceFromFile(filename, ['mY','Y'], i, \"Trace.mY.Y.%d.png\"%(i))\n",
    "    plotTrace(fileHandle, [\"mY\",\"Y\"],i)\n",
    "    plt.show()\n",
    "closeLMFile(fileHandle)"
   ]
  },
  {
   "cell_type": "markdown",
   "metadata": {},
   "source": [
    "<h2> Custom Post-Processing </h2>\n",
    "\n",
    "The following code shows how to do some custom post-processing.  We pull out the species traces for the mRNA and the protein for the *lac* permease and then compute a histogram of values encountered in the simulation. You may see the bimodality when you run for 10 hours at intermediate concentrations.  "
   ]
  },
  {
   "cell_type": "code",
   "execution_count": null,
   "metadata": {
    "ExecuteTime": {
     "end_time": "2016-06-07T19:29:58.703924",
     "start_time": "2016-06-07T19:29:58.083559"
    },
    "collapsed": false
   },
   "outputs": [],
   "source": [
    "# Get out the data\n",
    "fileHandle=openLMFile(filename)\n",
    "times = getTimesteps(fileHandle)\n",
    "simmY = reps*[]\n",
    "simY  = reps*[]\n",
    "for i in range(1,reps):\n",
    "    simY.append(getSpecieTrace(fileHandle, 'Y', i))\n",
    "    simmY.append(getSpecieTrace(fileHandle, 'mY', i))\n",
    "\n",
    "# Find min and max of mY and Y\n",
    "minY  = 1e9; maxY  = 0; minmY = 1e9; maxmY = 0\n",
    "for i in range(reps-1):\n",
    "    for y in simY[i]:\n",
    "        minY = min(minY, y)\n",
    "        maxY = max(maxY, y)\n",
    "    for my in simmY[i]:\n",
    "        minmY = min(minmY, my)\n",
    "        maxmY = max(maxmY, my)\n",
    "\n",
    "# Histogram the data (the hard way)\n",
    "hist = np.zeros(shape=(maxmY,maxY))\n",
    "for i in range(reps-1):\n",
    "    for j in range(len(times)):\n",
    "        hist[simmY[i][j]-1, simY[i][j]-1] += 1.0\n",
    "# Compute logarithm of histogram value\n",
    "histLog = np.zeros(shape=(maxmY,maxY))\n",
    "for i in range(maxmY-1):\n",
    "    for j in range(maxY-1):\n",
    "        if hist[i,j] > 0:\n",
    "            histLog[i,j] = m.log10(hist[i,j])\n",
    "            \n",
    "# Plot ourselves a histogram\n",
    "plt.clf()\n",
    "plt.imshow(histLog.transpose(), interpolation='nearest', origin='lower', aspect='auto')\n",
    "plt.colorbar()\n",
    "plt.xlabel('mRNA Count')\n",
    "plt.ylabel('LacY Count')\n",
    "plt.savefig('LacYmRNAHeatmap.png')\n",
    "\n",
    "# Clean up after ourselves\n",
    "closeLMFile(fileHandle)\n"
   ]
  },
  {
   "cell_type": "markdown",
   "metadata": {},
   "source": [
    "<h2> Assignment 2 </h2>\n",
    "\n",
    "1. Try examining the switching time using different concentrations.  What bimodality (of species Y) do you get using 0, 8, 16, 24 or 32 $\\mu$M inducer concentrations?\n",
    "\n",
    "2. How long bimodality depend on the time of incubation in inducer? (Hint: run the system for 10-20 hours at different concentrations)\n",
    "\n",
    "3. (Challenge) Try plotting the the bimodality seen in the last timestep as a histogram. You may find Matplotlib's [pyplot.hist()](http://matplotlib.org/api/pyplot_api.html#matplotlib.pyplot.hist) to be useful for this. (Hint: you will need to increase the number of simulation replicates to get smooth histograms)."
   ]
  }
 ],
 "metadata": {
  "kernelspec": {
   "display_name": "Python 3",
   "language": "python",
   "name": "python3"
  },
  "language_info": {
   "codemirror_mode": {
    "name": "ipython",
    "version": 3
   },
   "file_extension": ".py",
   "mimetype": "text/x-python",
   "name": "python",
   "nbconvert_exporter": "python",
   "pygments_lexer": "ipython3",
   "version": "3.4.3"
  },
  "toc": {
   "toc_cell": false,
   "toc_number_sections": true,
   "toc_threshold": 6,
   "toc_window_display": false
  }
 },
 "nbformat": 4,
 "nbformat_minor": 0
}
