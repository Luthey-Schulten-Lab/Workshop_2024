{
 "cells": [
  {
   "cell_type": "markdown",
   "metadata": {},
   "source": [
    "<h1> Tutorial 3.1 - The Min Oscillator </h1>\n",
    "\n",
    "The Min oscillator is a well characterized spatial phenomena that occurs in *E. coli*. The system of reactions set up an oscillating wave that travels from end to end in the *E. coli* cell. Here we will examine how to set up a simulation of the Min system using pyLM.<br/>\n",
    "\n",
    "You can read about the Min system [here](https://en.wikipedia.org/wiki/Min_System)."
   ]
  },
  {
   "cell_type": "code",
   "execution_count": null,
   "metadata": {
    "ExecuteTime": {
     "end_time": "2016-06-07T20:12:41.996507",
     "start_time": "2016-06-07T20:12:41.622137"
    },
    "collapsed": true
   },
   "outputs": [],
   "source": [
    "import os\n",
    "from pyLM import *\n",
    "from pyLM.units import *\n",
    "from pySTDLM.PostProcessing import *\n",
    "from pySTDLM.NetworkVisualization import *\n",
    "import math as m\n",
    "import numpy as np\n",
    "import matplotlib.pyplot as plt\n",
    "%matplotlib inline"
   ]
  },
  {
   "cell_type": "code",
   "execution_count": null,
   "metadata": {
    "ExecuteTime": {
     "end_time": "2016-06-07T20:12:42.735655",
     "start_time": "2016-06-07T20:12:42.513313"
    },
    "collapsed": true
   },
   "outputs": [],
   "source": [
    "# Create our simulation object\n",
    "sim=RDME.RDMESimulation(dimensions=micron(1.024,1.024,4.096), spacing=nm(32), name=\"Min Oscillator\")"
   ]
  },
  {
   "cell_type": "markdown",
   "metadata": {},
   "source": [
    "<h2> Build a capsid cell </h2>\n",
    "This is a built in function that builds a spherocylinder (pill shaped) cell in the center of the domain with the specified length (total end to end) and the diameter.  The membrane thickness is also specified.  This may need to be increased to about 2x the lattice spacing, otherwise holes can form in the membrane.  The built in functions [```buildCapsidCell()```](http://www.scs.illinois.edu/schulten/lm/documentation/classpy_l_m_1_1_r_d_m_e_1_1_r_d_m_e_simulation.html#a07a10a44bacbb0f781115425c0124d59) and [```buildSphericalCell()```](http://www.scs.illinois.edu/schulten/lm/documentation/classpy_l_m_1_1_r_d_m_e_1_1_r_d_m_e_simulation.html#a855e223046766bcaa78d9f6f0c31c9f8) create 2 additional regions named \"membrane\" and \"cytoplasm\" which represent  what their name implies.  The extracellular space is the default region type."
   ]
  },
  {
   "cell_type": "code",
   "execution_count": null,
   "metadata": {
    "ExecuteTime": {
     "end_time": "2016-06-07T20:12:43.794314",
     "start_time": "2016-06-07T20:12:43.786546"
    },
    "collapsed": false
   },
   "outputs": [],
   "source": [
    "# Build a capsid cell\n",
    "_ = sim.buildCapsidCell(length=micron(4), diameter=micron(1), membraneThickness=nm(64))"
   ]
  },
  {
   "cell_type": "markdown",
   "metadata": {},
   "source": [
    "<h2> Species </h2>\n",
    "\n",
    "minDadp - MinD protein with an ADP molecule bound <br/>\n",
    "minDatp - MinD protein with an ATP molecule bound <br/>\n",
    "minDm - Membrane bound MinD Protein<br/>\n",
    "minE - MinE protein <br/>\n",
    "minDEm - Membrane bound MinD protein also bound to a MinE protein <br/>"
   ]
  },
  {
   "cell_type": "code",
   "execution_count": null,
   "metadata": {
    "ExecuteTime": {
     "end_time": "2016-06-07T20:12:44.541186",
     "start_time": "2016-06-07T20:12:44.536423"
    },
    "collapsed": false
   },
   "outputs": [],
   "source": [
    "# define our chemical species\n",
    "_ = sim.defineSpecies(['minDadp', 'minDatp', 'minDm', 'minE', 'minDEm'])"
   ]
  },
  {
   "cell_type": "markdown",
   "metadata": {},
   "source": [
    "<h2> Setting up the Simulation Regions </h2>\n",
    "\n",
    "We modify cytoplasm by specifying the diffusion rate in cytoplasm regions. We also specify the reactions that occur in the cytoplasm."
   ]
  },
  {
   "cell_type": "code",
   "execution_count": null,
   "metadata": {
    "ExecuteTime": {
     "end_time": "2016-06-07T20:12:45.503940",
     "start_time": "2016-06-07T20:12:45.495022"
    },
    "collapsed": false
   },
   "outputs": [],
   "source": [
    "# Modify the cytoplasm to add diffusion rates and reactions\n",
    "_ = sim.modifyRegion('cytoplasm').setDefaultDiffusionRate(2.5e-12).addReaction(reactant='minDadp', product='minDatp', rate=0.5)"
   ]
  },
  {
   "cell_type": "markdown",
   "metadata": {},
   "source": [
    "Here we modify the membrane to add diffusion properties and reactions. Here the diffusion rate of 'minDm' and 'minDEm' on the membrane is set specifically, demonstrating how diffusion coefficients can be customized for each region. "
   ]
  },
  {
   "cell_type": "code",
   "execution_count": null,
   "metadata": {
    "ExecuteTime": {
     "end_time": "2016-06-07T20:12:46.620193",
     "start_time": "2016-06-07T20:12:46.602577"
    },
    "collapsed": false
   },
   "outputs": [],
   "source": [
    "# Modify the membrane to add reactions\n",
    "V=3.14*4.0e-6*0.5e-6*0.5e-6*1000.0 # Liters\n",
    "N_A=6.022e23                # molecules/mole\n",
    "scalar=1.0/(N_A*V)\n",
    "\n",
    "sim.modifyRegion('membrane') \\\n",
    "    .setDefaultDiffusionRate(2.5e-12) \\\n",
    "    .setDiffusionRate(species='minDm',  rate=1e-14) \\\n",
    "    .setDiffusionRate(species='minDEm', rate=1e-14) \\\n",
    "    .addReaction( 'minDatp', 'minDm',   rate=0.78) \\\n",
    "    .addReaction(('minDatp','minDm'), ('minDm','minDm'),rate=9e6*scalar) \\\n",
    "    .addReaction(('minDm','minE'),     'minDEm',     rate=5.56e7*scalar) \\\n",
    "    .addReaction( 'minDEm',           ('minE','minDadp'),rate=0.7)"
   ]
  },
  {
   "cell_type": "markdown",
   "metadata": {},
   "source": [
    "<h2> Set diffusive properties between regions </h2>\n",
    "You can set the transition rate between two regions by calling [```setTransitionRate()```](http://www.scs.illinois.edu/schulten/lm/documentation/classpy_l_m_1_1_r_d_m_e_1_1_r_d_m_e_simulation.html#a3350eaccd67aa7c7bd27d929e9431406) on the simulation object, specifying the species and the source and destination regions. This is a one way transition rate, and if the particle is to be able to move both ways the reverse transition rate must be specified with a similar call with the \"via\" and \"to\" arguments reversed.  Alternatively, a shortcut function [```setTwoWayTransitionRate()```](http://www.scs.illinois.edu/schulten/lm/documentation/classpy_l_m_1_1_r_d_m_e_1_1_r_d_m_e_simulation.html#a6450285793604051601cd4ad07bf9052) will set up diffusion both directions\n"
   ]
  },
  {
   "cell_type": "code",
   "execution_count": null,
   "metadata": {
    "ExecuteTime": {
     "end_time": "2016-06-07T20:12:47.650565",
     "start_time": "2016-06-07T20:12:47.639460"
    },
    "collapsed": false
   },
   "outputs": [],
   "source": [
    "# Set diffusive properties between regions\n",
    "sim.setTransitionRate(species='minDatp', via='cytoplasm', to='membrane', rate=2.5e-12)\n",
    "sim.setTransitionRate(species='minDadp', via='cytoplasm', to='membrane', rate=2.5e-12)\n",
    "sim.setTransitionRate(species='minE', via='cytoplasm', to='membrane', rate=2.5e-12)\n",
    "sim.setTransitionRate(species='minDatp', to='cytoplasm', via='membrane', rate=2.5e-12)\n",
    "sim.setTransitionRate(species='minDadp', to='cytoplasm', via='membrane', rate=2.5e-12)\n",
    "_ = sim.setTransitionRate(species='minE', to='cytoplasm', via='membrane', rate=2.5e-12)\n"
   ]
  },
  {
   "cell_type": "code",
   "execution_count": null,
   "metadata": {
    "ExecuteTime": {
     "end_time": "2016-06-07T20:12:48.030649",
     "start_time": "2016-06-07T20:12:48.023995"
    },
    "collapsed": false
   },
   "outputs": [],
   "source": [
    "# Populate the model with particles\n",
    "sim.addParticles(species='minDatp', region='cytoplasm', count=1758)\n",
    "sim.addParticles(species='minDadp', region='cytoplasm', count=1758)\n",
    "_ = sim.addParticles(species='minE',    region='cytoplasm', count=914)"
   ]
  },
  {
   "cell_type": "code",
   "execution_count": null,
   "metadata": {
    "ExecuteTime": {
     "end_time": "2016-06-07T20:12:48.518717",
     "start_time": "2016-06-07T20:12:48.512085"
    },
    "collapsed": true
   },
   "outputs": [],
   "source": [
    "# Set simulation Parameters\n",
    "sim.setTimestep(microsecond(200))\n",
    "sim.setWriteInterval(1.0)\n",
    "sim.setLatticeWriteInterval(1.0)\n",
    "sim.setSimulationTime(150)"
   ]
  },
  {
   "cell_type": "code",
   "execution_count": null,
   "metadata": {
    "ExecuteTime": {
     "end_time": "2016-06-07T20:12:49.286178",
     "start_time": "2016-06-07T20:12:49.247806"
    },
    "collapsed": false
   },
   "outputs": [],
   "source": [
    "# Save simulation\n",
    "filename=\"T3.1-MinSystem.lm\"\n",
    "os.remove(filename)\n",
    "sim.save(filename)"
   ]
  },
  {
   "cell_type": "code",
   "execution_count": null,
   "metadata": {
    "ExecuteTime": {
     "end_time": "2016-06-07T20:12:50.351910",
     "start_time": "2016-06-07T20:12:50.345262"
    },
    "collapsed": false
   },
   "outputs": [],
   "source": [
    "# Interrogate Simulation\n",
    "sim"
   ]
  },
  {
   "cell_type": "markdown",
   "metadata": {},
   "source": [
    "<h2> Running the Simulation </h2>\n",
    "\n",
    "Running this simulation should take about 15-20 minutes. We have prerun this simulation os that you don't haave to wait for it to complete."
   ]
  },
  {
   "cell_type": "code",
   "execution_count": null,
   "metadata": {
    "ExecuteTime": {
     "end_time": "2016-06-07T20:17:52.390895",
     "start_time": "2016-06-07T20:12:51.751845"
    },
    "collapsed": false
   },
   "outputs": [],
   "source": [
    "# Run Simulation\n",
    "#sim.run(filename, method='lm::rdme::MpdRdmeSolver', replicates=1)"
   ]
  },
  {
   "cell_type": "markdown",
   "metadata": {},
   "source": [
    "<h2> Post-Processing </h2>\n",
    "\n",
    "Here we plot the waves that arise by plotting the kymograph (a time versus position plot).  These commands take a few minutes to extract the information from the simulation output."
   ]
  },
  {
   "cell_type": "code",
   "execution_count": null,
   "metadata": {
    "ExecuteTime": {
     "start_time": "2016-06-08T01:07:29.264Z"
    },
    "collapsed": false
   },
   "outputs": [],
   "source": [
    "# Plot Kymogrpah for MinD\n",
    "plotOccupancyKymograph(filename, species='minDm')\n",
    "plt.show()"
   ]
  },
  {
   "cell_type": "markdown",
   "metadata": {},
   "source": [
    "<h2> Assignment 4 </h2>\n",
    "\n",
    "1. How long does it take for the oscillatory waves to emerge?\n",
    "\n",
    "2. Estimate the oscillation frequency from the Kymographs. Try re-running the simulation  packing the cell full of obstacles.  Do you get a different oscillation frequency?\n",
    "\n",
    "3. (Challenge) Try rerunning the simulation with a spherical cell.  To do this use the [```buildSphericalCell()```](http://www.scs.illinois.edu/schulten/lm/documentation/classpy_l_m_1_1_r_d_m_e_1_1_r_d_m_e_simulation.html#a855e223046766bcaa78d9f6f0c31c9f8) function. Also, reduce the simulation box size (try 1$\\times$1$\\times$1 $\\mu$m) to increase the time to solution.  Can you identify why stochasticity is important in the Min System?"
   ]
  }
 ],
 "metadata": {
  "kernelspec": {
   "display_name": "Python 3",
   "language": "python",
   "name": "python3"
  },
  "language_info": {
   "codemirror_mode": {
    "name": "ipython",
    "version": 3
   },
   "file_extension": ".py",
   "mimetype": "text/x-python",
   "name": "python",
   "nbconvert_exporter": "python",
   "pygments_lexer": "ipython3",
   "version": "3.4.3"
  },
  "toc": {
   "toc_cell": false,
   "toc_number_sections": true,
   "toc_threshold": 6,
   "toc_window_display": false
  }
 },
 "nbformat": 4,
 "nbformat_minor": 0
}
