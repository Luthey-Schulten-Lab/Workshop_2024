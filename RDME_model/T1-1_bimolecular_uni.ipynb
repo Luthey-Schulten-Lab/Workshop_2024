{
 "cells": [
  {
   "cell_type": "markdown",
   "id": "2d26ecb6",
   "metadata": {},
   "source": [
    "# Tutorial 1: RDME- Bimolecular Reaction\n",
    "## 1-1 Uniformly Distribution"
   ]
  },
  {
   "cell_type": "markdown",
   "id": "feec3e64",
   "metadata": {},
   "source": [
    "## 0.Environment Check\n",
    "if you didn't install the environments in docker or any container, we suggest you do it through anaconda/miniconda.\n",
    "\n",
    "basically, you need to install the dependencies\n",
    "```bash\n",
    "conda env create -f rdme_env.yml\n",
    "```\n",
    "\n",
    "Then import jLM package.\n"
   ]
  },
  {
   "cell_type": "code",
   "execution_count": null,
   "id": "3ffb6d4d",
   "metadata": {},
   "outputs": [],
   "source": [
    "import jLM                                  # Set up the Jupyter environment\n",
    "from jLM.RDME import Sim as RDMESim         # Main simulation class\n",
    "from jLM.RegionBuilder import RegionBuilder # Deal with the spatial geometry\n",
    "from lm import IntMpdRdmeSolver             # lm::rdme::IntMpdRdmeSolver\n",
    "\n",
    "import numpy as np"
   ]
  },
  {
   "cell_type": "markdown",
   "id": "d29419b8",
   "metadata": {},
   "source": [
    "# 1. Initialization\n",
    "## 1.1 RDME simulation object creation\n",
    "\n",
    "First step is to create a object that contains all the essential information to start a simulation.\n",
    "\n",
    "The class we use here is:\n",
    "\n",
    "``` python\n",
    "sim = jLM.RDME.Sim(simulation_name, \n",
    "                    filename, \n",
    "                    dimensions, \n",
    "                    latticeSpacing, \n",
    "                    regionName, \n",
    "                    dt=None)\n",
    "````\n",
    "+ simulation_name is what we call our system;\n",
    "+ filename: the name of the final output trajectory file.(hdf5 format)\n",
    "+ dimensions: the number of lattices in x,y,z dimension. in list [dimx,dimy,dimz], must be divisible by 32.\n",
    "+ latticeSpacing: the actual physical representation of the length of each subvolume cube, unit: meter.\n",
    "+ the Name of the entire sim region, default=\"external\"\n",
    "+ dt: time steps for the RDME simualtion, unit: second."
   ]
  },
  {
   "cell_type": "code",
   "execution_count": null,
   "id": "8098c0cb",
   "metadata": {},
   "outputs": [],
   "source": [
    "cellvol = 1.0e-15                # L=dm^3\n",
    "simname = \"Bimolecular_System_uni\"\n",
    "filename = \"T1-1_bimolecular_uni.lm\"\n",
    "Ldim = [64,64,64]                   # Has to be multiples of 32\n",
    "lattice_spacing = 32e-9            # in m\n",
    "regionN = \"extracellular\"\n",
    "dt = 25e-6                          # in s"
   ]
  },
  {
   "cell_type": "code",
   "execution_count": null,
   "id": "d63328eb",
   "metadata": {},
   "outputs": [],
   "source": [
    "sim = RDMESim(  simname, \n",
    "                filename, \n",
    "                Ldim, \n",
    "                lattice_spacing, \n",
    "                regionN,\n",
    "                dt)"
   ]
  },
  {
   "cell_type": "markdown",
   "id": "fa3ab5ce",
   "metadata": {},
   "source": [
    "in case you forget, or want to redefine some key parameters in the simulation we define above, you can always call methods to adjust them.\n",
    "\n",
    "for example, we can change the simulation time step by:"
   ]
  },
  {
   "cell_type": "code",
   "execution_count": null,
   "id": "0672e749",
   "metadata": {},
   "outputs": [],
   "source": [
    "sim.timestep = 50e-6            # in s"
   ]
  },
  {
   "cell_type": "markdown",
   "id": "dbf469a6",
   "metadata": {},
   "source": [
    "next we need to define the total simulation time, the time interval to write results to our trajectory for lattice and species, normally we keep them the same.\n",
    "\n",
    "Be careful, the unit for Interval is \"time steps\", and should be an integer.\n",
    "\n",
    "The actual physical time for interval would be: \n",
    "$$\n",
    "t = Interval * dt\n",
    "$$\n",
    "since we define $dt=50 \\times 10^{-6} s$, the actual write interval would be:\n",
    "\n",
    "$$\n",
    "20000 * 50 \\times 10^{-6} = 0.1s\n",
    "$$\n"
   ]
  },
  {
   "cell_type": "code",
   "execution_count": null,
   "id": "bd0ba5af",
   "metadata": {},
   "outputs": [],
   "source": [
    "sim.simulationTime=30.0     # unit is seconds\n",
    "\n",
    "sim.latticeWriteInterval= int(2000)    # unit is timesteps, dt\n",
    "sim.speciesWriteInterval= int(2000)    # unit is timesteps, dt"
   ]
  },
  {
   "cell_type": "markdown",
   "id": "82bf9c23",
   "metadata": {},
   "source": [
    "## 1.2 Spatial Geometry Initialization"
   ]
  },
  {
   "cell_type": "markdown",
   "id": "d4d1d108",
   "metadata": {},
   "source": [
    "now, we need to add more spatial compartments to our system, for simplicity, our first toy system would only have three spatial regions:\n",
    "+ extracellular\n",
    "+ cytoplasm\n",
    "+ plasm membrane\n",
    "\n",
    "\n",
    "\n",
    "we want each of them mutually excluded, and if we combine them all together, it should be the entire lattice sites we create:\n",
    "\n",
    "$$\\mathtt{lattice} = \\mathtt{extracellular} \\cup \\mathtt{membrane}\\cup \\mathtt{cytoplasm} $$\n",
    "and naturally\n",
    "$$\\emptyset= \\mathtt{membrane} \\cap \\mathtt{cytoplasm}$$\n",
    "$$\\emptyset= \\mathtt{membrane} \\cap \\mathtt{extracellular}$$\n",
    "$$\\emptyset= \\mathtt{cytoplasm} \\cap \\mathtt{extracellular}$$\n"
   ]
  },
  {
   "cell_type": "markdown",
   "id": "23f142d4",
   "metadata": {},
   "source": [
    "In order to design the site lattice geometry, we create a `RegionBuilder` object, which reads the lattice dimensions \n",
    "from our simulation object `sim`."
   ]
  },
  {
   "cell_type": "code",
   "execution_count": null,
   "id": "717303b3",
   "metadata": {},
   "outputs": [],
   "source": [
    "build = RegionBuilder(sim)"
   ]
  },
  {
   "cell_type": "markdown",
   "id": "f9c641e6",
   "metadata": {},
   "source": [
    "we create a sphere to represent the cytoplasm with radius=25, center at [32,32,32]"
   ]
  },
  {
   "cell_type": "code",
   "execution_count": null,
   "id": "6e8a18fe",
   "metadata": {
    "scrolled": true
   },
   "outputs": [],
   "source": [
    "radius = int(np.ceil((cellvol*3/4/np.pi)**(1/3)*0.1/lattice_spacing))\n",
    "print(radius)\n",
    "cytoplasm = build.ellipsoid(radius = radius, center = [32,32,32])"
   ]
  },
  {
   "cell_type": "markdown",
   "id": "78f3f633",
   "metadata": {},
   "source": [
    "Then we dilate the cytoplasm, and create a surface with the dilation method, and exclude the cytoplasm to represent our membrane"
   ]
  },
  {
   "cell_type": "code",
   "execution_count": null,
   "id": "f0017eef",
   "metadata": {},
   "outputs": [],
   "source": [
    "cytoplasm_dilation = build.dilate(cytoplasm, se = build.se26)\n",
    "membrane = cytoplasm_dilation & ~cytoplasm"
   ]
  },
  {
   "cell_type": "markdown",
   "id": "08fa229a",
   "metadata": {},
   "source": [
    "Finally, make sure our extracellular region excludes the cell."
   ]
  },
  {
   "cell_type": "code",
   "execution_count": null,
   "id": "0a86f0cd",
   "metadata": {},
   "outputs": [],
   "source": [
    "# effectively, cytoplasm_dilation = cytoplasm and  membrane\n",
    "extracellular = ~cytoplasm_dilation"
   ]
  },
  {
   "cell_type": "markdown",
   "id": "0188fe40",
   "metadata": {},
   "source": [
    "we need our simulation system to compose all the regions together."
   ]
  },
  {
   "cell_type": "code",
   "execution_count": null,
   "id": "503d2ba9",
   "metadata": {},
   "outputs": [],
   "source": [
    "cyt = sim.region('cytoplasm')\n",
    "mem = sim.region('membrane')\n",
    "ext = sim.region('extracellular')"
   ]
  },
  {
   "cell_type": "code",
   "execution_count": null,
   "id": "ffe770c0",
   "metadata": {},
   "outputs": [],
   "source": [
    "build.compose(\n",
    "    (sim.region('extracellular'), extracellular),\n",
    "    (sim.region('cytoplasm'), cytoplasm),\n",
    "    (sim.region('membrane'), membrane))"
   ]
  },
  {
   "cell_type": "markdown",
   "id": "fac78ffc",
   "metadata": {},
   "source": [
    "wonderful, now we have all the geometric infomation, we can visualize it in two different ways: stacks and 3D"
   ]
  },
  {
   "cell_type": "code",
   "execution_count": null,
   "id": "394c7c13",
   "metadata": {},
   "outputs": [],
   "source": [
    "sim.showRegionStack()"
   ]
  },
  {
   "cell_type": "code",
   "execution_count": null,
   "id": "9b6f3b96",
   "metadata": {},
   "outputs": [],
   "source": [
    "sim.displayGeometry()"
   ]
  },
  {
   "cell_type": "markdown",
   "id": "249ed400",
   "metadata": {},
   "source": [
    "## 1.2 Species and diffusion Co. Initialization"
   ]
  },
  {
   "cell_type": "markdown",
   "id": "996216f2",
   "metadata": {},
   "source": [
    "For simplicity, we only want our bimolecular reaction take place in cytoplasm and only allow each species to diffuse in cytoplasm.\n",
    "\n",
    "Our Template will be a reversible reaction as: \n",
    "\n",
    "$$ A + B \\rightleftharpoons C $$\n",
    "\n",
    "However, our software only accept one-way reaction, we need to separate it into two irreversible reactions: \n",
    "\n",
    "$$ A + B \\xrightarrow{k_f} C $$\n",
    "$$ C \\xrightarrow{k_r} A + B$$\n",
    "\n",
    "initial condition: \n",
    "\n",
    "#A = 1000\n",
    "\n",
    "#B = 1000\n",
    "\n",
    "#C = 0\n"
   ]
  },
  {
   "cell_type": "code",
   "execution_count": null,
   "id": "c4f7da66",
   "metadata": {},
   "outputs": [],
   "source": [
    "spA = sim.species('A')\n",
    "spB = sim.species('B')\n",
    "spC = sim.species('C')\n"
   ]
  },
  {
   "cell_type": "markdown",
   "id": "91782f23",
   "metadata": {},
   "source": [
    "+ function references:\n",
    "\n",
    "`sim.species((str)name, [(str,latex)textPepr, (str)annotation])`\n",
    "\n"
   ]
  },
  {
   "cell_type": "markdown",
   "id": "67366369",
   "metadata": {},
   "source": [
    "Then you can call the following function to check the relevant info about your species:"
   ]
  },
  {
   "cell_type": "code",
   "execution_count": null,
   "id": "0d68c7d5",
   "metadata": {},
   "outputs": [],
   "source": [
    "sim.showAllSpecies()"
   ]
  },
  {
   "cell_type": "code",
   "execution_count": null,
   "id": "3c24207e",
   "metadata": {},
   "outputs": [],
   "source": [
    "sim.showSpecies('A')"
   ]
  },
  {
   "cell_type": "markdown",
   "id": "f89890d6",
   "metadata": {},
   "source": [
    "Now, you may notice all Diffusion rates are undefined, so we are going to **define all the diffusion coefficients** for each species."
   ]
  },
  {
   "cell_type": "code",
   "execution_count": null,
   "id": "ee74b042",
   "metadata": {},
   "outputs": [],
   "source": [
    "sim.transitionRate(None, None, None, sim.diffusionZero) # initialization of the diffusion rates to 0"
   ]
  },
  {
   "cell_type": "markdown",
   "id": "43e15996",
   "metadata": {},
   "source": [
    "define a custom made diffusion coefficient."
   ]
  },
  {
   "cell_type": "code",
   "execution_count": null,
   "id": "df36b5a5",
   "metadata": {},
   "outputs": [],
   "source": [
    "sim.diffusionConst('diff1', 1e-14)"
   ]
  },
  {
   "cell_type": "markdown",
   "id": "587069bf",
   "metadata": {},
   "source": [
    "set diffusion rate:"
   ]
  },
  {
   "cell_type": "code",
   "execution_count": null,
   "id": "b422ab9a",
   "metadata": {},
   "outputs": [],
   "source": [
    "sim.transitionRate(sim.species('A'), sim.region('cytoplasm'), sim.region('cytoplasm'), sim.dc.diff1)\n",
    "# sim.transitionRate(spA, mem, mem, sim.dc.diff1)\n",
    "\n",
    "sim.transitionRate(spB, cyt, cyt, sim.dc.diff1)    # use defined diffusion rate\n",
    "sim.transitionRate(spC, cyt, cyt, sim.dc.diff1)\n"
   ]
  },
  {
   "cell_type": "markdown",
   "id": "3b6b3fb0",
   "metadata": {},
   "source": [
    "check the result:"
   ]
  },
  {
   "cell_type": "code",
   "execution_count": null,
   "id": "fc2150fb",
   "metadata": {},
   "outputs": [],
   "source": [
    "sim.showAllSpecies()"
   ]
  },
  {
   "cell_type": "markdown",
   "id": "ac5b04ab",
   "metadata": {},
   "source": [
    "## 1.3 Reactions Initialization "
   ]
  },
  {
   "cell_type": "code",
   "execution_count": null,
   "id": "d612ac4c",
   "metadata": {},
   "outputs": [],
   "source": [
    "\n",
    "\n",
    "NA = 6.022e23      # molecules/mole\n",
    "# kf = sim.rateConst('kf', 1.07e5/(NA*cellvol), 2)    \n",
    "kf = sim.rateConst('kf', 1.07e5, 2)  \n",
    "# rate constant for the reaction A + B -> C, second order, /M/s\n",
    "kr = sim.rateConst('kr', 0.351 , 1)   \n",
    "# rate constant for the reaction C -> A + B, first order, /s"
   ]
  },
  {
   "cell_type": "markdown",
   "id": "740ff776",
   "metadata": {},
   "source": [
    "Reactions can be added by the function: `jLM.RDME.Sim.region('region_name').addReaction`\n",
    "\n",
    "Since we already define the name of the region we want to add reactions, there will be two ways you can add reactions:"
   ]
  },
  {
   "cell_type": "code",
   "execution_count": null,
   "id": "a01e3376",
   "metadata": {},
   "outputs": [],
   "source": [
    "sim.region('cytoplasm').addReaction([spA,spB], [spC], sim.rc.kf)\n",
    "cyt.addReaction([spC], [spA,spB], kr)"
   ]
  },
  {
   "cell_type": "markdown",
   "id": "43b81c44",
   "metadata": {},
   "source": [
    "Distribute a concentration of particles uniformly through cytoplasm:"
   ]
  },
  {
   "cell_type": "code",
   "execution_count": null,
   "id": "4615b5fb",
   "metadata": {},
   "outputs": [],
   "source": [
    "sim.distributeNumber(spA, cyt, 1000)\n",
    "sim.distributeNumber(spB, cyt, 1000)\n",
    "sim.distributeNumber(spC, cyt, 0)\n",
    "# sim.sp.A.placeNumberInto(cyt, 1000)"
   ]
  },
  {
   "cell_type": "code",
   "execution_count": null,
   "id": "14b789fe",
   "metadata": {},
   "outputs": [],
   "source": [
    "sim.showAllSpecies()"
   ]
  },
  {
   "cell_type": "markdown",
   "id": "696d7824",
   "metadata": {},
   "source": [
    "# 2 Check the system state"
   ]
  },
  {
   "cell_type": "code",
   "execution_count": null,
   "id": "82822dfc",
   "metadata": {},
   "outputs": [],
   "source": [
    "sim"
   ]
  },
  {
   "cell_type": "markdown",
   "id": "8e71cf2f",
   "metadata": {},
   "source": [
    "now we confirmed it is what we want, we can now proceed to finalize the simulation we create."
   ]
  },
  {
   "cell_type": "code",
   "execution_count": null,
   "id": "b3e04c5d",
   "metadata": {},
   "outputs": [],
   "source": [
    "sim.finalize()"
   ]
  },
  {
   "cell_type": "markdown",
   "id": "d8fbdefb",
   "metadata": {},
   "source": [
    "# 3. Run the Simulation"
   ]
  },
  {
   "cell_type": "code",
   "execution_count": null,
   "id": "00d01f34",
   "metadata": {},
   "outputs": [],
   "source": [
    "sim.run(solver=IntMpdRdmeSolver(), cudaDevices=[0])"
   ]
  },
  {
   "cell_type": "markdown",
   "id": "89712156",
   "metadata": {},
   "source": [
    "# 4. Analysis"
   ]
  },
  {
   "cell_type": "markdown",
   "id": "7f5669eb",
   "metadata": {},
   "source": [
    "The trajectory will be saved as h5 format, we need the python package `h5py` to access it, or you can download the [`HDFView`](https://www.hdfgroup.org/downloads/) to see it in a GUI."
   ]
  },
  {
   "cell_type": "code",
   "execution_count": null,
   "id": "9c89a5e1",
   "metadata": {},
   "outputs": [],
   "source": [
    "import matplotlib.pyplot as plt\n",
    "import h5py\n",
    "import seaborn as sns\n",
    "from jLM.RDME import File as RDMEFile"
   ]
  },
  {
   "cell_type": "code",
   "execution_count": null,
   "id": "db8fa8a3",
   "metadata": {},
   "outputs": [],
   "source": [
    "# traj_file = h5py.File('T1_bimolecular.lm ', 'r')\n",
    "traj = RDMEFile(filename)\n",
    "ts, As = traj.getNumberTrajectory(species=\"A\")\n",
    "ts, Bs = traj.getNumberTrajectory(species=\"B\")\n",
    "ts, Cs = traj.getNumberTrajectory(species=\"C\")"
   ]
  },
  {
   "cell_type": "code",
   "execution_count": null,
   "id": "f1c4238d",
   "metadata": {},
   "outputs": [],
   "source": [
    "# now visuzlize the trajectories with seaborn and plt\n",
    "sns.set(style=\"whitegrid\")  \n",
    "# Create a color palette\n",
    "palette = sns.color_palette()  \n",
    "plt.figure(figsize=(10,6))\n",
    "plt.plot(ts, As, label='A',marker='o', linestyle='-',color=palette[0])\n",
    "plt.plot(ts, Bs, label='B',marker='x', linestyle='--',color=palette[1])\n",
    "plt.plot(ts, Cs, label='C',color=palette[2])\n",
    "\n",
    "plt.title('Trajectories of Biomolecular System uniform distribution')\n",
    "plt.xlabel('Time (s)')\n",
    "plt.ylabel('Counts')\n",
    "plt.legend()\n",
    "plt.savefig('T1-1_bimolecular_uni.png')\n",
    "plt.show()"
   ]
  }
 ],
 "metadata": {
  "kernelspec": {
   "display_name": "Python 3",
   "language": "python",
   "name": "python3"
  },
  "language_info": {
   "codemirror_mode": {
    "name": "ipython",
    "version": 3
   },
   "file_extension": ".py",
   "mimetype": "text/x-python",
   "name": "python",
   "nbconvert_exporter": "python",
   "pygments_lexer": "ipython3",
   "version": "3.8.8"
  }
 },
 "nbformat": 4,
 "nbformat_minor": 5
}
