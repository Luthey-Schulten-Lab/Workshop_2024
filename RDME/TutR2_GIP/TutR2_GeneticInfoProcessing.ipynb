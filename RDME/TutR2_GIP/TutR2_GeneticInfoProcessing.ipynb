{
 "cells": [
  {
   "cell_type": "markdown",
   "id": "c5eb9db0",
   "metadata": {},
   "source": [
    "# TutR2_Genetic Information Process Model\n",
    "\n",
    "Here we create a simple model includes the simple genetic information processing(GIP):"
   ]
  },
  {
   "cell_type": "code",
   "execution_count": null,
   "id": "dd76483f",
   "metadata": {},
   "outputs": [],
   "source": [
    "import jLM\n",
    "from jLM.RegionBuilder import RegionBuilder\n",
    "from jLM.RDME import Sim as RDMESim\n",
    "from jLM.RDME import File as RDMEFile\n",
    "\n",
    "import lm\n",
    "from lm import IntMpdRdmeSolver\n",
    "\n",
    "\n",
    "import numpy as np"
   ]
  },
  {
   "cell_type": "markdown",
   "id": "5fac57e0",
   "metadata": {},
   "source": [
    "# 1. Create the RDME simulation Object"
   ]
  },
  {
   "cell_type": "code",
   "execution_count": null,
   "id": "c509e220",
   "metadata": {},
   "outputs": [],
   "source": [
    "totalTime = 60            # total simulation time, in seconds\n",
    "timeStep = 50e-6            # time step, in seconds\n",
    "writeInterval = 20000        # the times steps write the info into trajectories, units of timeStep, 20000 * 50e-6 = 1s"
   ]
  },
  {
   "cell_type": "code",
   "execution_count": null,
   "id": "0d25d62f",
   "metadata": {},
   "outputs": [],
   "source": [
    "from pyLM import LMLogger\n",
    "LMLogger.setLMLogConsole()\n",
    "#(logging.DEBUG)"
   ]
  },
  {
   "cell_type": "code",
   "execution_count": null,
   "id": "5b6581a9",
   "metadata": {},
   "outputs": [],
   "source": [
    "lattice_spacing = 8e-9 #m\n",
    "N_edges = [64, 64, 64]\n",
    "sim_center = [int(N_edges[0]/2),int(N_edges[1]/2),int(N_edges[2]/2)]\n",
    "N_2_x=int(N_edges[0]/2)\n",
    "N_2_y=int(N_edges[1]/2)\n",
    "N_2_z=int(N_edges[2]/2)\n",
    "\n",
    "filename = 'TutR2.GIP_result.lm'"
   ]
  },
  {
   "cell_type": "code",
   "execution_count": null,
   "id": "07100a16",
   "metadata": {},
   "outputs": [],
   "source": [
    "sim = RDMESim(\"T2_GIP\",\n",
    "                  filename,\n",
    "                  N_edges,\n",
    "                  lattice_spacing,\n",
    "                  \"extracellular\")\n",
    "\n",
    "sim.timestep = timeStep\n",
    "sim.simulationTime=totalTime\n",
    "sim.latticeWriteInterval=writeInterval\n",
    "sim.speciesWriteInterval=writeInterval\n",
    "\n",
    "sim.transitionRate(None, None, None, sim.diffusionZero)"
   ]
  },
  {
   "cell_type": "markdown",
   "id": "0f8ddcc1",
   "metadata": {},
   "source": [
    "# 2. Build up the Minimal Cell Spatial Geometry"
   ]
  },
  {
   "cell_type": "markdown",
   "id": "a178d250",
   "metadata": {},
   "source": [
    "We use the [minimal bacteria cell JCVI-syn3A](https://pubmed.ncbi.nlm.nih.gov/35063075/) as the spatial cell geometry for our genetic information process system."
   ]
  },
  {
   "cell_type": "code",
   "execution_count": null,
   "id": "29b3e20a",
   "metadata": {},
   "outputs": [],
   "source": [
    "radius_nm = 2.00e-7 #m minimal cell radius\n",
    "cyto_radius = radius_nm/sim.latticeSpacing  #converted to lattice sites, # of lattice sites from the center to the edge of the cell"
   ]
  },
  {
   "cell_type": "code",
   "execution_count": null,
   "id": "efe4f25a",
   "metadata": {},
   "outputs": [],
   "source": [
    "build = RegionBuilder(sim)\n",
    "\n",
    "# create a sphere region as the cytoplasm\n",
    "cytoplasm = build.ellipsoid(radius = cyto_radius, center = sim_center)\n",
    "# create a spherical surface  as the shell region of the cell\n",
    "cyto_dilation = build.dilate(cytoplasm, se = build.se26)\n",
    "shell = cyto_dilation & ~cytoplasm\n",
    "\n",
    "# create a spherical surface as the membrane \n",
    "cyto_dilation = build.dilate(cyto_dilation, se = build.se26)\n",
    "membrane = cyto_dilation & ~shell & ~cytoplasm"
   ]
  },
  {
   "cell_type": "markdown",
   "id": "1c567b00",
   "metadata": {},
   "source": [
    "randomly place 500 ribosomes in cytoplasm:"
   ]
  },
  {
   "cell_type": "code",
   "execution_count": null,
   "id": "848065b5",
   "metadata": {},
   "outputs": [],
   "source": [
    "import T2_loading as loader\n",
    "\n",
    "ribosomes = loader.getRibosomeSites(cytoplasm, N_edges)"
   ]
  },
  {
   "cell_type": "markdown",
   "id": "380e313c",
   "metadata": {},
   "source": [
    "Load the geometry of DNA from file"
   ]
  },
  {
   "cell_type": "code",
   "execution_count": null,
   "id": "c7499bfe",
   "metadata": {},
   "outputs": [],
   "source": [
    "\n",
    "# Load the DNA file generated from b-Tree Chromo\n",
    "DNAfile = './supporting_data/x_chain_syn3a_rep00001.bin'# DNA bin file\n",
    "\n",
    "DNAsites, DNA_pos = loader.getDNAsites(DNAfile, N_edges,lattice_spacing, N_2_x, N_2_y, N_2_z)\n",
    "\n",
    "# define cyto plasm and extra cellular region\n",
    "cytoplasm = cytoplasm & ~DNAsites\n",
    "extracellular = ~membrane & ~cytoplasm & ~ribosomes & ~DNAsites\n"
   ]
  },
  {
   "cell_type": "code",
   "execution_count": null,
   "id": "5658f16b",
   "metadata": {},
   "outputs": [],
   "source": [
    "build.compose(\n",
    "    (sim.region('extracellular'), extracellular),\n",
    "    (sim.region('cytoplasm'), cytoplasm),\n",
    "    (sim.region('DNA'),DNAsites),\n",
    "    (sim.region('ribosomes'), ribosomes),\n",
    "    (sim.region('shell'), shell),\n",
    "    (sim.region('membrane'), membrane))"
   ]
  },
  {
   "cell_type": "code",
   "execution_count": null,
   "id": "732e5b2c",
   "metadata": {},
   "outputs": [],
   "source": [
    "ext=sim.region('extracellular')\n",
    "cyt=sim.region('cytoplasm')\n",
    "dna=sim.region('DNA')\n",
    "ribo=sim.region('ribosomes')\n",
    "she=sim.region('shell')\n",
    "mem=sim.region('membrane')"
   ]
  },
  {
   "cell_type": "code",
   "execution_count": null,
   "id": "963b312e",
   "metadata": {},
   "outputs": [],
   "source": [
    "sim.displayGeometry()"
   ]
  },
  {
   "cell_type": "markdown",
   "id": "74a0e989",
   "metadata": {},
   "source": [
    "# 3. Define all species"
   ]
  },
  {
   "cell_type": "code",
   "execution_count": null,
   "id": "5ae085db",
   "metadata": {},
   "outputs": [],
   "source": [
    "with sim.construct():\n",
    "    sim.species(\"gene\", texRepr=\"gene\", annotation=\"gene in gene info process\")\n",
    "    sim.species(\"mRNA\", textRepr=\"mRNA\", annotation=\"mRNA in gene info process\")\n",
    "    sim.species(\"mRNAr\", textRepr=\"mRNA_{read}\", annotation=\"mRNA after the translation\")\n",
    "    sim.species(\"P\", texRepr=\"Protein\", annotation=\"Protein in gene info process\")"
   ]
  },
  {
   "cell_type": "code",
   "execution_count": null,
   "id": "93f5d7dc",
   "metadata": {},
   "outputs": [],
   "source": [
    "sp = sim.sp   # species object access\n",
    "reg = sim.reg # region object access\n",
    "rc = sim.rc   # rate constant object access\n",
    "dc = sim.dc   # diffusion constant object access"
   ]
  },
  {
   "cell_type": "code",
   "execution_count": null,
   "id": "96efd49b",
   "metadata": {},
   "outputs": [],
   "source": [
    "sim.transitionRate(None, None, None, sim.diffusionZero)"
   ]
  },
  {
   "cell_type": "markdown",
   "id": "2ad24ba6",
   "metadata": {},
   "source": [
    "# 4. Define reactions and diffusions"
   ]
  },
  {
   "cell_type": "markdown",
   "id": "54d134c4",
   "metadata": {},
   "source": [
    "After the mRNA transcribed from the gene represented as a particle in the Gene start site in the 3 dimensional lattice; we only allow mRNA to diffuse out of the `DNA` region to `cytoplasm` and we don't allow the particle to diffuse within the `DNA` region.\n",
    "\n",
    "We also need to allow the mRNA to diffuse into the ribosome and out-of ribosome for the translation. Here, to prevent the mRNA getting trapped inside the `ribosomes`, and constantly translating, we form a new particle called $mRNA_{read}$.\n",
    "\n",
    "$mRNA_{read}$ can be instantly convert back to $m_{RNA}$ out side `ribosomes`."
   ]
  },
  {
   "cell_type": "code",
   "execution_count": null,
   "id": "a465db0f",
   "metadata": {},
   "outputs": [],
   "source": [
    "with sim.construct():\n",
    "    sim.rateConst(\"trans\", 0.019, order=1, annotation=\"transcription rate\")\n",
    "    sim.rateConst(\"transl\", 0.0029, order=1, annotation=\"translation rate\")\n",
    "    sim.rateConst(\"degrad_m\", 0.0023, order=1, annotation=\"mRNA degradation rate\")\n",
    "    sim.rateConst(\"degrad_p\", 7.7e-6, order=1, annotation=\"Protein degradation rate\")\n",
    "    sim.rateConst(\"conversion\", 1000000, order= 1, annotation=\"Conversion rate from mRNA read state to ready state\")\n",
    "    # define all necessary reactions\n",
    "    # transcription\n",
    "    sim.reaction([sp.gene], [sp.gene, sp.mRNA], rc.trans, regions=[reg.DNA], annotation=\"transcription\")\n",
    "    # mRNA degradation\n",
    "    sim.reaction([sp.mRNA], [], rc.degrad_m, regions=[reg.shell], annotation=\"mRNA degradation\")\n",
    "    sim.reaction([sp.mRNAr],[], rc.degrad_m, regions=[reg.shell], annotation=\"mRNA read degradation\")\n",
    "    # translation\n",
    "    sim.reaction([sp.mRNA], [sp.mRNAr, sp.P], rc.transl, regions=[reg.ribosomes], annotation=\"translation\")\n",
    "    # protein degradation\n",
    "    sim.reaction([sp.P], [], rc.degrad_p, regions=[reg.shell], annotation=\"Protein degradation\")\n",
    "    \n",
    "    # conversion from mRNA read state to ready state\n",
    "    sim.reaction([sp.mRNAr], [sp.mRNA], rc.conversion, regions=[reg.shell, reg.cytoplasm], annotation=\"Conversion from mRNA read state to ready state\")"
   ]
  },
  {
   "cell_type": "markdown",
   "id": "d0052259",
   "metadata": {},
   "source": [
    "now we need all the diffusion coefficients defined:"
   ]
  },
  {
   "cell_type": "code",
   "execution_count": null,
   "id": "2da39cf5",
   "metadata": {},
   "outputs": [],
   "source": [
    "with sim.construct():\n",
    "    sim.transitionRate(None, None, None, sim.diffusionZero)"
   ]
  },
  {
   "cell_type": "code",
   "execution_count": null,
   "id": "4e032544",
   "metadata": {},
   "outputs": [],
   "source": [
    "with sim.construct():\n",
    "    sim.diffusionConst('mrna',4.13e-14, texRepr=r'D_{mRNA}', annotation=\"mRNA diffusion constant for JCVISYN3A_0001\")\n",
    "    sim.diffusionConst('protein', 0.1e-12, texRepr=r'Protein', annotation=\"protein diffusion co.\")\n",
    "    # diffusion for mrna \n",
    "    sim.transitionRate(sp.mRNA, reg.DNA, reg.cytoplasm, dc.mrna)\n",
    "    sim.transitionRate(sp.mRNA, reg.cytoplasm, reg.ribosomes, dc.mrna)\n",
    "    sim.transitionRate(sp.mRNA, reg.cytoplasm, reg.cytoplasm, dc.mrna)\n",
    "    sim.transitionRate(sp.mRNA, reg.ribosomes, reg.ribosomes, dc.mrna)\n",
    "    # diffusion for mrna_read, it is the read state after the mrna translation,\n",
    "    # mrna_read formed in ribsomes, and conversion happen in cytoplasm and shell\n",
    "    # so we must allow it to diffuse in cytoplasm and shell\n",
    "    sim.transitionRate(sp.mRNAr, reg.ribosomes, reg.ribosomes, dc.mrna)\n",
    "    sim.transitionRate(sp.mRNAr, reg.ribosomes, reg.cytoplasm, dc.mrna)\n",
    "    sim.transitionRate(sp.mRNAr, reg.ribosomes, reg.shell, dc.mrna)\n",
    "    sim.transitionRate(sp.mRNAr, reg.cytoplasm, reg.cytoplasm, dc.mrna)\n",
    "    sim.transitionRate(sp.mRNAr, reg.cytoplasm, reg.shell, dc.mrna)\n",
    "    sim.transitionRate(sp.mRNAr, reg.shell, reg.shell, dc.mrna)\n",
    "    sim.transitionRate(sp.mRNAr, reg.shell, reg.cytoplasm, dc.mrna)\n",
    "    \n",
    "    # diffusion for protein\n",
    "    sim.transitionRate(sp.P, reg.ribosomes, reg.ribosomes, dc.protein)\n",
    "    sim.transitionRate(sp.P, reg.ribosomes, reg.cytoplasm, dc.protein)\n",
    "    sim.transitionRate(sp.P, reg.ribosomes, reg.shell, dc.protein)\n",
    "    sim.transitionRate(sp.P, reg.cytoplasm, reg.cytoplasm, dc.protein)\n",
    "    sim.transitionRate(sp.P, reg.cytoplasm, reg.shell, dc.protein)\n",
    "    sim.transitionRate(sp.P, reg.shell, reg.shell, dc.protein)\n",
    "    sim.transitionRate(sp.P, reg.shell, reg.cytoplasm, dc.protein)"
   ]
  },
  {
   "cell_type": "markdown",
   "id": "4d1ed255",
   "metadata": {},
   "source": [
    "# 5. Initial counts"
   ]
  },
  {
   "cell_type": "markdown",
   "id": "d2823574",
   "metadata": {},
   "source": [
    "We need one DNA particle in the starting site to represent gene. Since our gene is JCVISYN3A_0001, we put the gene particle in the first lattice cube of DNA_region.\n",
    "\n",
    "Other species inital counts all set to be 0:\n",
    "\n",
    "#gene = 1\n",
    "\n",
    "#mRNA = 1\n",
    "\n",
    "#mRNA_read = 0\n",
    "\n",
    "#Protein = 0"
   ]
  },
  {
   "cell_type": "code",
   "execution_count": null,
   "id": "7c958d0c",
   "metadata": {},
   "outputs": [],
   "source": [
    "gene_pos = DNA_pos[0]\n",
    "sim.placeNumber(sp=sp.gene,x=gene_pos[0], y=gene_pos[1], z=gene_pos[2], n=1)\n",
    "\n",
    "# then we randomly put one mRNA in the cytoplasm\n",
    "sim.distributeNumber(sp=sp.mRNA, reg=reg.cytoplasm, count=1)"
   ]
  },
  {
   "cell_type": "code",
   "execution_count": null,
   "id": "42cb887a",
   "metadata": {},
   "outputs": [],
   "source": [
    "sim.showAllSpecies()"
   ]
  },
  {
   "cell_type": "code",
   "execution_count": null,
   "id": "7e162f11",
   "metadata": {
    "scrolled": true
   },
   "outputs": [],
   "source": [
    "sim"
   ]
  },
  {
   "cell_type": "code",
   "execution_count": null,
   "id": "594307e7",
   "metadata": {},
   "outputs": [],
   "source": [
    "sim.finalize()"
   ]
  },
  {
   "cell_type": "markdown",
   "id": "daf28b2c",
   "metadata": {},
   "source": [
    "# 6. Run the simulation"
   ]
  },
  {
   "cell_type": "code",
   "execution_count": null,
   "id": "3cfedd3a",
   "metadata": {
    "scrolled": true
   },
   "outputs": [],
   "source": [
    "sim.run(solver=IntMpdRdmeSolver(), cudaDevices=[0])"
   ]
  },
  {
   "cell_type": "markdown",
   "id": "67f53c9f",
   "metadata": {},
   "source": [
    "# 7. Analysis"
   ]
  },
  {
   "cell_type": "code",
   "execution_count": null,
   "id": "d7e0e8c5",
   "metadata": {},
   "outputs": [],
   "source": [
    "import matplotlib.pyplot as plt\n",
    "import seaborn as sns\n",
    "from jLM.RDME import File as RDMEFile"
   ]
  },
  {
   "cell_type": "code",
   "execution_count": null,
   "id": "c0545f8b",
   "metadata": {},
   "outputs": [],
   "source": [
    "traj = RDMEFile(filename,replicate=1)\n",
    "ts, genes = traj.getNumberTrajectory(species=\"gene\")\n",
    "ts, mRNAs = traj.getNumberTrajectory(species=\"mRNA\")\n",
    "ts, mRNArs = traj.getNumberTrajectory(species=\"mRNAr\")\n",
    "ts, proteins = traj.getNumberTrajectory(species=\"P\")"
   ]
  },
  {
   "cell_type": "code",
   "execution_count": null,
   "id": "dc26929c",
   "metadata": {},
   "outputs": [],
   "source": [
    "# now visuzlize the trajectories with seaborn and plt\n",
    "sns.set(style=\"whitegrid\")  \n",
    "# Create a color palette\n",
    "\n",
    "colors = sns.color_palette(\"husl\", 3)\n",
    "plt.figure(figsize=(10,6))\n",
    "plt.plot(ts, genes, label='gene',color=palette[0])\n",
    "plt.plot(ts, mRNAs + mRNArs, label='mRNA',color=palette[1])\n",
    "plt.plot(ts, proteins, label='protein',color=palette[2])\n",
    "\n",
    "plt.title('Trajectories of Genetic information process')\n",
    "plt.yticks(np.arange(0, 2.1, step=1))\n",
    "plt.xlabel('Time (s)')\n",
    "plt.ylabel('Counts')\n",
    "plt.legend()\n",
    "plt.savefig('./TutR2_GIP.png')\n",
    "plt.show()"
   ]
  }
 ],
 "metadata": {
  "kernelspec": {
   "display_name": "Python 3",
   "language": "python",
   "name": "python3"
  },
  "language_info": {
   "codemirror_mode": {
    "name": "ipython",
    "version": 3
   },
   "file_extension": ".py",
   "mimetype": "text/x-python",
   "name": "python",
   "nbconvert_exporter": "python",
   "pygments_lexer": "ipython3",
   "version": "3.7.3"
  }
 },
 "nbformat": 4,
 "nbformat_minor": 5
}
