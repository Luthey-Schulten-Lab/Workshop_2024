{
 "cells": [
  {
   "cell_type": "markdown",
   "metadata": {},
   "source": [
    "<h1> Tutorial 1.1 - ODE Solution of a Bimolecular Reaction </h1>\n",
    "\n",
    "We start off by examining a simple bimolecular reaction system considering the traditional continuous, deterministic solution to the ODE."
   ]
  },
  {
   "cell_type": "code",
   "execution_count": null,
   "metadata": {
    "ExecuteTime": {
     "end_time": "2016-06-21T14:24:03.834992",
     "start_time": "2016-06-21T14:24:03.531735"
    },
    "collapsed": true
   },
   "outputs": [],
   "source": [
    "# Import Standard Python Libraries\n",
    "import numpy as np\n",
    "import scipy.integrate as spi\n",
    "import matplotlib.pyplot as plt\n",
    "%matplotlib inline"
   ]
  },
  {
   "cell_type": "code",
   "execution_count": null,
   "metadata": {
    "ExecuteTime": {
     "end_time": "2016-06-21T14:24:04.026057",
     "start_time": "2016-06-21T14:24:04.022843"
    },
    "collapsed": true
   },
   "outputs": [],
   "source": [
    "# Constants\n",
    "V  = 1.0e-15    # L\n",
    "NA = 6.022e23   # molecules/mole\n",
    "tstart =  0.0   # s\n",
    "tend   = 30.0   # s"
   ]
  },
  {
   "cell_type": "code",
   "execution_count": null,
   "metadata": {
    "ExecuteTime": {
     "end_time": "2016-06-21T14:24:04.576183",
     "start_time": "2016-06-21T14:24:04.573110"
    },
    "code_folding": [],
    "collapsed": false
   },
   "outputs": [],
   "source": [
    "# Rates in terms of molecules and seconds\n",
    "kf=1.07e5/(NA*V) # /molecule/s\n",
    "kr=0.351         # /s"
   ]
  },
  {
   "cell_type": "code",
   "execution_count": null,
   "metadata": {
    "ExecuteTime": {
     "end_time": "2016-06-21T14:24:05.030792",
     "start_time": "2016-06-21T14:24:05.025681"
    },
    "collapsed": true
   },
   "outputs": [],
   "source": [
    "# Initial Species Counts\n",
    "A  = 10000\n",
    "B  = 1000\n",
    "C  = 0\n",
    "S0 = [A, B, C]"
   ]
  },
  {
   "cell_type": "markdown",
   "metadata": {},
   "source": [
    "<h2> Reaction System </h2>\n",
    "<h3> Reaction Form </h3>\n",
    "<br/>\n",
    "$A + B \\xrightarrow{k_f} C$\n",
    "<br/>\n",
    "$C \\xrightarrow{k_r} A + B $\n",
    "<h3> Rate Form </h3>\n",
    "<br/>\n",
    "$\\frac{dA}{dt} = \\frac{dB}{dt} = -\\frac{dC}{dt} = -k_f\\cdot  A\\cdot B + k_r\\cdot  C$"
   ]
  },
  {
   "cell_type": "code",
   "execution_count": null,
   "metadata": {
    "ExecuteTime": {
     "end_time": "2016-06-21T14:24:05.749673",
     "start_time": "2016-06-21T14:24:05.743874"
    },
    "collapsed": true
   },
   "outputs": [],
   "source": [
    "# Definition of ODEs\n",
    "def ds_dt(s, t):\n",
    "    Ai = s[0]\n",
    "    Bi = s[1]\n",
    "    Ci = s[2]\n",
    "    # Rate equations\n",
    "    dA_dt = -kf*Ai*Bi + kr*Ci\n",
    "    dB_dt = -kf*Ai*Bi + kr*Ci\n",
    "    dC_dt =  kf*Ai*Bi - kr*Ci\n",
    "    return [dA_dt, dB_dt, dC_dt]"
   ]
  },
  {
   "cell_type": "markdown",
   "metadata": {},
   "source": [
    "<h2> Solve using SciPy ODE Integrator </h2>\n",
    "<br/>\n",
    "See the [Scipy Documentation](http://docs.scipy.org/doc/scipy-0.17.0/reference/generated/scipy.integrate.ode.html)"
   ]
  },
  {
   "cell_type": "code",
   "execution_count": null,
   "metadata": {
    "ExecuteTime": {
     "end_time": "2016-06-21T14:24:06.519538",
     "start_time": "2016-06-21T14:24:06.437748"
    },
    "collapsed": true
   },
   "outputs": [],
   "source": [
    "# Solve\n",
    "t    = np.linspace(tstart, tend, 1000000)\n",
    "soln = spi.odeint(ds_dt, S0, t)"
   ]
  },
  {
   "cell_type": "markdown",
   "metadata": {},
   "source": [
    "<h2> Plot using Matplotlib </h2>\n",
    "<br/>\n",
    "See the [Matplotlib Documentation](http://matplotlib.org/api/pyplot_api.html#matplotlib.pyplot.plot)"
   ]
  },
  {
   "cell_type": "code",
   "execution_count": null,
   "metadata": {
    "ExecuteTime": {
     "end_time": "2016-06-21T14:24:07.824907",
     "start_time": "2016-06-21T14:24:07.283185"
    },
    "collapsed": false
   },
   "outputs": [],
   "source": [
    "# Plot\n",
    "plt.figure()\n",
    "plt.plot(t, soln[:,0], label=\"A/B\")\n",
    "plt.plot(t, soln[:,2], label=\"C\")\n",
    "plt.xlabel('Time (s)')\n",
    "plt.ylabel('Molecule Count')\n",
    "plt.legend()\n",
    "plt.show()\n"
   ]
  },
  {
   "cell_type": "code",
   "execution_count": null,
   "metadata": {
    "collapsed": true
   },
   "outputs": [],
   "source": []
  }
 ],
 "metadata": {
  "kernelspec": {
   "display_name": "Python 3",
   "language": "python",
   "name": "python3"
  },
  "language_info": {
   "codemirror_mode": {
    "name": "ipython",
    "version": 3
   },
   "file_extension": ".py",
   "mimetype": "text/x-python",
   "name": "python",
   "nbconvert_exporter": "python",
   "pygments_lexer": "ipython3",
   "version": "3.4.3"
  },
  "toc": {
   "toc_cell": false,
   "toc_number_sections": true,
   "toc_threshold": 6,
   "toc_window_display": false
  }
 },
 "nbformat": 4,
 "nbformat_minor": 0
}
