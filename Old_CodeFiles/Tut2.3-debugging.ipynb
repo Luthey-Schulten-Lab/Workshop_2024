{
 "cells": [
  {
   "cell_type": "markdown",
   "metadata": {},
   "source": [
    "<h1> Tutorial 2.3 - Debugging pyLM Simulations </h1>\n",
    "\n",
    "In this tutorial you will use how to use the pyLM Logger output to find errors in your pyLM scripts. Try to find the errors in this script and fix them."
   ]
  },
  {
   "cell_type": "code",
   "execution_count": 12,
   "metadata": {
    "ExecuteTime": {
     "end_time": "2016-06-03T16:31:43.847367",
     "start_time": "2016-06-03T16:31:43.828637"
    },
    "collapsed": false
   },
   "outputs": [],
   "source": [
    "import os\n",
    "import numpy as np\n",
    "import matplotlib.pyplot as plt\n",
    "from pyLM import *\n",
    "from pyLM.units import *\n",
    "from pySTDLM import *\n",
    "from pySTDLM.PostProcessing import *\n",
    "%matplotlib inline"
   ]
  },
  {
   "cell_type": "code",
   "execution_count": 13,
   "metadata": {
    "ExecuteTime": {
     "end_time": "2016-06-03T16:31:44.016687",
     "start_time": "2016-06-03T16:31:44.011685"
    },
    "collapsed": true
   },
   "outputs": [],
   "source": [
    "# Turn on logger\n",
    "from pyLM import LMLogger\n",
    "LMLogger.setLMLogConsole(logging.INFO)"
   ]
  },
  {
   "cell_type": "code",
   "execution_count": 14,
   "metadata": {
    "ExecuteTime": {
     "end_time": "2016-06-03T16:31:44.187802",
     "start_time": "2016-06-03T16:31:44.181903"
    },
    "collapsed": true
   },
   "outputs": [],
   "source": [
    "# Constants\n",
    "V  = 1.0e-15       # L\n",
    "NA = 6.022e23      # molecules/mole\n",
    "kf = 1.07e5/(NA*V) # /M/s\n",
    "kr = 0.351         # /s"
   ]
  },
  {
   "cell_type": "code",
   "execution_count": 15,
   "metadata": {
    "ExecuteTime": {
     "end_time": "2016-06-03T16:31:44.368403",
     "start_time": "2016-06-03T16:31:44.364199"
    },
    "collapsed": true
   },
   "outputs": [],
   "source": [
    "# Create our CME simulation object\n",
    "sim=CME.CMESimulation()"
   ]
  },
  {
   "cell_type": "code",
   "execution_count": 16,
   "metadata": {
    "ExecuteTime": {
     "end_time": "2016-06-03T16:31:44.623060",
     "start_time": "2016-06-03T16:31:44.618882"
    },
    "collapsed": true
   },
   "outputs": [],
   "source": [
    "# define our chemical species\n",
    "species = ['A', 'B', 'C']\n",
    "sim.defineSpecies(species)"
   ]
  },
  {
   "cell_type": "code",
   "execution_count": 17,
   "metadata": {
    "ExecuteTime": {
     "end_time": "2016-06-03T16:31:45.013035",
     "start_time": "2016-06-03T16:31:45.009904"
    },
    "collapsed": true
   },
   "outputs": [],
   "source": [
    "# Add reactions to the simulation\n",
    "sim.addReaction(reactant=('a','B'), product='C', rate=kf)\n",
    "sim.addReaction(reactant='C', product=('A','B'), rate=kr)"
   ]
  },
  {
   "cell_type": "code",
   "execution_count": 18,
   "metadata": {
    "ExecuteTime": {
     "end_time": "2016-06-03T16:31:45.391261",
     "start_time": "2016-06-03T16:31:45.383061"
    },
    "collapsed": false
   },
   "outputs": [],
   "source": [
    "# Set our initial species counts\n",
    "sim.addParticles(species='a', count=1000)\n",
    "sim.addParticles(species='B', count=1000)\n",
    "sim.addParticles(species='C', count=0)"
   ]
  },
  {
   "cell_type": "code",
   "execution_count": 19,
   "metadata": {
    "ExecuteTime": {
     "end_time": "2016-06-03T16:31:45.975887",
     "start_time": "2016-06-03T16:31:45.957697"
    },
    "collapsed": false
   },
   "outputs": [],
   "source": [
    "# Define simulation parameters: run for 10 seconds, saving data every ms\n",
    "sim.setWriteInterval(microsecond(30))\n",
    "sim.setSimulationTime(30)\n",
    "filename = \"T2.3-bimol.lm\"\n",
    "os.system(\"rm -rf %s\"%filename)\n",
    "sim.save(filename)"
   ]
  },
  {
   "cell_type": "code",
   "execution_count": 20,
   "metadata": {
    "ExecuteTime": {
     "end_time": "2016-06-03T16:31:48.345416",
     "start_time": "2016-06-03T16:31:47.899158"
    },
    "collapsed": true
   },
   "outputs": [],
   "source": [
    "# Run 1 replicates using the Gillespie solver\n",
    "sim.run(filename=filename, method=\"lm::cme::GillespieDSolver\", replicates=1)"
   ]
  },
  {
   "cell_type": "code",
   "execution_count": null,
   "metadata": {
    "ExecuteTime": {
     "end_time": "2016-05-31T18:02:30.020521",
     "start_time": "2016-05-31T18:02:28.854449"
    },
    "collapsed": false
   },
   "outputs": [],
   "source": [
    "# Plot the solution\n",
    "filehandle = openLMFile(filename)\n",
    "plotTrace(filehandle, species=['A','C'], replicate=1)\n",
    "closeLMFile(filehandle)"
   ]
  },
  {
   "cell_type": "code",
   "execution_count": null,
   "metadata": {
    "collapsed": true
   },
   "outputs": [],
   "source": []
  }
 ],
 "metadata": {
  "kernelspec": {
   "display_name": "Python 3",
   "language": "python",
   "name": "python3"
  },
  "language_info": {
   "codemirror_mode": {
    "name": "ipython",
    "version": 3
   },
   "file_extension": ".py",
   "mimetype": "text/x-python",
   "name": "python",
   "nbconvert_exporter": "python",
   "pygments_lexer": "ipython3",
   "version": "3.4.3"
  },
  "toc": {
   "toc_cell": false,
   "toc_number_sections": true,
   "toc_threshold": 6,
   "toc_window_display": false
  }
 },
 "nbformat": 4,
 "nbformat_minor": 0
}
