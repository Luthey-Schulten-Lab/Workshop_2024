{
 "cells": [
  {
   "cell_type": "markdown",
   "metadata": {},
   "source": [
    "<h1> Tutorial 2.2 - The *lac* System with Spatial Resolution </h1>\n",
    "\n",
    "This is like tutorial 2.1, except we investigate the system with spatial resolution. <br/>\n",
    "\n",
    "The model presented here can be found in the article: [Noise Contributions in an Inducible Genetic Switch: A Whole-Cell Simulation Study](http://journals.plos.org/ploscompbiol/article?id=10.1371/journal.pcbi.1002010)."
   ]
  },
  {
   "cell_type": "code",
   "execution_count": null,
   "metadata": {
    "ExecuteTime": {
     "end_time": "2016-06-01T14:03:07.909871",
     "start_time": "2016-06-01T14:03:07.559895"
    },
    "collapsed": true
   },
   "outputs": [],
   "source": [
    "import os\n",
    "from pyLM import *\n",
    "from pyLM.units import *\n",
    "from pySTDLM import *\n",
    "from pySTDLM.PostProcessing import *\n",
    "from pySTDLM.StandardReactionSystems import *\n",
    "from pySTDLM.StandardCells import *\n",
    "%matplotlib inline"
   ]
  },
  {
   "cell_type": "markdown",
   "metadata": {},
   "source": [
    "<h2> Defining a Spatial Simulation </h2>\n",
    "\n",
    "Lattice Microbes spatial simulations sample the reaction diffusion master equation (RDME) by discretizing a phyiscal space into a rectangular grid of \"lattice sites\" and then stochastically simulating diffusion events between lattice sites and reactions within lattice sites.<br/>\n",
    "\n",
    "Each lattice site can be defined as a different type of \"region\".  For instance, lattice sites may be membrane, or cytoplasm, or nucleus or extracellular space.  Each lattice site is described by only one type. Reactions are defined to take place in different regions and particles can diffuse among similar and among different lattice sites with different diffusion constants. particles can also be excluded from diffusing into or between certain site types. <br/>\n",
    "\n",
    "When defining a spatial simulation, we need to define the extents of the simulation box and the lattice spacing. Here we set up a box that will hold a 1.8 $\\mu$m long *E. coli* cell.  The box is divided into lattice sites that are 32 nm per side for a total lattice size of 32$\\times$32$\\times$64. <br/>\n",
    "\n",
    "Documentaiton for the RDMESimulation can be found [here](http://www.scs.illinois.edu/schulten/lm/documentation/namespacepy_l_m_1_1_r_d_m_e.html)."
   ]
  },
  {
   "cell_type": "code",
   "execution_count": null,
   "metadata": {
    "ExecuteTime": {
     "end_time": "2016-06-01T14:03:08.089852",
     "start_time": "2016-06-01T14:03:07.935011"
    },
    "collapsed": true
   },
   "outputs": [],
   "source": [
    "# Create our simulation object\n",
    "latticeSpacing=nm(32)\n",
    "sim=RDME.RDMESimulation(dimensions=micron(1.024,1.024,2.048), spacing=latticeSpacing, name=\"Lac Genetic Switch\")"
   ]
  },
  {
   "cell_type": "markdown",
   "metadata": {},
   "source": [
    "We next build a standard representation of an *E. coli* cell using the build in function [```buildCapsidCell()```](http://www.scs.illinois.edu/schulten/lm/documentation/classpy_l_m_1_1_r_d_m_e_1_1_r_d_m_e_simulation.html#a07a10a44bacbb0f781115425c0124d59). This builds a cell that is pill shaped; it is a cylinder with spheres on the ends. The cell is constructed to be 1.8 $\\mu$m long (from tip to tip) and 500 nm wide. We define a membrane thickness that is roughly 2 lattice sites wide (so that no holes exist).  <br/>\n",
    "\n",
    "This function sets up a 3D model of a cell with 3 compartments: Extracellular (named \"default\"), membrane (named \"membrane\")."
   ]
  },
  {
   "cell_type": "code",
   "execution_count": null,
   "metadata": {
    "ExecuteTime": {
     "end_time": "2016-06-01T14:03:08.295362",
     "start_time": "2016-06-01T14:03:08.292706"
    },
    "collapsed": false
   },
   "outputs": [],
   "source": [
    "# Set up cell geometry\n",
    "_ = sim.buildCapsidCell(length=micron(1.8), diameter=micron(0.5), membraneThickness=nm(64))"
   ]
  },
  {
   "cell_type": "markdown",
   "metadata": {},
   "source": [
    "The same reactions from the previous tutorial are used, but this time we use a pySTDLM function to define them."
   ]
  },
  {
   "cell_type": "code",
   "execution_count": null,
   "metadata": {
    "ExecuteTime": {
     "end_time": "2016-06-01T14:03:20.185990",
     "start_time": "2016-06-01T14:03:20.183619"
    },
    "collapsed": false
   },
   "outputs": [],
   "source": [
    "# Add the reactants and reactions\n",
    "_ = addLacTwoStateSystem(sim)"
   ]
  },
  {
   "cell_type": "code",
   "execution_count": null,
   "metadata": {
    "ExecuteTime": {
     "end_time": "2016-06-01T14:03:21.589024",
     "start_time": "2016-06-01T14:03:21.586422"
    },
    "collapsed": true
   },
   "outputs": [],
   "source": [
    "# Get handles to the different regions\n",
    "mem='membrane'\n",
    "cyt='cytoplasm'\n",
    "ext='default'"
   ]
  },
  {
   "cell_type": "code",
   "execution_count": null,
   "metadata": {
    "ExecuteTime": {
     "end_time": "2016-06-01T14:03:37.645515",
     "start_time": "2016-06-01T14:03:22.345247"
    },
    "collapsed": true
   },
   "outputs": [],
   "source": [
    "# Crowd the cytoplasm\n",
    "_ = packFastGrowingEcoli(sim)"
   ]
  },
  {
   "cell_type": "code",
   "execution_count": null,
   "metadata": {
    "ExecuteTime": {
     "end_time": "2016-06-01T14:03:37.651795",
     "start_time": "2016-06-01T14:03:37.647338"
    },
    "collapsed": false
   },
   "outputs": [],
   "source": [
    "# Populate the model with particles\n",
    "sim.addParticles(species='R2', region=cyt,  count=9)\n",
    "sim.addParticles('O',   cyt, 1)\n",
    "sim.addParticles('Y',   mem, 30)\n",
    "sim.addParticles('I',   cyt, 7224*2)\n",
    "_ = sim.addParticles('Iex', ext, 7224*2)"
   ]
  },
  {
   "cell_type": "markdown",
   "metadata": {},
   "source": [
    "In addition to saving the species counts, Lattice Microbes also saves the lattice. Generally, you will want to save the lattice less frequently, as it will take significantly more disk space.  However, make sure that the lattice write interval is divisible by the normal write interval. "
   ]
  },
  {
   "cell_type": "code",
   "execution_count": null,
   "metadata": {
    "ExecuteTime": {
     "end_time": "2016-06-01T14:03:37.656127",
     "start_time": "2016-06-01T14:03:37.653213"
    },
    "collapsed": true
   },
   "outputs": [],
   "source": [
    "# Set up the times\n",
    "sim.setTimestep(microsecond(50))\n",
    "sim.setWriteInterval(1)\n",
    "sim.setLatticeWriteInterval(1)\n",
    "sim.setSimulationTime(7200)"
   ]
  },
  {
   "cell_type": "markdown",
   "metadata": {},
   "source": [
    "We have provided you with prerun simulations, so don't actually save the file. These simulations generally take about 24 hours to run."
   ]
  },
  {
   "cell_type": "code",
   "execution_count": null,
   "metadata": {
    "ExecuteTime": {
     "end_time": "2016-06-01T14:03:37.792206",
     "start_time": "2016-06-01T14:03:37.657449"
    },
    "collapsed": false
   },
   "outputs": [],
   "source": [
    "# Save the simulation state to a file\n",
    "#filename='T2.2-lac2state_16uM.lm'\n",
    "#sim.save(filename)"
   ]
  },
  {
   "cell_type": "code",
   "execution_count": null,
   "metadata": {
    "ExecuteTime": {
     "end_time": "2016-06-01T14:03:37.799352",
     "start_time": "2016-06-01T14:03:37.793670"
    },
    "collapsed": false
   },
   "outputs": [],
   "source": [
    "# Interrogate simulation\n",
    "sim"
   ]
  },
  {
   "cell_type": "code",
   "execution_count": null,
   "metadata": {
    "ExecuteTime": {
     "end_time": "2016-05-31T17:57:58.208187",
     "start_time": "2016-05-31T22:57:45.102Z"
    },
    "collapsed": true
   },
   "outputs": [],
   "source": [
    "# Run the simulation for 10 hours\n",
    "reps=8"
   ]
  },
  {
   "cell_type": "markdown",
   "metadata": {},
   "source": [
    "<h2> Analyzing the RDME Simulation </h2>\n",
    "\n",
    "Because RDME simulations run about real time, it will take too long to actually run the simulations in the workshop. We have therefore provided pre-run simulation output for 4 different concentrations. Try examing the difference between them using the following post-processing commands."
   ]
  },
  {
   "cell_type": "code",
   "execution_count": null,
   "metadata": {
    "ExecuteTime": {
     "start_time": "2016-05-31T19:09:55.198Z"
    },
    "collapsed": true
   },
   "outputs": [],
   "source": [
    "# Post-processing\n",
    "filename = \"T2.2-lac2state_0uM.lm\"\n",
    "# filename = \"T2.2-lac2state_8uM.lm\"\n",
    "# filename = \"T2.2-lac2state_16uM.lm\"\n",
    "# filename = \"T2.2-lac2state_24uM.lm\"\n",
    "\n",
    "\n",
    "filehandle = openLMFile(filename)\n",
    "for i in range(1,reps+1):\n",
    "    print \"plotting\"\n",
    "    plotTrace(filehandle, ['mY','Y'], i)\n",
    "    plt.show()\n",
    "closeLMFile(filehandle)"
   ]
  },
  {
   "cell_type": "markdown",
   "metadata": {},
   "source": [
    "<h2> Assignment 3 </h2>\n",
    "\n",
    "1. Compute the average time the operator is repressed at the different concentrations. (Hint: consider the bound (R2O, IR2O, I2R2O) and unbound (O) operators).\n",
    "\n",
    "2. What effect do you think packing has on the solution?\n",
    "\n",
    "3. (Challenge) Can you compute the average burst frequency per cell cycle?  Can you compute the average burst size  You can read about transcriptional bursting [here](https://en.wikipedia.org/wiki/Transcriptional_bursting).\n",
    " "
   ]
  }
 ],
 "metadata": {
  "kernelspec": {
   "display_name": "Python 3",
   "language": "python",
   "name": "python3"
  },
  "language_info": {
   "codemirror_mode": {
    "name": "ipython",
    "version": 3
   },
   "file_extension": ".py",
   "mimetype": "text/x-python",
   "name": "python",
   "nbconvert_exporter": "python",
   "pygments_lexer": "ipython3",
   "version": "3.4.3"
  },
  "toc": {
   "toc_cell": false,
   "toc_number_sections": true,
   "toc_threshold": 6,
   "toc_window_display": false
  }
 },
 "nbformat": 4,
 "nbformat_minor": 0
}
