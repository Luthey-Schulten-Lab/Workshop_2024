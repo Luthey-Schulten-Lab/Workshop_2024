{
 "cells": [
  {
   "cell_type": "markdown",
   "metadata": {},
   "source": [
    "<h1> Tutorial 2.2 - The *lac* System with Spatial Resolution </h1>\n",
    "\n",
    "This is like tutorial 2.1, except we investigate the system with spatial resolution. <br/>\n",
    "\n",
    "The model presented here can be found in the article: [Noise Contributions in an Inducible Genetic Switch: A Whole-Cell Simulation Study](http://journals.plos.org/ploscompbiol/article?id=10.1371/journal.pcbi.1002010)."
   ]
  },
  {
   "cell_type": "code",
   "execution_count": 1,
   "metadata": {
    "ExecuteTime": {
     "end_time": "2016-06-01T14:03:07.909871",
     "start_time": "2016-06-01T14:03:07.559895"
    },
    "collapsed": true
   },
   "outputs": [],
   "source": [
    "import os\n",
    "from pyLM import *\n",
    "from pyLM.units import *\n",
    "from pySTDLM import *\n",
    "from pySTDLM.PostProcessing import *\n",
    "from pySTDLM.StandardReactionSystems import *\n",
    "from pySTDLM.StandardCells import *\n",
    "%matplotlib inline"
   ]
  },
  {
   "cell_type": "markdown",
   "metadata": {},
   "source": [
    "<h2> Defining a Spatial Simulation </h2>\n",
    "\n",
    "Lattice Microbes spatial simulations sample the reaction diffusion master equation (RDME) by discretizing a phyiscal space into a rectangular grid of \"lattice sites\" and then stochastically simulating diffusion events between lattice sites and reactions within lattice sites.<br/>\n",
    "\n",
    "Each lattice site can be defined as a different type of \"region\".  For instance, lattice sites may be membrane, or cytoplasm, or nucleus or extracellular space.  Each lattice site is described by only one type. Reactions are defined to take place in different regions and particles can diffuse among similar and among different lattice sites with different diffusion constants. particles can also be excluded from diffusing into or between certain site types. <br/>\n",
    "\n",
    "When defining a spatial simulation, we need to define the extents of the simulation box and the lattice spacing. Here we set up a box that will hold a 1.8 $\\mu$m long *E. coli* cell.  The box is divided into lattice sites that are 32 nm per side for a total lattice size of 32$\\times$32$\\times$64. <br/>\n",
    "\n",
    "Documentaiton for the RDMESimulation can be found [here](http://www.scs.illinois.edu/schulten/lm/documentation/namespacepy_l_m_1_1_r_d_m_e.html)."
   ]
  },
  {
   "cell_type": "code",
   "execution_count": 2,
   "metadata": {
    "ExecuteTime": {
     "end_time": "2016-06-01T14:03:08.089852",
     "start_time": "2016-06-01T14:03:07.935011"
    },
    "collapsed": true
   },
   "outputs": [],
   "source": [
    "# Create our simulation object\n",
    "latticeSpacing=nm(32)\n",
    "sim=RDME.RDMESimulation(dimensions=micron(1.024,1.024,2.048), spacing=latticeSpacing, name=\"Lac Genetic Switch\")"
   ]
  },
  {
   "cell_type": "markdown",
   "metadata": {},
   "source": [
    "We next build a standard representation of an *E. coli* cell using the build in function [```buildCapsidCell()```](http://www.scs.illinois.edu/schulten/lm/documentation/classpy_l_m_1_1_r_d_m_e_1_1_r_d_m_e_simulation.html#a07a10a44bacbb0f781115425c0124d59). This builds a cell that is pill shaped; it is a cylinder with spheres on the ends. The cell is constructed to be 1.8 $\\mu$m long (from tip to tip) and 500 nm wide. We define a membrane thickness that is roughly 2 lattice sites wide (so that no holes exist).  <br/>\n",
    "\n",
    "This function sets up a 3D model of a cell with 3 compartments: Extracellular (named \"default\"), membrane (named \"membrane\")."
   ]
  },
  {
   "cell_type": "code",
   "execution_count": 3,
   "metadata": {
    "ExecuteTime": {
     "end_time": "2016-06-01T14:03:08.295362",
     "start_time": "2016-06-01T14:03:08.292706"
    },
    "collapsed": false
   },
   "outputs": [],
   "source": [
    "# Set up cell geometry\n",
    "_ = sim.buildCapsidCell(length=micron(1.8), diameter=micron(0.5), membraneThickness=nm(64))"
   ]
  },
  {
   "cell_type": "markdown",
   "metadata": {},
   "source": [
    "The same reactions from the previous tutorial are used, but this time we use a pySTDLM function to define them."
   ]
  },
  {
   "cell_type": "code",
   "execution_count": 4,
   "metadata": {
    "ExecuteTime": {
     "end_time": "2016-06-01T14:03:20.185990",
     "start_time": "2016-06-01T14:03:20.183619"
    },
    "collapsed": false
   },
   "outputs": [],
   "source": [
    "# Add the reactants and reactions\n",
    "_ = addLacTwoStateSystem(sim)"
   ]
  },
  {
   "cell_type": "code",
   "execution_count": 5,
   "metadata": {
    "ExecuteTime": {
     "end_time": "2016-06-01T14:03:21.589024",
     "start_time": "2016-06-01T14:03:21.586422"
    },
    "collapsed": true
   },
   "outputs": [],
   "source": [
    "# Get handles to the different regions\n",
    "mem='membrane'\n",
    "cyt='cytoplasm'\n",
    "ext='default'"
   ]
  },
  {
   "cell_type": "code",
   "execution_count": 6,
   "metadata": {
    "ExecuteTime": {
     "end_time": "2016-06-01T14:03:37.645515",
     "start_time": "2016-06-01T14:03:22.345247"
    },
    "collapsed": true
   },
   "outputs": [],
   "source": [
    "# Crowd the cytoplasm\n",
    "_ = packFastGrowingEcoli(sim)"
   ]
  },
  {
   "cell_type": "code",
   "execution_count": 7,
   "metadata": {
    "ExecuteTime": {
     "end_time": "2016-06-01T14:03:37.651795",
     "start_time": "2016-06-01T14:03:37.647338"
    },
    "collapsed": false
   },
   "outputs": [],
   "source": [
    "# Populate the model with particles\n",
    "sim.addParticles(species='R2', region=cyt,  count=9)\n",
    "sim.addParticles('O',   cyt, 1)\n",
    "sim.addParticles('Y',   mem, 30)\n",
    "sim.addParticles('I',   cyt, 7224*2)\n",
    "_ = sim.addParticles('Iex', ext, 7224*2)"
   ]
  },
  {
   "cell_type": "markdown",
   "metadata": {},
   "source": [
    "In addition to saving the species counts, Lattice Microbes also saves the lattice. Generally, you will want to save the lattice less frequently, as it will take significantly more disk space.  However, make sure that the lattice write interval is divisible by the normal write interval. "
   ]
  },
  {
   "cell_type": "code",
   "execution_count": 8,
   "metadata": {
    "ExecuteTime": {
     "end_time": "2016-06-01T14:03:37.656127",
     "start_time": "2016-06-01T14:03:37.653213"
    },
    "collapsed": true
   },
   "outputs": [],
   "source": [
    "# Set up the times\n",
    "sim.setTimestep(microsecond(50))\n",
    "sim.setWriteInterval(1)\n",
    "sim.setLatticeWriteInterval(1)\n",
    "sim.setSimulationTime(7200)"
   ]
  },
  {
   "cell_type": "markdown",
   "metadata": {},
   "source": [
    "We have provided you with prerun simulations, so don't actually save the file. These simulations generally take about 24 hours to run."
   ]
  },
  {
   "cell_type": "code",
   "execution_count": 9,
   "metadata": {
    "ExecuteTime": {
     "end_time": "2016-06-01T14:03:37.792206",
     "start_time": "2016-06-01T14:03:37.657449"
    },
    "collapsed": false
   },
   "outputs": [],
   "source": [
    "# Save the simulation state to a file\n",
    "#filename='T2.2-lac2state_16uM.lm'\n",
    "#sim.save(filename)"
   ]
  },
  {
   "cell_type": "code",
   "execution_count": 10,
   "metadata": {
    "ExecuteTime": {
     "end_time": "2016-06-01T14:03:37.799352",
     "start_time": "2016-06-01T14:03:37.793670"
    },
    "collapsed": false
   },
   "outputs": [
    {
     "data": {
      "text/html": [
       "<h1> RDME Simulation: Lac Genetic Switch</h1><h2> Simulation Parameters </h2>Lattice Spacing: 0.000000<br/>Dimensions: (0.000001,0.000001,0.000002)<br/>timestep: 4.9999999999999996e-05<br/>writeInterval: 1<br/>latticeWriteInterval: 1<br/>maxTime: 7200<br/><h2> Regions </h2>default<br/>cytoplasm<br/>membrane<br/><h2> Species </h2><table><tr><td style=\"text-align:left\"><b>Specie</b></td><td style=\"text-align:center\"><b>Particle ID</b></td><td style=\"text-align:center\"><b>Initial Count</b></td></tr><tr><td style=\"text-align:left\">R2</td><td style=\"text-align:center\">1</td><td style=\"text-align:center\">9</td></tr><tr><td style=\"text-align:left\">O</td><td style=\"text-align:center\">2</td><td style=\"text-align:center\">1</td></tr><tr><td style=\"text-align:left\">R2O</td><td style=\"text-align:center\">3</td><td style=\"text-align:center\">0</td></tr><tr><td style=\"text-align:left\">IR2</td><td style=\"text-align:center\">4</td><td style=\"text-align:center\">0</td></tr><tr><td style=\"text-align:left\">IR2O</td><td style=\"text-align:center\">5</td><td style=\"text-align:center\">0</td></tr><tr><td style=\"text-align:left\">I2R2</td><td style=\"text-align:center\">6</td><td style=\"text-align:center\">0</td></tr><tr><td style=\"text-align:left\">I2R2O</td><td style=\"text-align:center\">7</td><td style=\"text-align:center\">0</td></tr><tr><td style=\"text-align:left\">mY</td><td style=\"text-align:center\">8</td><td style=\"text-align:center\">0</td></tr><tr><td style=\"text-align:left\">Y</td><td style=\"text-align:center\">9</td><td style=\"text-align:center\">30</td></tr><tr><td style=\"text-align:left\">I</td><td style=\"text-align:center\">10</td><td style=\"text-align:center\">14448</td></tr><tr><td style=\"text-align:left\">Iex</td><td style=\"text-align:center\">11</td><td style=\"text-align:center\">14448</td></tr><tr><td style=\"text-align:left\">YI</td><td style=\"text-align:center\">12</td><td style=\"text-align:center\">0</td></tr></table><h2> Reaction Model </h2><table><tr><td style=\"text-align:left\"><b>Reaction</b></td><td style=\"text-align:center\"><b>Region</b></td><td style=\"text-align:center\"><b>Rate</b></td><td style=\"text-align:center\"><b>Units</b></td></tr><tr><td style=\"text-align:left\">R2 + O ⟶ R2O</td><td style=\"text-align:center\">cytoplasm</td><td style=\"text-align:center\">0.005044679999999999</td><td style=\"text-align:center\">molecule⁻¹sec⁻¹</td></tr><tr><td style=\"text-align:left\">IR2 + O ⟶ IR2O</td><td style=\"text-align:center\">cytoplasm</td><td style=\"text-align:center\">0.0025119599999999997</td><td style=\"text-align:center\">molecule⁻¹sec⁻¹</td></tr><tr><td style=\"text-align:left\">I2R2 + O ⟶ I2R2O</td><td style=\"text-align:center\">cytoplasm</td><td style=\"text-align:center\">5.04468e-05</td><td style=\"text-align:center\">molecule⁻¹sec⁻¹</td></tr><tr><td style=\"text-align:left\">R2O ⟶ R2 + O</td><td style=\"text-align:center\">cytoplasm</td><td style=\"text-align:center\">0.00063</td><td style=\"text-align:center\">s⁻¹</td></tr><tr><td style=\"text-align:left\">IR2O ⟶ IR2 + O</td><td style=\"text-align:center\">cytoplasm</td><td style=\"text-align:center\">0.00063</td><td style=\"text-align:center\">s⁻¹</td></tr><tr><td style=\"text-align:left\">I2R2O ⟶ I2R2 + O</td><td style=\"text-align:center\">cytoplasm</td><td style=\"text-align:center\">0.315</td><td style=\"text-align:center\">s⁻¹</td></tr><tr><td style=\"text-align:left\">O ⟶ O + mY</td><td style=\"text-align:center\">cytoplasm</td><td style=\"text-align:center\">0.126</td><td style=\"text-align:center\">s⁻¹</td></tr><tr><td style=\"text-align:left\">mY ⟶ ∅</td><td style=\"text-align:center\">cytoplasm</td><td style=\"text-align:center\">0.0111</td><td style=\"text-align:center\">s⁻¹</td></tr><tr><td style=\"text-align:left\">I + R2 ⟶ IR2</td><td style=\"text-align:center\">cytoplasm</td><td style=\"text-align:center\">4.7125199999999994e-05</td><td style=\"text-align:center\">molecule⁻¹sec⁻¹</td></tr><tr><td style=\"text-align:left\">I + IR2 ⟶ I2R2</td><td style=\"text-align:center\">cytoplasm</td><td style=\"text-align:center\">2.3666399999999998e-05</td><td style=\"text-align:center\">molecule⁻¹sec⁻¹</td></tr><tr><td style=\"text-align:left\">I + R2O ⟶ IR2O</td><td style=\"text-align:center\">cytoplasm</td><td style=\"text-align:center\">1.3846919999999998e-06</td><td style=\"text-align:center\">molecule⁻¹sec⁻¹</td></tr><tr><td style=\"text-align:left\">I + IR2O ⟶ I2R2O</td><td style=\"text-align:center\">cytoplasm</td><td style=\"text-align:center\">6.91308e-07</td><td style=\"text-align:center\">molecule⁻¹sec⁻¹</td></tr><tr><td style=\"text-align:left\">IR2 ⟶ I + R2</td><td style=\"text-align:center\">cytoplasm</td><td style=\"text-align:center\">0.2</td><td style=\"text-align:center\">s⁻¹</td></tr><tr><td style=\"text-align:left\">I2R2 ⟶ I + IR2</td><td style=\"text-align:center\">cytoplasm</td><td style=\"text-align:center\">0.4</td><td style=\"text-align:center\">s⁻¹</td></tr><tr><td style=\"text-align:left\">IR2O ⟶ I + R2O</td><td style=\"text-align:center\">cytoplasm</td><td style=\"text-align:center\">1.0</td><td style=\"text-align:center\">s⁻¹</td></tr><tr><td style=\"text-align:left\">I2R2O ⟶ I + IR2O</td><td style=\"text-align:center\">cytoplasm</td><td style=\"text-align:center\">2.0</td><td style=\"text-align:center\">s⁻¹</td></tr><tr><td style=\"text-align:left\">mY ⟶ mY + Y</td><td style=\"text-align:center\">membrane</td><td style=\"text-align:center\">0.0444</td><td style=\"text-align:center\">s⁻¹</td></tr><tr><td style=\"text-align:left\">mY ⟶ ∅</td><td style=\"text-align:center\">membrane</td><td style=\"text-align:center\">0.0111</td><td style=\"text-align:center\">s⁻¹</td></tr><tr><td style=\"text-align:left\">Y ⟶ ∅</td><td style=\"text-align:center\">membrane</td><td style=\"text-align:center\">0.00021</td><td style=\"text-align:center\">s⁻¹</td></tr><tr><td style=\"text-align:left\">Iex ⟶ I</td><td style=\"text-align:center\">membrane</td><td style=\"text-align:center\">0.00233</td><td style=\"text-align:center\">s⁻¹</td></tr><tr><td style=\"text-align:left\">I ⟶ Iex</td><td style=\"text-align:center\">membrane</td><td style=\"text-align:center\">0.00233</td><td style=\"text-align:center\">s⁻¹</td></tr><tr><td style=\"text-align:left\">Y + Iex ⟶ YI</td><td style=\"text-align:center\">membrane</td><td style=\"text-align:center\">6.290279999999999e-05</td><td style=\"text-align:center\">molecule⁻¹sec⁻¹</td></tr><tr><td style=\"text-align:left\">YI ⟶ Y + Iex</td><td style=\"text-align:center\">membrane</td><td style=\"text-align:center\">0.12</td><td style=\"text-align:center\">s⁻¹</td></tr><tr><td style=\"text-align:left\">YI ⟶ Y + I</td><td style=\"text-align:center\">membrane</td><td style=\"text-align:center\">12.0</td><td style=\"text-align:center\">s⁻¹</td></tr></table><h2> Diffusion Model </h2><h3> Default Rates </h3><table><tr><td style=\"text-align:left\"><b>Region</b></td><td style=\"text-align:center\"><b>Diffusion Rate</b></td></tr><tr><td style=\"text-align:left\">default</td><td style=\"text-align:center\">0.0</td></tr><tr><td style=\"text-align:left\">cytoplasm</td><td style=\"text-align:center\">0.0</td></tr><tr><td style=\"text-align:left\">membrane</td><td style=\"text-align:center\">0.0</td></tr></table><h3> Species Rates </h3><table><tr><td style=\"text-align:left\"><b>Region</b></td><td style=\"text-align:center\"><b>Species</b></td><td style=\"text-align:center\"><b>Diffusion Rate</b></td></tr><tr><td style=\"text-align:left\">default</td><td style=\"text-align:center\">Iex</td><td style=\"text-align:center\">1.28e-12</td></tr><tr><td style=\"text-align:left\">cytoplasm</td><td style=\"text-align:center\">I</td><td style=\"text-align:center\">1.28e-12</td></tr><tr><td style=\"text-align:left\">cytoplasm</td><td style=\"text-align:center\">Iex</td><td style=\"text-align:center\">1.28e-12</td></tr><tr><td style=\"text-align:left\">cytoplasm</td><td style=\"text-align:center\">R2</td><td style=\"text-align:center\">1e-12</td></tr><tr><td style=\"text-align:left\">cytoplasm</td><td style=\"text-align:center\">mY</td><td style=\"text-align:center\">1e-13</td></tr><tr><td style=\"text-align:left\">membrane</td><td style=\"text-align:center\">I</td><td style=\"text-align:center\">1.28e-12</td></tr><tr><td style=\"text-align:left\">membrane</td><td style=\"text-align:center\">mY</td><td style=\"text-align:center\">1e-13</td></tr></table><h3> Transition Rates </h3><table><tr><td style=\"text-align:left\"><b>Specie</b></td><td style=\"text-align:center\"><b>From Region</b></td><td style=\"text-align:center\"><b>To Region</b></td><td style=\"text-align:center\"><b>Diffusion Rate</b></td></tr><tr><td style=\"text-align:left\">I</td><td style=\"text-align:center\">cytoplasm</td><td style=\"text-align:center\">membrane</td><td style=\"text-align:center\">1.28e-12</td></tr><tr><td style=\"text-align:left\">I</td><td style=\"text-align:center\">membrane</td><td style=\"text-align:center\">cytoplasm</td><td style=\"text-align:center\">1.28e-12</td></tr><tr><td style=\"text-align:left\">Iex</td><td style=\"text-align:center\">membrane</td><td style=\"text-align:center\">default</td><td style=\"text-align:center\">1.28e-12</td></tr><tr><td style=\"text-align:left\">Iex</td><td style=\"text-align:center\">default</td><td style=\"text-align:center\">membrane</td><td style=\"text-align:center\">1.28e-12</td></tr><tr><td style=\"text-align:left\">mY</td><td style=\"text-align:center\">cytoplasm</td><td style=\"text-align:center\">membrane</td><td style=\"text-align:center\">1e-13</td></tr><tr><td style=\"text-align:left\">mY</td><td style=\"text-align:center\">membrane</td><td style=\"text-align:center\">cytoplasm</td><td style=\"text-align:center\">1e-13</td></tr></table><table>"
      ],
      "text/plain": [
       "<pyLM.RDME.RDMESimulation at 0x7fd44f186d30>"
      ]
     },
     "execution_count": 10,
     "metadata": {},
     "output_type": "execute_result"
    }
   ],
   "source": [
    "# Interrogate simulation\n",
    "sim"
   ]
  },
  {
   "cell_type": "code",
   "execution_count": 11,
   "metadata": {
    "ExecuteTime": {
     "end_time": "2016-05-31T17:57:58.208187",
     "start_time": "2016-05-31T22:57:45.102Z"
    },
    "collapsed": true
   },
   "outputs": [],
   "source": [
    "# Run the simulation for 10 hours\n",
    "reps=8"
   ]
  },
  {
   "cell_type": "markdown",
   "metadata": {},
   "source": [
    "<h2> Analyzing the RDME Simulation </h2>\n",
    "\n",
    "Because RDME simulations run about real time, it will take too long to actually run the simulations in the workshop. We have therefore provided pre-run simulation output for 4 different concentrations. Try examing the difference between them using the following post-processing commands."
   ]
  },
  {
   "cell_type": "code",
   "execution_count": 13,
   "metadata": {
    "ExecuteTime": {
     "start_time": "2016-05-31T19:09:55.198Z"
    },
    "collapsed": true
   },
   "outputs": [
    {
     "ename": "OSError",
     "evalue": "Unable to open file (unable to open file: name = 'T2.2-lac2state_0uM.lm', errno = 2, error message = 'No such file or directory', flags = 0, o_flags = 0)",
     "output_type": "error",
     "traceback": [
      "\u001b[0;31m---------------------------------------------------------------------------\u001b[0m",
      "\u001b[0;31mOSError\u001b[0m                                   Traceback (most recent call last)",
      "\u001b[0;32m/tmp/ipykernel_426457/3734519929.py\u001b[0m in \u001b[0;36m<module>\u001b[0;34m\u001b[0m\n\u001b[1;32m      6\u001b[0m \u001b[0;34m\u001b[0m\u001b[0m\n\u001b[1;32m      7\u001b[0m \u001b[0;34m\u001b[0m\u001b[0m\n\u001b[0;32m----> 8\u001b[0;31m \u001b[0mfilehandle\u001b[0m \u001b[0;34m=\u001b[0m \u001b[0mopenLMFile\u001b[0m\u001b[0;34m(\u001b[0m\u001b[0mfilename\u001b[0m\u001b[0;34m)\u001b[0m\u001b[0;34m\u001b[0m\u001b[0;34m\u001b[0m\u001b[0m\n\u001b[0m\u001b[1;32m      9\u001b[0m \u001b[0;32mfor\u001b[0m \u001b[0mi\u001b[0m \u001b[0;32min\u001b[0m \u001b[0mrange\u001b[0m\u001b[0;34m(\u001b[0m\u001b[0;36m1\u001b[0m\u001b[0;34m,\u001b[0m\u001b[0mreps\u001b[0m\u001b[0;34m+\u001b[0m\u001b[0;36m1\u001b[0m\u001b[0;34m)\u001b[0m\u001b[0;34m:\u001b[0m\u001b[0;34m\u001b[0m\u001b[0;34m\u001b[0m\u001b[0m\n\u001b[1;32m     10\u001b[0m     \u001b[0mprint\u001b[0m \u001b[0;34m(\u001b[0m\u001b[0;34m\"plotting\"\u001b[0m\u001b[0;34m)\u001b[0m\u001b[0;34m\u001b[0m\u001b[0;34m\u001b[0m\u001b[0m\n",
      "\u001b[0;32m~/miniconda3/envs/testlm/lib/python3.7/site-packages/pyLM-2.4.0-py3.7.egg/pySTDLM/PostProcessing.py\u001b[0m in \u001b[0;36mopenLMFile\u001b[0;34m(filename)\u001b[0m\n\u001b[1;32m     61\u001b[0m         \u001b[0ma\u001b[0m \u001b[0mhandle\u001b[0m \u001b[0mto\u001b[0m \u001b[0mthe\u001b[0m \u001b[0mfile\u001b[0m\u001b[0;34m\u001b[0m\u001b[0;34m\u001b[0m\u001b[0m\n\u001b[1;32m     62\u001b[0m     \"\"\"\n\u001b[0;32m---> 63\u001b[0;31m         \u001b[0mf\u001b[0m\u001b[0;34m=\u001b[0m\u001b[0mh5py\u001b[0m\u001b[0;34m.\u001b[0m\u001b[0mFile\u001b[0m\u001b[0;34m(\u001b[0m\u001b[0mfilename\u001b[0m\u001b[0;34m,\u001b[0m\u001b[0;34m'r'\u001b[0m\u001b[0;34m)\u001b[0m\u001b[0;34m\u001b[0m\u001b[0;34m\u001b[0m\u001b[0m\n\u001b[0m\u001b[1;32m     64\u001b[0m         \u001b[0;32mreturn\u001b[0m \u001b[0mf\u001b[0m\u001b[0;34m\u001b[0m\u001b[0;34m\u001b[0m\u001b[0m\n\u001b[1;32m     65\u001b[0m \u001b[0;34m\u001b[0m\u001b[0m\n",
      "\u001b[0;32m~/miniconda3/envs/testlm/lib/python3.7/site-packages/h5py/_hl/files.py\u001b[0m in \u001b[0;36m__init__\u001b[0;34m(self, name, mode, driver, libver, userblock_size, swmr, rdcc_nslots, rdcc_nbytes, rdcc_w0, track_order, **kwds)\u001b[0m\n\u001b[1;32m    406\u001b[0m                 fid = make_fid(name, mode, userblock_size,\n\u001b[1;32m    407\u001b[0m                                \u001b[0mfapl\u001b[0m\u001b[0;34m,\u001b[0m \u001b[0mfcpl\u001b[0m\u001b[0;34m=\u001b[0m\u001b[0mmake_fcpl\u001b[0m\u001b[0;34m(\u001b[0m\u001b[0mtrack_order\u001b[0m\u001b[0;34m=\u001b[0m\u001b[0mtrack_order\u001b[0m\u001b[0;34m)\u001b[0m\u001b[0;34m,\u001b[0m\u001b[0;34m\u001b[0m\u001b[0;34m\u001b[0m\u001b[0m\n\u001b[0;32m--> 408\u001b[0;31m                                swmr=swmr)\n\u001b[0m\u001b[1;32m    409\u001b[0m \u001b[0;34m\u001b[0m\u001b[0m\n\u001b[1;32m    410\u001b[0m             \u001b[0;32mif\u001b[0m \u001b[0misinstance\u001b[0m\u001b[0;34m(\u001b[0m\u001b[0mlibver\u001b[0m\u001b[0;34m,\u001b[0m \u001b[0mtuple\u001b[0m\u001b[0;34m)\u001b[0m\u001b[0;34m:\u001b[0m\u001b[0;34m\u001b[0m\u001b[0;34m\u001b[0m\u001b[0m\n",
      "\u001b[0;32m~/miniconda3/envs/testlm/lib/python3.7/site-packages/h5py/_hl/files.py\u001b[0m in \u001b[0;36mmake_fid\u001b[0;34m(name, mode, userblock_size, fapl, fcpl, swmr)\u001b[0m\n\u001b[1;32m    171\u001b[0m         \u001b[0;32mif\u001b[0m \u001b[0mswmr\u001b[0m \u001b[0;32mand\u001b[0m \u001b[0mswmr_support\u001b[0m\u001b[0;34m:\u001b[0m\u001b[0;34m\u001b[0m\u001b[0;34m\u001b[0m\u001b[0m\n\u001b[1;32m    172\u001b[0m             \u001b[0mflags\u001b[0m \u001b[0;34m|=\u001b[0m \u001b[0mh5f\u001b[0m\u001b[0;34m.\u001b[0m\u001b[0mACC_SWMR_READ\u001b[0m\u001b[0;34m\u001b[0m\u001b[0;34m\u001b[0m\u001b[0m\n\u001b[0;32m--> 173\u001b[0;31m         \u001b[0mfid\u001b[0m \u001b[0;34m=\u001b[0m \u001b[0mh5f\u001b[0m\u001b[0;34m.\u001b[0m\u001b[0mopen\u001b[0m\u001b[0;34m(\u001b[0m\u001b[0mname\u001b[0m\u001b[0;34m,\u001b[0m \u001b[0mflags\u001b[0m\u001b[0;34m,\u001b[0m \u001b[0mfapl\u001b[0m\u001b[0;34m=\u001b[0m\u001b[0mfapl\u001b[0m\u001b[0;34m)\u001b[0m\u001b[0;34m\u001b[0m\u001b[0;34m\u001b[0m\u001b[0m\n\u001b[0m\u001b[1;32m    174\u001b[0m     \u001b[0;32melif\u001b[0m \u001b[0mmode\u001b[0m \u001b[0;34m==\u001b[0m \u001b[0;34m'r+'\u001b[0m\u001b[0;34m:\u001b[0m\u001b[0;34m\u001b[0m\u001b[0;34m\u001b[0m\u001b[0m\n\u001b[1;32m    175\u001b[0m         \u001b[0mfid\u001b[0m \u001b[0;34m=\u001b[0m \u001b[0mh5f\u001b[0m\u001b[0;34m.\u001b[0m\u001b[0mopen\u001b[0m\u001b[0;34m(\u001b[0m\u001b[0mname\u001b[0m\u001b[0;34m,\u001b[0m \u001b[0mh5f\u001b[0m\u001b[0;34m.\u001b[0m\u001b[0mACC_RDWR\u001b[0m\u001b[0;34m,\u001b[0m \u001b[0mfapl\u001b[0m\u001b[0;34m=\u001b[0m\u001b[0mfapl\u001b[0m\u001b[0;34m)\u001b[0m\u001b[0;34m\u001b[0m\u001b[0;34m\u001b[0m\u001b[0m\n",
      "\u001b[0;32mh5py/_objects.pyx\u001b[0m in \u001b[0;36mh5py._objects.with_phil.wrapper\u001b[0;34m()\u001b[0m\n",
      "\u001b[0;32mh5py/_objects.pyx\u001b[0m in \u001b[0;36mh5py._objects.with_phil.wrapper\u001b[0;34m()\u001b[0m\n",
      "\u001b[0;32mh5py/h5f.pyx\u001b[0m in \u001b[0;36mh5py.h5f.open\u001b[0;34m()\u001b[0m\n",
      "\u001b[0;31mOSError\u001b[0m: Unable to open file (unable to open file: name = 'T2.2-lac2state_0uM.lm', errno = 2, error message = 'No such file or directory', flags = 0, o_flags = 0)"
     ]
    }
   ],
   "source": [
    "# Post-processing\n",
    "filename = \"T2.2-lac2state_0uM.lm\"\n",
    "# filename = \"T2.2-lac2state_8uM.lm\"\n",
    "# filename = \"T2.2-lac2state_16uM.lm\"\n",
    "# filename = \"T2.2-lac2state_24uM.lm\"\n",
    "\n",
    "\n",
    "filehandle = openLMFile(filename)\n",
    "for i in range(1,reps+1):\n",
    "    print (\"plotting\")\n",
    "    plotTrace(filehandle, ['mY','Y'], i)\n",
    "    plt.show()\n",
    "closeLMFile(filehandle)"
   ]
  },
  {
   "cell_type": "markdown",
   "metadata": {},
   "source": [
    "<h2> Assignment 3 </h2>\n",
    "\n",
    "1. Compute the average time the operator is repressed at the different concentrations. (Hint: consider the bound (R2O, IR2O, I2R2O) and unbound (O) operators).\n",
    "\n",
    "2. What effect do you think packing has on the solution?\n",
    "\n",
    "3. (Challenge) Can you compute the average burst frequency per cell cycle?  Can you compute the average burst size  You can read about transcriptional bursting [here](https://en.wikipedia.org/wiki/Transcriptional_bursting).\n",
    " "
   ]
  }
 ],
 "metadata": {
  "kernelspec": {
   "display_name": "Python 3",
   "language": "python",
   "name": "python3"
  },
  "language_info": {
   "codemirror_mode": {
    "name": "ipython",
    "version": 3
   },
   "file_extension": ".py",
   "mimetype": "text/x-python",
   "name": "python",
   "nbconvert_exporter": "python",
   "pygments_lexer": "ipython3",
   "version": "3.7.3"
  },
  "toc": {
   "toc_cell": false,
   "toc_number_sections": true,
   "toc_threshold": 6,
   "toc_window_display": false
  }
 },
 "nbformat": 4,
 "nbformat_minor": 0
}
