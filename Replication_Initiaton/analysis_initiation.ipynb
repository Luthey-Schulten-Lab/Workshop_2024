{
 "cells": [
  {
   "cell_type": "code",
   "execution_count": null,
   "metadata": {},
   "outputs": [],
   "source": [
    "from datetime import datetime\n",
    "import numpy as np\n",
    "import os\n",
    "from Bio import SeqIO\n",
    "import importlib\n",
    "import sys\n",
    "import pandas as pd\n",
    "\n",
    "import matplotlib.pyplot as plt\n",
    "%matplotlib inline\n",
    "\n",
    "import func_initiation as f"
   ]
  },
  {
   "cell_type": "markdown",
   "metadata": {},
   "source": [
    "Create a species_map to acquire the location of species in data frame/ CSV file"
   ]
  },
  {
   "cell_type": "code",
   "execution_count": null,
   "metadata": {},
   "outputs": [],
   "source": [
    "species, ini_counts = f.speciesandIniCounts()\n",
    "\n",
    "species_map = {}\n",
    "\n",
    "for i_specie, specie in enumerate(species):\n",
    "    species_map[specie] = i_specie\n",
    "\n",
    "print(species_map)\n"
   ]
  },
  {
   "cell_type": "markdown",
   "metadata": {},
   "source": [
    "Read in the CSV files from multiple replicates into two 3D arrays for with or without volume change (species, time, replicates)"
   ]
  },
  {
   "cell_type": "code",
   "execution_count": null,
   "metadata": {},
   "outputs": [],
   "source": [
    "# The written time of whole cell is per second in 105 minutes.\n",
    "endtime = 105\n",
    "simtime = 60\n",
    "reps = 50\n",
    "len_species = 74\n",
    "\n",
    "WCCtimespan = np.linspace(0,endtime*simtime,endtime*simtime+1)\n",
    "\n",
    "data_with = np.zeros((len_species,len(WCCtimespan), reps))\n",
    "\n",
    "# Read csv file into one numpy array\n",
    "for rep in range(reps):\n",
    "    \n",
    "    trajDF = pd.read_csv('./WithVolumeChange/initiation_{0}.csv'.format(rep+1),index_col=0)\n",
    "    \n",
    "    # index_col = 0 to skip the index\n",
    "    data_with[:,:,rep] = trajDF.to_numpy()\n",
    "\n",
    "\n",
    "data_without = np.zeros((len_species,len(WCCtimespan), reps))\n",
    "\n",
    "for rep in range(reps):\n",
    "    \n",
    "    trajDF = pd.read_csv('./WithoutVolumeChange/initiation_{0}.csv'.format(rep+1),index_col=0)\n",
    "    \n",
    "    # index_col = 0 to skip the index\n",
    "    data_without[:,:,rep] = trajDF.to_numpy()\n",
    "\n",
    "print('The dimensions of trajectories with volume change is {0}'.format(np.shape(data_with)))\n",
    "print('The dimensions of trajectories without volume change is {0}'.format(np.shape(data_without)))"
   ]
  },
  {
   "cell_type": "markdown",
   "metadata": {},
   "source": [
    "### With Volume Change\n",
    "\n",
    "Plot the traces of marker species RepInitCheck; Use RepInitCheck to determine whether initiation finished or not\n",
    "\n",
    "Plot the filament length of several replicates"
   ]
  },
  {
   "cell_type": "code",
   "execution_count": null,
   "metadata": {},
   "outputs": [],
   "source": [
    "# With Volume Change\n",
    "# spcIdx = sim.particleMap['RepInitCheck'] -1 \n",
    "spcIdx = species_map['RepInitCheck']\n",
    "\n",
    "uninitialized_list = []\n",
    "\n",
    "for rep in range(reps):\n",
    "\n",
    "    InitCheck = data_with[spcIdx,:,rep]\n",
    "\n",
    "    if InitCheck[-1] < 1:\n",
    "        uninitialized_list.append(rep+1)\n",
    "    \n",
    "    plt.plot(WCCtimespan/60, InitCheck)\n",
    "\n",
    "MeanInitCheck = np.mean(data_with[spcIdx,:,:], axis = 1)\n",
    "\n",
    "plt.plot(WCCtimespan/60, MeanInitCheck, label = 'Mean')\n",
    "\n",
    "plt.legend()\n",
    "\n",
    "print(len(uninitialized_list), uninitialized_list)\n"
   ]
  },
  {
   "cell_type": "code",
   "execution_count": null,
   "metadata": {},
   "outputs": [],
   "source": [
    "uninitialized_length = []\n",
    "\n",
    "for rep in uninitialized_list:\n",
    "    fila = np.zeros(len(WCCtimespan))\n",
    "    for i in range(0,30):\n",
    "        bnd = 'ssDNAunboundSite_' + str(i+1)\n",
    "        spcIdx = species_map[bnd]\n",
    "        # The DNA filament length calculated in a smart way\n",
    "        fila += data_with[spcIdx,:,rep-1 ]*(i+1)\n",
    "     \n",
    "    uninitialized_length.append(np.max(fila))\n",
    "\n",
    "print(uninitialized_list, uninitialized_length)\n",
    "print('{0} out of {1} replicates failed to initialize DNA replication and their dnaA filament average length is {2}'.format(len(uninitialized_list), reps, np.mean(uninitialized_length)))"
   ]
  },
  {
   "cell_type": "markdown",
   "metadata": {},
   "source": [
    "### Without Volume Change\n",
    "\n",
    "Plot the traces of marker species RepInitCheck; Use RepInitCheck to determine whether initiation finished or not\n",
    "\n",
    "Plot the filament length of several replicates"
   ]
  },
  {
   "cell_type": "code",
   "execution_count": null,
   "metadata": {},
   "outputs": [],
   "source": [
    "# Without Volume Change\n",
    "# spcIdx = sim.particleMap['RepInitCheck'] -1 \n",
    "spcIdx = species_map['RepInitCheck']\n",
    "\n",
    "uninitialized_list = []\n",
    "\n",
    "for rep in range(reps):\n",
    "\n",
    "    InitCheck = data_without[spcIdx,:,rep]\n",
    "\n",
    "    if InitCheck[-1] < 1:\n",
    "        uninitialized_list.append(rep+1)\n",
    "    \n",
    "    plt.plot(WCCtimespan/60, InitCheck)\n",
    "\n",
    "MeanInitCheck = np.mean(data_without[spcIdx,:,:], axis = 1)\n",
    "\n",
    "plt.plot(WCCtimespan/60, MeanInitCheck, label = 'Mean')\n",
    "\n",
    "plt.legend()\n",
    "\n",
    "print(len(uninitialized_list), uninitialized_list)"
   ]
  },
  {
   "cell_type": "code",
   "execution_count": null,
   "metadata": {},
   "outputs": [],
   "source": [
    "uninitialized_length = []\n",
    "for rep in uninitialized_list:\n",
    "    fila = np.zeros(len(WCCtimespan))\n",
    "    for i in range(0,30):\n",
    "        bnd = 'ssDNAunboundSite_' + str(i+1)\n",
    "        spcIdx = species_map[bnd] \n",
    "        # The DNA filament length calculated in a smart way\n",
    "        fila += data_without[spcIdx,:,rep-1 ]*(i+1)\n",
    "    uninitialized_length.append(np.max(fila))\n",
    "\n",
    "print(uninitialized_list, uninitialized_length)\n",
    "print('{0} out of {1} replicates failed to initialize DNA replication and their dnaA filament average length is {2}'.format(len(uninitialized_list), reps, np.mean(uninitialized_length)))"
   ]
  }
 ],
 "metadata": {
  "kernelspec": {
   "display_name": "lm",
   "language": "python",
   "name": "python3"
  },
  "language_info": {
   "codemirror_mode": {
    "name": "ipython",
    "version": 3
   },
   "file_extension": ".py",
   "mimetype": "text/x-python",
   "name": "python",
   "nbconvert_exporter": "python",
   "pygments_lexer": "ipython3",
   "version": "3.7.3"
  }
 },
 "nbformat": 4,
 "nbformat_minor": 2
}
