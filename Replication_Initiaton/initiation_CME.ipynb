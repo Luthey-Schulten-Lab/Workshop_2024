{
 "cells": [
  {
   "cell_type": "markdown",
   "metadata": {},
   "source": [
    "# DNA Replication Initiation In Syn3A"
   ]
  },
  {
   "cell_type": "markdown",
   "metadata": {},
   "source": [
    "In this tutorial, you will learn:\n",
    "\n",
    "1) How to restart CME simulation to update the rate constants due to the volume change in the whole cell cycle\n",
    "\n",
    "2) How to export trajectories in LM file to CSV file\n",
    "\n",
    "3) "
   ]
  },
  {
   "cell_type": "markdown",
   "metadata": {},
   "source": [
    "The replication initiation process in Syn3A is modeled by the binding of DnaA with oriC, the very specific region of chromosome near gene JCVISYN3A_0001.\n",
    "\n",
    "The initiation can be divided into three stages in our simulation. The first stage is the binding of DnaA with high and low affinity signatures to open the ssDNA pocket. The second stage is the binding of DnaA with AT rich ssDNA region to grow a DnaA filament and the threshold of the number of DnaA on ssDNA is 30, above which the initiation completes. The last is the fast removal of DnaA from the ssDNA when the replisome (whose assembly is not modeled) starts to move along the chromosome.\n",
    "\n",
    "References:\n",
    "\n",
    "Z. Thornburg, Marcelo Melo, David Bianchi, Troy Brier, Cole Crotty, Marian Breuer, Hamilton Smith, Clyde Hutchison, John Glass, and Zaida Luthey-Schulten, Modelling the genetic information processes in a minimal cell, Frontiers in Molecular Biosciences, 2019 https://doi.org/10.3389/fmolb.2019.00130\n",
    "\n",
    "Zane R. Thornburg, David M. Bianchi, Troy A. Brier, Benjamin R. Gilbert, Tyler M. Earnest, Marcelo C.R. Melo, Nataliya Safronova, James P. Sáenz, András T. Cook, Kim S. Wise, Clyde A. Hutchison III, Hamilton O. Smith, John I. Glass, Zaida Luthey-Schulten, Fundamental behaviors emerge from simulations of a living minimal cell, Cell, 2022, https://doi.org/10.1016/j.cell.2021.12.0"
   ]
  },
  {
   "cell_type": "code",
   "execution_count": 1,
   "metadata": {},
   "outputs": [],
   "source": [
    "# pyLM to construct the CME model\n",
    "from pyLM import *\n",
    "from pyLM.units import *\n",
    "\n",
    "import math as m\n",
    "import numpy as np\n",
    "import matplotlib.pyplot as plt\n",
    "%matplotlib inline\n",
    "import os\n",
    "import csv\n",
    "import pandas as pd\n",
    "import importlib\n",
    "import h5py\n",
    "import sys\n",
    "\n",
    "import func_initiation as f"
   ]
  },
  {
   "cell_type": "markdown",
   "metadata": {},
   "source": [
    "## Run Simulation\n",
    "\n",
    "Three-layer loop to perform the simulation of multiple replicates' whole cell cycle with/without volume change where the CME simulation restarts.\n",
    "\n",
    "The first layer to iterate with or without volume change; The second layer to iterate through all the replicates; The third layer to iterate the whole cell cycle by restarting CME simuation\n",
    "\n",
    "Each cell cycle's trajectory is written to an individual csv file."
   ]
  },
  {
   "cell_type": "code",
   "execution_count": null,
   "metadata": {},
   "outputs": [],
   "source": [
    "log = open('./initiation_CME.log', 'w')\n",
    "\n",
    "original_stdout = sys.stdout\n",
    "original_stderr = sys.stderr\n",
    "\n",
    "sys.stdout = log\n",
    "sys.stderr = log\n",
    "\n",
    "#In each simulation of whole cell cycle, restart the simulation per 60 seconds to update the cell volume\n",
    "restartInterval = 60 # s\n",
    "\n",
    "# Simulation reps replicates serially\n",
    "reps = 5\n",
    "\n",
    "# Initial value of cell radius is 200 nm\n",
    "r_cell = 2.0*(10**-7) # m\n",
    "cellVolume_init = (4*np.pi/3)*1000*r_cell**3 # L\n",
    "\n",
    "# Time needed to double the cell volume is 60 minutes\n",
    "doublingTime = 60 # min\n",
    "\n",
    "# The length of whole cell cycle is 105 minutes.\n",
    "endtime = 105  # minutes\n",
    "\n",
    "# Three-layer loop\n",
    "csvfilefolers = ['./WithVolumeChange/', './WithoutVolumeChange/']\n",
    "volumeChange_flag = [True, False]\n",
    "\n",
    "for i_change, change_flag in enumerate(volumeChange_flag):\n",
    "\n",
    "    csvfilefolder = csvfilefolers[i_change]\n",
    "\n",
    "    if not os.path.exists(csvfilefolder):\n",
    "        os.makedirs(csvfilefolder)\n",
    "\n",
    "    # Get the species list and initial counts\n",
    "    species, ini_counts = f.speciesandIniCounts()\n",
    "\n",
    "    for rep in range(1,reps+1):\n",
    "        print('Start the simulation of '+str(rep) +' replicate')\n",
    "        \n",
    "        counts = ini_counts\n",
    "        \n",
    "        trajDF = pd.DataFrame()\n",
    "        \n",
    "        for time in range(0,endtime):\n",
    "\n",
    "            # Filename of the current simulation\n",
    "            filename = 'Ini_' + str(time+1) + '.lm'\n",
    "\n",
    "            # Linear increase to double volume then contains\n",
    "            cellVolume = f.volumeChange(time, doublingTime, cellVolume_init)\n",
    "            \n",
    "            # Initialize each minute's simulation\n",
    "            sim=CME.CMESimulation(name=\"DNA Replication Initiation in Syn3A\" + str(time+1))\n",
    "            # Write the trajectories of each species per 1 second\n",
    "            sim.setWriteInterval(1)\n",
    "            sim.setSimulationTime(restartInterval)\n",
    "            \n",
    "            # define the reactions and particles numbers every simulation\n",
    "            f.addRepInit(sim, cellVolume, counts, species, change_flag)\n",
    "\n",
    "            sim.save(filename)\n",
    "            sim.run(filename, \"lm::cme::GillespieDSolver\", 1)\n",
    "            \n",
    "            # counts is the number of each species at last frame written time\n",
    "            # trajDF is the record of numbers of all frame written time in all simulation\n",
    "            counts,trajDF = f.recordTraces(trajDF, filename, time, restartInterval, species)\n",
    "\n",
    "\n",
    "            # Remove lm file from last whole cell cycle simulation\n",
    "            os.system(\"rm -rf %s\"%(filename))\n",
    "        print('Finish the simulation of '+str(rep) +' replicate')\n",
    "        \n",
    "        # Write the trajectory to csv file\n",
    "        csvpath = '{0}initiation_{1}.csv'.format(csvfilefolder, rep)\n",
    "        trajDF.to_csv(csvpath, index = False)\n",
    "\n",
    "\n",
    "sys.stdout = original_stdout\n",
    "sys.stderr = original_stderr "
   ]
  }
 ],
 "metadata": {
  "kernelspec": {
   "display_name": "lm",
   "language": "python",
   "name": "python3"
  },
  "language_info": {
   "codemirror_mode": {
    "name": "ipython",
    "version": 3
   },
   "file_extension": ".py",
   "mimetype": "text/x-python",
   "name": "python",
   "nbconvert_exporter": "python",
   "pygments_lexer": "ipython3",
   "version": "3.7.3"
  }
 },
 "nbformat": 4,
 "nbformat_minor": 2
}
