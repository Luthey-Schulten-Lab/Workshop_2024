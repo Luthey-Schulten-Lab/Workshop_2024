{
 "cells": [
  {
   "cell_type": "markdown",
   "metadata": {},
   "source": [
    "# Tutorial 1.2 - Stochastic Gene Expression\n",
    "\n",
    "Here we examine a CME model of stochastic Gene Expression.\n",
    "\n",
    "In this model, we include the transcription and translation of gene and mRNA together with degradation of both mRNA and protein.\n",
    "\n",
    "The model presented here can be found in the article: [Analytical distributions for stochastic gene expression](https://www.pnas.org/doi/full/10.1073/pnas.0803850105).\n"
   ]
  },
  {
   "cell_type": "code",
   "execution_count": 1,
   "metadata": {},
   "outputs": [],
   "source": [
    "# Import Standard Python Libraries\n",
    "import os\n",
    "import numpy as np\n",
    "import matplotlib.pyplot as plt\n",
    "\n",
    "# Import pyLM Libraries\n",
    "from pyLM import *\n",
    "from pyLM.units import *\n",
    "from pySTDLM import *\n",
    "from pySTDLM.PostProcessing import *\n",
    "\n",
    "# Enable plotting inline in the Jupyter notebook\n",
    "%matplotlib inline"
   ]
  },
  {
   "cell_type": "markdown",
   "metadata": {},
   "source": [
    "## Constants\n",
    "\n",
    "Rates of first three first-order reactions come from the CME/ODE Whole Cell Model at initial conditions.\n",
    "\n",
    "Degradation rate of protein is calculated based on 25 hours' half life in [Maier et al, 2011](https://www.embopress.org/doi/full/10.1038/msb.2011.38)."
   ]
  },
  {
   "cell_type": "code",
   "execution_count": 2,
   "metadata": {},
   "outputs": [],
   "source": [
    "# Constants\n",
    "v0  = 6.41e-4       # Transcription, s^-1\n",
    "d0 = 2.59e-3     # degradation of mRNA, s^-1\n",
    "v1 = 7.2e-2        # translation, s^-1\n",
    "d1 = 7.70e-6      # degradation of protein, s^-1"
   ]
  },
  {
   "cell_type": "markdown",
   "metadata": {},
   "source": [
    "## Define CME simulation"
   ]
  },
  {
   "cell_type": "markdown",
   "metadata": {},
   "source": [
    "We begin by creating a [CMESimulation](https://luthey-schulten.chemistry.illinois.edu/software/LM2.4/_autosummary/pyLM.CME.html#module-pyLM.CME) \"object\" that we call ```sim```. This object will include the definition of the whole stochastic simulation."
   ]
  },
  {
   "cell_type": "code",
   "execution_count": 3,
   "metadata": {},
   "outputs": [],
   "source": [
    "# Create our CME simulation object\n",
    "sim = CME.CMESimulation(name='Gene Expression')"
   ]
  },
  {
   "cell_type": "markdown",
   "metadata": {},
   "source": [
    "Next we define the chemical species with simulation. First. we specify the names of the chemical species.  Then we register these species with the simulation.  The [```defineSpecies()```](https://luthey-schulten.chemistry.illinois.edu/software/LM2.4/_autosummary/pyLM.CME.html#module-pyLM.CME) function can be called multiple times and will add any new names to the list of species."
   ]
  },
  {
   "cell_type": "code",
   "execution_count": 4,
   "metadata": {},
   "outputs": [],
   "source": [
    "# Define our chemical species\n",
    "species = ['gene', 'mRNA', 'ptn']\n",
    "sim.defineSpecies(species)"
   ]
  },
  {
   "cell_type": "markdown",
   "metadata": {},
   "source": [
    "Here we add reactions to the simulation. We use the [```addReaction()```](https://luthey-schulten.chemistry.illinois.edu/software/LM2.4/_autosummary/pyLM.CME.html#module-pyLM.CME) function that is a member of the ```CMESimulation``` object. We add a bimolecular association reaction and a unimolecular dissociation reaction. When more than one reactant is involved, the list of reactant names should be passed as a tuple as can be seen in the reactant of the association reaction. The rates in this command must be in units of molecules and seconds, for instance units of ```/molecule/sec``` for the association reaction."
   ]
  },
  {
   "cell_type": "code",
   "execution_count": 5,
   "metadata": {},
   "outputs": [],
   "source": [
    "# Add reactions to the simulation\n",
    "\n",
    "sim.addReaction(reactant='gene', product=('gene','mRNA'), rate=v0)\n",
    "sim.addReaction(reactant='mRNA', product='', rate=d0)\n",
    "sim.addReaction(reactant='mRNA', product=('mRNA','ptn'), rate=v1)\n",
    "sim.addReaction(reactant='ptn', product='', rate=d1)\n"
   ]
  },
  {
   "cell_type": "markdown",
   "metadata": {},
   "source": [
    "Next, we add the initial particle counts to the simulation using the [```addParticles()```](https://luthey-schulten.chemistry.illinois.edu/software/LM2.4/_autosummary/pyLM.CME.html#module-pyLM.CME) function."
   ]
  },
  {
   "cell_type": "code",
   "execution_count": 6,
   "metadata": {},
   "outputs": [],
   "source": [
    "# Set our initial species counts\n",
    "\n",
    "sim.addParticles(species='gene', count=1)\n",
    "sim.addParticles(species='mRNA', count=1)\n",
    "sim.addParticles(species='ptn', count=0)"
   ]
  },
  {
   "cell_type": "markdown",
   "metadata": {},
   "source": [
    "Finally, we define the simulation execution parameters. We have the simulation run for 6300 seconds of real time to cover the entire cell cyle.\n",
    "\n",
    "The traces are recorded per 1 second.\n",
    "\n",
    "Then we name the simulation output file and save the simulation definition to it."
   ]
  },
  {
   "cell_type": "code",
   "execution_count": 7,
   "metadata": {},
   "outputs": [],
   "source": [
    "# Simulation time is 6300, entire cell life cycle.\n",
    "writeInterval = 1\n",
    "simtime = 6300\n",
    "\n",
    "sim.setWriteInterval(writeInterval)\n",
    "sim.setSimulationTime(simtime)\n",
    "\n",
    "filename = \"./T2.1-geneExpression.lm\"\n",
    "\n",
    "os.system(\"rm -rf %s\"%(filename)) # Remove previous LM file \n",
    "\n",
    "sim.save(filename)"
   ]
  },
  {
   "cell_type": "code",
   "execution_count": 8,
   "metadata": {
    "scrolled": true
   },
   "outputs": [
    {
     "data": {
      "text/html": [
       "<h1> CME Simulation: Gene Expression</h1><h2> Simulation Parameters </h2>writeInterval: 1</br>maxTime: 6300</br><h2> Species </h2><table><tr><td style=\"text-align:left\"><b>Specie</b></td><td style=\"text-align:center\"><b>Particle ID</b></td><td style=\"text-align:center\"><b>Initial Count</b></td></tr><tr><td style=\"text-align:left\">gene</td><td style=\"text-align:center\">1</td><td style=\"text-align:center\">1</td></tr><tr><td style=\"text-align:left\">mRNA</td><td style=\"text-align:center\">2</td><td style=\"text-align:center\">1</td></tr><tr><td style=\"text-align:left\">ptn</td><td style=\"text-align:center\">3</td><td style=\"text-align:center\">0</td></tr></table><h2> Reaction Model </h2><table><tr><td style=\"text-align:left\"><b>Reaction</b></td><td style=\"text-align:center\"><b>Rate</b></td><td style=\"text-align:center\"><b>Units</b></td></tr><tr><td style=\"text-align:left\">gene ⟶ gene + mRNA</td><td style=\"text-align:center\">0.000641</td><td style=\"text-align:center\">s⁻¹</td></tr><tr><td style=\"text-align:left\">mRNA ⟶ ∅</td><td style=\"text-align:center\">0.00259</td><td style=\"text-align:center\">s⁻¹</td></tr><tr><td style=\"text-align:left\">mRNA ⟶ mRNA + ptn</td><td style=\"text-align:center\">0.072</td><td style=\"text-align:center\">s⁻¹</td></tr><tr><td style=\"text-align:left\">ptn ⟶ ∅</td><td style=\"text-align:center\">7.7e-06</td><td style=\"text-align:center\">s⁻¹</td></tr></table>"
      ],
      "text/plain": [
       "<pyLM.CME.CMESimulation at 0x78aa04aae208>"
      ]
     },
     "execution_count": 8,
     "metadata": {},
     "output_type": "execute_result"
    }
   ],
   "source": [
    "# Print out the information of the system\n",
    "sim"
   ]
  },
  {
   "cell_type": "markdown",
   "metadata": {},
   "source": [
    "## Run Simulation"
   ]
  },
  {
   "cell_type": "code",
   "execution_count": 9,
   "metadata": {
    "scrolled": true
   },
   "outputs": [
    {
     "name": "stderr",
     "output_type": "stream",
     "text": [
      "\r",
      "  0%|                                                                                                                                                                              | 0/200 [00:00<?, ?it/s]"
     ]
    },
    {
     "name": "stdout",
     "output_type": "stream",
     "text": [
      "2024-04-29 12:10:19) Info: Using 56 processor(s) and 1 CUDA device(s) per process.\n",
      "2024-04-29 12:10:19) Info: Assigning 1.00 processor(s) and 1.00 CUDA device(s) per replicate.\n",
      "2024-04-29 12:10:19) Info: Data output thread running.\n",
      "2024-04-29 12:10:19) Info: Seeding xorwow rng with top word 1 and bottom word 878123622\n",
      "2024-04-29 12:10:19) Info: Data output thread finished.\n",
      "2024-04-29 12:10:19) Info: Simulation file closed.\n"
     ]
    },
    {
     "name": "stderr",
     "output_type": "stream",
     "text": [
      "\r",
      "  0%|8                                                                                                                                                                     | 1/200 [00:00<00:28,  6.94it/s]"
     ]
    },
    {
     "name": "stdout",
     "output_type": "stream",
     "text": [
      "2024-04-29 12:10:19) Info: Using 56 processor(s) and 1 CUDA device(s) per process.\n",
      "2024-04-29 12:10:19) Info: Assigning 1.00 processor(s) and 1.00 CUDA device(s) per replicate.\n",
      "2024-04-29 12:10:19) Info: Data output thread running.\n",
      "2024-04-29 12:10:19) Info: Seeding xorwow rng with top word 2 and bottom word 911345115\n",
      "2024-04-29 12:10:19) Info: Data output thread finished.\n",
      "2024-04-29 12:10:19) Info: Simulation file closed.\n",
      "2024-04-29 12:10:19) Info: Using 56 processor(s) and 1 CUDA device(s) per process.\n",
      "2024-04-29 12:10:19) Info: Assigning 1.00 processor(s) and 1.00 CUDA device(s) per replicate.\n",
      "2024-04-29 12:10:19) Info: Data output thread running.\n",
      "2024-04-29 12:10:19) Info: Seeding xorwow rng with top word 3 and bottom word 937386960\n",
      "2024-04-29 12:10:19) Info: Data output thread finished.\n",
      "2024-04-29 12:10:19) Info: Simulation file closed.\n",
      "2024-04-29 12:10:19) Info: Using 56 processor(s) and 1 CUDA device(s) per process.\n",
      "2024-04-29 12:10:19) Info: Assigning 1.00 processor(s) and 1.00 CUDA device(s) per replicate.\n",
      "2024-04-29 12:10:19) Info: Data output thread running.\n",
      "2024-04-29 12:10:19) Info: Seeding xorwow rng with top word 4 and bottom word 961755869\n",
      "2024-04-29 12:10:19) Info: Data output thread finished.\n",
      "2024-04-29 12:10:19) Info: Simulation file closed.\n",
      "2024-04-29 12:10:19) Info: Using 56 processor(s) and 1 CUDA device(s) per process.\n",
      "2024-04-29 12:10:19) Info: Assigning 1.00 processor(s) and 1.00 CUDA device(s) per replicate.\n",
      "2024-04-29 12:10:19) Info: Data output thread running.\n",
      "2024-04-29 12:10:19) Info: Seeding xorwow rng with top word 5 and bottom word 985983943\n",
      "2024-04-29 12:10:20) Info: Data output thread finished.\n",
      "2024-04-29 12:10:20) Info: Simulation file closed.\n"
     ]
    },
    {
     "name": "stderr",
     "output_type": "stream",
     "text": [
      "\r",
      "  2%|####1                                                                                                                                                                 | 5/200 [00:00<00:08, 23.13it/s]"
     ]
    },
    {
     "name": "stdout",
     "output_type": "stream",
     "text": [
      "2024-04-29 12:10:20) Info: Using 56 processor(s) and 1 CUDA device(s) per process.\n",
      "2024-04-29 12:10:20) Info: Assigning 1.00 processor(s) and 1.00 CUDA device(s) per replicate.\n",
      "2024-04-29 12:10:20) Info: Data output thread running.\n",
      "2024-04-29 12:10:20) Info: Seeding xorwow rng with top word 6 and bottom word 14240195\n",
      "2024-04-29 12:10:20) Info: Data output thread finished.\n",
      "2024-04-29 12:10:20) Info: Simulation file closed.\n",
      "2024-04-29 12:10:20) Info: Using 56 processor(s) and 1 CUDA device(s) per process.\n",
      "2024-04-29 12:10:20) Info: Assigning 1.00 processor(s) and 1.00 CUDA device(s) per replicate.\n",
      "2024-04-29 12:10:20) Info: Data output thread running.\n",
      "2024-04-29 12:10:20) Info: Seeding xorwow rng with top word 7 and bottom word 39880141\n",
      "2024-04-29 12:10:20) Info: Data output thread finished.\n",
      "2024-04-29 12:10:20) Info: Simulation file closed.\n",
      "2024-04-29 12:10:20) Info: Using 56 processor(s) and 1 CUDA device(s) per process.\n",
      "2024-04-29 12:10:20) Info: Assigning 1.00 processor(s) and 1.00 CUDA device(s) per replicate.\n",
      "2024-04-29 12:10:20) Info: Data output thread running.\n",
      "2024-04-29 12:10:20) Info: Seeding xorwow rng with top word 8 and bottom word 66872281\n",
      "2024-04-29 12:10:20) Info: Data output thread finished.\n",
      "2024-04-29 12:10:20) Info: Simulation file closed.\n",
      "2024-04-29 12:10:20) Info: Using 56 processor(s) and 1 CUDA device(s) per process.\n",
      "2024-04-29 12:10:20) Info: Assigning 1.00 processor(s) and 1.00 CUDA device(s) per replicate.\n",
      "2024-04-29 12:10:20) Info: Data output thread running.\n",
      "2024-04-29 12:10:20) Info: Seeding xorwow rng with top word 9 and bottom word 92409883\n",
      "2024-04-29 12:10:20) Info: Data output thread finished.\n",
      "2024-04-29 12:10:20) Info: Simulation file closed.\n"
     ]
    },
    {
     "name": "stderr",
     "output_type": "stream",
     "text": [
      "\r",
      "  4%|#######4                                                                                                                                                              | 9/200 [00:00<00:06, 29.57it/s]"
     ]
    },
    {
     "name": "stdout",
     "output_type": "stream",
     "text": [
      "2024-04-29 12:10:20) Info: Using 56 processor(s) and 1 CUDA device(s) per process.\n",
      "2024-04-29 12:10:20) Info: Assigning 1.00 processor(s) and 1.00 CUDA device(s) per replicate.\n",
      "2024-04-29 12:10:20) Info: Data output thread running.\n",
      "2024-04-29 12:10:20) Info: Seeding xorwow rng with top word 10 and bottom word 118033109\n",
      "2024-04-29 12:10:20) Info: Data output thread finished.\n",
      "2024-04-29 12:10:20) Info: Simulation file closed.\n",
      "2024-04-29 12:10:20) Info: Using 56 processor(s) and 1 CUDA device(s) per process.\n",
      "2024-04-29 12:10:20) Info: Assigning 1.00 processor(s) and 1.00 CUDA device(s) per replicate.\n",
      "2024-04-29 12:10:20) Info: Data output thread running.\n",
      "2024-04-29 12:10:20) Info: Seeding xorwow rng with top word 11 and bottom word 141449345\n",
      "2024-04-29 12:10:20) Info: Data output thread finished.\n",
      "2024-04-29 12:10:20) Info: Simulation file closed.\n",
      "2024-04-29 12:10:20) Info: Using 56 processor(s) and 1 CUDA device(s) per process.\n",
      "2024-04-29 12:10:20) Info: Assigning 1.00 processor(s) and 1.00 CUDA device(s) per replicate.\n",
      "2024-04-29 12:10:20) Info: Data output thread running.\n",
      "2024-04-29 12:10:20) Info: Seeding xorwow rng with top word 12 and bottom word 166414749\n",
      "2024-04-29 12:10:20) Info: Data output thread finished.\n",
      "2024-04-29 12:10:20) Info: Simulation file closed.\n",
      "2024-04-29 12:10:20) Info: Using 56 processor(s) and 1 CUDA device(s) per process.\n",
      "2024-04-29 12:10:20) Info: Assigning 1.00 processor(s) and 1.00 CUDA device(s) per replicate.\n",
      "2024-04-29 12:10:20) Info: Data output thread running.\n",
      "2024-04-29 12:10:20) Info: Seeding xorwow rng with top word 13 and bottom word 190986863\n",
      "2024-04-29 12:10:20) Info: Data output thread finished.\n",
      "2024-04-29 12:10:20) Info: Simulation file closed.\n",
      "2024-04-29 12:10:20) Info: Using 56 processor(s) and 1 CUDA device(s) per process.\n",
      "2024-04-29 12:10:20) Info: Assigning 1.00 processor(s) and 1.00 CUDA device(s) per replicate.\n",
      "2024-04-29 12:10:20) Info: Data output thread running.\n",
      "2024-04-29 12:10:20) Info: Seeding xorwow rng with top word 14 and bottom word 215104398\n",
      "2024-04-29 12:10:20) Info: Data output thread finished.\n",
      "2024-04-29 12:10:20) Info: Simulation file closed.\n"
     ]
    },
    {
     "name": "stderr",
     "output_type": "stream",
     "text": [
      "\r",
      "  7%|###########5                                                                                                                                                         | 14/200 [00:00<00:05, 34.38it/s]"
     ]
    },
    {
     "name": "stdout",
     "output_type": "stream",
     "text": [
      "2024-04-29 12:10:20) Info: Using 56 processor(s) and 1 CUDA device(s) per process.\n",
      "2024-04-29 12:10:20) Info: Assigning 1.00 processor(s) and 1.00 CUDA device(s) per replicate.\n",
      "2024-04-29 12:10:20) Info: Data output thread running.\n",
      "2024-04-29 12:10:20) Info: Seeding xorwow rng with top word 15 and bottom word 239111795\n",
      "2024-04-29 12:10:20) Info: Data output thread finished.\n",
      "2024-04-29 12:10:20) Info: Simulation file closed.\n",
      "2024-04-29 12:10:20) Info: Using 56 processor(s) and 1 CUDA device(s) per process.\n",
      "2024-04-29 12:10:20) Info: Assigning 1.00 processor(s) and 1.00 CUDA device(s) per replicate.\n",
      "2024-04-29 12:10:20) Info: Data output thread running.\n",
      "2024-04-29 12:10:20) Info: Seeding xorwow rng with top word 16 and bottom word 263623830\n",
      "2024-04-29 12:10:20) Info: Data output thread finished.\n",
      "2024-04-29 12:10:20) Info: Simulation file closed.\n",
      "2024-04-29 12:10:20) Info: Using 56 processor(s) and 1 CUDA device(s) per process.\n",
      "2024-04-29 12:10:20) Info: Assigning 1.00 processor(s) and 1.00 CUDA device(s) per replicate.\n",
      "2024-04-29 12:10:20) Info: Data output thread running.\n",
      "2024-04-29 12:10:20) Info: Seeding xorwow rng with top word 17 and bottom word 287978579\n",
      "2024-04-29 12:10:20) Info: Data output thread finished.\n",
      "2024-04-29 12:10:20) Info: Simulation file closed.\n",
      "2024-04-29 12:10:20) Info: Using 56 processor(s) and 1 CUDA device(s) per process.\n",
      "2024-04-29 12:10:20) Info: Assigning 1.00 processor(s) and 1.00 CUDA device(s) per replicate.\n",
      "2024-04-29 12:10:20) Info: Data output thread running.\n",
      "2024-04-29 12:10:20) Info: Seeding xorwow rng with top word 18 and bottom word 313732660\n",
      "2024-04-29 12:10:20) Info: Data output thread finished.\n",
      "2024-04-29 12:10:20) Info: Simulation file closed.\n"
     ]
    },
    {
     "name": "stderr",
     "output_type": "stream",
     "text": [
      "\r",
      "  9%|##############8                                                                                                                                                      | 18/200 [00:00<00:05, 36.20it/s]"
     ]
    },
    {
     "name": "stdout",
     "output_type": "stream",
     "text": [
      "2024-04-29 12:10:20) Info: Using 56 processor(s) and 1 CUDA device(s) per process.\n",
      "2024-04-29 12:10:20) Info: Assigning 1.00 processor(s) and 1.00 CUDA device(s) per replicate.\n",
      "2024-04-29 12:10:20) Info: Data output thread running.\n",
      "2024-04-29 12:10:20) Info: Seeding xorwow rng with top word 19 and bottom word 338954792\n",
      "2024-04-29 12:10:20) Info: Data output thread finished.\n",
      "2024-04-29 12:10:20) Info: Simulation file closed.\n",
      "2024-04-29 12:10:20) Info: Using 56 processor(s) and 1 CUDA device(s) per process.\n",
      "2024-04-29 12:10:20) Info: Assigning 1.00 processor(s) and 1.00 CUDA device(s) per replicate.\n",
      "2024-04-29 12:10:20) Info: Data output thread running.\n",
      "2024-04-29 12:10:20) Info: Seeding xorwow rng with top word 20 and bottom word 363681425\n",
      "2024-04-29 12:10:20) Info: Data output thread finished.\n",
      "2024-04-29 12:10:20) Info: Simulation file closed.\n",
      "2024-04-29 12:10:20) Info: Using 56 processor(s) and 1 CUDA device(s) per process.\n",
      "2024-04-29 12:10:20) Info: Assigning 1.00 processor(s) and 1.00 CUDA device(s) per replicate.\n",
      "2024-04-29 12:10:20) Info: Data output thread running.\n",
      "2024-04-29 12:10:20) Info: Seeding xorwow rng with top word 21 and bottom word 387236311\n",
      "2024-04-29 12:10:20) Info: Data output thread finished.\n",
      "2024-04-29 12:10:20) Info: Simulation file closed.\n",
      "2024-04-29 12:10:20) Info: Using 56 processor(s) and 1 CUDA device(s) per process.\n",
      "2024-04-29 12:10:20) Info: Assigning 1.00 processor(s) and 1.00 CUDA device(s) per replicate.\n",
      "2024-04-29 12:10:20) Info: Data output thread running.\n",
      "2024-04-29 12:10:20) Info: Seeding xorwow rng with top word 22 and bottom word 409710391\n",
      "2024-04-29 12:10:20) Info: Data output thread finished.\n",
      "2024-04-29 12:10:20) Info: Simulation file closed.\n",
      "2024-04-29 12:10:20) Info: Using 56 processor(s) and 1 CUDA device(s) per process.\n",
      "2024-04-29 12:10:20) Info: Assigning 1.00 processor(s) and 1.00 CUDA device(s) per replicate.\n",
      "2024-04-29 12:10:20) Info: Data output thread running.\n",
      "2024-04-29 12:10:20) Info: Seeding xorwow rng with top word 23 and bottom word 433001118\n",
      "2024-04-29 12:10:20) Info: Data output thread finished.\n",
      "2024-04-29 12:10:20) Info: Simulation file closed.\n"
     ]
    },
    {
     "name": "stderr",
     "output_type": "stream",
     "text": [
      "\r",
      " 12%|##################9                                                                                                                                                  | 23/200 [00:00<00:04, 38.50it/s]"
     ]
    },
    {
     "name": "stdout",
     "output_type": "stream",
     "text": [
      "2024-04-29 12:10:20) Info: Using 56 processor(s) and 1 CUDA device(s) per process.\n",
      "2024-04-29 12:10:20) Info: Assigning 1.00 processor(s) and 1.00 CUDA device(s) per replicate.\n",
      "2024-04-29 12:10:20) Info: Data output thread running.\n",
      "2024-04-29 12:10:20) Info: Seeding xorwow rng with top word 24 and bottom word 456650931\n",
      "2024-04-29 12:10:20) Info: Data output thread finished.\n",
      "2024-04-29 12:10:20) Info: Simulation file closed.\n",
      "2024-04-29 12:10:20) Info: Using 56 processor(s) and 1 CUDA device(s) per process.\n",
      "2024-04-29 12:10:20) Info: Assigning 1.00 processor(s) and 1.00 CUDA device(s) per replicate.\n",
      "2024-04-29 12:10:20) Info: Data output thread running.\n",
      "2024-04-29 12:10:20) Info: Seeding xorwow rng with top word 25 and bottom word 480076241\n",
      "2024-04-29 12:10:20) Info: Data output thread finished.\n",
      "2024-04-29 12:10:20) Info: Simulation file closed.\n",
      "2024-04-29 12:10:20) Info: Using 56 processor(s) and 1 CUDA device(s) per process.\n",
      "2024-04-29 12:10:20) Info: Assigning 1.00 processor(s) and 1.00 CUDA device(s) per replicate.\n",
      "2024-04-29 12:10:20) Info: Data output thread running.\n",
      "2024-04-29 12:10:20) Info: Seeding xorwow rng with top word 26 and bottom word 502174214\n",
      "2024-04-29 12:10:20) Info: Data output thread finished.\n",
      "2024-04-29 12:10:20) Info: Simulation file closed.\n",
      "2024-04-29 12:10:20) Info: Using 56 processor(s) and 1 CUDA device(s) per process.\n",
      "2024-04-29 12:10:20) Info: Assigning 1.00 processor(s) and 1.00 CUDA device(s) per replicate.\n",
      "2024-04-29 12:10:20) Info: Data output thread running.\n",
      "2024-04-29 12:10:20) Info: Seeding xorwow rng with top word 27 and bottom word 525048978\n",
      "2024-04-29 12:10:20) Info: Data output thread finished.\n",
      "2024-04-29 12:10:20) Info: Simulation file closed.\n",
      "2024-04-29 12:10:20) Info: Using 56 processor(s) and 1 CUDA device(s) per process.\n",
      "2024-04-29 12:10:20) Info: Assigning 1.00 processor(s) and 1.00 CUDA device(s) per replicate.\n",
      "2024-04-29 12:10:20) Info: Data output thread running.\n",
      "2024-04-29 12:10:20) Info: Seeding xorwow rng with top word 28 and bottom word 548072575\n",
      "2024-04-29 12:10:20) Info: Data output thread finished.\n",
      "2024-04-29 12:10:20) Info: Simulation file closed.\n"
     ]
    },
    {
     "name": "stderr",
     "output_type": "stream",
     "text": [
      "\r",
      " 14%|#######################1                                                                                                                                             | 28/200 [00:00<00:04, 40.12it/s]"
     ]
    },
    {
     "name": "stdout",
     "output_type": "stream",
     "text": [
      "2024-04-29 12:10:20) Info: Using 56 processor(s) and 1 CUDA device(s) per process.\n",
      "2024-04-29 12:10:20) Info: Assigning 1.00 processor(s) and 1.00 CUDA device(s) per replicate.\n",
      "2024-04-29 12:10:20) Info: Data output thread running.\n",
      "2024-04-29 12:10:20) Info: Seeding xorwow rng with top word 29 and bottom word 571460212\n",
      "2024-04-29 12:10:20) Info: Data output thread finished.\n",
      "2024-04-29 12:10:20) Info: Simulation file closed.\n",
      "2024-04-29 12:10:20) Info: Using 56 processor(s) and 1 CUDA device(s) per process.\n",
      "2024-04-29 12:10:20) Info: Assigning 1.00 processor(s) and 1.00 CUDA device(s) per replicate.\n",
      "2024-04-29 12:10:20) Info: Data output thread running.\n",
      "2024-04-29 12:10:20) Info: Seeding xorwow rng with top word 30 and bottom word 594910693\n",
      "2024-04-29 12:10:20) Info: Data output thread finished.\n",
      "2024-04-29 12:10:20) Info: Simulation file closed.\n",
      "2024-04-29 12:10:20) Info: Using 56 processor(s) and 1 CUDA device(s) per process.\n",
      "2024-04-29 12:10:20) Info: Assigning 1.00 processor(s) and 1.00 CUDA device(s) per replicate.\n",
      "2024-04-29 12:10:20) Info: Data output thread running.\n",
      "2024-04-29 12:10:20) Info: Seeding xorwow rng with top word 31 and bottom word 617824299\n",
      "2024-04-29 12:10:20) Info: Data output thread finished.\n",
      "2024-04-29 12:10:20) Info: Simulation file closed.\n",
      "2024-04-29 12:10:20) Info: Using 56 processor(s) and 1 CUDA device(s) per process.\n",
      "2024-04-29 12:10:20) Info: Assigning 1.00 processor(s) and 1.00 CUDA device(s) per replicate.\n",
      "2024-04-29 12:10:20) Info: Data output thread running.\n",
      "2024-04-29 12:10:20) Info: Seeding xorwow rng with top word 32 and bottom word 641185221\n",
      "2024-04-29 12:10:20) Info: Data output thread finished.\n",
      "2024-04-29 12:10:20) Info: Simulation file closed.\n",
      "2024-04-29 12:10:20) Info: Using 56 processor(s) and 1 CUDA device(s) per process.\n",
      "2024-04-29 12:10:20) Info: Assigning 1.00 processor(s) and 1.00 CUDA device(s) per replicate.\n",
      "2024-04-29 12:10:20) Info: Data output thread running.\n",
      "2024-04-29 12:10:20) Info: Seeding xorwow rng with top word 33 and bottom word 664626627\n",
      "2024-04-29 12:10:20) Info: Data output thread finished.\n",
      "2024-04-29 12:10:20) Info: Simulation file closed.\n"
     ]
    },
    {
     "name": "stderr",
     "output_type": "stream",
     "text": [
      "\r",
      " 16%|###########################2                                                                                                                                         | 33/200 [00:00<00:04, 41.01it/s]"
     ]
    },
    {
     "name": "stdout",
     "output_type": "stream",
     "text": [
      "2024-04-29 12:10:20) Info: Using 56 processor(s) and 1 CUDA device(s) per process.\n",
      "2024-04-29 12:10:20) Info: Assigning 1.00 processor(s) and 1.00 CUDA device(s) per replicate.\n",
      "2024-04-29 12:10:20) Info: Data output thread running.\n",
      "2024-04-29 12:10:20) Info: Seeding xorwow rng with top word 34 and bottom word 688217264\n",
      "2024-04-29 12:10:20) Info: Data output thread finished.\n",
      "2024-04-29 12:10:20) Info: Simulation file closed.\n",
      "2024-04-29 12:10:20) Info: Using 56 processor(s) and 1 CUDA device(s) per process.\n",
      "2024-04-29 12:10:20) Info: Assigning 1.00 processor(s) and 1.00 CUDA device(s) per replicate.\n",
      "2024-04-29 12:10:20) Info: Data output thread running.\n",
      "2024-04-29 12:10:20) Info: Seeding xorwow rng with top word 35 and bottom word 711871678\n",
      "2024-04-29 12:10:20) Info: Data output thread finished.\n",
      "2024-04-29 12:10:20) Info: Simulation file closed.\n",
      "2024-04-29 12:10:20) Info: Using 56 processor(s) and 1 CUDA device(s) per process.\n",
      "2024-04-29 12:10:20) Info: Assigning 1.00 processor(s) and 1.00 CUDA device(s) per replicate.\n",
      "2024-04-29 12:10:20) Info: Data output thread running.\n",
      "2024-04-29 12:10:20) Info: Seeding xorwow rng with top word 36 and bottom word 735265479\n",
      "2024-04-29 12:10:20) Info: Data output thread finished.\n",
      "2024-04-29 12:10:20) Info: Simulation file closed.\n",
      "2024-04-29 12:10:20) Info: Using 56 processor(s) and 1 CUDA device(s) per process.\n",
      "2024-04-29 12:10:20) Info: Assigning 1.00 processor(s) and 1.00 CUDA device(s) per replicate.\n",
      "2024-04-29 12:10:20) Info: Data output thread running.\n",
      "2024-04-29 12:10:20) Info: Seeding xorwow rng with top word 37 and bottom word 758234823\n",
      "2024-04-29 12:10:20) Info: Data output thread finished.\n",
      "2024-04-29 12:10:20) Info: Simulation file closed.\n",
      "2024-04-29 12:10:20) Info: Using 56 processor(s) and 1 CUDA device(s) per process.\n",
      "2024-04-29 12:10:20) Info: Assigning 1.00 processor(s) and 1.00 CUDA device(s) per replicate.\n",
      "2024-04-29 12:10:20) Info: Data output thread running.\n",
      "2024-04-29 12:10:20) Info: Seeding xorwow rng with top word 38 and bottom word 780453503\n",
      "2024-04-29 12:10:20) Info: Data output thread finished.\n",
      "2024-04-29 12:10:20) Info: Simulation file closed.\n"
     ]
    },
    {
     "name": "stderr",
     "output_type": "stream",
     "text": [
      "\r",
      " 19%|###############################3                                                                                                                                     | 38/200 [00:01<00:03, 41.61it/s]"
     ]
    },
    {
     "name": "stdout",
     "output_type": "stream",
     "text": [
      "2024-04-29 12:10:20) Info: Using 56 processor(s) and 1 CUDA device(s) per process.\n",
      "2024-04-29 12:10:20) Info: Assigning 1.00 processor(s) and 1.00 CUDA device(s) per replicate.\n",
      "2024-04-29 12:10:20) Info: Data output thread running.\n",
      "2024-04-29 12:10:20) Info: Seeding xorwow rng with top word 39 and bottom word 804710392\n",
      "2024-04-29 12:10:20) Info: Data output thread finished.\n",
      "2024-04-29 12:10:20) Info: Simulation file closed.\n",
      "2024-04-29 12:10:20) Info: Using 56 processor(s) and 1 CUDA device(s) per process.\n",
      "2024-04-29 12:10:20) Info: Assigning 1.00 processor(s) and 1.00 CUDA device(s) per replicate.\n",
      "2024-04-29 12:10:20) Info: Data output thread running.\n",
      "2024-04-29 12:10:20) Info: Seeding xorwow rng with top word 40 and bottom word 827611409\n",
      "2024-04-29 12:10:20) Info: Data output thread finished.\n",
      "2024-04-29 12:10:20) Info: Simulation file closed.\n",
      "2024-04-29 12:10:20) Info: Using 56 processor(s) and 1 CUDA device(s) per process.\n",
      "2024-04-29 12:10:20) Info: Assigning 1.00 processor(s) and 1.00 CUDA device(s) per replicate.\n",
      "2024-04-29 12:10:20) Info: Data output thread running.\n",
      "2024-04-29 12:10:20) Info: Seeding xorwow rng with top word 41 and bottom word 850444255\n",
      "2024-04-29 12:10:20) Info: Data output thread finished.\n",
      "2024-04-29 12:10:20) Info: Simulation file closed.\n",
      "2024-04-29 12:10:20) Info: Using 56 processor(s) and 1 CUDA device(s) per process.\n",
      "2024-04-29 12:10:20) Info: Assigning 1.00 processor(s) and 1.00 CUDA device(s) per replicate.\n",
      "2024-04-29 12:10:20) Info: Data output thread running.\n",
      "2024-04-29 12:10:20) Info: Seeding xorwow rng with top word 42 and bottom word 873547616\n",
      "2024-04-29 12:10:20) Info: Data output thread finished.\n",
      "2024-04-29 12:10:20) Info: Simulation file closed.\n",
      "2024-04-29 12:10:20) Info: Using 56 processor(s) and 1 CUDA device(s) per process.\n",
      "2024-04-29 12:10:20) Info: Assigning 1.00 processor(s) and 1.00 CUDA device(s) per replicate.\n",
      "2024-04-29 12:10:20) Info: Data output thread running.\n",
      "2024-04-29 12:10:20) Info: Seeding xorwow rng with top word 43 and bottom word 896013736\n",
      "2024-04-29 12:10:20) Info: Data output thread finished.\n",
      "2024-04-29 12:10:20) Info: Simulation file closed.\n"
     ]
    },
    {
     "name": "stderr",
     "output_type": "stream",
     "text": [
      "\r",
      " 22%|###################################4                                                                                                                                 | 43/200 [00:01<00:03, 42.27it/s]"
     ]
    },
    {
     "name": "stdout",
     "output_type": "stream",
     "text": [
      "2024-04-29 12:10:20) Info: Using 56 processor(s) and 1 CUDA device(s) per process.\n",
      "2024-04-29 12:10:20) Info: Assigning 1.00 processor(s) and 1.00 CUDA device(s) per replicate.\n",
      "2024-04-29 12:10:20) Info: Data output thread running.\n",
      "2024-04-29 12:10:20) Info: Seeding xorwow rng with top word 44 and bottom word 918780350\n",
      "2024-04-29 12:10:20) Info: Data output thread finished.\n",
      "2024-04-29 12:10:20) Info: Simulation file closed.\n",
      "2024-04-29 12:10:20) Info: Using 56 processor(s) and 1 CUDA device(s) per process.\n",
      "2024-04-29 12:10:20) Info: Assigning 1.00 processor(s) and 1.00 CUDA device(s) per replicate.\n",
      "2024-04-29 12:10:20) Info: Data output thread running.\n",
      "2024-04-29 12:10:20) Info: Seeding xorwow rng with top word 45 and bottom word 942088615\n",
      "2024-04-29 12:10:20) Info: Data output thread finished.\n",
      "2024-04-29 12:10:20) Info: Simulation file closed.\n",
      "2024-04-29 12:10:20) Info: Using 56 processor(s) and 1 CUDA device(s) per process.\n",
      "2024-04-29 12:10:20) Info: Assigning 1.00 processor(s) and 1.00 CUDA device(s) per replicate.\n",
      "2024-04-29 12:10:20) Info: Data output thread running.\n",
      "2024-04-29 12:10:20) Info: Seeding xorwow rng with top word 46 and bottom word 965265882\n",
      "2024-04-29 12:10:20) Info: Data output thread finished.\n",
      "2024-04-29 12:10:20) Info: Simulation file closed.\n",
      "2024-04-29 12:10:20) Info: Using 56 processor(s) and 1 CUDA device(s) per process.\n",
      "2024-04-29 12:10:20) Info: Assigning 1.00 processor(s) and 1.00 CUDA device(s) per replicate.\n",
      "2024-04-29 12:10:20) Info: Data output thread running.\n",
      "2024-04-29 12:10:20) Info: Seeding xorwow rng with top word 47 and bottom word 987962209\n",
      "2024-04-29 12:10:21) Info: Data output thread finished.\n",
      "2024-04-29 12:10:21) Info: Simulation file closed.\n",
      "2024-04-29 12:10:21) Info: Using 56 processor(s) and 1 CUDA device(s) per process.\n",
      "2024-04-29 12:10:21) Info: Assigning 1.00 processor(s) and 1.00 CUDA device(s) per replicate.\n",
      "2024-04-29 12:10:21) Info: Data output thread running.\n",
      "2024-04-29 12:10:21) Info: Seeding xorwow rng with top word 48 and bottom word 12442926\n",
      "2024-04-29 12:10:21) Info: Data output thread finished.\n",
      "2024-04-29 12:10:21) Info: Simulation file closed.\n"
     ]
    },
    {
     "name": "stderr",
     "output_type": "stream",
     "text": [
      "\r",
      " 24%|#######################################6                                                                                                                             | 48/200 [00:01<00:03, 42.30it/s]"
     ]
    },
    {
     "name": "stdout",
     "output_type": "stream",
     "text": [
      "2024-04-29 12:10:21) Info: Using 56 processor(s) and 1 CUDA device(s) per process.\n",
      "2024-04-29 12:10:21) Info: Assigning 1.00 processor(s) and 1.00 CUDA device(s) per replicate.\n",
      "2024-04-29 12:10:21) Info: Data output thread running.\n",
      "2024-04-29 12:10:21) Info: Seeding xorwow rng with top word 49 and bottom word 37950986\n",
      "2024-04-29 12:10:21) Info: Data output thread finished.\n",
      "2024-04-29 12:10:21) Info: Simulation file closed.\n",
      "2024-04-29 12:10:21) Info: Using 56 processor(s) and 1 CUDA device(s) per process.\n",
      "2024-04-29 12:10:21) Info: Assigning 1.00 processor(s) and 1.00 CUDA device(s) per replicate.\n",
      "2024-04-29 12:10:21) Info: Data output thread running.\n",
      "2024-04-29 12:10:21) Info: Seeding xorwow rng with top word 50 and bottom word 62678763\n",
      "2024-04-29 12:10:21) Info: Data output thread finished.\n",
      "2024-04-29 12:10:21) Info: Simulation file closed.\n",
      "2024-04-29 12:10:21) Info: Using 56 processor(s) and 1 CUDA device(s) per process.\n",
      "2024-04-29 12:10:21) Info: Assigning 1.00 processor(s) and 1.00 CUDA device(s) per replicate.\n",
      "2024-04-29 12:10:21) Info: Data output thread running.\n",
      "2024-04-29 12:10:21) Info: Seeding xorwow rng with top word 51 and bottom word 85552290\n",
      "2024-04-29 12:10:21) Info: Data output thread finished.\n",
      "2024-04-29 12:10:21) Info: Simulation file closed.\n",
      "2024-04-29 12:10:21) Info: Using 56 processor(s) and 1 CUDA device(s) per process.\n",
      "2024-04-29 12:10:21) Info: Assigning 1.00 processor(s) and 1.00 CUDA device(s) per replicate.\n",
      "2024-04-29 12:10:21) Info: Data output thread running.\n",
      "2024-04-29 12:10:21) Info: Seeding xorwow rng with top word 52 and bottom word 108136017\n",
      "2024-04-29 12:10:21) Info: Data output thread finished.\n",
      "2024-04-29 12:10:21) Info: Simulation file closed.\n",
      "2024-04-29 12:10:21) Info: Using 56 processor(s) and 1 CUDA device(s) per process.\n",
      "2024-04-29 12:10:21) Info: Assigning 1.00 processor(s) and 1.00 CUDA device(s) per replicate.\n",
      "2024-04-29 12:10:21) Info: Data output thread running.\n",
      "2024-04-29 12:10:21) Info: Seeding xorwow rng with top word 53 and bottom word 131699834\n",
      "2024-04-29 12:10:21) Info: Data output thread finished.\n",
      "2024-04-29 12:10:21) Info: Simulation file closed.\n"
     ]
    },
    {
     "name": "stderr",
     "output_type": "stream",
     "text": [
      "\r",
      " 26%|###########################################7                                                                                                                         | 53/200 [00:01<00:03, 42.09it/s]"
     ]
    },
    {
     "name": "stdout",
     "output_type": "stream",
     "text": [
      "2024-04-29 12:10:21) Info: Using 56 processor(s) and 1 CUDA device(s) per process.\n",
      "2024-04-29 12:10:21) Info: Assigning 1.00 processor(s) and 1.00 CUDA device(s) per replicate.\n",
      "2024-04-29 12:10:21) Info: Data output thread running.\n",
      "2024-04-29 12:10:21) Info: Seeding xorwow rng with top word 54 and bottom word 157605098\n",
      "2024-04-29 12:10:21) Info: Data output thread finished.\n",
      "2024-04-29 12:10:21) Info: Simulation file closed.\n",
      "2024-04-29 12:10:21) Info: Using 56 processor(s) and 1 CUDA device(s) per process.\n",
      "2024-04-29 12:10:21) Info: Assigning 1.00 processor(s) and 1.00 CUDA device(s) per replicate.\n",
      "2024-04-29 12:10:21) Info: Data output thread running.\n",
      "2024-04-29 12:10:21) Info: Seeding xorwow rng with top word 55 and bottom word 182796447\n",
      "2024-04-29 12:10:21) Info: Data output thread finished.\n",
      "2024-04-29 12:10:21) Info: Simulation file closed.\n",
      "2024-04-29 12:10:21) Info: Using 56 processor(s) and 1 CUDA device(s) per process.\n",
      "2024-04-29 12:10:21) Info: Assigning 1.00 processor(s) and 1.00 CUDA device(s) per replicate.\n",
      "2024-04-29 12:10:21) Info: Data output thread running.\n",
      "2024-04-29 12:10:21) Info: Seeding xorwow rng with top word 56 and bottom word 207982174\n",
      "2024-04-29 12:10:21) Info: Data output thread finished.\n",
      "2024-04-29 12:10:21) Info: Simulation file closed.\n",
      "2024-04-29 12:10:21) Info: Using 56 processor(s) and 1 CUDA device(s) per process.\n",
      "2024-04-29 12:10:21) Info: Assigning 1.00 processor(s) and 1.00 CUDA device(s) per replicate.\n",
      "2024-04-29 12:10:21) Info: Data output thread running.\n",
      "2024-04-29 12:10:21) Info: Seeding xorwow rng with top word 57 and bottom word 231794051\n",
      "2024-04-29 12:10:21) Info: Data output thread finished.\n",
      "2024-04-29 12:10:21) Info: Simulation file closed.\n",
      "2024-04-29 12:10:21) Info: Using 56 processor(s) and 1 CUDA device(s) per process.\n",
      "2024-04-29 12:10:21) Info: Assigning 1.00 processor(s) and 1.00 CUDA device(s) per replicate.\n",
      "2024-04-29 12:10:21) Info: Data output thread running.\n",
      "2024-04-29 12:10:21) Info: Seeding xorwow rng with top word 58 and bottom word 255589473\n",
      "2024-04-29 12:10:21) Info: Data output thread finished.\n",
      "2024-04-29 12:10:21) Info: Simulation file closed.\n"
     ]
    },
    {
     "name": "stderr",
     "output_type": "stream",
     "text": [
      "\r",
      " 29%|###############################################8                                                                                                                     | 58/200 [00:01<00:03, 41.57it/s]"
     ]
    },
    {
     "name": "stdout",
     "output_type": "stream",
     "text": [
      "2024-04-29 12:10:21) Info: Using 56 processor(s) and 1 CUDA device(s) per process.\n",
      "2024-04-29 12:10:21) Info: Assigning 1.00 processor(s) and 1.00 CUDA device(s) per replicate.\n",
      "2024-04-29 12:10:21) Info: Data output thread running.\n",
      "2024-04-29 12:10:21) Info: Seeding xorwow rng with top word 59 and bottom word 281055015\n",
      "2024-04-29 12:10:21) Info: Data output thread finished.\n",
      "2024-04-29 12:10:21) Info: Simulation file closed.\n",
      "2024-04-29 12:10:21) Info: Using 56 processor(s) and 1 CUDA device(s) per process.\n",
      "2024-04-29 12:10:21) Info: Assigning 1.00 processor(s) and 1.00 CUDA device(s) per replicate.\n",
      "2024-04-29 12:10:21) Info: Data output thread running.\n",
      "2024-04-29 12:10:21) Info: Seeding xorwow rng with top word 60 and bottom word 308165004\n",
      "2024-04-29 12:10:21) Info: Data output thread finished.\n",
      "2024-04-29 12:10:21) Info: Simulation file closed.\n",
      "2024-04-29 12:10:21) Info: Using 56 processor(s) and 1 CUDA device(s) per process.\n",
      "2024-04-29 12:10:21) Info: Assigning 1.00 processor(s) and 1.00 CUDA device(s) per replicate.\n",
      "2024-04-29 12:10:21) Info: Data output thread running.\n",
      "2024-04-29 12:10:21) Info: Seeding xorwow rng with top word 61 and bottom word 335056812\n",
      "2024-04-29 12:10:21) Info: Data output thread finished.\n",
      "2024-04-29 12:10:21) Info: Simulation file closed.\n",
      "2024-04-29 12:10:21) Info: Using 56 processor(s) and 1 CUDA device(s) per process.\n",
      "2024-04-29 12:10:21) Info: Assigning 1.00 processor(s) and 1.00 CUDA device(s) per replicate.\n",
      "2024-04-29 12:10:21) Info: Data output thread running.\n",
      "2024-04-29 12:10:21) Info: Seeding xorwow rng with top word 62 and bottom word 363276710\n",
      "2024-04-29 12:10:21) Info: Data output thread finished.\n",
      "2024-04-29 12:10:21) Info: Simulation file closed.\n",
      "2024-04-29 12:10:21) Info: Using 56 processor(s) and 1 CUDA device(s) per process.\n",
      "2024-04-29 12:10:21) Info: Assigning 1.00 processor(s) and 1.00 CUDA device(s) per replicate.\n",
      "2024-04-29 12:10:21) Info: Data output thread running.\n",
      "2024-04-29 12:10:21) Info: Seeding xorwow rng with top word 63 and bottom word 388791000\n",
      "2024-04-29 12:10:21) Info: Data output thread finished.\n",
      "2024-04-29 12:10:21) Info: Simulation file closed.\n"
     ]
    },
    {
     "name": "stderr",
     "output_type": "stream",
     "text": [
      "\r",
      " 32%|###################################################9                                                                                                                 | 63/200 [00:01<00:03, 40.31it/s]"
     ]
    },
    {
     "name": "stdout",
     "output_type": "stream",
     "text": [
      "2024-04-29 12:10:21) Info: Using 56 processor(s) and 1 CUDA device(s) per process.\n",
      "2024-04-29 12:10:21) Info: Assigning 1.00 processor(s) and 1.00 CUDA device(s) per replicate.\n",
      "2024-04-29 12:10:21) Info: Data output thread running.\n",
      "2024-04-29 12:10:21) Info: Seeding xorwow rng with top word 64 and bottom word 413119130\n",
      "2024-04-29 12:10:21) Info: Data output thread finished.\n",
      "2024-04-29 12:10:21) Info: Simulation file closed.\n",
      "2024-04-29 12:10:21) Info: Using 56 processor(s) and 1 CUDA device(s) per process.\n",
      "2024-04-29 12:10:21) Info: Assigning 1.00 processor(s) and 1.00 CUDA device(s) per replicate.\n",
      "2024-04-29 12:10:21) Info: Data output thread running.\n",
      "2024-04-29 12:10:21) Info: Seeding xorwow rng with top word 65 and bottom word 436713389\n",
      "2024-04-29 12:10:21) Info: Data output thread finished.\n",
      "2024-04-29 12:10:21) Info: Simulation file closed.\n",
      "2024-04-29 12:10:21) Info: Using 56 processor(s) and 1 CUDA device(s) per process.\n",
      "2024-04-29 12:10:21) Info: Assigning 1.00 processor(s) and 1.00 CUDA device(s) per replicate.\n",
      "2024-04-29 12:10:21) Info: Data output thread running.\n",
      "2024-04-29 12:10:21) Info: Seeding xorwow rng with top word 66 and bottom word 461733272\n",
      "2024-04-29 12:10:21) Info: Data output thread finished.\n",
      "2024-04-29 12:10:21) Info: Simulation file closed.\n",
      "2024-04-29 12:10:21) Info: Using 56 processor(s) and 1 CUDA device(s) per process.\n",
      "2024-04-29 12:10:21) Info: Assigning 1.00 processor(s) and 1.00 CUDA device(s) per replicate.\n",
      "2024-04-29 12:10:21) Info: Data output thread running.\n",
      "2024-04-29 12:10:21) Info: Seeding xorwow rng with top word 67 and bottom word 484902628\n",
      "2024-04-29 12:10:21) Info: Data output thread finished.\n",
      "2024-04-29 12:10:21) Info: Simulation file closed.\n",
      "2024-04-29 12:10:21) Info: Using 56 processor(s) and 1 CUDA device(s) per process.\n",
      "2024-04-29 12:10:21) Info: Assigning 1.00 processor(s) and 1.00 CUDA device(s) per replicate.\n",
      "2024-04-29 12:10:21) Info: Data output thread running.\n",
      "2024-04-29 12:10:21) Info: Seeding xorwow rng with top word 68 and bottom word 507788853\n",
      "2024-04-29 12:10:21) Info: Data output thread finished.\n",
      "2024-04-29 12:10:21) Info: Simulation file closed.\n"
     ]
    },
    {
     "name": "stderr",
     "output_type": "stream",
     "text": [
      "\r",
      " 34%|########################################################1                                                                                                            | 68/200 [00:01<00:03, 40.71it/s]"
     ]
    },
    {
     "name": "stdout",
     "output_type": "stream",
     "text": [
      "2024-04-29 12:10:21) Info: Using 56 processor(s) and 1 CUDA device(s) per process.\n",
      "2024-04-29 12:10:21) Info: Assigning 1.00 processor(s) and 1.00 CUDA device(s) per replicate.\n",
      "2024-04-29 12:10:21) Info: Data output thread running.\n",
      "2024-04-29 12:10:21) Info: Seeding xorwow rng with top word 69 and bottom word 533522846\n",
      "2024-04-29 12:10:21) Info: Data output thread finished.\n",
      "2024-04-29 12:10:21) Info: Simulation file closed.\n",
      "2024-04-29 12:10:21) Info: Using 56 processor(s) and 1 CUDA device(s) per process.\n",
      "2024-04-29 12:10:21) Info: Assigning 1.00 processor(s) and 1.00 CUDA device(s) per replicate.\n",
      "2024-04-29 12:10:21) Info: Data output thread running.\n",
      "2024-04-29 12:10:21) Info: Seeding xorwow rng with top word 70 and bottom word 557064669\n",
      "2024-04-29 12:10:21) Info: Data output thread finished.\n",
      "2024-04-29 12:10:21) Info: Simulation file closed.\n",
      "2024-04-29 12:10:21) Info: Using 56 processor(s) and 1 CUDA device(s) per process.\n",
      "2024-04-29 12:10:21) Info: Assigning 1.00 processor(s) and 1.00 CUDA device(s) per replicate.\n",
      "2024-04-29 12:10:21) Info: Data output thread running.\n",
      "2024-04-29 12:10:21) Info: Seeding xorwow rng with top word 71 and bottom word 580740416\n",
      "2024-04-29 12:10:21) Info: Data output thread finished.\n",
      "2024-04-29 12:10:21) Info: Simulation file closed.\n",
      "2024-04-29 12:10:21) Info: Using 56 processor(s) and 1 CUDA device(s) per process.\n",
      "2024-04-29 12:10:21) Info: Assigning 1.00 processor(s) and 1.00 CUDA device(s) per replicate.\n",
      "2024-04-29 12:10:21) Info: Data output thread running.\n",
      "2024-04-29 12:10:21) Info: Seeding xorwow rng with top word 72 and bottom word 603495967\n",
      "2024-04-29 12:10:21) Info: Data output thread finished.\n",
      "2024-04-29 12:10:21) Info: Simulation file closed.\n",
      "2024-04-29 12:10:21) Info: Using 56 processor(s) and 1 CUDA device(s) per process.\n",
      "2024-04-29 12:10:21) Info: Assigning 1.00 processor(s) and 1.00 CUDA device(s) per replicate.\n",
      "2024-04-29 12:10:21) Info: Data output thread running.\n",
      "2024-04-29 12:10:21) Info: Seeding xorwow rng with top word 73 and bottom word 627159822\n",
      "2024-04-29 12:10:21) Info: Data output thread finished.\n",
      "2024-04-29 12:10:21) Info: Simulation file closed.\n"
     ]
    },
    {
     "name": "stderr",
     "output_type": "stream",
     "text": [
      "\r",
      " 36%|############################################################2                                                                                                        | 73/200 [00:01<00:03, 41.17it/s]"
     ]
    },
    {
     "name": "stdout",
     "output_type": "stream",
     "text": [
      "2024-04-29 12:10:21) Info: Using 56 processor(s) and 1 CUDA device(s) per process.\n",
      "2024-04-29 12:10:21) Info: Assigning 1.00 processor(s) and 1.00 CUDA device(s) per replicate.\n",
      "2024-04-29 12:10:21) Info: Data output thread running.\n",
      "2024-04-29 12:10:21) Info: Seeding xorwow rng with top word 74 and bottom word 651872182\n",
      "2024-04-29 12:10:21) Info: Data output thread finished.\n",
      "2024-04-29 12:10:21) Info: Simulation file closed.\n",
      "2024-04-29 12:10:21) Info: Using 56 processor(s) and 1 CUDA device(s) per process.\n",
      "2024-04-29 12:10:21) Info: Assigning 1.00 processor(s) and 1.00 CUDA device(s) per replicate.\n",
      "2024-04-29 12:10:21) Info: Data output thread running.\n",
      "2024-04-29 12:10:21) Info: Seeding xorwow rng with top word 75 and bottom word 676477790\n",
      "2024-04-29 12:10:21) Info: Data output thread finished.\n",
      "2024-04-29 12:10:21) Info: Simulation file closed.\n",
      "2024-04-29 12:10:21) Info: Using 56 processor(s) and 1 CUDA device(s) per process.\n",
      "2024-04-29 12:10:21) Info: Assigning 1.00 processor(s) and 1.00 CUDA device(s) per replicate.\n",
      "2024-04-29 12:10:21) Info: Data output thread running.\n",
      "2024-04-29 12:10:21) Info: Seeding xorwow rng with top word 76 and bottom word 701858671\n",
      "2024-04-29 12:10:21) Info: Data output thread finished.\n",
      "2024-04-29 12:10:21) Info: Simulation file closed.\n",
      "2024-04-29 12:10:21) Info: Using 56 processor(s) and 1 CUDA device(s) per process.\n",
      "2024-04-29 12:10:21) Info: Assigning 1.00 processor(s) and 1.00 CUDA device(s) per replicate.\n",
      "2024-04-29 12:10:21) Info: Data output thread running.\n",
      "2024-04-29 12:10:21) Info: Seeding xorwow rng with top word 77 and bottom word 726340420\n",
      "2024-04-29 12:10:21) Info: Data output thread finished.\n",
      "2024-04-29 12:10:21) Info: Simulation file closed.\n",
      "2024-04-29 12:10:21) Info: Using 56 processor(s) and 1 CUDA device(s) per process.\n",
      "2024-04-29 12:10:21) Info: Assigning 1.00 processor(s) and 1.00 CUDA device(s) per replicate.\n",
      "2024-04-29 12:10:21) Info: Data output thread running.\n",
      "2024-04-29 12:10:21) Info: Seeding xorwow rng with top word 78 and bottom word 749409960\n",
      "2024-04-29 12:10:21) Info: Data output thread finished.\n",
      "2024-04-29 12:10:21) Info: Simulation file closed.\n"
     ]
    },
    {
     "name": "stderr",
     "output_type": "stream",
     "text": [
      "\r",
      " 39%|################################################################3                                                                                                    | 78/200 [00:02<00:02, 41.02it/s]"
     ]
    },
    {
     "name": "stdout",
     "output_type": "stream",
     "text": [
      "2024-04-29 12:10:21) Info: Using 56 processor(s) and 1 CUDA device(s) per process.\n",
      "2024-04-29 12:10:21) Info: Assigning 1.00 processor(s) and 1.00 CUDA device(s) per replicate.\n",
      "2024-04-29 12:10:21) Info: Data output thread running.\n",
      "2024-04-29 12:10:21) Info: Seeding xorwow rng with top word 79 and bottom word 774583164\n",
      "2024-04-29 12:10:21) Info: Data output thread finished.\n",
      "2024-04-29 12:10:21) Info: Simulation file closed.\n",
      "2024-04-29 12:10:21) Info: Using 56 processor(s) and 1 CUDA device(s) per process.\n",
      "2024-04-29 12:10:21) Info: Assigning 1.00 processor(s) and 1.00 CUDA device(s) per replicate.\n",
      "2024-04-29 12:10:21) Info: Data output thread running.\n",
      "2024-04-29 12:10:21) Info: Seeding xorwow rng with top word 80 and bottom word 797804013\n",
      "2024-04-29 12:10:21) Info: Data output thread finished.\n",
      "2024-04-29 12:10:21) Info: Simulation file closed.\n",
      "2024-04-29 12:10:21) Info: Using 56 processor(s) and 1 CUDA device(s) per process.\n",
      "2024-04-29 12:10:21) Info: Assigning 1.00 processor(s) and 1.00 CUDA device(s) per replicate.\n",
      "2024-04-29 12:10:21) Info: Data output thread running.\n",
      "2024-04-29 12:10:21) Info: Seeding xorwow rng with top word 81 and bottom word 822476262\n",
      "2024-04-29 12:10:21) Info: Data output thread finished.\n",
      "2024-04-29 12:10:21) Info: Simulation file closed.\n",
      "2024-04-29 12:10:21) Info: Using 56 processor(s) and 1 CUDA device(s) per process.\n",
      "2024-04-29 12:10:21) Info: Assigning 1.00 processor(s) and 1.00 CUDA device(s) per replicate.\n",
      "2024-04-29 12:10:21) Info: Data output thread running.\n",
      "2024-04-29 12:10:21) Info: Seeding xorwow rng with top word 82 and bottom word 845624785\n",
      "2024-04-29 12:10:21) Info: Data output thread finished.\n",
      "2024-04-29 12:10:21) Info: Simulation file closed.\n",
      "2024-04-29 12:10:21) Info: Using 56 processor(s) and 1 CUDA device(s) per process.\n",
      "2024-04-29 12:10:21) Info: Assigning 1.00 processor(s) and 1.00 CUDA device(s) per replicate.\n",
      "2024-04-29 12:10:21) Info: Data output thread running.\n",
      "2024-04-29 12:10:21) Info: Seeding xorwow rng with top word 83 and bottom word 870786357\n",
      "2024-04-29 12:10:21) Info: Data output thread finished.\n",
      "2024-04-29 12:10:21) Info: Simulation file closed.\n"
     ]
    },
    {
     "name": "stderr",
     "output_type": "stream",
     "text": [
      "\r",
      " 42%|####################################################################4                                                                                                | 83/200 [00:02<00:02, 41.16it/s]"
     ]
    },
    {
     "name": "stdout",
     "output_type": "stream",
     "text": [
      "2024-04-29 12:10:21) Info: Using 56 processor(s) and 1 CUDA device(s) per process.\n",
      "2024-04-29 12:10:21) Info: Assigning 1.00 processor(s) and 1.00 CUDA device(s) per replicate.\n",
      "2024-04-29 12:10:21) Info: Data output thread running.\n",
      "2024-04-29 12:10:21) Info: Seeding xorwow rng with top word 84 and bottom word 895123510\n",
      "2024-04-29 12:10:21) Info: Data output thread finished.\n",
      "2024-04-29 12:10:21) Info: Simulation file closed.\n",
      "2024-04-29 12:10:21) Info: Using 56 processor(s) and 1 CUDA device(s) per process.\n",
      "2024-04-29 12:10:21) Info: Assigning 1.00 processor(s) and 1.00 CUDA device(s) per replicate.\n",
      "2024-04-29 12:10:21) Info: Data output thread running.\n",
      "2024-04-29 12:10:21) Info: Seeding xorwow rng with top word 85 and bottom word 918434477\n",
      "2024-04-29 12:10:21) Info: Data output thread finished.\n",
      "2024-04-29 12:10:21) Info: Simulation file closed.\n",
      "2024-04-29 12:10:21) Info: Using 56 processor(s) and 1 CUDA device(s) per process.\n",
      "2024-04-29 12:10:21) Info: Assigning 1.00 processor(s) and 1.00 CUDA device(s) per replicate.\n",
      "2024-04-29 12:10:21) Info: Data output thread running.\n",
      "2024-04-29 12:10:21) Info: Seeding xorwow rng with top word 86 and bottom word 941270158\n",
      "2024-04-29 12:10:21) Info: Data output thread finished.\n",
      "2024-04-29 12:10:21) Info: Simulation file closed.\n",
      "2024-04-29 12:10:21) Info: Using 56 processor(s) and 1 CUDA device(s) per process.\n",
      "2024-04-29 12:10:21) Info: Assigning 1.00 processor(s) and 1.00 CUDA device(s) per replicate.\n",
      "2024-04-29 12:10:21) Info: Data output thread running.\n",
      "2024-04-29 12:10:21) Info: Seeding xorwow rng with top word 87 and bottom word 964160325\n",
      "2024-04-29 12:10:21) Info: Data output thread finished.\n",
      "2024-04-29 12:10:21) Info: Simulation file closed.\n",
      "2024-04-29 12:10:21) Info: Using 56 processor(s) and 1 CUDA device(s) per process.\n",
      "2024-04-29 12:10:21) Info: Assigning 1.00 processor(s) and 1.00 CUDA device(s) per replicate.\n",
      "2024-04-29 12:10:21) Info: Data output thread running.\n",
      "2024-04-29 12:10:21) Info: Seeding xorwow rng with top word 88 and bottom word 987542750\n",
      "2024-04-29 12:10:22) Info: Data output thread finished.\n",
      "2024-04-29 12:10:22) Info: Simulation file closed.\n"
     ]
    },
    {
     "name": "stderr",
     "output_type": "stream",
     "text": [
      "\r",
      " 44%|########################################################################6                                                                                            | 88/200 [00:02<00:02, 41.42it/s]"
     ]
    },
    {
     "name": "stdout",
     "output_type": "stream",
     "text": [
      "2024-04-29 12:10:22) Info: Using 56 processor(s) and 1 CUDA device(s) per process.\n",
      "2024-04-29 12:10:22) Info: Assigning 1.00 processor(s) and 1.00 CUDA device(s) per replicate.\n",
      "2024-04-29 12:10:22) Info: Data output thread running.\n",
      "2024-04-29 12:10:22) Info: Seeding xorwow rng with top word 89 and bottom word 14233299\n",
      "2024-04-29 12:10:22) Info: Data output thread finished.\n",
      "2024-04-29 12:10:22) Info: Simulation file closed.\n",
      "2024-04-29 12:10:22) Info: Using 56 processor(s) and 1 CUDA device(s) per process.\n",
      "2024-04-29 12:10:22) Info: Assigning 1.00 processor(s) and 1.00 CUDA device(s) per replicate.\n",
      "2024-04-29 12:10:22) Info: Data output thread running.\n",
      "2024-04-29 12:10:22) Info: Seeding xorwow rng with top word 90 and bottom word 38278297\n",
      "2024-04-29 12:10:22) Info: Data output thread finished.\n",
      "2024-04-29 12:10:22) Info: Simulation file closed.\n",
      "2024-04-29 12:10:22) Info: Using 56 processor(s) and 1 CUDA device(s) per process.\n",
      "2024-04-29 12:10:22) Info: Assigning 1.00 processor(s) and 1.00 CUDA device(s) per replicate.\n",
      "2024-04-29 12:10:22) Info: Data output thread running.\n",
      "2024-04-29 12:10:22) Info: Seeding xorwow rng with top word 91 and bottom word 62610304\n",
      "2024-04-29 12:10:22) Info: Data output thread finished.\n",
      "2024-04-29 12:10:22) Info: Simulation file closed.\n",
      "2024-04-29 12:10:22) Info: Using 56 processor(s) and 1 CUDA device(s) per process.\n",
      "2024-04-29 12:10:22) Info: Assigning 1.00 processor(s) and 1.00 CUDA device(s) per replicate.\n",
      "2024-04-29 12:10:22) Info: Data output thread running.\n",
      "2024-04-29 12:10:22) Info: Seeding xorwow rng with top word 92 and bottom word 86732504\n",
      "2024-04-29 12:10:22) Info: Data output thread finished.\n",
      "2024-04-29 12:10:22) Info: Simulation file closed.\n",
      "2024-04-29 12:10:22) Info: Using 56 processor(s) and 1 CUDA device(s) per process.\n",
      "2024-04-29 12:10:22) Info: Assigning 1.00 processor(s) and 1.00 CUDA device(s) per replicate.\n",
      "2024-04-29 12:10:22) Info: Data output thread running.\n",
      "2024-04-29 12:10:22) Info: Seeding xorwow rng with top word 93 and bottom word 110079732\n",
      "2024-04-29 12:10:22) Info: Data output thread finished.\n",
      "2024-04-29 12:10:22) Info: Simulation file closed.\n"
     ]
    },
    {
     "name": "stderr",
     "output_type": "stream",
     "text": [
      "\r",
      " 46%|############################################################################7                                                                                        | 93/200 [00:02<00:02, 41.46it/s]"
     ]
    },
    {
     "name": "stdout",
     "output_type": "stream",
     "text": [
      "2024-04-29 12:10:22) Info: Using 56 processor(s) and 1 CUDA device(s) per process.\n",
      "2024-04-29 12:10:22) Info: Assigning 1.00 processor(s) and 1.00 CUDA device(s) per replicate.\n",
      "2024-04-29 12:10:22) Info: Data output thread running.\n",
      "2024-04-29 12:10:22) Info: Seeding xorwow rng with top word 94 and bottom word 134302727\n",
      "2024-04-29 12:10:22) Info: Data output thread finished.\n",
      "2024-04-29 12:10:22) Info: Simulation file closed.\n",
      "2024-04-29 12:10:22) Info: Using 56 processor(s) and 1 CUDA device(s) per process.\n",
      "2024-04-29 12:10:22) Info: Assigning 1.00 processor(s) and 1.00 CUDA device(s) per replicate.\n",
      "2024-04-29 12:10:22) Info: Data output thread running.\n",
      "2024-04-29 12:10:22) Info: Seeding xorwow rng with top word 95 and bottom word 156989746\n",
      "2024-04-29 12:10:22) Info: Data output thread finished.\n",
      "2024-04-29 12:10:22) Info: Simulation file closed.\n",
      "2024-04-29 12:10:22) Info: Using 56 processor(s) and 1 CUDA device(s) per process.\n",
      "2024-04-29 12:10:22) Info: Assigning 1.00 processor(s) and 1.00 CUDA device(s) per replicate.\n",
      "2024-04-29 12:10:22) Info: Data output thread running.\n",
      "2024-04-29 12:10:22) Info: Seeding xorwow rng with top word 96 and bottom word 179662393\n",
      "2024-04-29 12:10:22) Info: Data output thread finished.\n",
      "2024-04-29 12:10:22) Info: Simulation file closed.\n",
      "2024-04-29 12:10:22) Info: Using 56 processor(s) and 1 CUDA device(s) per process.\n",
      "2024-04-29 12:10:22) Info: Assigning 1.00 processor(s) and 1.00 CUDA device(s) per replicate.\n",
      "2024-04-29 12:10:22) Info: Data output thread running.\n",
      "2024-04-29 12:10:22) Info: Seeding xorwow rng with top word 97 and bottom word 201353112\n",
      "2024-04-29 12:10:22) Info: Data output thread finished.\n",
      "2024-04-29 12:10:22) Info: Simulation file closed.\n",
      "2024-04-29 12:10:22) Info: Using 56 processor(s) and 1 CUDA device(s) per process.\n",
      "2024-04-29 12:10:22) Info: Assigning 1.00 processor(s) and 1.00 CUDA device(s) per replicate.\n",
      "2024-04-29 12:10:22) Info: Data output thread running.\n",
      "2024-04-29 12:10:22) Info: Seeding xorwow rng with top word 98 and bottom word 223946161\n",
      "2024-04-29 12:10:22) Info: Data output thread finished.\n",
      "2024-04-29 12:10:22) Info: Simulation file closed.\n"
     ]
    },
    {
     "name": "stderr",
     "output_type": "stream",
     "text": [
      "\r",
      " 49%|################################################################################8                                                                                    | 98/200 [00:02<00:02, 42.09it/s]"
     ]
    },
    {
     "name": "stdout",
     "output_type": "stream",
     "text": [
      "2024-04-29 12:10:22) Info: Using 56 processor(s) and 1 CUDA device(s) per process.\n",
      "2024-04-29 12:10:22) Info: Assigning 1.00 processor(s) and 1.00 CUDA device(s) per replicate.\n",
      "2024-04-29 12:10:22) Info: Data output thread running.\n",
      "2024-04-29 12:10:22) Info: Seeding xorwow rng with top word 99 and bottom word 249077783\n",
      "2024-04-29 12:10:22) Info: Data output thread finished.\n",
      "2024-04-29 12:10:22) Info: Simulation file closed.\n",
      "2024-04-29 12:10:22) Info: Using 56 processor(s) and 1 CUDA device(s) per process.\n",
      "2024-04-29 12:10:22) Info: Assigning 1.00 processor(s) and 1.00 CUDA device(s) per replicate.\n",
      "2024-04-29 12:10:22) Info: Data output thread running.\n",
      "2024-04-29 12:10:22) Info: Seeding xorwow rng with top word 100 and bottom word 272896118\n",
      "2024-04-29 12:10:22) Info: Data output thread finished.\n",
      "2024-04-29 12:10:22) Info: Simulation file closed.\n",
      "2024-04-29 12:10:22) Info: Using 56 processor(s) and 1 CUDA device(s) per process.\n",
      "2024-04-29 12:10:22) Info: Assigning 1.00 processor(s) and 1.00 CUDA device(s) per replicate.\n",
      "2024-04-29 12:10:22) Info: Data output thread running.\n",
      "2024-04-29 12:10:22) Info: Seeding xorwow rng with top word 101 and bottom word 296761243\n",
      "2024-04-29 12:10:22) Info: Data output thread finished.\n",
      "2024-04-29 12:10:22) Info: Simulation file closed.\n",
      "2024-04-29 12:10:22) Info: Using 56 processor(s) and 1 CUDA device(s) per process.\n",
      "2024-04-29 12:10:22) Info: Assigning 1.00 processor(s) and 1.00 CUDA device(s) per replicate.\n",
      "2024-04-29 12:10:22) Info: Data output thread running.\n",
      "2024-04-29 12:10:22) Info: Seeding xorwow rng with top word 102 and bottom word 323794121\n",
      "2024-04-29 12:10:22) Info: Data output thread finished.\n",
      "2024-04-29 12:10:22) Info: Simulation file closed.\n",
      "2024-04-29 12:10:22) Info: Using 56 processor(s) and 1 CUDA device(s) per process.\n",
      "2024-04-29 12:10:22) Info: Assigning 1.00 processor(s) and 1.00 CUDA device(s) per replicate.\n",
      "2024-04-29 12:10:22) Info: Data output thread running.\n",
      "2024-04-29 12:10:22) Info: Seeding xorwow rng with top word 103 and bottom word 352003023\n",
      "2024-04-29 12:10:22) Info: Data output thread finished.\n",
      "2024-04-29 12:10:22) Info: Simulation file closed.\n"
     ]
    },
    {
     "name": "stderr",
     "output_type": "stream",
     "text": [
      "\r",
      " 52%|####################################################################################4                                                                               | 103/200 [00:02<00:02, 40.84it/s]"
     ]
    },
    {
     "name": "stdout",
     "output_type": "stream",
     "text": [
      "2024-04-29 12:10:22) Info: Using 56 processor(s) and 1 CUDA device(s) per process.\n",
      "2024-04-29 12:10:22) Info: Assigning 1.00 processor(s) and 1.00 CUDA device(s) per replicate.\n",
      "2024-04-29 12:10:22) Info: Data output thread running.\n",
      "2024-04-29 12:10:22) Info: Seeding xorwow rng with top word 104 and bottom word 379916980\n",
      "2024-04-29 12:10:22) Info: Data output thread finished.\n",
      "2024-04-29 12:10:22) Info: Simulation file closed.\n",
      "2024-04-29 12:10:22) Info: Using 56 processor(s) and 1 CUDA device(s) per process.\n",
      "2024-04-29 12:10:22) Info: Assigning 1.00 processor(s) and 1.00 CUDA device(s) per replicate.\n",
      "2024-04-29 12:10:22) Info: Data output thread running.\n",
      "2024-04-29 12:10:22) Info: Seeding xorwow rng with top word 105 and bottom word 406295430\n",
      "2024-04-29 12:10:22) Info: Data output thread finished.\n",
      "2024-04-29 12:10:22) Info: Simulation file closed.\n",
      "2024-04-29 12:10:22) Info: Using 56 processor(s) and 1 CUDA device(s) per process.\n",
      "2024-04-29 12:10:22) Info: Assigning 1.00 processor(s) and 1.00 CUDA device(s) per replicate.\n",
      "2024-04-29 12:10:22) Info: Data output thread running.\n",
      "2024-04-29 12:10:22) Info: Seeding xorwow rng with top word 106 and bottom word 433665079\n",
      "2024-04-29 12:10:22) Info: Data output thread finished.\n",
      "2024-04-29 12:10:22) Info: Simulation file closed.\n",
      "2024-04-29 12:10:22) Info: Using 56 processor(s) and 1 CUDA device(s) per process.\n",
      "2024-04-29 12:10:22) Info: Assigning 1.00 processor(s) and 1.00 CUDA device(s) per replicate.\n",
      "2024-04-29 12:10:22) Info: Data output thread running.\n",
      "2024-04-29 12:10:22) Info: Seeding xorwow rng with top word 107 and bottom word 459776823\n",
      "2024-04-29 12:10:22) Info: Data output thread finished.\n",
      "2024-04-29 12:10:22) Info: Simulation file closed.\n",
      "2024-04-29 12:10:22) Info: Using 56 processor(s) and 1 CUDA device(s) per process.\n",
      "2024-04-29 12:10:22) Info: Assigning 1.00 processor(s) and 1.00 CUDA device(s) per replicate.\n",
      "2024-04-29 12:10:22) Info: Data output thread running.\n",
      "2024-04-29 12:10:22) Info: Seeding xorwow rng with top word 108 and bottom word 487683817\n",
      "2024-04-29 12:10:22) Info: Data output thread finished.\n",
      "2024-04-29 12:10:22) Info: Simulation file closed.\n"
     ]
    },
    {
     "name": "stderr",
     "output_type": "stream",
     "text": [
      "\r",
      " 54%|########################################################################################5                                                                           | 108/200 [00:02<00:02, 39.63it/s]"
     ]
    },
    {
     "name": "stdout",
     "output_type": "stream",
     "text": [
      "2024-04-29 12:10:22) Info: Using 56 processor(s) and 1 CUDA device(s) per process.\n",
      "2024-04-29 12:10:22) Info: Assigning 1.00 processor(s) and 1.00 CUDA device(s) per replicate.\n",
      "2024-04-29 12:10:22) Info: Data output thread running.\n",
      "2024-04-29 12:10:22) Info: Seeding xorwow rng with top word 109 and bottom word 515326262\n",
      "2024-04-29 12:10:22) Info: Data output thread finished.\n",
      "2024-04-29 12:10:22) Info: Simulation file closed.\n",
      "2024-04-29 12:10:22) Info: Using 56 processor(s) and 1 CUDA device(s) per process.\n",
      "2024-04-29 12:10:22) Info: Assigning 1.00 processor(s) and 1.00 CUDA device(s) per replicate.\n",
      "2024-04-29 12:10:22) Info: Data output thread running.\n",
      "2024-04-29 12:10:22) Info: Seeding xorwow rng with top word 110 and bottom word 540606753\n",
      "2024-04-29 12:10:22) Info: Data output thread finished.\n",
      "2024-04-29 12:10:22) Info: Simulation file closed.\n",
      "2024-04-29 12:10:22) Info: Using 56 processor(s) and 1 CUDA device(s) per process.\n",
      "2024-04-29 12:10:22) Info: Assigning 1.00 processor(s) and 1.00 CUDA device(s) per replicate.\n",
      "2024-04-29 12:10:22) Info: Data output thread running.\n",
      "2024-04-29 12:10:22) Info: Seeding xorwow rng with top word 111 and bottom word 564810091\n",
      "2024-04-29 12:10:22) Info: Data output thread finished.\n",
      "2024-04-29 12:10:22) Info: Simulation file closed.\n",
      "2024-04-29 12:10:22) Info: Using 56 processor(s) and 1 CUDA device(s) per process.\n",
      "2024-04-29 12:10:22) Info: Assigning 1.00 processor(s) and 1.00 CUDA device(s) per replicate.\n",
      "2024-04-29 12:10:22) Info: Data output thread running.\n",
      "2024-04-29 12:10:22) Info: Seeding xorwow rng with top word 112 and bottom word 589037426\n",
      "2024-04-29 12:10:22) Info: Data output thread finished.\n",
      "2024-04-29 12:10:22) Info: Simulation file closed.\n"
     ]
    },
    {
     "name": "stderr",
     "output_type": "stream",
     "text": [
      "\r",
      " 56%|###########################################################################################8                                                                        | 112/200 [00:02<00:02, 39.68it/s]"
     ]
    },
    {
     "name": "stdout",
     "output_type": "stream",
     "text": [
      "2024-04-29 12:10:22) Info: Using 56 processor(s) and 1 CUDA device(s) per process.\n",
      "2024-04-29 12:10:22) Info: Assigning 1.00 processor(s) and 1.00 CUDA device(s) per replicate.\n",
      "2024-04-29 12:10:22) Info: Data output thread running.\n",
      "2024-04-29 12:10:22) Info: Seeding xorwow rng with top word 113 and bottom word 615082877\n",
      "2024-04-29 12:10:22) Info: Data output thread finished.\n",
      "2024-04-29 12:10:22) Info: Simulation file closed.\n",
      "2024-04-29 12:10:22) Info: Using 56 processor(s) and 1 CUDA device(s) per process.\n",
      "2024-04-29 12:10:22) Info: Assigning 1.00 processor(s) and 1.00 CUDA device(s) per replicate.\n",
      "2024-04-29 12:10:22) Info: Data output thread running.\n",
      "2024-04-29 12:10:22) Info: Seeding xorwow rng with top word 114 and bottom word 638596157\n",
      "2024-04-29 12:10:22) Info: Data output thread finished.\n",
      "2024-04-29 12:10:22) Info: Simulation file closed.\n",
      "2024-04-29 12:10:22) Info: Using 56 processor(s) and 1 CUDA device(s) per process.\n",
      "2024-04-29 12:10:22) Info: Assigning 1.00 processor(s) and 1.00 CUDA device(s) per replicate.\n",
      "2024-04-29 12:10:22) Info: Data output thread running.\n",
      "2024-04-29 12:10:22) Info: Seeding xorwow rng with top word 115 and bottom word 663730304\n",
      "2024-04-29 12:10:22) Info: Data output thread finished.\n",
      "2024-04-29 12:10:22) Info: Simulation file closed.\n",
      "2024-04-29 12:10:22) Info: Using 56 processor(s) and 1 CUDA device(s) per process.\n",
      "2024-04-29 12:10:22) Info: Assigning 1.00 processor(s) and 1.00 CUDA device(s) per replicate.\n",
      "2024-04-29 12:10:22) Info: Data output thread running.\n",
      "2024-04-29 12:10:22) Info: Seeding xorwow rng with top word 116 and bottom word 689345515\n",
      "2024-04-29 12:10:22) Info: Data output thread finished.\n",
      "2024-04-29 12:10:22) Info: Simulation file closed.\n",
      "2024-04-29 12:10:22) Info: Using 56 processor(s) and 1 CUDA device(s) per process.\n",
      "2024-04-29 12:10:22) Info: Assigning 1.00 processor(s) and 1.00 CUDA device(s) per replicate.\n",
      "2024-04-29 12:10:22) Info: Data output thread running.\n",
      "2024-04-29 12:10:22) Info: Seeding xorwow rng with top word 117 and bottom word 713178791\n",
      "2024-04-29 12:10:22) Info: Data output thread finished.\n",
      "2024-04-29 12:10:22) Info: Simulation file closed.\n"
     ]
    },
    {
     "name": "stderr",
     "output_type": "stream",
     "text": [
      "\r",
      " 58%|###############################################################################################9                                                                    | 117/200 [00:02<00:02, 40.08it/s]"
     ]
    },
    {
     "name": "stdout",
     "output_type": "stream",
     "text": [
      "2024-04-29 12:10:22) Info: Using 56 processor(s) and 1 CUDA device(s) per process.\n",
      "2024-04-29 12:10:22) Info: Assigning 1.00 processor(s) and 1.00 CUDA device(s) per replicate.\n",
      "2024-04-29 12:10:22) Info: Data output thread running.\n",
      "2024-04-29 12:10:22) Info: Seeding xorwow rng with top word 118 and bottom word 737629660\n",
      "2024-04-29 12:10:22) Info: Data output thread finished.\n",
      "2024-04-29 12:10:22) Info: Simulation file closed.\n",
      "2024-04-29 12:10:22) Info: Using 56 processor(s) and 1 CUDA device(s) per process.\n",
      "2024-04-29 12:10:22) Info: Assigning 1.00 processor(s) and 1.00 CUDA device(s) per replicate.\n",
      "2024-04-29 12:10:22) Info: Data output thread running.\n",
      "2024-04-29 12:10:22) Info: Seeding xorwow rng with top word 119 and bottom word 762000423\n",
      "2024-04-29 12:10:22) Info: Data output thread finished.\n",
      "2024-04-29 12:10:22) Info: Simulation file closed.\n",
      "2024-04-29 12:10:22) Info: Using 56 processor(s) and 1 CUDA device(s) per process.\n",
      "2024-04-29 12:10:22) Info: Assigning 1.00 processor(s) and 1.00 CUDA device(s) per replicate.\n",
      "2024-04-29 12:10:22) Info: Data output thread running.\n",
      "2024-04-29 12:10:22) Info: Seeding xorwow rng with top word 120 and bottom word 787211972\n",
      "2024-04-29 12:10:22) Info: Data output thread finished.\n",
      "2024-04-29 12:10:22) Info: Simulation file closed.\n",
      "2024-04-29 12:10:22) Info: Using 56 processor(s) and 1 CUDA device(s) per process.\n",
      "2024-04-29 12:10:22) Info: Assigning 1.00 processor(s) and 1.00 CUDA device(s) per replicate.\n",
      "2024-04-29 12:10:22) Info: Data output thread running.\n",
      "2024-04-29 12:10:22) Info: Seeding xorwow rng with top word 121 and bottom word 812527049\n",
      "2024-04-29 12:10:22) Info: Data output thread finished.\n",
      "2024-04-29 12:10:22) Info: Simulation file closed.\n",
      "2024-04-29 12:10:22) Info: Using 56 processor(s) and 1 CUDA device(s) per process.\n",
      "2024-04-29 12:10:22) Info: Assigning 1.00 processor(s) and 1.00 CUDA device(s) per replicate.\n",
      "2024-04-29 12:10:22) Info: Data output thread running.\n",
      "2024-04-29 12:10:22) Info: Seeding xorwow rng with top word 122 and bottom word 837593404\n",
      "2024-04-29 12:10:22) Info: Data output thread finished.\n",
      "2024-04-29 12:10:22) Info: Simulation file closed.\n"
     ]
    },
    {
     "name": "stderr",
     "output_type": "stream",
     "text": [
      "\r",
      " 61%|####################################################################################################                                                                | 122/200 [00:03<00:01, 40.03it/s]"
     ]
    },
    {
     "name": "stdout",
     "output_type": "stream",
     "text": [
      "2024-04-29 12:10:22) Info: Using 56 processor(s) and 1 CUDA device(s) per process.\n",
      "2024-04-29 12:10:22) Info: Assigning 1.00 processor(s) and 1.00 CUDA device(s) per replicate.\n",
      "2024-04-29 12:10:22) Info: Data output thread running.\n",
      "2024-04-29 12:10:22) Info: Seeding xorwow rng with top word 123 and bottom word 862559722\n",
      "2024-04-29 12:10:22) Info: Data output thread finished.\n",
      "2024-04-29 12:10:22) Info: Simulation file closed.\n",
      "2024-04-29 12:10:22) Info: Using 56 processor(s) and 1 CUDA device(s) per process.\n",
      "2024-04-29 12:10:22) Info: Assigning 1.00 processor(s) and 1.00 CUDA device(s) per replicate.\n",
      "2024-04-29 12:10:22) Info: Data output thread running.\n",
      "2024-04-29 12:10:22) Info: Seeding xorwow rng with top word 124 and bottom word 887251207\n",
      "2024-04-29 12:10:22) Info: Data output thread finished.\n",
      "2024-04-29 12:10:22) Info: Simulation file closed.\n",
      "2024-04-29 12:10:22) Info: Using 56 processor(s) and 1 CUDA device(s) per process.\n",
      "2024-04-29 12:10:22) Info: Assigning 1.00 processor(s) and 1.00 CUDA device(s) per replicate.\n",
      "2024-04-29 12:10:22) Info: Data output thread running.\n",
      "2024-04-29 12:10:22) Info: Seeding xorwow rng with top word 125 and bottom word 911156375\n",
      "2024-04-29 12:10:22) Info: Data output thread finished.\n",
      "2024-04-29 12:10:22) Info: Simulation file closed.\n",
      "2024-04-29 12:10:22) Info: Using 56 processor(s) and 1 CUDA device(s) per process.\n",
      "2024-04-29 12:10:22) Info: Assigning 1.00 processor(s) and 1.00 CUDA device(s) per replicate.\n",
      "2024-04-29 12:10:22) Info: Data output thread running.\n",
      "2024-04-29 12:10:22) Info: Seeding xorwow rng with top word 126 and bottom word 935714076\n",
      "2024-04-29 12:10:22) Info: Data output thread finished.\n",
      "2024-04-29 12:10:22) Info: Simulation file closed.\n",
      "2024-04-29 12:10:22) Info: Using 56 processor(s) and 1 CUDA device(s) per process.\n",
      "2024-04-29 12:10:22) Info: Assigning 1.00 processor(s) and 1.00 CUDA device(s) per replicate.\n",
      "2024-04-29 12:10:22) Info: Data output thread running.\n",
      "2024-04-29 12:10:22) Info: Seeding xorwow rng with top word 127 and bottom word 961354376\n",
      "2024-04-29 12:10:22) Info: Data output thread finished.\n",
      "2024-04-29 12:10:22) Info: Simulation file closed.\n"
     ]
    },
    {
     "name": "stderr",
     "output_type": "stream",
     "text": [
      "\r",
      " 64%|########################################################################################################1                                                           | 127/200 [00:03<00:01, 40.09it/s]"
     ]
    },
    {
     "name": "stdout",
     "output_type": "stream",
     "text": [
      "2024-04-29 12:10:22) Info: Using 56 processor(s) and 1 CUDA device(s) per process.\n",
      "2024-04-29 12:10:22) Info: Assigning 1.00 processor(s) and 1.00 CUDA device(s) per replicate.\n",
      "2024-04-29 12:10:22) Info: Data output thread running.\n",
      "2024-04-29 12:10:22) Info: Seeding xorwow rng with top word 128 and bottom word 986570143\n",
      "2024-04-29 12:10:22) Info: Data output thread finished.\n",
      "2024-04-29 12:10:22) Info: Simulation file closed.\n",
      "2024-04-29 12:10:23) Info: Using 56 processor(s) and 1 CUDA device(s) per process.\n",
      "2024-04-29 12:10:23) Info: Assigning 1.00 processor(s) and 1.00 CUDA device(s) per replicate.\n",
      "2024-04-29 12:10:23) Info: Data output thread running.\n",
      "2024-04-29 12:10:23) Info: Seeding xorwow rng with top word 129 and bottom word 11294935\n",
      "2024-04-29 12:10:23) Info: Data output thread finished.\n",
      "2024-04-29 12:10:23) Info: Simulation file closed.\n",
      "2024-04-29 12:10:23) Info: Using 56 processor(s) and 1 CUDA device(s) per process.\n",
      "2024-04-29 12:10:23) Info: Assigning 1.00 processor(s) and 1.00 CUDA device(s) per replicate.\n",
      "2024-04-29 12:10:23) Info: Data output thread running.\n",
      "2024-04-29 12:10:23) Info: Seeding xorwow rng with top word 130 and bottom word 35032079\n",
      "2024-04-29 12:10:23) Info: Data output thread finished.\n",
      "2024-04-29 12:10:23) Info: Simulation file closed.\n",
      "2024-04-29 12:10:23) Info: Using 56 processor(s) and 1 CUDA device(s) per process.\n",
      "2024-04-29 12:10:23) Info: Assigning 1.00 processor(s) and 1.00 CUDA device(s) per replicate.\n",
      "2024-04-29 12:10:23) Info: Data output thread running.\n",
      "2024-04-29 12:10:23) Info: Seeding xorwow rng with top word 131 and bottom word 58642251\n",
      "2024-04-29 12:10:23) Info: Data output thread finished.\n",
      "2024-04-29 12:10:23) Info: Simulation file closed.\n",
      "2024-04-29 12:10:23) Info: Using 56 processor(s) and 1 CUDA device(s) per process.\n",
      "2024-04-29 12:10:23) Info: Assigning 1.00 processor(s) and 1.00 CUDA device(s) per replicate.\n",
      "2024-04-29 12:10:23) Info: Data output thread running.\n",
      "2024-04-29 12:10:23) Info: Seeding xorwow rng with top word 132 and bottom word 82094649\n",
      "2024-04-29 12:10:23) Info: Data output thread finished.\n",
      "2024-04-29 12:10:23) Info: Simulation file closed.\n"
     ]
    },
    {
     "name": "stderr",
     "output_type": "stream",
     "text": [
      "\r",
      " 66%|############################################################################################################2                                                       | 132/200 [00:03<00:01, 40.56it/s]"
     ]
    },
    {
     "name": "stdout",
     "output_type": "stream",
     "text": [
      "2024-04-29 12:10:23) Info: Using 56 processor(s) and 1 CUDA device(s) per process.\n",
      "2024-04-29 12:10:23) Info: Assigning 1.00 processor(s) and 1.00 CUDA device(s) per replicate.\n",
      "2024-04-29 12:10:23) Info: Data output thread running.\n",
      "2024-04-29 12:10:23) Info: Seeding xorwow rng with top word 133 and bottom word 106868429\n",
      "2024-04-29 12:10:23) Info: Data output thread finished.\n",
      "2024-04-29 12:10:23) Info: Simulation file closed.\n",
      "2024-04-29 12:10:23) Info: Using 56 processor(s) and 1 CUDA device(s) per process.\n",
      "2024-04-29 12:10:23) Info: Assigning 1.00 processor(s) and 1.00 CUDA device(s) per replicate.\n",
      "2024-04-29 12:10:23) Info: Data output thread running.\n",
      "2024-04-29 12:10:23) Info: Seeding xorwow rng with top word 134 and bottom word 130554083\n",
      "2024-04-29 12:10:23) Info: Data output thread finished.\n",
      "2024-04-29 12:10:23) Info: Simulation file closed.\n",
      "2024-04-29 12:10:23) Info: Using 56 processor(s) and 1 CUDA device(s) per process.\n",
      "2024-04-29 12:10:23) Info: Assigning 1.00 processor(s) and 1.00 CUDA device(s) per replicate.\n",
      "2024-04-29 12:10:23) Info: Data output thread running.\n",
      "2024-04-29 12:10:23) Info: Seeding xorwow rng with top word 135 and bottom word 153378620\n",
      "2024-04-29 12:10:23) Info: Data output thread finished.\n",
      "2024-04-29 12:10:23) Info: Simulation file closed.\n",
      "2024-04-29 12:10:23) Info: Using 56 processor(s) and 1 CUDA device(s) per process.\n",
      "2024-04-29 12:10:23) Info: Assigning 1.00 processor(s) and 1.00 CUDA device(s) per replicate.\n",
      "2024-04-29 12:10:23) Info: Data output thread running.\n",
      "2024-04-29 12:10:23) Info: Seeding xorwow rng with top word 136 and bottom word 177673443\n",
      "2024-04-29 12:10:23) Info: Data output thread finished.\n",
      "2024-04-29 12:10:23) Info: Simulation file closed.\n",
      "2024-04-29 12:10:23) Info: Using 56 processor(s) and 1 CUDA device(s) per process.\n",
      "2024-04-29 12:10:23) Info: Assigning 1.00 processor(s) and 1.00 CUDA device(s) per replicate.\n",
      "2024-04-29 12:10:23) Info: Data output thread running.\n",
      "2024-04-29 12:10:23) Info: Seeding xorwow rng with top word 137 and bottom word 201551340\n",
      "2024-04-29 12:10:23) Info: Data output thread finished.\n",
      "2024-04-29 12:10:23) Info: Simulation file closed.\n"
     ]
    },
    {
     "name": "stderr",
     "output_type": "stream",
     "text": [
      "\r",
      " 68%|################################################################################################################3                                                   | 137/200 [00:03<00:01, 40.97it/s]"
     ]
    },
    {
     "name": "stdout",
     "output_type": "stream",
     "text": [
      "2024-04-29 12:10:23) Info: Using 56 processor(s) and 1 CUDA device(s) per process.\n",
      "2024-04-29 12:10:23) Info: Assigning 1.00 processor(s) and 1.00 CUDA device(s) per replicate.\n",
      "2024-04-29 12:10:23) Info: Data output thread running.\n",
      "2024-04-29 12:10:23) Info: Seeding xorwow rng with top word 138 and bottom word 226035568\n",
      "2024-04-29 12:10:23) Info: Data output thread finished.\n",
      "2024-04-29 12:10:23) Info: Simulation file closed.\n",
      "2024-04-29 12:10:23) Info: Using 56 processor(s) and 1 CUDA device(s) per process.\n",
      "2024-04-29 12:10:23) Info: Assigning 1.00 processor(s) and 1.00 CUDA device(s) per replicate.\n",
      "2024-04-29 12:10:23) Info: Data output thread running.\n",
      "2024-04-29 12:10:23) Info: Seeding xorwow rng with top word 139 and bottom word 249316886\n",
      "2024-04-29 12:10:23) Info: Data output thread finished.\n",
      "2024-04-29 12:10:23) Info: Simulation file closed.\n",
      "2024-04-29 12:10:23) Info: Using 56 processor(s) and 1 CUDA device(s) per process.\n",
      "2024-04-29 12:10:23) Info: Assigning 1.00 processor(s) and 1.00 CUDA device(s) per replicate.\n",
      "2024-04-29 12:10:23) Info: Data output thread running.\n",
      "2024-04-29 12:10:23) Info: Seeding xorwow rng with top word 140 and bottom word 273735270\n",
      "2024-04-29 12:10:23) Info: Data output thread finished.\n",
      "2024-04-29 12:10:23) Info: Simulation file closed.\n",
      "2024-04-29 12:10:23) Info: Using 56 processor(s) and 1 CUDA device(s) per process.\n",
      "2024-04-29 12:10:23) Info: Assigning 1.00 processor(s) and 1.00 CUDA device(s) per replicate.\n",
      "2024-04-29 12:10:23) Info: Data output thread running.\n",
      "2024-04-29 12:10:23) Info: Seeding xorwow rng with top word 141 and bottom word 297350791\n",
      "2024-04-29 12:10:23) Info: Data output thread finished.\n",
      "2024-04-29 12:10:23) Info: Simulation file closed.\n",
      "2024-04-29 12:10:23) Info: Using 56 processor(s) and 1 CUDA device(s) per process.\n",
      "2024-04-29 12:10:23) Info: Assigning 1.00 processor(s) and 1.00 CUDA device(s) per replicate.\n",
      "2024-04-29 12:10:23) Info: Data output thread running.\n",
      "2024-04-29 12:10:23) Info: Seeding xorwow rng with top word 142 and bottom word 322387481\n",
      "2024-04-29 12:10:23) Info: Data output thread finished.\n",
      "2024-04-29 12:10:23) Info: Simulation file closed.\n"
     ]
    },
    {
     "name": "stderr",
     "output_type": "stream",
     "text": [
      "\r",
      " 71%|####################################################################################################################4                                               | 142/200 [00:03<00:01, 41.15it/s]"
     ]
    },
    {
     "name": "stdout",
     "output_type": "stream",
     "text": [
      "2024-04-29 12:10:23) Info: Using 56 processor(s) and 1 CUDA device(s) per process.\n",
      "2024-04-29 12:10:23) Info: Assigning 1.00 processor(s) and 1.00 CUDA device(s) per replicate.\n",
      "2024-04-29 12:10:23) Info: Data output thread running.\n",
      "2024-04-29 12:10:23) Info: Seeding xorwow rng with top word 143 and bottom word 346197106\n",
      "2024-04-29 12:10:23) Info: Data output thread finished.\n",
      "2024-04-29 12:10:23) Info: Simulation file closed.\n",
      "2024-04-29 12:10:23) Info: Using 56 processor(s) and 1 CUDA device(s) per process.\n",
      "2024-04-29 12:10:23) Info: Assigning 1.00 processor(s) and 1.00 CUDA device(s) per replicate.\n",
      "2024-04-29 12:10:23) Info: Data output thread running.\n",
      "2024-04-29 12:10:23) Info: Seeding xorwow rng with top word 144 and bottom word 371573472\n",
      "2024-04-29 12:10:23) Info: Data output thread finished.\n",
      "2024-04-29 12:10:23) Info: Simulation file closed.\n",
      "2024-04-29 12:10:23) Info: Using 56 processor(s) and 1 CUDA device(s) per process.\n",
      "2024-04-29 12:10:23) Info: Assigning 1.00 processor(s) and 1.00 CUDA device(s) per replicate.\n",
      "2024-04-29 12:10:23) Info: Data output thread running.\n",
      "2024-04-29 12:10:23) Info: Seeding xorwow rng with top word 145 and bottom word 395514358\n",
      "2024-04-29 12:10:23) Info: Data output thread finished.\n",
      "2024-04-29 12:10:23) Info: Simulation file closed.\n",
      "2024-04-29 12:10:23) Info: Using 56 processor(s) and 1 CUDA device(s) per process.\n",
      "2024-04-29 12:10:23) Info: Assigning 1.00 processor(s) and 1.00 CUDA device(s) per replicate.\n",
      "2024-04-29 12:10:23) Info: Data output thread running.\n",
      "2024-04-29 12:10:23) Info: Seeding xorwow rng with top word 146 and bottom word 418667019\n",
      "2024-04-29 12:10:23) Info: Data output thread finished.\n",
      "2024-04-29 12:10:23) Info: Simulation file closed.\n",
      "2024-04-29 12:10:23) Info: Using 56 processor(s) and 1 CUDA device(s) per process.\n",
      "2024-04-29 12:10:23) Info: Assigning 1.00 processor(s) and 1.00 CUDA device(s) per replicate.\n",
      "2024-04-29 12:10:23) Info: Data output thread running.\n",
      "2024-04-29 12:10:23) Info: Seeding xorwow rng with top word 147 and bottom word 443200607\n",
      "2024-04-29 12:10:23) Info: Data output thread finished.\n",
      "2024-04-29 12:10:23) Info: Simulation file closed.\n"
     ]
    },
    {
     "name": "stderr",
     "output_type": "stream",
     "text": [
      "\r",
      " 74%|########################################################################################################################5                                           | 147/200 [00:03<00:01, 41.06it/s]"
     ]
    },
    {
     "name": "stdout",
     "output_type": "stream",
     "text": [
      "2024-04-29 12:10:23) Info: Using 56 processor(s) and 1 CUDA device(s) per process.\n",
      "2024-04-29 12:10:23) Info: Assigning 1.00 processor(s) and 1.00 CUDA device(s) per replicate.\n",
      "2024-04-29 12:10:23) Info: Data output thread running.\n",
      "2024-04-29 12:10:23) Info: Seeding xorwow rng with top word 148 and bottom word 468635398\n",
      "2024-04-29 12:10:23) Info: Data output thread finished.\n",
      "2024-04-29 12:10:23) Info: Simulation file closed.\n",
      "2024-04-29 12:10:23) Info: Using 56 processor(s) and 1 CUDA device(s) per process.\n",
      "2024-04-29 12:10:23) Info: Assigning 1.00 processor(s) and 1.00 CUDA device(s) per replicate.\n",
      "2024-04-29 12:10:23) Info: Data output thread running.\n",
      "2024-04-29 12:10:23) Info: Seeding xorwow rng with top word 149 and bottom word 494351510\n",
      "2024-04-29 12:10:23) Info: Data output thread finished.\n",
      "2024-04-29 12:10:23) Info: Simulation file closed.\n",
      "2024-04-29 12:10:23) Info: Using 56 processor(s) and 1 CUDA device(s) per process.\n",
      "2024-04-29 12:10:23) Info: Assigning 1.00 processor(s) and 1.00 CUDA device(s) per replicate.\n",
      "2024-04-29 12:10:23) Info: Data output thread running.\n",
      "2024-04-29 12:10:23) Info: Seeding xorwow rng with top word 150 and bottom word 518206102\n",
      "2024-04-29 12:10:23) Info: Data output thread finished.\n",
      "2024-04-29 12:10:23) Info: Simulation file closed.\n",
      "2024-04-29 12:10:23) Info: Using 56 processor(s) and 1 CUDA device(s) per process.\n",
      "2024-04-29 12:10:23) Info: Assigning 1.00 processor(s) and 1.00 CUDA device(s) per replicate.\n",
      "2024-04-29 12:10:23) Info: Data output thread running.\n",
      "2024-04-29 12:10:23) Info: Seeding xorwow rng with top word 151 and bottom word 543411022\n",
      "2024-04-29 12:10:23) Info: Data output thread finished.\n",
      "2024-04-29 12:10:23) Info: Simulation file closed.\n",
      "2024-04-29 12:10:23) Info: Using 56 processor(s) and 1 CUDA device(s) per process.\n",
      "2024-04-29 12:10:23) Info: Assigning 1.00 processor(s) and 1.00 CUDA device(s) per replicate.\n",
      "2024-04-29 12:10:23) Info: Data output thread running.\n",
      "2024-04-29 12:10:23) Info: Seeding xorwow rng with top word 152 and bottom word 568113649\n",
      "2024-04-29 12:10:23) Info: Data output thread finished.\n",
      "2024-04-29 12:10:23) Info: Simulation file closed.\n"
     ]
    },
    {
     "name": "stderr",
     "output_type": "stream",
     "text": [
      "\r",
      " 76%|############################################################################################################################6                                       | 152/200 [00:03<00:01, 40.90it/s]"
     ]
    },
    {
     "name": "stdout",
     "output_type": "stream",
     "text": [
      "2024-04-29 12:10:23) Info: Using 56 processor(s) and 1 CUDA device(s) per process.\n",
      "2024-04-29 12:10:23) Info: Assigning 1.00 processor(s) and 1.00 CUDA device(s) per replicate.\n",
      "2024-04-29 12:10:23) Info: Data output thread running.\n",
      "2024-04-29 12:10:23) Info: Seeding xorwow rng with top word 153 and bottom word 591803748\n",
      "2024-04-29 12:10:23) Info: Data output thread finished.\n",
      "2024-04-29 12:10:23) Info: Simulation file closed.\n",
      "2024-04-29 12:10:23) Info: Using 56 processor(s) and 1 CUDA device(s) per process.\n",
      "2024-04-29 12:10:23) Info: Assigning 1.00 processor(s) and 1.00 CUDA device(s) per replicate.\n",
      "2024-04-29 12:10:23) Info: Data output thread running.\n",
      "2024-04-29 12:10:23) Info: Seeding xorwow rng with top word 154 and bottom word 617967951\n",
      "2024-04-29 12:10:23) Info: Data output thread finished.\n",
      "2024-04-29 12:10:23) Info: Simulation file closed.\n",
      "2024-04-29 12:10:23) Info: Using 56 processor(s) and 1 CUDA device(s) per process.\n",
      "2024-04-29 12:10:23) Info: Assigning 1.00 processor(s) and 1.00 CUDA device(s) per replicate.\n",
      "2024-04-29 12:10:23) Info: Data output thread running.\n",
      "2024-04-29 12:10:23) Info: Seeding xorwow rng with top word 155 and bottom word 643280146\n",
      "2024-04-29 12:10:23) Info: Data output thread finished.\n",
      "2024-04-29 12:10:23) Info: Simulation file closed.\n",
      "2024-04-29 12:10:23) Info: Using 56 processor(s) and 1 CUDA device(s) per process.\n",
      "2024-04-29 12:10:23) Info: Assigning 1.00 processor(s) and 1.00 CUDA device(s) per replicate.\n",
      "2024-04-29 12:10:23) Info: Data output thread running.\n",
      "2024-04-29 12:10:23) Info: Seeding xorwow rng with top word 156 and bottom word 667988853\n",
      "2024-04-29 12:10:23) Info: Data output thread finished.\n",
      "2024-04-29 12:10:23) Info: Simulation file closed.\n",
      "2024-04-29 12:10:23) Info: Using 56 processor(s) and 1 CUDA device(s) per process.\n",
      "2024-04-29 12:10:23) Info: Assigning 1.00 processor(s) and 1.00 CUDA device(s) per replicate.\n",
      "2024-04-29 12:10:23) Info: Data output thread running.\n",
      "2024-04-29 12:10:23) Info: Seeding xorwow rng with top word 157 and bottom word 690866444\n",
      "2024-04-29 12:10:23) Info: Data output thread finished.\n",
      "2024-04-29 12:10:23) Info: Simulation file closed.\n"
     ]
    },
    {
     "name": "stderr",
     "output_type": "stream",
     "text": [
      "\r",
      " 78%|################################################################################################################################7                                   | 157/200 [00:03<00:01, 40.85it/s]"
     ]
    },
    {
     "name": "stdout",
     "output_type": "stream",
     "text": [
      "2024-04-29 12:10:23) Info: Using 56 processor(s) and 1 CUDA device(s) per process.\n",
      "2024-04-29 12:10:23) Info: Assigning 1.00 processor(s) and 1.00 CUDA device(s) per replicate.\n",
      "2024-04-29 12:10:23) Info: Data output thread running.\n",
      "2024-04-29 12:10:23) Info: Seeding xorwow rng with top word 158 and bottom word 715755694\n",
      "2024-04-29 12:10:23) Info: Data output thread finished.\n",
      "2024-04-29 12:10:23) Info: Simulation file closed.\n",
      "2024-04-29 12:10:23) Info: Using 56 processor(s) and 1 CUDA device(s) per process.\n",
      "2024-04-29 12:10:23) Info: Assigning 1.00 processor(s) and 1.00 CUDA device(s) per replicate.\n",
      "2024-04-29 12:10:23) Info: Data output thread running.\n",
      "2024-04-29 12:10:23) Info: Seeding xorwow rng with top word 159 and bottom word 742615093\n",
      "2024-04-29 12:10:23) Info: Data output thread finished.\n",
      "2024-04-29 12:10:23) Info: Simulation file closed.\n",
      "2024-04-29 12:10:23) Info: Using 56 processor(s) and 1 CUDA device(s) per process.\n",
      "2024-04-29 12:10:23) Info: Assigning 1.00 processor(s) and 1.00 CUDA device(s) per replicate.\n",
      "2024-04-29 12:10:23) Info: Data output thread running.\n",
      "2024-04-29 12:10:23) Info: Seeding xorwow rng with top word 160 and bottom word 770319356\n",
      "2024-04-29 12:10:23) Info: Data output thread finished.\n",
      "2024-04-29 12:10:23) Info: Simulation file closed.\n",
      "2024-04-29 12:10:23) Info: Using 56 processor(s) and 1 CUDA device(s) per process.\n",
      "2024-04-29 12:10:23) Info: Assigning 1.00 processor(s) and 1.00 CUDA device(s) per replicate.\n",
      "2024-04-29 12:10:23) Info: Data output thread running.\n",
      "2024-04-29 12:10:23) Info: Seeding xorwow rng with top word 161 and bottom word 798237835\n",
      "2024-04-29 12:10:23) Info: Data output thread finished.\n",
      "2024-04-29 12:10:23) Info: Simulation file closed.\n",
      "2024-04-29 12:10:23) Info: Using 56 processor(s) and 1 CUDA device(s) per process.\n",
      "2024-04-29 12:10:23) Info: Assigning 1.00 processor(s) and 1.00 CUDA device(s) per replicate.\n",
      "2024-04-29 12:10:23) Info: Data output thread running.\n",
      "2024-04-29 12:10:23) Info: Seeding xorwow rng with top word 162 and bottom word 825750362\n",
      "2024-04-29 12:10:23) Info: Data output thread finished.\n",
      "2024-04-29 12:10:23) Info: Simulation file closed.\n"
     ]
    },
    {
     "name": "stderr",
     "output_type": "stream",
     "text": [
      "\r",
      " 81%|####################################################################################################################################8                               | 162/200 [00:04<00:00, 39.44it/s]"
     ]
    },
    {
     "name": "stdout",
     "output_type": "stream",
     "text": [
      "2024-04-29 12:10:23) Info: Using 56 processor(s) and 1 CUDA device(s) per process.\n",
      "2024-04-29 12:10:23) Info: Assigning 1.00 processor(s) and 1.00 CUDA device(s) per replicate.\n",
      "2024-04-29 12:10:23) Info: Data output thread running.\n",
      "2024-04-29 12:10:23) Info: Seeding xorwow rng with top word 163 and bottom word 851898058\n",
      "2024-04-29 12:10:23) Info: Data output thread finished.\n",
      "2024-04-29 12:10:23) Info: Simulation file closed.\n",
      "2024-04-29 12:10:23) Info: Using 56 processor(s) and 1 CUDA device(s) per process.\n",
      "2024-04-29 12:10:23) Info: Assigning 1.00 processor(s) and 1.00 CUDA device(s) per replicate.\n",
      "2024-04-29 12:10:23) Info: Data output thread running.\n",
      "2024-04-29 12:10:23) Info: Seeding xorwow rng with top word 164 and bottom word 876741743\n",
      "2024-04-29 12:10:23) Info: Data output thread finished.\n",
      "2024-04-29 12:10:23) Info: Simulation file closed.\n",
      "2024-04-29 12:10:23) Info: Using 56 processor(s) and 1 CUDA device(s) per process.\n",
      "2024-04-29 12:10:23) Info: Assigning 1.00 processor(s) and 1.00 CUDA device(s) per replicate.\n",
      "2024-04-29 12:10:23) Info: Data output thread running.\n",
      "2024-04-29 12:10:23) Info: Seeding xorwow rng with top word 165 and bottom word 901503801\n",
      "2024-04-29 12:10:23) Info: Data output thread finished.\n",
      "2024-04-29 12:10:23) Info: Simulation file closed.\n",
      "2024-04-29 12:10:23) Info: Using 56 processor(s) and 1 CUDA device(s) per process.\n",
      "2024-04-29 12:10:23) Info: Assigning 1.00 processor(s) and 1.00 CUDA device(s) per replicate.\n",
      "2024-04-29 12:10:23) Info: Data output thread running.\n",
      "2024-04-29 12:10:23) Info: Seeding xorwow rng with top word 166 and bottom word 925744529\n",
      "2024-04-29 12:10:23) Info: Data output thread finished.\n",
      "2024-04-29 12:10:23) Info: Simulation file closed.\n",
      "2024-04-29 12:10:23) Info: Using 56 processor(s) and 1 CUDA device(s) per process.\n",
      "2024-04-29 12:10:23) Info: Assigning 1.00 processor(s) and 1.00 CUDA device(s) per replicate.\n",
      "2024-04-29 12:10:23) Info: Data output thread running.\n",
      "2024-04-29 12:10:23) Info: Seeding xorwow rng with top word 167 and bottom word 949227671\n",
      "2024-04-29 12:10:23) Info: Data output thread finished.\n",
      "2024-04-29 12:10:23) Info: Simulation file closed.\n"
     ]
    },
    {
     "name": "stderr",
     "output_type": "stream",
     "text": [
      "\r",
      " 84%|########################################################################################################################################9                           | 167/200 [00:04<00:00, 39.96it/s]"
     ]
    },
    {
     "name": "stdout",
     "output_type": "stream",
     "text": [
      "2024-04-29 12:10:23) Info: Using 56 processor(s) and 1 CUDA device(s) per process.\n",
      "2024-04-29 12:10:23) Info: Assigning 1.00 processor(s) and 1.00 CUDA device(s) per replicate.\n",
      "2024-04-29 12:10:23) Info: Data output thread running.\n",
      "2024-04-29 12:10:23) Info: Seeding xorwow rng with top word 168 and bottom word 972891716\n",
      "2024-04-29 12:10:23) Info: Data output thread finished.\n",
      "2024-04-29 12:10:23) Info: Simulation file closed.\n",
      "2024-04-29 12:10:23) Info: Using 56 processor(s) and 1 CUDA device(s) per process.\n",
      "2024-04-29 12:10:23) Info: Assigning 1.00 processor(s) and 1.00 CUDA device(s) per replicate.\n",
      "2024-04-29 12:10:23) Info: Data output thread running.\n",
      "2024-04-29 12:10:24) Info: Seeding xorwow rng with top word 169 and bottom word 998440390\n",
      "2024-04-29 12:10:24) Info: Data output thread finished.\n",
      "2024-04-29 12:10:24) Info: Simulation file closed.\n",
      "2024-04-29 12:10:24) Info: Using 56 processor(s) and 1 CUDA device(s) per process.\n",
      "2024-04-29 12:10:24) Info: Assigning 1.00 processor(s) and 1.00 CUDA device(s) per replicate.\n",
      "2024-04-29 12:10:24) Info: Data output thread running.\n",
      "2024-04-29 12:10:24) Info: Seeding xorwow rng with top word 170 and bottom word 24635684\n",
      "2024-04-29 12:10:24) Info: Data output thread finished.\n",
      "2024-04-29 12:10:24) Info: Simulation file closed.\n",
      "2024-04-29 12:10:24) Info: Using 56 processor(s) and 1 CUDA device(s) per process.\n",
      "2024-04-29 12:10:24) Info: Assigning 1.00 processor(s) and 1.00 CUDA device(s) per replicate.\n",
      "2024-04-29 12:10:24) Info: Data output thread running.\n",
      "2024-04-29 12:10:24) Info: Seeding xorwow rng with top word 171 and bottom word 50325522\n",
      "2024-04-29 12:10:24) Info: Data output thread finished.\n",
      "2024-04-29 12:10:24) Info: Simulation file closed.\n",
      "2024-04-29 12:10:24) Info: Using 56 processor(s) and 1 CUDA device(s) per process.\n",
      "2024-04-29 12:10:24) Info: Assigning 1.00 processor(s) and 1.00 CUDA device(s) per replicate.\n",
      "2024-04-29 12:10:24) Info: Data output thread running.\n",
      "2024-04-29 12:10:24) Info: Seeding xorwow rng with top word 172 and bottom word 74026510\n",
      "2024-04-29 12:10:24) Info: Data output thread finished.\n",
      "2024-04-29 12:10:24) Info: Simulation file closed.\n"
     ]
    },
    {
     "name": "stderr",
     "output_type": "stream",
     "text": [
      "\r",
      " 86%|#############################################################################################################################################                       | 172/200 [00:04<00:00, 39.74it/s]"
     ]
    },
    {
     "name": "stdout",
     "output_type": "stream",
     "text": [
      "2024-04-29 12:10:24) Info: Using 56 processor(s) and 1 CUDA device(s) per process.\n",
      "2024-04-29 12:10:24) Info: Assigning 1.00 processor(s) and 1.00 CUDA device(s) per replicate.\n",
      "2024-04-29 12:10:24) Info: Data output thread running.\n",
      "2024-04-29 12:10:24) Info: Seeding xorwow rng with top word 173 and bottom word 100487557\n",
      "2024-04-29 12:10:24) Info: Data output thread finished.\n",
      "2024-04-29 12:10:24) Info: Simulation file closed.\n",
      "2024-04-29 12:10:24) Info: Using 56 processor(s) and 1 CUDA device(s) per process.\n",
      "2024-04-29 12:10:24) Info: Assigning 1.00 processor(s) and 1.00 CUDA device(s) per replicate.\n",
      "2024-04-29 12:10:24) Info: Data output thread running.\n",
      "2024-04-29 12:10:24) Info: Seeding xorwow rng with top word 174 and bottom word 124830433\n",
      "2024-04-29 12:10:24) Info: Data output thread finished.\n",
      "2024-04-29 12:10:24) Info: Simulation file closed.\n",
      "2024-04-29 12:10:24) Info: Using 56 processor(s) and 1 CUDA device(s) per process.\n",
      "2024-04-29 12:10:24) Info: Assigning 1.00 processor(s) and 1.00 CUDA device(s) per replicate.\n",
      "2024-04-29 12:10:24) Info: Data output thread running.\n",
      "2024-04-29 12:10:24) Info: Seeding xorwow rng with top word 175 and bottom word 149891067\n",
      "2024-04-29 12:10:24) Info: Data output thread finished.\n",
      "2024-04-29 12:10:24) Info: Simulation file closed.\n",
      "2024-04-29 12:10:24) Info: Using 56 processor(s) and 1 CUDA device(s) per process.\n",
      "2024-04-29 12:10:24) Info: Assigning 1.00 processor(s) and 1.00 CUDA device(s) per replicate.\n",
      "2024-04-29 12:10:24) Info: Data output thread running.\n",
      "2024-04-29 12:10:24) Info: Seeding xorwow rng with top word 176 and bottom word 173220791\n",
      "2024-04-29 12:10:24) Info: Data output thread finished.\n",
      "2024-04-29 12:10:24) Info: Simulation file closed.\n",
      "2024-04-29 12:10:24) Info: Using 56 processor(s) and 1 CUDA device(s) per process.\n",
      "2024-04-29 12:10:24) Info: Assigning 1.00 processor(s) and 1.00 CUDA device(s) per replicate.\n",
      "2024-04-29 12:10:24) Info: Data output thread running.\n",
      "2024-04-29 12:10:24) Info: Seeding xorwow rng with top word 177 and bottom word 197226387\n",
      "2024-04-29 12:10:24) Info: Data output thread finished.\n",
      "2024-04-29 12:10:24) Info: Simulation file closed.\n"
     ]
    },
    {
     "name": "stderr",
     "output_type": "stream",
     "text": [
      "\r",
      " 88%|#################################################################################################################################################1                  | 177/200 [00:04<00:00, 40.13it/s]"
     ]
    },
    {
     "name": "stdout",
     "output_type": "stream",
     "text": [
      "2024-04-29 12:10:24) Info: Using 56 processor(s) and 1 CUDA device(s) per process.\n",
      "2024-04-29 12:10:24) Info: Assigning 1.00 processor(s) and 1.00 CUDA device(s) per replicate.\n",
      "2024-04-29 12:10:24) Info: Data output thread running.\n",
      "2024-04-29 12:10:24) Info: Seeding xorwow rng with top word 178 and bottom word 222002573\n",
      "2024-04-29 12:10:24) Info: Data output thread finished.\n",
      "2024-04-29 12:10:24) Info: Simulation file closed.\n",
      "2024-04-29 12:10:24) Info: Using 56 processor(s) and 1 CUDA device(s) per process.\n",
      "2024-04-29 12:10:24) Info: Assigning 1.00 processor(s) and 1.00 CUDA device(s) per replicate.\n",
      "2024-04-29 12:10:24) Info: Data output thread running.\n",
      "2024-04-29 12:10:24) Info: Seeding xorwow rng with top word 179 and bottom word 245063985\n",
      "2024-04-29 12:10:24) Info: Data output thread finished.\n",
      "2024-04-29 12:10:24) Info: Simulation file closed.\n",
      "2024-04-29 12:10:24) Info: Using 56 processor(s) and 1 CUDA device(s) per process.\n",
      "2024-04-29 12:10:24) Info: Assigning 1.00 processor(s) and 1.00 CUDA device(s) per replicate.\n",
      "2024-04-29 12:10:24) Info: Data output thread running.\n",
      "2024-04-29 12:10:24) Info: Seeding xorwow rng with top word 180 and bottom word 268309701\n",
      "2024-04-29 12:10:24) Info: Data output thread finished.\n",
      "2024-04-29 12:10:24) Info: Simulation file closed.\n",
      "2024-04-29 12:10:24) Info: Using 56 processor(s) and 1 CUDA device(s) per process.\n",
      "2024-04-29 12:10:24) Info: Assigning 1.00 processor(s) and 1.00 CUDA device(s) per replicate.\n",
      "2024-04-29 12:10:24) Info: Data output thread running.\n",
      "2024-04-29 12:10:24) Info: Seeding xorwow rng with top word 181 and bottom word 293127945\n",
      "2024-04-29 12:10:24) Info: Data output thread finished.\n",
      "2024-04-29 12:10:24) Info: Simulation file closed.\n",
      "2024-04-29 12:10:24) Info: Using 56 processor(s) and 1 CUDA device(s) per process.\n",
      "2024-04-29 12:10:24) Info: Assigning 1.00 processor(s) and 1.00 CUDA device(s) per replicate.\n",
      "2024-04-29 12:10:24) Info: Data output thread running.\n",
      "2024-04-29 12:10:24) Info: Seeding xorwow rng with top word 182 and bottom word 317015010\n",
      "2024-04-29 12:10:24) Info: Data output thread finished.\n",
      "2024-04-29 12:10:24) Info: Simulation file closed.\n"
     ]
    },
    {
     "name": "stderr",
     "output_type": "stream",
     "text": [
      "\r",
      " 91%|#####################################################################################################################################################2              | 182/200 [00:04<00:00, 40.57it/s]"
     ]
    },
    {
     "name": "stdout",
     "output_type": "stream",
     "text": [
      "2024-04-29 12:10:24) Info: Using 56 processor(s) and 1 CUDA device(s) per process.\n",
      "2024-04-29 12:10:24) Info: Assigning 1.00 processor(s) and 1.00 CUDA device(s) per replicate.\n",
      "2024-04-29 12:10:24) Info: Data output thread running.\n",
      "2024-04-29 12:10:24) Info: Seeding xorwow rng with top word 183 and bottom word 342299361\n",
      "2024-04-29 12:10:24) Info: Data output thread finished.\n",
      "2024-04-29 12:10:24) Info: Simulation file closed.\n",
      "2024-04-29 12:10:24) Info: Using 56 processor(s) and 1 CUDA device(s) per process.\n",
      "2024-04-29 12:10:24) Info: Assigning 1.00 processor(s) and 1.00 CUDA device(s) per replicate.\n",
      "2024-04-29 12:10:24) Info: Data output thread running.\n",
      "2024-04-29 12:10:24) Info: Seeding xorwow rng with top word 184 and bottom word 366085082\n",
      "2024-04-29 12:10:24) Info: Data output thread finished.\n",
      "2024-04-29 12:10:24) Info: Simulation file closed.\n",
      "2024-04-29 12:10:24) Info: Using 56 processor(s) and 1 CUDA device(s) per process.\n",
      "2024-04-29 12:10:24) Info: Assigning 1.00 processor(s) and 1.00 CUDA device(s) per replicate.\n",
      "2024-04-29 12:10:24) Info: Data output thread running.\n",
      "2024-04-29 12:10:24) Info: Seeding xorwow rng with top word 185 and bottom word 389380401\n",
      "2024-04-29 12:10:24) Info: Data output thread finished.\n",
      "2024-04-29 12:10:24) Info: Simulation file closed.\n",
      "2024-04-29 12:10:24) Info: Using 56 processor(s) and 1 CUDA device(s) per process.\n",
      "2024-04-29 12:10:24) Info: Assigning 1.00 processor(s) and 1.00 CUDA device(s) per replicate.\n",
      "2024-04-29 12:10:24) Info: Data output thread running.\n",
      "2024-04-29 12:10:24) Info: Seeding xorwow rng with top word 186 and bottom word 412409191\n",
      "2024-04-29 12:10:24) Info: Data output thread finished.\n",
      "2024-04-29 12:10:24) Info: Simulation file closed.\n",
      "2024-04-29 12:10:24) Info: Using 56 processor(s) and 1 CUDA device(s) per process.\n",
      "2024-04-29 12:10:24) Info: Assigning 1.00 processor(s) and 1.00 CUDA device(s) per replicate.\n",
      "2024-04-29 12:10:24) Info: Data output thread running.\n",
      "2024-04-29 12:10:24) Info: Seeding xorwow rng with top word 187 and bottom word 434801558\n",
      "2024-04-29 12:10:24) Info: Data output thread finished.\n",
      "2024-04-29 12:10:24) Info: Simulation file closed.\n"
     ]
    },
    {
     "name": "stderr",
     "output_type": "stream",
     "text": [
      "\r",
      " 94%|#########################################################################################################################################################3          | 187/200 [00:04<00:00, 41.13it/s]"
     ]
    },
    {
     "name": "stdout",
     "output_type": "stream",
     "text": [
      "2024-04-29 12:10:24) Info: Using 56 processor(s) and 1 CUDA device(s) per process.\n",
      "2024-04-29 12:10:24) Info: Assigning 1.00 processor(s) and 1.00 CUDA device(s) per replicate.\n",
      "2024-04-29 12:10:24) Info: Data output thread running.\n",
      "2024-04-29 12:10:24) Info: Seeding xorwow rng with top word 188 and bottom word 459853214\n",
      "2024-04-29 12:10:24) Info: Data output thread finished.\n",
      "2024-04-29 12:10:24) Info: Simulation file closed.\n",
      "2024-04-29 12:10:24) Info: Using 56 processor(s) and 1 CUDA device(s) per process.\n",
      "2024-04-29 12:10:24) Info: Assigning 1.00 processor(s) and 1.00 CUDA device(s) per replicate.\n",
      "2024-04-29 12:10:24) Info: Data output thread running.\n",
      "2024-04-29 12:10:24) Info: Seeding xorwow rng with top word 189 and bottom word 483721857\n",
      "2024-04-29 12:10:24) Info: Data output thread finished.\n",
      "2024-04-29 12:10:24) Info: Simulation file closed.\n",
      "2024-04-29 12:10:24) Info: Using 56 processor(s) and 1 CUDA device(s) per process.\n",
      "2024-04-29 12:10:24) Info: Assigning 1.00 processor(s) and 1.00 CUDA device(s) per replicate.\n",
      "2024-04-29 12:10:24) Info: Data output thread running.\n",
      "2024-04-29 12:10:24) Info: Seeding xorwow rng with top word 190 and bottom word 507439179\n",
      "2024-04-29 12:10:24) Info: Data output thread finished.\n",
      "2024-04-29 12:10:24) Info: Simulation file closed.\n",
      "2024-04-29 12:10:24) Info: Using 56 processor(s) and 1 CUDA device(s) per process.\n",
      "2024-04-29 12:10:24) Info: Assigning 1.00 processor(s) and 1.00 CUDA device(s) per replicate.\n",
      "2024-04-29 12:10:24) Info: Data output thread running.\n",
      "2024-04-29 12:10:24) Info: Seeding xorwow rng with top word 191 and bottom word 531467430\n",
      "2024-04-29 12:10:24) Info: Data output thread finished.\n",
      "2024-04-29 12:10:24) Info: Simulation file closed.\n",
      "2024-04-29 12:10:24) Info: Using 56 processor(s) and 1 CUDA device(s) per process.\n",
      "2024-04-29 12:10:24) Info: Assigning 1.00 processor(s) and 1.00 CUDA device(s) per replicate.\n",
      "2024-04-29 12:10:24) Info: Data output thread running.\n",
      "2024-04-29 12:10:24) Info: Seeding xorwow rng with top word 192 and bottom word 554921241\n",
      "2024-04-29 12:10:24) Info: Data output thread finished.\n",
      "2024-04-29 12:10:24) Info: Simulation file closed.\n"
     ]
    },
    {
     "name": "stderr",
     "output_type": "stream",
     "text": [
      "\r",
      " 96%|#############################################################################################################################################################4      | 192/200 [00:04<00:00, 41.43it/s]"
     ]
    },
    {
     "name": "stdout",
     "output_type": "stream",
     "text": [
      "2024-04-29 12:10:24) Info: Using 56 processor(s) and 1 CUDA device(s) per process.\n",
      "2024-04-29 12:10:24) Info: Assigning 1.00 processor(s) and 1.00 CUDA device(s) per replicate.\n",
      "2024-04-29 12:10:24) Info: Data output thread running.\n",
      "2024-04-29 12:10:24) Info: Seeding xorwow rng with top word 193 and bottom word 578448234\n",
      "2024-04-29 12:10:24) Info: Data output thread finished.\n",
      "2024-04-29 12:10:24) Info: Simulation file closed.\n",
      "2024-04-29 12:10:24) Info: Using 56 processor(s) and 1 CUDA device(s) per process.\n",
      "2024-04-29 12:10:24) Info: Assigning 1.00 processor(s) and 1.00 CUDA device(s) per replicate.\n",
      "2024-04-29 12:10:24) Info: Data output thread running.\n",
      "2024-04-29 12:10:24) Info: Seeding xorwow rng with top word 194 and bottom word 603531922\n",
      "2024-04-29 12:10:24) Info: Data output thread finished.\n",
      "2024-04-29 12:10:24) Info: Simulation file closed.\n",
      "2024-04-29 12:10:24) Info: Using 56 processor(s) and 1 CUDA device(s) per process.\n",
      "2024-04-29 12:10:24) Info: Assigning 1.00 processor(s) and 1.00 CUDA device(s) per replicate.\n",
      "2024-04-29 12:10:24) Info: Data output thread running.\n",
      "2024-04-29 12:10:24) Info: Seeding xorwow rng with top word 195 and bottom word 629040553\n",
      "2024-04-29 12:10:24) Info: Data output thread finished.\n",
      "2024-04-29 12:10:24) Info: Simulation file closed.\n",
      "2024-04-29 12:10:24) Info: Using 56 processor(s) and 1 CUDA device(s) per process.\n",
      "2024-04-29 12:10:24) Info: Assigning 1.00 processor(s) and 1.00 CUDA device(s) per replicate.\n",
      "2024-04-29 12:10:24) Info: Data output thread running.\n",
      "2024-04-29 12:10:24) Info: Seeding xorwow rng with top word 196 and bottom word 653156981\n",
      "2024-04-29 12:10:24) Info: Data output thread finished.\n",
      "2024-04-29 12:10:24) Info: Simulation file closed.\n",
      "2024-04-29 12:10:24) Info: Using 56 processor(s) and 1 CUDA device(s) per process.\n",
      "2024-04-29 12:10:24) Info: Assigning 1.00 processor(s) and 1.00 CUDA device(s) per replicate.\n",
      "2024-04-29 12:10:24) Info: Data output thread running.\n",
      "2024-04-29 12:10:24) Info: Seeding xorwow rng with top word 197 and bottom word 677324761\n",
      "2024-04-29 12:10:24) Info: Data output thread finished.\n",
      "2024-04-29 12:10:24) Info: Simulation file closed.\n"
     ]
    },
    {
     "name": "stderr",
     "output_type": "stream",
     "text": [
      "\r",
      " 98%|#################################################################################################################################################################5  | 197/200 [00:04<00:00, 41.28it/s]"
     ]
    },
    {
     "name": "stdout",
     "output_type": "stream",
     "text": [
      "2024-04-29 12:10:24) Info: Using 56 processor(s) and 1 CUDA device(s) per process.\n",
      "2024-04-29 12:10:24) Info: Assigning 1.00 processor(s) and 1.00 CUDA device(s) per replicate.\n",
      "2024-04-29 12:10:24) Info: Data output thread running.\n",
      "2024-04-29 12:10:24) Info: Seeding xorwow rng with top word 198 and bottom word 702232153\n",
      "2024-04-29 12:10:24) Info: Data output thread finished.\n",
      "2024-04-29 12:10:24) Info: Simulation file closed.\n",
      "2024-04-29 12:10:24) Info: Using 56 processor(s) and 1 CUDA device(s) per process.\n",
      "2024-04-29 12:10:24) Info: Assigning 1.00 processor(s) and 1.00 CUDA device(s) per replicate.\n",
      "2024-04-29 12:10:24) Info: Data output thread running.\n",
      "2024-04-29 12:10:24) Info: Seeding xorwow rng with top word 199 and bottom word 725417191\n",
      "2024-04-29 12:10:24) Info: Data output thread finished.\n",
      "2024-04-29 12:10:24) Info: Simulation file closed.\n",
      "2024-04-29 12:10:24) Info: Using 56 processor(s) and 1 CUDA device(s) per process.\n",
      "2024-04-29 12:10:24) Info: Assigning 1.00 processor(s) and 1.00 CUDA device(s) per replicate.\n",
      "2024-04-29 12:10:24) Info: Data output thread running.\n",
      "2024-04-29 12:10:24) Info: Seeding xorwow rng with top word 200 and bottom word 749480342\n",
      "2024-04-29 12:10:24) Info: Data output thread finished.\n",
      "2024-04-29 12:10:24) Info: Simulation file closed.\n"
     ]
    },
    {
     "name": "stderr",
     "output_type": "stream",
     "text": [
      "100%|####################################################################################################################################################################| 200/200 [00:05<00:00, 39.95it/s]\n"
     ]
    }
   ],
   "source": [
    "# Run multipled replicates using the Gillespie solver\n",
    "# Will cost less than 1 minute\n",
    "reps = 200\n",
    "\n",
    "sim.run(filename=filename, method=\"lm::cme::GillespieDSolver\", replicates=reps)"
   ]
  },
  {
   "cell_type": "markdown",
   "metadata": {},
   "source": [
    "## Post-Processing"
   ]
  },
  {
   "cell_type": "code",
   "execution_count": 10,
   "metadata": {},
   "outputs": [],
   "source": [
    "fileHandle = PostProcessing.openLMFile(filename) # Create h5py file handle\n",
    "\n",
    "plotfolder = './plots_gene_expression/'\n",
    "\n",
    "if not os.path.exists(plotfolder):\n",
    "    os.mkdir(plotfolder)\n"
   ]
  },
  {
   "cell_type": "markdown",
   "metadata": {},
   "source": [
    "#### Using [```plotAvgVarFromFile()```](https://luthey-schulten.chemistry.illinois.edu/software/LM2.4/_autosummary/pySTDLM.PostProcessing.html#module-pySTDLM.PostProcessing) built-in function in PostProcessing to plot the average and variance of species. "
   ]
  },
  {
   "cell_type": "code",
   "execution_count": 11,
   "metadata": {},
   "outputs": [
    {
     "data": {
      "text/plain": [
       "<Figure size 640x480 with 0 Axes>"
      ]
     },
     "metadata": {},
     "output_type": "display_data"
    }
   ],
   "source": [
    "for i_specie, specie in enumerate(species):\n",
    "\n",
    "    picturepath = plotfolder + 'Trace.{0}.png'.format(specie)\n",
    "\n",
    "    PostProcessing.plotAvgVarFromFile(filename = filename, species = [specie], outfile = picturepath)"
   ]
  },
  {
   "cell_type": "markdown",
   "metadata": {},
   "source": [
    "#### Using user-defined function to serialize traces in LM file to a 3D Numpy Array with dimesions *(reps, species, time)*."
   ]
  },
  {
   "cell_type": "code",
   "execution_count": 12,
   "metadata": {},
   "outputs": [],
   "source": [
    "import h5py\n",
    "\n",
    "timestep = PostProcessing.getTimesteps(fileHandle) # use PostProcessing to get the timesteps of the simulation\n",
    "\n",
    "traces = np.zeros((reps,len(sim.particleMap),len(timestep)))\n",
    "\n",
    "def get_sim_data(filename):\n",
    "\n",
    "    f=h5py.File(filename, \"r\")\n",
    "\n",
    "    for r in range(reps):\n",
    "        \n",
    "        traces[r]=f['Simulations'][str(r+1).zfill(7)]['SpeciesCounts'][()].transpose()\n",
    "        \n",
    "    f.close()\n",
    "\n",
    "    return traces\n",
    "\n",
    "traces = get_sim_data(filename)\n",
    "\n",
    "# print(traces)"
   ]
  },
  {
   "cell_type": "markdown",
   "metadata": {},
   "source": [
    "#### Plot the distribution of Protein at the end of the simulation"
   ]
  },
  {
   "cell_type": "markdown",
   "metadata": {},
   "source": [
    "User defined function to draw histogram"
   ]
  },
  {
   "cell_type": "code",
   "execution_count": 13,
   "metadata": {},
   "outputs": [],
   "source": [
    "def plot_histogram(data, figure_path, bins, xlabel, title):\n",
    "    \n",
    "    fig_size = [87,87/1.618]\n",
    "\n",
    "    fig = plt.figure(figsize=(fig_size[0]/25.4,fig_size[1]/25.4))\n",
    "\n",
    "    plt.hist(ptns_end, bins=20, alpha=0.7, color='limegreen')\n",
    "\n",
    "    ax = plt.gca()\n",
    "\n",
    "    xlabel = xlabel.replace('_','\\_')\n",
    "    ax.set_xlabel(r'{0}'.format(xlabel),\n",
    "                  fontsize=7,\n",
    "                  labelpad=1.5)\n",
    "\n",
    "    ax.set_ylabel(r'{0}'.format('Frequency'),\n",
    "                fontsize=7,\n",
    "                labelpad=1.5)\n",
    "\n",
    "    title = title.replace('_','\\_')\n",
    "    ax.set_title(r'{0}'.format(title),\n",
    "                 fontsize=8,\n",
    "                 pad=4)\n",
    "\n",
    "    tick_length = 4.0\n",
    "    tick_width = 1.5\n",
    "    ax.tick_params(labelsize=5,\n",
    "                    length=tick_length,\n",
    "                    width=tick_width,\n",
    "                    direction='in',\n",
    "                    left=True,\n",
    "                    right=True,\n",
    "                    bottom=True,\n",
    "                    top=True,\n",
    "                    which='major')\n",
    "\n",
    "    ax.tick_params(labelsize=5,\n",
    "                    length=tick_length/1.5,\n",
    "                    width=tick_width/1.5,\n",
    "                    direction='in',\n",
    "                    left=True,\n",
    "                    right=False,\n",
    "                    bottom=True,\n",
    "                    top=False,\n",
    "                    which='minor')\n",
    "\n",
    "    ax.spines['left'].set_linewidth(1.5)\n",
    "    ax.spines['bottom'].set_linewidth(1.5)\n",
    "    ax.spines['right'].set_linewidth(1.5)\n",
    "    ax.spines['top'].set_linewidth(1.5)\n",
    "\n",
    "    mean = np.mean(ptns_end)\n",
    "    plt.axvline(mean, color='red', linestyle='dashed', linewidth=1.5, label = 'Mean: {0:.3f}'.format(mean))\n",
    "\n",
    "    median = np.median(ptns_end)\n",
    "    plt.axvline(median, color='black', linestyle='dashed', linewidth=1.5, label = 'Median: {0:.3f}'.format(median))      \n",
    "\n",
    "    min = np.min(ptns_end)\n",
    "    plt.axvline(min, color='blue', linestyle='dashed', linewidth=1.5, label = 'Min: {0:.3f}'.format(min))  \n",
    "\n",
    "    ax.legend(fontsize = 8)\n",
    "\n",
    "    fig.savefig(fig_path, dpi = 300)\n",
    "\n",
    "    plt.close()\n",
    "    \n",
    "    return None"
   ]
  },
  {
   "cell_type": "code",
   "execution_count": 14,
   "metadata": {
    "scrolled": true
   },
   "outputs": [],
   "source": [
    "ptns_end = traces[:,2,-1] # Slice Numpy array to get the counts of ptn at the end of the whole cell cycle\n",
    "# print(ptns_end)\n",
    "\n",
    "fig_path = plotfolder + 'Distribution_Ptns_End.png'\n",
    "\n",
    "xlabel = 'Counts of Protein [#]'\n",
    "\n",
    "title = 'Distribution of Ptn Counts at the end of the simulation'\n",
    "        \n",
    "plot_histogram(data = ptns_end, figure_path = fig_path, bins = 20, xlabel = xlabel, title = title)\n",
    "\n",
    "# plt.hist(ptns_end)"
   ]
  },
  {
   "cell_type": "code",
   "execution_count": 15,
   "metadata": {},
   "outputs": [],
   "source": [
    "ptns_end = traces[:,1,-1] # Slice Numpy array to get the counts of ptn at the end of the whole cell cycle\n",
    "# print(ptns_end)\n",
    "\n",
    "fig_path = plotfolder + 'Distribution_mRNA_End.png'\n",
    "\n",
    "xlabel = 'Counts of mRNA [#]'\n",
    "\n",
    "title = 'Distribution of mRNA Counts at the end of the simulation'\n",
    "        \n",
    "plot_histogram(data = ptns_end, figure_path = fig_path, bins = 5, xlabel = xlabel, title = title)"
   ]
  },
  {
   "cell_type": "code",
   "execution_count": 16,
   "metadata": {},
   "outputs": [
    {
     "ename": "SyntaxError",
     "evalue": "'break' outside loop (668683560.py, line 4)",
     "output_type": "error",
     "traceback": [
      "\u001b[0;36m  File \u001b[0;32m\"/tmp/ipykernel_2563891/668683560.py\"\u001b[0;36m, line \u001b[0;32m4\u001b[0m\n\u001b[0;31mSyntaxError\u001b[0m\u001b[0;31m:\u001b[0m 'break' outside loop\n"
     ]
    }
   ],
   "source": [
    "break"
   ]
  },
  {
   "cell_type": "code",
   "execution_count": null,
   "metadata": {
    "scrolled": true
   },
   "outputs": [],
   "source": [
    "from scipy.special import gamma\n",
    "\n",
    "a = v0/d1\n",
    "b = v1/d0\n",
    "\n",
    "print('a',a,'b',b)\n",
    "ns = np.linspace(0, 250, 251)\n",
    "\n",
    "prefactor = gamma(ns+a)/gamma(ns+1)/gamma(a)\n",
    "\n",
    "print(prefactor)"
   ]
  },
  {
   "cell_type": "code",
   "execution_count": null,
   "metadata": {},
   "outputs": [],
   "source": [
    "import math as m\n",
    "\n",
    "m.gamma(3000)"
   ]
  },
  {
   "cell_type": "markdown",
   "metadata": {},
   "source": [
    "## Questions 2.1\n",
    "\n",
    "1. Do mRNA and protein reach steady-state during the entire cell cycle? How can you tell this from the plots?\n",
    "\n",
    "2. In the whole cell model of JCVI-SYN3A, the initial count of protein (P_0001/DnaA) is 148. Does the protein count double during the entire cell cyle? And why this is important?\n",
    "\n",
    "3. (Challenge) Try to increase the simulation time to see the steady state of protein.\n",
    "\n"
   ]
  },
  {
   "cell_type": "code",
   "execution_count": null,
   "metadata": {},
   "outputs": [],
   "source": []
  }
 ],
 "metadata": {
  "kernelspec": {
   "display_name": "Python 3 (ipykernel)",
   "language": "python",
   "name": "python3"
  },
  "language_info": {
   "codemirror_mode": {
    "name": "ipython",
    "version": 3
   },
   "file_extension": ".py",
   "mimetype": "text/x-python",
   "name": "python",
   "nbconvert_exporter": "python",
   "pygments_lexer": "ipython3",
   "version": "3.7.3"
  }
 },
 "nbformat": 4,
 "nbformat_minor": 2
}
