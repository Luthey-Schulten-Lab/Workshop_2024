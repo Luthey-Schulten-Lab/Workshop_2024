{
 "cells": [
  {
   "cell_type": "markdown",
   "metadata": {},
   "source": [
    "# Tutorial 1.2 - Stochastic Gene Expression\n",
    "\n",
    "Here we examine a CME model of stochastic Gene Expression.\n",
    "\n",
    "In this model, we include the transcription and translation of gene and mRNA together with degradation of both mRNA and protein.\n",
    "\n",
    "The model presented here can be found in the article: [Analytical distributions for stochastic gene expression](https://www.pnas.org/doi/full/10.1073/pnas.0803850105).\n"
   ]
  },
  {
   "cell_type": "code",
   "execution_count": 18,
   "metadata": {},
   "outputs": [],
   "source": [
    "# Import Standard Python Libraries\n",
    "import os\n",
    "import numpy as np\n",
    "import matplotlib.pyplot as plt\n",
    "\n",
    "# Import pyLM Libraries\n",
    "from pyLM import *\n",
    "from pyLM.units import *\n",
    "from pySTDLM import *\n",
    "from pySTDLM.PostProcessing import *\n",
    "\n",
    "# Enable plotting inline in the Jupyter notebook\n",
    "%matplotlib inline"
   ]
  },
  {
   "cell_type": "markdown",
   "metadata": {},
   "source": [
    "## Constants\n",
    "\n",
    "Rates of first three first-order reactions come from the CME/ODE Whole Cell Model at initial conditions.\n",
    "\n",
    "Degradation rate of protein is calculated based on 25 hours' half life in [Maier et al, 2011](https://www.embopress.org/doi/full/10.1038/msb.2011.38)."
   ]
  },
  {
   "cell_type": "code",
   "execution_count": 19,
   "metadata": {},
   "outputs": [],
   "source": [
    "# Constants\n",
    "v0  = 6.41e-4       # Transcription, s^-1\n",
    "d0 = 2.59e-3     # degradation of mRNA, s^-1\n",
    "v1 = 7.2e-2        # translation, s^-1\n",
    "d1 = 7.70e-6      # degradation of protein, s^-1"
   ]
  },
  {
   "cell_type": "markdown",
   "metadata": {},
   "source": [
    "## Define CME simulation"
   ]
  },
  {
   "cell_type": "markdown",
   "metadata": {},
   "source": [
    "We begin by creating a [CMESimulation](https://luthey-schulten.chemistry.illinois.edu/software/LM2.4/_autosummary/pyLM.CME.html#module-pyLM.CME) \"object\" that we call ```sim```. This object will include the definition of the whole stochastic simulation."
   ]
  },
  {
   "cell_type": "code",
   "execution_count": 21,
   "metadata": {},
   "outputs": [],
   "source": [
    "# Create our CME simulation object\n",
    "sim = CME.CMESimulation(name='Gene Expression')"
   ]
  },
  {
   "cell_type": "markdown",
   "metadata": {},
   "source": [
    "Next we define the chemical species with simulation. First. we specify the names of the chemical species.  Then we register these species with the simulation.  The [```defineSpecies()```](https://luthey-schulten.chemistry.illinois.edu/software/LM2.4/_autosummary/pyLM.CME.html#module-pyLM.CME) function can be called multiple times and will add any new names to the list of species."
   ]
  },
  {
   "cell_type": "code",
   "execution_count": 22,
   "metadata": {},
   "outputs": [],
   "source": [
    "# Define our chemical species\n",
    "species = ['gene', 'mRNA', 'ptn']\n",
    "sim.defineSpecies(species)"
   ]
  },
  {
   "cell_type": "markdown",
   "metadata": {},
   "source": [
    "Here we add reactions to the simulation. We use the [```addReaction()```](https://luthey-schulten.chemistry.illinois.edu/software/LM2.4/_autosummary/pyLM.CME.html#module-pyLM.CME) function that is a member of the ```CMESimulation``` object. We add a bimolecular association reaction and a unimolecular dissociation reaction. When more than one reactant is involved, the list of reactant names should be passed as a tuple as can be seen in the reactant of the association reaction. The rates in this command must be in units of molecules and seconds, for instance units of ```/molecule/sec``` for the association reaction."
   ]
  },
  {
   "cell_type": "code",
   "execution_count": 23,
   "metadata": {},
   "outputs": [],
   "source": [
    "# Add reactions to the simulation\n",
    "\n",
    "sim.addReaction(reactant='gene', product=('gene','mRNA'), rate=v0)\n",
    "sim.addReaction(reactant='mRNA', product='', rate=d0)\n",
    "sim.addReaction(reactant='mRNA', product=('mRNA','ptn'), rate=v1)\n",
    "sim.addReaction(reactant='ptn', product='', rate=d1)\n"
   ]
  },
  {
   "cell_type": "markdown",
   "metadata": {},
   "source": [
    "Next, we add the initial particle counts to the simulation using the [```addParticles()```](https://luthey-schulten.chemistry.illinois.edu/software/LM2.4/_autosummary/pyLM.CME.html#module-pyLM.CME) function."
   ]
  },
  {
   "cell_type": "code",
   "execution_count": 24,
   "metadata": {},
   "outputs": [],
   "source": [
    "# Set our initial species counts\n",
    "\n",
    "sim.addParticles(species='gene', count=1)\n",
    "sim.addParticles(species='mRNA', count=1)\n",
    "sim.addParticles(species='ptn', count=0)"
   ]
  },
  {
   "cell_type": "markdown",
   "metadata": {},
   "source": [
    "Finally, we define the simulation execution parameters. We have the simulation run for 6300 seconds of real time to cover the entire cell cyle.\n",
    "\n",
    "The traces are recorded per 1 second.\n",
    "\n",
    "Then we name the simulation output file and save the simulation definition to it."
   ]
  },
  {
   "cell_type": "code",
   "execution_count": 25,
   "metadata": {},
   "outputs": [],
   "source": [
    "# Simulation time is 6300, entire cell life cycle.\n",
    "writeInterval = 1\n",
    "simtime = 6300*100\n",
    "\n",
    "sim.setWriteInterval(writeInterval)\n",
    "sim.setSimulationTime(simtime)\n",
    "\n",
    "filename = \"./T2.1-geneExpression.lm\"\n",
    "\n",
    "os.system(\"rm -rf %s\"%(filename)) # Remove previous LM file \n",
    "\n",
    "sim.save(filename)"
   ]
  },
  {
   "cell_type": "code",
   "execution_count": 26,
   "metadata": {
    "scrolled": true
   },
   "outputs": [
    {
     "data": {
      "text/html": [
       "<h1> CME Simulation: Gene Expression</h1><h2> Simulation Parameters </h2>writeInterval: 1</br>maxTime: 630000</br><h2> Species </h2><table><tr><td style=\"text-align:left\"><b>Specie</b></td><td style=\"text-align:center\"><b>Particle ID</b></td><td style=\"text-align:center\"><b>Initial Count</b></td></tr><tr><td style=\"text-align:left\">gene</td><td style=\"text-align:center\">1</td><td style=\"text-align:center\">1</td></tr><tr><td style=\"text-align:left\">mRNA</td><td style=\"text-align:center\">2</td><td style=\"text-align:center\">1</td></tr><tr><td style=\"text-align:left\">ptn</td><td style=\"text-align:center\">3</td><td style=\"text-align:center\">0</td></tr></table><h2> Reaction Model </h2><table><tr><td style=\"text-align:left\"><b>Reaction</b></td><td style=\"text-align:center\"><b>Rate</b></td><td style=\"text-align:center\"><b>Units</b></td></tr><tr><td style=\"text-align:left\">gene ⟶ gene + mRNA</td><td style=\"text-align:center\">0.000641</td><td style=\"text-align:center\">s⁻¹</td></tr><tr><td style=\"text-align:left\">mRNA ⟶ ∅</td><td style=\"text-align:center\">0.00259</td><td style=\"text-align:center\">s⁻¹</td></tr><tr><td style=\"text-align:left\">mRNA ⟶ mRNA + ptn</td><td style=\"text-align:center\">0.072</td><td style=\"text-align:center\">s⁻¹</td></tr><tr><td style=\"text-align:left\">ptn ⟶ ∅</td><td style=\"text-align:center\">7.7e-06</td><td style=\"text-align:center\">s⁻¹</td></tr></table>"
      ],
      "text/plain": [
       "<pyLM.CME.CMESimulation at 0x7b75295f25f8>"
      ]
     },
     "execution_count": 26,
     "metadata": {},
     "output_type": "execute_result"
    }
   ],
   "source": [
    "# Print out the information of the system\n",
    "sim"
   ]
  },
  {
   "cell_type": "markdown",
   "metadata": {},
   "source": [
    "## Run Simulation"
   ]
  },
  {
   "cell_type": "code",
   "execution_count": 27,
   "metadata": {
    "scrolled": true
   },
   "outputs": [
    {
     "name": "stderr",
     "output_type": "stream",
     "text": [
      "\r",
      "  0%|                                                                                                                                                                                   | 0/200 [00:00<?, ?it/s]"
     ]
    },
    {
     "name": "stdout",
     "output_type": "stream",
     "text": [
      "2024-04-28 21:55:49) Info: Using 56 processor(s) and 1 CUDA device(s) per process.\n",
      "2024-04-28 21:55:49) Info: Assigning 1.00 processor(s) and 1.00 CUDA device(s) per replicate.\n",
      "2024-04-28 21:55:49) Info: Data output thread running.\n",
      "2024-04-28 21:55:49) Info: Seeding xorwow rng with top word 1 and bottom word 294497074\n",
      "2024-04-28 21:55:49) Info: Data output thread finished.\n",
      "2024-04-28 21:55:49) Info: Simulation file closed.\n"
     ]
    },
    {
     "name": "stderr",
     "output_type": "stream",
     "text": [
      "\r",
      "  0%|8                                                                                                                                                                          | 1/200 [00:00<00:25,  7.78it/s]"
     ]
    },
    {
     "name": "stdout",
     "output_type": "stream",
     "text": [
      "2024-04-28 21:55:49) Info: Using 56 processor(s) and 1 CUDA device(s) per process.\n",
      "2024-04-28 21:55:49) Info: Assigning 1.00 processor(s) and 1.00 CUDA device(s) per replicate.\n",
      "2024-04-28 21:55:49) Info: Data output thread running.\n",
      "2024-04-28 21:55:49) Info: Seeding xorwow rng with top word 2 and bottom word 423944043\n",
      "2024-04-28 21:55:49) Info: Data output thread finished.\n",
      "2024-04-28 21:55:49) Info: Simulation file closed.\n"
     ]
    },
    {
     "name": "stderr",
     "output_type": "stream",
     "text": [
      "\r",
      "  1%|#7                                                                                                                                                                         | 2/200 [00:00<00:23,  8.54it/s]"
     ]
    },
    {
     "name": "stdout",
     "output_type": "stream",
     "text": [
      "2024-04-28 21:55:49) Info: Using 56 processor(s) and 1 CUDA device(s) per process.\n",
      "2024-04-28 21:55:49) Info: Assigning 1.00 processor(s) and 1.00 CUDA device(s) per replicate.\n",
      "2024-04-28 21:55:49) Info: Data output thread running.\n",
      "2024-04-28 21:55:49) Info: Seeding xorwow rng with top word 3 and bottom word 532991126\n",
      "2024-04-28 21:55:49) Info: Data output thread finished.\n",
      "2024-04-28 21:55:49) Info: Simulation file closed.\n"
     ]
    },
    {
     "name": "stderr",
     "output_type": "stream",
     "text": [
      "\r",
      "  2%|##5                                                                                                                                                                        | 3/200 [00:00<00:22,  8.94it/s]"
     ]
    },
    {
     "name": "stdout",
     "output_type": "stream",
     "text": [
      "2024-04-28 21:55:49) Info: Using 56 processor(s) and 1 CUDA device(s) per process.\n",
      "2024-04-28 21:55:49) Info: Assigning 1.00 processor(s) and 1.00 CUDA device(s) per replicate.\n",
      "2024-04-28 21:55:49) Info: Data output thread running.\n",
      "2024-04-28 21:55:49) Info: Seeding xorwow rng with top word 4 and bottom word 638507201\n",
      "2024-04-28 21:55:49) Info: Data output thread finished.\n",
      "2024-04-28 21:55:49) Info: Simulation file closed.\n"
     ]
    },
    {
     "name": "stderr",
     "output_type": "stream",
     "text": [
      "\r",
      "  2%|###4                                                                                                                                                                       | 4/200 [00:00<00:21,  9.09it/s]"
     ]
    },
    {
     "name": "stdout",
     "output_type": "stream",
     "text": [
      "2024-04-28 21:55:49) Info: Using 56 processor(s) and 1 CUDA device(s) per process.\n",
      "2024-04-28 21:55:49) Info: Assigning 1.00 processor(s) and 1.00 CUDA device(s) per replicate.\n",
      "2024-04-28 21:55:49) Info: Data output thread running.\n",
      "2024-04-28 21:55:49) Info: Seeding xorwow rng with top word 5 and bottom word 745441243\n",
      "2024-04-28 21:55:49) Info: Data output thread finished.\n",
      "2024-04-28 21:55:49) Info: Simulation file closed.\n"
     ]
    },
    {
     "name": "stderr",
     "output_type": "stream",
     "text": [
      "\r",
      "  2%|####2                                                                                                                                                                      | 5/200 [00:00<00:21,  9.20it/s]"
     ]
    },
    {
     "name": "stdout",
     "output_type": "stream",
     "text": [
      "2024-04-28 21:55:49) Info: Using 56 processor(s) and 1 CUDA device(s) per process.\n",
      "2024-04-28 21:55:49) Info: Assigning 1.00 processor(s) and 1.00 CUDA device(s) per replicate.\n",
      "2024-04-28 21:55:49) Info: Data output thread running.\n",
      "2024-04-28 21:55:49) Info: Seeding xorwow rng with top word 6 and bottom word 851702357\n",
      "2024-04-28 21:55:49) Info: Data output thread finished.\n",
      "2024-04-28 21:55:49) Info: Simulation file closed.\n"
     ]
    },
    {
     "name": "stderr",
     "output_type": "stream",
     "text": [
      "\r",
      "  3%|#####1                                                                                                                                                                     | 6/200 [00:00<00:20,  9.36it/s]"
     ]
    },
    {
     "name": "stdout",
     "output_type": "stream",
     "text": [
      "2024-04-28 21:55:49) Info: Using 56 processor(s) and 1 CUDA device(s) per process.\n",
      "2024-04-28 21:55:49) Info: Assigning 1.00 processor(s) and 1.00 CUDA device(s) per replicate.\n",
      "2024-04-28 21:55:49) Info: Data output thread running.\n",
      "2024-04-28 21:55:49) Info: Seeding xorwow rng with top word 7 and bottom word 955211247\n",
      "2024-04-28 21:55:50) Info: Data output thread finished.\n",
      "2024-04-28 21:55:50) Info: Simulation file closed.\n"
     ]
    },
    {
     "name": "stderr",
     "output_type": "stream",
     "text": [
      "\r",
      "  4%|#####9                                                                                                                                                                     | 7/200 [00:00<00:20,  9.37it/s]"
     ]
    },
    {
     "name": "stdout",
     "output_type": "stream",
     "text": [
      "2024-04-28 21:55:50) Info: Using 56 processor(s) and 1 CUDA device(s) per process.\n",
      "2024-04-28 21:55:50) Info: Assigning 1.00 processor(s) and 1.00 CUDA device(s) per replicate.\n",
      "2024-04-28 21:55:50) Info: Data output thread running.\n",
      "2024-04-28 21:55:50) Info: Seeding xorwow rng with top word 8 and bottom word 62192607\n",
      "2024-04-28 21:55:50) Info: Data output thread finished.\n",
      "2024-04-28 21:55:50) Info: Simulation file closed.\n"
     ]
    },
    {
     "name": "stderr",
     "output_type": "stream",
     "text": [
      "\r",
      "  4%|######8                                                                                                                                                                    | 8/200 [00:00<00:20,  9.43it/s]"
     ]
    },
    {
     "name": "stdout",
     "output_type": "stream",
     "text": [
      "2024-04-28 21:55:50) Info: Using 56 processor(s) and 1 CUDA device(s) per process.\n",
      "2024-04-28 21:55:50) Info: Assigning 1.00 processor(s) and 1.00 CUDA device(s) per replicate.\n",
      "2024-04-28 21:55:50) Info: Data output thread running.\n",
      "2024-04-28 21:55:50) Info: Seeding xorwow rng with top word 9 and bottom word 166045357\n",
      "2024-04-28 21:55:50) Info: Data output thread finished.\n",
      "2024-04-28 21:55:50) Info: Simulation file closed.\n"
     ]
    },
    {
     "name": "stderr",
     "output_type": "stream",
     "text": [
      "\r",
      "  4%|#######6                                                                                                                                                                   | 9/200 [00:00<00:20,  9.34it/s]"
     ]
    },
    {
     "name": "stdout",
     "output_type": "stream",
     "text": [
      "2024-04-28 21:55:50) Info: Using 56 processor(s) and 1 CUDA device(s) per process.\n",
      "2024-04-28 21:55:50) Info: Assigning 1.00 processor(s) and 1.00 CUDA device(s) per replicate.\n",
      "2024-04-28 21:55:50) Info: Data output thread running.\n",
      "2024-04-28 21:55:50) Info: Seeding xorwow rng with top word 10 and bottom word 275475618\n",
      "2024-04-28 21:55:50) Info: Data output thread finished.\n",
      "2024-04-28 21:55:50) Info: Simulation file closed.\n"
     ]
    },
    {
     "name": "stderr",
     "output_type": "stream",
     "text": [
      "\r",
      "  5%|########5                                                                                                                                                                 | 10/200 [00:01<00:20,  9.28it/s]"
     ]
    },
    {
     "name": "stdout",
     "output_type": "stream",
     "text": [
      "2024-04-28 21:55:50) Info: Using 56 processor(s) and 1 CUDA device(s) per process.\n",
      "2024-04-28 21:55:50) Info: Assigning 1.00 processor(s) and 1.00 CUDA device(s) per replicate.\n",
      "2024-04-28 21:55:50) Info: Data output thread running.\n",
      "2024-04-28 21:55:50) Info: Seeding xorwow rng with top word 11 and bottom word 384924693\n",
      "2024-04-28 21:55:50) Info: Data output thread finished.\n",
      "2024-04-28 21:55:50) Info: Simulation file closed.\n"
     ]
    },
    {
     "name": "stderr",
     "output_type": "stream",
     "text": [
      "\r",
      "  6%|#########3                                                                                                                                                                | 11/200 [00:01<00:20,  9.34it/s]"
     ]
    },
    {
     "name": "stdout",
     "output_type": "stream",
     "text": [
      "2024-04-28 21:55:50) Info: Using 56 processor(s) and 1 CUDA device(s) per process.\n",
      "2024-04-28 21:55:50) Info: Assigning 1.00 processor(s) and 1.00 CUDA device(s) per replicate.\n",
      "2024-04-28 21:55:50) Info: Data output thread running.\n",
      "2024-04-28 21:55:50) Info: Seeding xorwow rng with top word 12 and bottom word 490200610\n",
      "2024-04-28 21:55:50) Info: Data output thread finished.\n",
      "2024-04-28 21:55:50) Info: Simulation file closed.\n"
     ]
    },
    {
     "name": "stderr",
     "output_type": "stream",
     "text": [
      "\r",
      "  6%|##########2                                                                                                                                                               | 12/200 [00:01<00:19,  9.40it/s]"
     ]
    },
    {
     "name": "stdout",
     "output_type": "stream",
     "text": [
      "2024-04-28 21:55:50) Info: Using 56 processor(s) and 1 CUDA device(s) per process.\n",
      "2024-04-28 21:55:50) Info: Assigning 1.00 processor(s) and 1.00 CUDA device(s) per replicate.\n",
      "2024-04-28 21:55:50) Info: Data output thread running.\n",
      "2024-04-28 21:55:50) Info: Seeding xorwow rng with top word 13 and bottom word 595104353\n",
      "2024-04-28 21:55:50) Info: Data output thread finished.\n",
      "2024-04-28 21:55:50) Info: Simulation file closed.\n"
     ]
    },
    {
     "name": "stderr",
     "output_type": "stream",
     "text": [
      "\r",
      "  6%|###########                                                                                                                                                               | 13/200 [00:01<00:19,  9.40it/s]"
     ]
    },
    {
     "name": "stdout",
     "output_type": "stream",
     "text": [
      "2024-04-28 21:55:50) Info: Using 56 processor(s) and 1 CUDA device(s) per process.\n",
      "2024-04-28 21:55:50) Info: Assigning 1.00 processor(s) and 1.00 CUDA device(s) per replicate.\n",
      "2024-04-28 21:55:50) Info: Data output thread running.\n",
      "2024-04-28 21:55:50) Info: Seeding xorwow rng with top word 14 and bottom word 702357151\n",
      "2024-04-28 21:55:50) Info: Data output thread finished.\n",
      "2024-04-28 21:55:50) Info: Simulation file closed.\n"
     ]
    },
    {
     "name": "stderr",
     "output_type": "stream",
     "text": [
      "\r",
      "  7%|###########9                                                                                                                                                              | 14/200 [00:01<00:19,  9.46it/s]"
     ]
    },
    {
     "name": "stdout",
     "output_type": "stream",
     "text": [
      "2024-04-28 21:55:50) Info: Using 56 processor(s) and 1 CUDA device(s) per process.\n",
      "2024-04-28 21:55:50) Info: Assigning 1.00 processor(s) and 1.00 CUDA device(s) per replicate.\n",
      "2024-04-28 21:55:50) Info: Data output thread running.\n",
      "2024-04-28 21:55:50) Info: Seeding xorwow rng with top word 15 and bottom word 805378999\n",
      "2024-04-28 21:55:50) Info: Data output thread finished.\n",
      "2024-04-28 21:55:50) Info: Simulation file closed.\n"
     ]
    },
    {
     "name": "stderr",
     "output_type": "stream",
     "text": [
      "\r",
      "  8%|############7                                                                                                                                                             | 15/200 [00:01<00:19,  9.56it/s]"
     ]
    },
    {
     "name": "stdout",
     "output_type": "stream",
     "text": [
      "2024-04-28 21:55:50) Info: Using 56 processor(s) and 1 CUDA device(s) per process.\n",
      "2024-04-28 21:55:50) Info: Assigning 1.00 processor(s) and 1.00 CUDA device(s) per replicate.\n",
      "2024-04-28 21:55:50) Info: Data output thread running.\n",
      "2024-04-28 21:55:50) Info: Seeding xorwow rng with top word 16 and bottom word 907243930\n",
      "2024-04-28 21:55:50) Info: Data output thread finished.\n",
      "2024-04-28 21:55:51) Info: Simulation file closed.\n"
     ]
    },
    {
     "name": "stderr",
     "output_type": "stream",
     "text": [
      "\r",
      "  8%|#############6                                                                                                                                                            | 16/200 [00:01<00:19,  9.45it/s]"
     ]
    },
    {
     "name": "stdout",
     "output_type": "stream",
     "text": [
      "2024-04-28 21:55:51) Info: Using 56 processor(s) and 1 CUDA device(s) per process.\n",
      "2024-04-28 21:55:51) Info: Assigning 1.00 processor(s) and 1.00 CUDA device(s) per replicate.\n",
      "2024-04-28 21:55:51) Info: Data output thread running.\n",
      "2024-04-28 21:55:51) Info: Seeding xorwow rng with top word 17 and bottom word 16688558\n",
      "2024-04-28 21:55:51) Info: Data output thread finished.\n",
      "2024-04-28 21:55:51) Info: Simulation file closed.\n"
     ]
    },
    {
     "name": "stderr",
     "output_type": "stream",
     "text": [
      "\r",
      "  8%|##############4                                                                                                                                                           | 17/200 [00:01<00:19,  9.47it/s]"
     ]
    },
    {
     "name": "stdout",
     "output_type": "stream",
     "text": [
      "2024-04-28 21:55:51) Info: Using 56 processor(s) and 1 CUDA device(s) per process.\n",
      "2024-04-28 21:55:51) Info: Assigning 1.00 processor(s) and 1.00 CUDA device(s) per replicate.\n",
      "2024-04-28 21:55:51) Info: Data output thread running.\n",
      "2024-04-28 21:55:51) Info: Seeding xorwow rng with top word 18 and bottom word 121324229\n",
      "2024-04-28 21:55:51) Info: Data output thread finished.\n",
      "2024-04-28 21:55:51) Info: Simulation file closed.\n"
     ]
    },
    {
     "name": "stderr",
     "output_type": "stream",
     "text": [
      "\r",
      "  9%|###############3                                                                                                                                                          | 18/200 [00:01<00:19,  9.47it/s]"
     ]
    },
    {
     "name": "stdout",
     "output_type": "stream",
     "text": [
      "2024-04-28 21:55:51) Info: Using 56 processor(s) and 1 CUDA device(s) per process.\n",
      "2024-04-28 21:55:51) Info: Assigning 1.00 processor(s) and 1.00 CUDA device(s) per replicate.\n",
      "2024-04-28 21:55:51) Info: Data output thread running.\n",
      "2024-04-28 21:55:51) Info: Seeding xorwow rng with top word 19 and bottom word 227068636\n",
      "2024-04-28 21:55:51) Info: Data output thread finished.\n",
      "2024-04-28 21:55:51) Info: Simulation file closed.\n"
     ]
    },
    {
     "name": "stderr",
     "output_type": "stream",
     "text": [
      "\r",
      " 10%|################1                                                                                                                                                         | 19/200 [00:02<00:19,  9.37it/s]"
     ]
    },
    {
     "name": "stdout",
     "output_type": "stream",
     "text": [
      "2024-04-28 21:55:51) Info: Using 56 processor(s) and 1 CUDA device(s) per process.\n",
      "2024-04-28 21:55:51) Info: Assigning 1.00 processor(s) and 1.00 CUDA device(s) per replicate.\n",
      "2024-04-28 21:55:51) Info: Data output thread running.\n",
      "2024-04-28 21:55:51) Info: Seeding xorwow rng with top word 20 and bottom word 336713116\n",
      "2024-04-28 21:55:51) Info: Data output thread finished.\n",
      "2024-04-28 21:55:51) Info: Simulation file closed.\n"
     ]
    },
    {
     "name": "stderr",
     "output_type": "stream",
     "text": [
      "\r",
      " 10%|#################                                                                                                                                                         | 20/200 [00:02<00:18,  9.52it/s]"
     ]
    },
    {
     "name": "stdout",
     "output_type": "stream",
     "text": [
      "2024-04-28 21:55:51) Info: Using 56 processor(s) and 1 CUDA device(s) per process.\n",
      "2024-04-28 21:55:51) Info: Assigning 1.00 processor(s) and 1.00 CUDA device(s) per replicate.\n",
      "2024-04-28 21:55:51) Info: Data output thread running.\n",
      "2024-04-28 21:55:51) Info: Seeding xorwow rng with top word 21 and bottom word 437661998\n",
      "2024-04-28 21:55:51) Info: Data output thread finished.\n",
      "2024-04-28 21:55:51) Info: Simulation file closed.\n"
     ]
    },
    {
     "name": "stderr",
     "output_type": "stream",
     "text": [
      "\r",
      " 10%|#################8                                                                                                                                                        | 21/200 [00:02<00:18,  9.59it/s]"
     ]
    },
    {
     "name": "stdout",
     "output_type": "stream",
     "text": [
      "2024-04-28 21:55:51) Info: Using 56 processor(s) and 1 CUDA device(s) per process.\n",
      "2024-04-28 21:55:51) Info: Assigning 1.00 processor(s) and 1.00 CUDA device(s) per replicate.\n",
      "2024-04-28 21:55:51) Info: Data output thread running.\n",
      "2024-04-28 21:55:51) Info: Seeding xorwow rng with top word 22 and bottom word 539955315\n",
      "2024-04-28 21:55:51) Info: Data output thread finished.\n",
      "2024-04-28 21:55:51) Info: Simulation file closed.\n"
     ]
    },
    {
     "name": "stderr",
     "output_type": "stream",
     "text": [
      "\r",
      " 11%|##################7                                                                                                                                                       | 22/200 [00:02<00:18,  9.64it/s]"
     ]
    },
    {
     "name": "stdout",
     "output_type": "stream",
     "text": [
      "2024-04-28 21:55:51) Info: Using 56 processor(s) and 1 CUDA device(s) per process.\n",
      "2024-04-28 21:55:51) Info: Assigning 1.00 processor(s) and 1.00 CUDA device(s) per replicate.\n",
      "2024-04-28 21:55:51) Info: Data output thread running.\n",
      "2024-04-28 21:55:51) Info: Seeding xorwow rng with top word 23 and bottom word 642051138\n",
      "2024-04-28 21:55:51) Info: Data output thread finished.\n",
      "2024-04-28 21:55:51) Info: Simulation file closed.\n"
     ]
    },
    {
     "name": "stderr",
     "output_type": "stream",
     "text": [
      "\r",
      " 12%|###################5                                                                                                                                                      | 23/200 [00:02<00:18,  9.61it/s]"
     ]
    },
    {
     "name": "stdout",
     "output_type": "stream",
     "text": [
      "2024-04-28 21:55:51) Info: Using 56 processor(s) and 1 CUDA device(s) per process.\n",
      "2024-04-28 21:55:51) Info: Assigning 1.00 processor(s) and 1.00 CUDA device(s) per replicate.\n",
      "2024-04-28 21:55:51) Info: Data output thread running.\n",
      "2024-04-28 21:55:51) Info: Seeding xorwow rng with top word 24 and bottom word 747660569\n",
      "2024-04-28 21:55:51) Info: Data output thread finished.\n",
      "2024-04-28 21:55:51) Info: Simulation file closed.\n"
     ]
    },
    {
     "name": "stderr",
     "output_type": "stream",
     "text": [
      "\r",
      " 12%|####################4                                                                                                                                                     | 24/200 [00:02<00:18,  9.61it/s]"
     ]
    },
    {
     "name": "stdout",
     "output_type": "stream",
     "text": [
      "2024-04-28 21:55:51) Info: Using 56 processor(s) and 1 CUDA device(s) per process.\n",
      "2024-04-28 21:55:51) Info: Assigning 1.00 processor(s) and 1.00 CUDA device(s) per replicate.\n",
      "2024-04-28 21:55:51) Info: Data output thread running.\n",
      "2024-04-28 21:55:51) Info: Seeding xorwow rng with top word 25 and bottom word 851706821\n",
      "2024-04-28 21:55:51) Info: Data output thread finished.\n",
      "2024-04-28 21:55:51) Info: Simulation file closed.\n"
     ]
    },
    {
     "name": "stderr",
     "output_type": "stream",
     "text": [
      "\r",
      " 12%|#####################2                                                                                                                                                    | 25/200 [00:02<00:18,  9.67it/s]"
     ]
    },
    {
     "name": "stdout",
     "output_type": "stream",
     "text": [
      "2024-04-28 21:55:51) Info: Using 56 processor(s) and 1 CUDA device(s) per process.\n",
      "2024-04-28 21:55:51) Info: Assigning 1.00 processor(s) and 1.00 CUDA device(s) per replicate.\n",
      "2024-04-28 21:55:51) Info: Data output thread running.\n",
      "2024-04-28 21:55:51) Info: Seeding xorwow rng with top word 26 and bottom word 953705319\n",
      "2024-04-28 21:55:52) Info: Data output thread finished.\n",
      "2024-04-28 21:55:52) Info: Simulation file closed.\n"
     ]
    },
    {
     "name": "stderr",
     "output_type": "stream",
     "text": [
      "\r",
      " 13%|######################1                                                                                                                                                   | 26/200 [00:02<00:18,  9.56it/s]"
     ]
    },
    {
     "name": "stdout",
     "output_type": "stream",
     "text": [
      "2024-04-28 21:55:52) Info: Using 56 processor(s) and 1 CUDA device(s) per process.\n",
      "2024-04-28 21:55:52) Info: Assigning 1.00 processor(s) and 1.00 CUDA device(s) per replicate.\n",
      "2024-04-28 21:55:52) Info: Data output thread running.\n",
      "2024-04-28 21:55:52) Info: Seeding xorwow rng with top word 27 and bottom word 61194324\n",
      "2024-04-28 21:55:52) Info: Data output thread finished.\n",
      "2024-04-28 21:55:52) Info: Simulation file closed.\n"
     ]
    },
    {
     "name": "stderr",
     "output_type": "stream",
     "text": [
      "\r",
      " 14%|######################9                                                                                                                                                   | 27/200 [00:02<00:18,  9.50it/s]"
     ]
    },
    {
     "name": "stdout",
     "output_type": "stream",
     "text": [
      "2024-04-28 21:55:52) Info: Using 56 processor(s) and 1 CUDA device(s) per process.\n",
      "2024-04-28 21:55:52) Info: Assigning 1.00 processor(s) and 1.00 CUDA device(s) per replicate.\n",
      "2024-04-28 21:55:52) Info: Data output thread running.\n",
      "2024-04-28 21:55:52) Info: Seeding xorwow rng with top word 28 and bottom word 167734330\n",
      "2024-04-28 21:55:52) Info: Data output thread finished.\n",
      "2024-04-28 21:55:52) Info: Simulation file closed.\n"
     ]
    },
    {
     "name": "stderr",
     "output_type": "stream",
     "text": [
      "\r",
      " 14%|#######################8                                                                                                                                                  | 28/200 [00:02<00:18,  9.52it/s]"
     ]
    },
    {
     "name": "stdout",
     "output_type": "stream",
     "text": [
      "2024-04-28 21:55:52) Info: Using 56 processor(s) and 1 CUDA device(s) per process.\n",
      "2024-04-28 21:55:52) Info: Assigning 1.00 processor(s) and 1.00 CUDA device(s) per replicate.\n",
      "2024-04-28 21:55:52) Info: Data output thread running.\n",
      "2024-04-28 21:55:52) Info: Seeding xorwow rng with top word 29 and bottom word 272254407\n",
      "2024-04-28 21:55:52) Info: Data output thread finished.\n",
      "2024-04-28 21:55:52) Info: Simulation file closed.\n"
     ]
    },
    {
     "name": "stderr",
     "output_type": "stream",
     "text": [
      "\r",
      " 14%|########################6                                                                                                                                                 | 29/200 [00:03<00:17,  9.51it/s]"
     ]
    },
    {
     "name": "stdout",
     "output_type": "stream",
     "text": [
      "2024-04-28 21:55:52) Info: Using 56 processor(s) and 1 CUDA device(s) per process.\n",
      "2024-04-28 21:55:52) Info: Assigning 1.00 processor(s) and 1.00 CUDA device(s) per replicate.\n",
      "2024-04-28 21:55:52) Info: Data output thread running.\n",
      "2024-04-28 21:55:52) Info: Seeding xorwow rng with top word 30 and bottom word 377444406\n",
      "2024-04-28 21:55:52) Info: Data output thread finished.\n",
      "2024-04-28 21:55:52) Info: Simulation file closed.\n"
     ]
    },
    {
     "name": "stderr",
     "output_type": "stream",
     "text": [
      "\r",
      " 15%|#########################5                                                                                                                                                | 30/200 [00:03<00:17,  9.45it/s]"
     ]
    },
    {
     "name": "stdout",
     "output_type": "stream",
     "text": [
      "2024-04-28 21:55:52) Info: Using 56 processor(s) and 1 CUDA device(s) per process.\n",
      "2024-04-28 21:55:52) Info: Assigning 1.00 processor(s) and 1.00 CUDA device(s) per replicate.\n",
      "2024-04-28 21:55:52) Info: Data output thread running.\n",
      "2024-04-28 21:55:52) Info: Seeding xorwow rng with top word 31 and bottom word 485846262\n",
      "2024-04-28 21:55:52) Info: Data output thread finished.\n",
      "2024-04-28 21:55:52) Info: Simulation file closed.\n"
     ]
    },
    {
     "name": "stderr",
     "output_type": "stream",
     "text": [
      "\r",
      " 16%|##########################3                                                                                                                                               | 31/200 [00:03<00:17,  9.42it/s]"
     ]
    },
    {
     "name": "stdout",
     "output_type": "stream",
     "text": [
      "2024-04-28 21:55:52) Info: Using 56 processor(s) and 1 CUDA device(s) per process.\n",
      "2024-04-28 21:55:52) Info: Assigning 1.00 processor(s) and 1.00 CUDA device(s) per replicate.\n",
      "2024-04-28 21:55:52) Info: Data output thread running.\n",
      "2024-04-28 21:55:52) Info: Seeding xorwow rng with top word 32 and bottom word 591639008\n",
      "2024-04-28 21:55:52) Info: Data output thread finished.\n",
      "2024-04-28 21:55:52) Info: Simulation file closed.\n"
     ]
    },
    {
     "name": "stderr",
     "output_type": "stream",
     "text": [
      "\r",
      " 16%|###########################2                                                                                                                                              | 32/200 [00:03<00:17,  9.44it/s]"
     ]
    },
    {
     "name": "stdout",
     "output_type": "stream",
     "text": [
      "2024-04-28 21:55:52) Info: Using 56 processor(s) and 1 CUDA device(s) per process.\n",
      "2024-04-28 21:55:52) Info: Assigning 1.00 processor(s) and 1.00 CUDA device(s) per replicate.\n",
      "2024-04-28 21:55:52) Info: Data output thread running.\n",
      "2024-04-28 21:55:52) Info: Seeding xorwow rng with top word 33 and bottom word 697386320\n",
      "2024-04-28 21:55:52) Info: Data output thread finished.\n",
      "2024-04-28 21:55:52) Info: Simulation file closed.\n"
     ]
    },
    {
     "name": "stderr",
     "output_type": "stream",
     "text": [
      "\r",
      " 16%|############################                                                                                                                                              | 33/200 [00:03<00:17,  9.33it/s]"
     ]
    },
    {
     "name": "stdout",
     "output_type": "stream",
     "text": [
      "2024-04-28 21:55:52) Info: Using 56 processor(s) and 1 CUDA device(s) per process.\n",
      "2024-04-28 21:55:52) Info: Assigning 1.00 processor(s) and 1.00 CUDA device(s) per replicate.\n",
      "2024-04-28 21:55:52) Info: Data output thread running.\n",
      "2024-04-28 21:55:52) Info: Seeding xorwow rng with top word 34 and bottom word 807573645\n",
      "2024-04-28 21:55:52) Info: Data output thread finished.\n",
      "2024-04-28 21:55:52) Info: Simulation file closed.\n"
     ]
    },
    {
     "name": "stderr",
     "output_type": "stream",
     "text": [
      "\r",
      " 17%|############################9                                                                                                                                             | 34/200 [00:03<00:17,  9.32it/s]"
     ]
    },
    {
     "name": "stdout",
     "output_type": "stream",
     "text": [
      "2024-04-28 21:55:52) Info: Using 56 processor(s) and 1 CUDA device(s) per process.\n",
      "2024-04-28 21:55:52) Info: Assigning 1.00 processor(s) and 1.00 CUDA device(s) per replicate.\n",
      "2024-04-28 21:55:52) Info: Data output thread running.\n",
      "2024-04-28 21:55:52) Info: Seeding xorwow rng with top word 35 and bottom word 914727608\n",
      "2024-04-28 21:55:53) Info: Data output thread finished.\n",
      "2024-04-28 21:55:53) Info: Simulation file closed.\n"
     ]
    },
    {
     "name": "stderr",
     "output_type": "stream",
     "text": [
      "\r",
      " 18%|#############################7                                                                                                                                            | 35/200 [00:03<00:17,  9.33it/s]"
     ]
    },
    {
     "name": "stdout",
     "output_type": "stream",
     "text": [
      "2024-04-28 21:55:53) Info: Using 56 processor(s) and 1 CUDA device(s) per process.\n",
      "2024-04-28 21:55:53) Info: Assigning 1.00 processor(s) and 1.00 CUDA device(s) per replicate.\n",
      "2024-04-28 21:55:53) Info: Data output thread running.\n",
      "2024-04-28 21:55:53) Info: Seeding xorwow rng with top word 36 and bottom word 21659238\n",
      "2024-04-28 21:55:53) Info: Data output thread finished.\n",
      "2024-04-28 21:55:53) Info: Simulation file closed.\n"
     ]
    },
    {
     "name": "stderr",
     "output_type": "stream",
     "text": [
      "\r",
      " 18%|##############################6                                                                                                                                           | 36/200 [00:03<00:17,  9.34it/s]"
     ]
    },
    {
     "name": "stdout",
     "output_type": "stream",
     "text": [
      "2024-04-28 21:55:53) Info: Using 56 processor(s) and 1 CUDA device(s) per process.\n",
      "2024-04-28 21:55:53) Info: Assigning 1.00 processor(s) and 1.00 CUDA device(s) per replicate.\n",
      "2024-04-28 21:55:53) Info: Data output thread running.\n",
      "2024-04-28 21:55:53) Info: Seeding xorwow rng with top word 37 and bottom word 128443582\n",
      "2024-04-28 21:55:53) Info: Data output thread finished.\n",
      "2024-04-28 21:55:53) Info: Simulation file closed.\n"
     ]
    },
    {
     "name": "stderr",
     "output_type": "stream",
     "text": [
      "\r",
      " 18%|###############################4                                                                                                                                          | 37/200 [00:03<00:17,  9.34it/s]"
     ]
    },
    {
     "name": "stdout",
     "output_type": "stream",
     "text": [
      "2024-04-28 21:55:53) Info: Using 56 processor(s) and 1 CUDA device(s) per process.\n",
      "2024-04-28 21:55:53) Info: Assigning 1.00 processor(s) and 1.00 CUDA device(s) per replicate.\n",
      "2024-04-28 21:55:53) Info: Data output thread running.\n",
      "2024-04-28 21:55:53) Info: Seeding xorwow rng with top word 38 and bottom word 236157856\n",
      "2024-04-28 21:55:53) Info: Data output thread finished.\n",
      "2024-04-28 21:55:53) Info: Simulation file closed.\n"
     ]
    },
    {
     "name": "stderr",
     "output_type": "stream",
     "text": [
      "\r",
      " 19%|################################3                                                                                                                                         | 38/200 [00:04<00:17,  9.30it/s]"
     ]
    },
    {
     "name": "stdout",
     "output_type": "stream",
     "text": [
      "2024-04-28 21:55:53) Info: Using 56 processor(s) and 1 CUDA device(s) per process.\n",
      "2024-04-28 21:55:53) Info: Assigning 1.00 processor(s) and 1.00 CUDA device(s) per replicate.\n",
      "2024-04-28 21:55:53) Info: Data output thread running.\n",
      "2024-04-28 21:55:53) Info: Seeding xorwow rng with top word 39 and bottom word 344356190\n",
      "2024-04-28 21:55:53) Info: Data output thread finished.\n",
      "2024-04-28 21:55:53) Info: Simulation file closed.\n"
     ]
    },
    {
     "name": "stderr",
     "output_type": "stream",
     "text": [
      "\r",
      " 20%|#################################1                                                                                                                                        | 39/200 [00:04<00:17,  9.22it/s]"
     ]
    },
    {
     "name": "stdout",
     "output_type": "stream",
     "text": [
      "2024-04-28 21:55:53) Info: Using 56 processor(s) and 1 CUDA device(s) per process.\n",
      "2024-04-28 21:55:53) Info: Assigning 1.00 processor(s) and 1.00 CUDA device(s) per replicate.\n",
      "2024-04-28 21:55:53) Info: Data output thread running.\n",
      "2024-04-28 21:55:53) Info: Seeding xorwow rng with top word 40 and bottom word 455195155\n",
      "2024-04-28 21:55:53) Info: Data output thread finished.\n",
      "2024-04-28 21:55:53) Info: Simulation file closed.\n"
     ]
    },
    {
     "name": "stderr",
     "output_type": "stream",
     "text": [
      "\r",
      " 20%|##################################                                                                                                                                        | 40/200 [00:04<00:17,  9.34it/s]"
     ]
    },
    {
     "name": "stdout",
     "output_type": "stream",
     "text": [
      "2024-04-28 21:55:53) Info: Using 56 processor(s) and 1 CUDA device(s) per process.\n",
      "2024-04-28 21:55:53) Info: Assigning 1.00 processor(s) and 1.00 CUDA device(s) per replicate.\n",
      "2024-04-28 21:55:53) Info: Data output thread running.\n",
      "2024-04-28 21:55:53) Info: Seeding xorwow rng with top word 41 and bottom word 558750363\n",
      "2024-04-28 21:55:53) Info: Data output thread finished.\n",
      "2024-04-28 21:55:53) Info: Simulation file closed.\n"
     ]
    },
    {
     "name": "stderr",
     "output_type": "stream",
     "text": [
      "\r",
      " 20%|##################################8                                                                                                                                       | 41/200 [00:04<00:16,  9.39it/s]"
     ]
    },
    {
     "name": "stdout",
     "output_type": "stream",
     "text": [
      "2024-04-28 21:55:53) Info: Using 56 processor(s) and 1 CUDA device(s) per process.\n",
      "2024-04-28 21:55:53) Info: Assigning 1.00 processor(s) and 1.00 CUDA device(s) per replicate.\n",
      "2024-04-28 21:55:53) Info: Data output thread running.\n",
      "2024-04-28 21:55:53) Info: Seeding xorwow rng with top word 42 and bottom word 663888141\n",
      "2024-04-28 21:55:53) Info: Data output thread finished.\n",
      "2024-04-28 21:55:53) Info: Simulation file closed.\n"
     ]
    },
    {
     "name": "stderr",
     "output_type": "stream",
     "text": [
      "\r",
      " 21%|###################################6                                                                                                                                      | 42/200 [00:04<00:16,  9.34it/s]"
     ]
    },
    {
     "name": "stdout",
     "output_type": "stream",
     "text": [
      "2024-04-28 21:55:53) Info: Using 56 processor(s) and 1 CUDA device(s) per process.\n",
      "2024-04-28 21:55:53) Info: Assigning 1.00 processor(s) and 1.00 CUDA device(s) per replicate.\n",
      "2024-04-28 21:55:53) Info: Data output thread running.\n",
      "2024-04-28 21:55:53) Info: Seeding xorwow rng with top word 43 and bottom word 771969069\n",
      "2024-04-28 21:55:53) Info: Data output thread finished.\n",
      "2024-04-28 21:55:53) Info: Simulation file closed.\n"
     ]
    },
    {
     "name": "stderr",
     "output_type": "stream",
     "text": [
      "\r",
      " 22%|####################################5                                                                                                                                     | 43/200 [00:04<00:16,  9.33it/s]"
     ]
    },
    {
     "name": "stdout",
     "output_type": "stream",
     "text": [
      "2024-04-28 21:55:53) Info: Using 56 processor(s) and 1 CUDA device(s) per process.\n",
      "2024-04-28 21:55:53) Info: Assigning 1.00 processor(s) and 1.00 CUDA device(s) per replicate.\n",
      "2024-04-28 21:55:53) Info: Data output thread running.\n",
      "2024-04-28 21:55:53) Info: Seeding xorwow rng with top word 44 and bottom word 880125640\n",
      "2024-04-28 21:55:53) Info: Data output thread finished.\n",
      "2024-04-28 21:55:53) Info: Simulation file closed.\n"
     ]
    },
    {
     "name": "stderr",
     "output_type": "stream",
     "text": [
      "\r",
      " 22%|#####################################4                                                                                                                                    | 44/200 [00:04<00:16,  9.29it/s]"
     ]
    },
    {
     "name": "stdout",
     "output_type": "stream",
     "text": [
      "2024-04-28 21:55:53) Info: Using 56 processor(s) and 1 CUDA device(s) per process.\n",
      "2024-04-28 21:55:53) Info: Assigning 1.00 processor(s) and 1.00 CUDA device(s) per replicate.\n",
      "2024-04-28 21:55:53) Info: Data output thread running.\n",
      "2024-04-28 21:55:53) Info: Seeding xorwow rng with top word 45 and bottom word 988322692\n",
      "2024-04-28 21:55:54) Info: Data output thread finished.\n",
      "2024-04-28 21:55:54) Info: Simulation file closed.\n"
     ]
    },
    {
     "name": "stderr",
     "output_type": "stream",
     "text": [
      "\r",
      " 22%|######################################2                                                                                                                                   | 45/200 [00:04<00:16,  9.23it/s]"
     ]
    },
    {
     "name": "stdout",
     "output_type": "stream",
     "text": [
      "2024-04-28 21:55:54) Info: Using 56 processor(s) and 1 CUDA device(s) per process.\n",
      "2024-04-28 21:55:54) Info: Assigning 1.00 processor(s) and 1.00 CUDA device(s) per replicate.\n",
      "2024-04-28 21:55:54) Info: Data output thread running.\n",
      "2024-04-28 21:55:54) Info: Seeding xorwow rng with top word 46 and bottom word 98325153\n",
      "2024-04-28 21:55:54) Info: Data output thread finished.\n",
      "2024-04-28 21:55:54) Info: Simulation file closed.\n"
     ]
    },
    {
     "name": "stderr",
     "output_type": "stream",
     "text": [
      "\r",
      " 23%|#######################################1                                                                                                                                  | 46/200 [00:04<00:16,  9.20it/s]"
     ]
    },
    {
     "name": "stdout",
     "output_type": "stream",
     "text": [
      "2024-04-28 21:55:54) Info: Using 56 processor(s) and 1 CUDA device(s) per process.\n",
      "2024-04-28 21:55:54) Info: Assigning 1.00 processor(s) and 1.00 CUDA device(s) per replicate.\n",
      "2024-04-28 21:55:54) Info: Data output thread running.\n",
      "2024-04-28 21:55:54) Info: Seeding xorwow rng with top word 47 and bottom word 208109084\n",
      "2024-04-28 21:55:54) Info: Data output thread finished.\n",
      "2024-04-28 21:55:54) Info: Simulation file closed.\n"
     ]
    },
    {
     "name": "stderr",
     "output_type": "stream",
     "text": [
      "\r",
      " 24%|#######################################9                                                                                                                                  | 47/200 [00:05<00:16,  9.23it/s]"
     ]
    },
    {
     "name": "stdout",
     "output_type": "stream",
     "text": [
      "2024-04-28 21:55:54) Info: Using 56 processor(s) and 1 CUDA device(s) per process.\n",
      "2024-04-28 21:55:54) Info: Assigning 1.00 processor(s) and 1.00 CUDA device(s) per replicate.\n",
      "2024-04-28 21:55:54) Info: Data output thread running.\n",
      "2024-04-28 21:55:54) Info: Seeding xorwow rng with top word 48 and bottom word 315750132\n",
      "2024-04-28 21:55:54) Info: Data output thread finished.\n",
      "2024-04-28 21:55:54) Info: Simulation file closed.\n"
     ]
    },
    {
     "name": "stderr",
     "output_type": "stream",
     "text": [
      "\r",
      " 24%|########################################8                                                                                                                                 | 48/200 [00:05<00:16,  9.08it/s]"
     ]
    },
    {
     "name": "stdout",
     "output_type": "stream",
     "text": [
      "2024-04-28 21:55:54) Info: Using 56 processor(s) and 1 CUDA device(s) per process.\n",
      "2024-04-28 21:55:54) Info: Assigning 1.00 processor(s) and 1.00 CUDA device(s) per replicate.\n",
      "2024-04-28 21:55:54) Info: Data output thread running.\n",
      "2024-04-28 21:55:54) Info: Seeding xorwow rng with top word 49 and bottom word 430066447\n",
      "2024-04-28 21:55:54) Info: Data output thread finished.\n",
      "2024-04-28 21:55:54) Info: Simulation file closed.\n"
     ]
    },
    {
     "name": "stderr",
     "output_type": "stream",
     "text": [
      "\r",
      " 24%|#########################################6                                                                                                                                | 49/200 [00:05<00:16,  9.11it/s]"
     ]
    },
    {
     "name": "stdout",
     "output_type": "stream",
     "text": [
      "2024-04-28 21:55:54) Info: Using 56 processor(s) and 1 CUDA device(s) per process.\n",
      "2024-04-28 21:55:54) Info: Assigning 1.00 processor(s) and 1.00 CUDA device(s) per replicate.\n",
      "2024-04-28 21:55:54) Info: Data output thread running.\n",
      "2024-04-28 21:55:54) Info: Seeding xorwow rng with top word 50 and bottom word 538844338\n",
      "2024-04-28 21:55:54) Info: Data output thread finished.\n",
      "2024-04-28 21:55:54) Info: Simulation file closed.\n"
     ]
    },
    {
     "name": "stderr",
     "output_type": "stream",
     "text": [
      "\r",
      " 25%|##########################################5                                                                                                                               | 50/200 [00:05<00:16,  9.10it/s]"
     ]
    },
    {
     "name": "stdout",
     "output_type": "stream",
     "text": [
      "2024-04-28 21:55:54) Info: Using 56 processor(s) and 1 CUDA device(s) per process.\n",
      "2024-04-28 21:55:54) Info: Assigning 1.00 processor(s) and 1.00 CUDA device(s) per replicate.\n",
      "2024-04-28 21:55:54) Info: Data output thread running.\n",
      "2024-04-28 21:55:54) Info: Seeding xorwow rng with top word 51 and bottom word 649953574\n",
      "2024-04-28 21:55:54) Info: Data output thread finished.\n",
      "2024-04-28 21:55:54) Info: Simulation file closed.\n"
     ]
    },
    {
     "name": "stderr",
     "output_type": "stream",
     "text": [
      "\r",
      " 26%|###########################################3                                                                                                                              | 51/200 [00:05<00:16,  9.12it/s]"
     ]
    },
    {
     "name": "stdout",
     "output_type": "stream",
     "text": [
      "2024-04-28 21:55:54) Info: Using 56 processor(s) and 1 CUDA device(s) per process.\n",
      "2024-04-28 21:55:54) Info: Assigning 1.00 processor(s) and 1.00 CUDA device(s) per replicate.\n",
      "2024-04-28 21:55:54) Info: Data output thread running.\n",
      "2024-04-28 21:55:54) Info: Seeding xorwow rng with top word 52 and bottom word 757598189\n",
      "2024-04-28 21:55:54) Info: Data output thread finished.\n",
      "2024-04-28 21:55:54) Info: Simulation file closed.\n"
     ]
    },
    {
     "name": "stderr",
     "output_type": "stream",
     "text": [
      "\r",
      " 26%|############################################2                                                                                                                             | 52/200 [00:05<00:16,  9.23it/s]"
     ]
    },
    {
     "name": "stdout",
     "output_type": "stream",
     "text": [
      "2024-04-28 21:55:54) Info: Using 56 processor(s) and 1 CUDA device(s) per process.\n",
      "2024-04-28 21:55:54) Info: Assigning 1.00 processor(s) and 1.00 CUDA device(s) per replicate.\n",
      "2024-04-28 21:55:54) Info: Data output thread running.\n",
      "2024-04-28 21:55:54) Info: Seeding xorwow rng with top word 53 and bottom word 863420410\n",
      "2024-04-28 21:55:54) Info: Data output thread finished.\n",
      "2024-04-28 21:55:54) Info: Simulation file closed.\n"
     ]
    },
    {
     "name": "stderr",
     "output_type": "stream",
     "text": [
      "\r",
      " 26%|#############################################                                                                                                                             | 53/200 [00:05<00:15,  9.20it/s]"
     ]
    },
    {
     "name": "stdout",
     "output_type": "stream",
     "text": [
      "2024-04-28 21:55:54) Info: Using 56 processor(s) and 1 CUDA device(s) per process.\n",
      "2024-04-28 21:55:54) Info: Assigning 1.00 processor(s) and 1.00 CUDA device(s) per replicate.\n",
      "2024-04-28 21:55:54) Info: Data output thread running.\n",
      "2024-04-28 21:55:54) Info: Seeding xorwow rng with top word 54 and bottom word 973127207\n",
      "2024-04-28 21:55:55) Info: Data output thread finished.\n",
      "2024-04-28 21:55:55) Info: Simulation file closed.\n"
     ]
    },
    {
     "name": "stderr",
     "output_type": "stream",
     "text": [
      "\r",
      " 27%|#############################################9                                                                                                                            | 54/200 [00:05<00:15,  9.23it/s]"
     ]
    },
    {
     "name": "stdout",
     "output_type": "stream",
     "text": [
      "2024-04-28 21:55:55) Info: Using 56 processor(s) and 1 CUDA device(s) per process.\n",
      "2024-04-28 21:55:55) Info: Assigning 1.00 processor(s) and 1.00 CUDA device(s) per replicate.\n",
      "2024-04-28 21:55:55) Info: Data output thread running.\n",
      "2024-04-28 21:55:55) Info: Seeding xorwow rng with top word 55 and bottom word 81007667\n",
      "2024-04-28 21:55:55) Info: Data output thread finished.\n",
      "2024-04-28 21:55:55) Info: Simulation file closed.\n"
     ]
    },
    {
     "name": "stderr",
     "output_type": "stream",
     "text": [
      "\r",
      " 28%|##############################################7                                                                                                                           | 55/200 [00:05<00:15,  9.25it/s]"
     ]
    },
    {
     "name": "stdout",
     "output_type": "stream",
     "text": [
      "2024-04-28 21:55:55) Info: Using 56 processor(s) and 1 CUDA device(s) per process.\n",
      "2024-04-28 21:55:55) Info: Assigning 1.00 processor(s) and 1.00 CUDA device(s) per replicate.\n",
      "2024-04-28 21:55:55) Info: Data output thread running.\n",
      "2024-04-28 21:55:55) Info: Seeding xorwow rng with top word 56 and bottom word 187712246\n",
      "2024-04-28 21:55:55) Info: Data output thread finished.\n",
      "2024-04-28 21:55:55) Info: Simulation file closed.\n"
     ]
    },
    {
     "name": "stderr",
     "output_type": "stream",
     "text": [
      "\r",
      " 28%|###############################################6                                                                                                                          | 56/200 [00:05<00:15,  9.31it/s]"
     ]
    },
    {
     "name": "stdout",
     "output_type": "stream",
     "text": [
      "2024-04-28 21:55:55) Info: Using 56 processor(s) and 1 CUDA device(s) per process.\n",
      "2024-04-28 21:55:55) Info: Assigning 1.00 processor(s) and 1.00 CUDA device(s) per replicate.\n",
      "2024-04-28 21:55:55) Info: Data output thread running.\n",
      "2024-04-28 21:55:55) Info: Seeding xorwow rng with top word 57 and bottom word 293798790\n",
      "2024-04-28 21:55:55) Info: Data output thread finished.\n",
      "2024-04-28 21:55:55) Info: Simulation file closed.\n"
     ]
    },
    {
     "name": "stderr",
     "output_type": "stream",
     "text": [
      "\r",
      " 28%|################################################4                                                                                                                         | 57/200 [00:06<00:15,  9.26it/s]"
     ]
    },
    {
     "name": "stdout",
     "output_type": "stream",
     "text": [
      "2024-04-28 21:55:55) Info: Using 56 processor(s) and 1 CUDA device(s) per process.\n",
      "2024-04-28 21:55:55) Info: Assigning 1.00 processor(s) and 1.00 CUDA device(s) per replicate.\n",
      "2024-04-28 21:55:55) Info: Data output thread running.\n",
      "2024-04-28 21:55:55) Info: Seeding xorwow rng with top word 58 and bottom word 404138893\n",
      "2024-04-28 21:55:55) Info: Data output thread finished.\n",
      "2024-04-28 21:55:55) Info: Simulation file closed.\n"
     ]
    },
    {
     "name": "stderr",
     "output_type": "stream",
     "text": [
      "\r",
      " 29%|#################################################3                                                                                                                        | 58/200 [00:06<00:15,  9.31it/s]"
     ]
    },
    {
     "name": "stdout",
     "output_type": "stream",
     "text": [
      "2024-04-28 21:55:55) Info: Using 56 processor(s) and 1 CUDA device(s) per process.\n",
      "2024-04-28 21:55:55) Info: Assigning 1.00 processor(s) and 1.00 CUDA device(s) per replicate.\n",
      "2024-04-28 21:55:55) Info: Data output thread running.\n",
      "2024-04-28 21:55:55) Info: Seeding xorwow rng with top word 59 and bottom word 509055723\n",
      "2024-04-28 21:55:55) Info: Data output thread finished.\n",
      "2024-04-28 21:55:55) Info: Simulation file closed.\n"
     ]
    },
    {
     "name": "stderr",
     "output_type": "stream",
     "text": [
      "\r",
      " 30%|##################################################1                                                                                                                       | 59/200 [00:06<00:14,  9.42it/s]"
     ]
    },
    {
     "name": "stdout",
     "output_type": "stream",
     "text": [
      "2024-04-28 21:55:55) Info: Using 56 processor(s) and 1 CUDA device(s) per process.\n",
      "2024-04-28 21:55:55) Info: Assigning 1.00 processor(s) and 1.00 CUDA device(s) per replicate.\n",
      "2024-04-28 21:55:55) Info: Data output thread running.\n",
      "2024-04-28 21:55:55) Info: Seeding xorwow rng with top word 60 and bottom word 612610261\n",
      "2024-04-28 21:55:55) Info: Data output thread finished.\n",
      "2024-04-28 21:55:55) Info: Simulation file closed.\n"
     ]
    },
    {
     "name": "stderr",
     "output_type": "stream",
     "text": [
      "\r",
      " 30%|###################################################                                                                                                                       | 60/200 [00:06<00:14,  9.45it/s]"
     ]
    },
    {
     "name": "stdout",
     "output_type": "stream",
     "text": [
      "2024-04-28 21:55:55) Info: Using 56 processor(s) and 1 CUDA device(s) per process.\n",
      "2024-04-28 21:55:55) Info: Assigning 1.00 processor(s) and 1.00 CUDA device(s) per replicate.\n",
      "2024-04-28 21:55:55) Info: Data output thread running.\n",
      "2024-04-28 21:55:55) Info: Seeding xorwow rng with top word 61 and bottom word 717677818\n",
      "2024-04-28 21:55:55) Info: Data output thread finished.\n",
      "2024-04-28 21:55:55) Info: Simulation file closed.\n"
     ]
    },
    {
     "name": "stderr",
     "output_type": "stream",
     "text": [
      "\r",
      " 30%|###################################################8                                                                                                                      | 61/200 [00:06<00:14,  9.49it/s]"
     ]
    },
    {
     "name": "stdout",
     "output_type": "stream",
     "text": [
      "2024-04-28 21:55:55) Info: Using 56 processor(s) and 1 CUDA device(s) per process.\n",
      "2024-04-28 21:55:55) Info: Assigning 1.00 processor(s) and 1.00 CUDA device(s) per replicate.\n",
      "2024-04-28 21:55:55) Info: Data output thread running.\n",
      "2024-04-28 21:55:55) Info: Seeding xorwow rng with top word 62 and bottom word 821953130\n",
      "2024-04-28 21:55:55) Info: Data output thread finished.\n",
      "2024-04-28 21:55:55) Info: Simulation file closed.\n"
     ]
    },
    {
     "name": "stderr",
     "output_type": "stream",
     "text": [
      "\r",
      " 31%|####################################################7                                                                                                                     | 62/200 [00:06<00:14,  9.43it/s]"
     ]
    },
    {
     "name": "stdout",
     "output_type": "stream",
     "text": [
      "2024-04-28 21:55:55) Info: Using 56 processor(s) and 1 CUDA device(s) per process.\n",
      "2024-04-28 21:55:55) Info: Assigning 1.00 processor(s) and 1.00 CUDA device(s) per replicate.\n",
      "2024-04-28 21:55:55) Info: Data output thread running.\n",
      "2024-04-28 21:55:55) Info: Seeding xorwow rng with top word 63 and bottom word 928922191\n",
      "2024-04-28 21:55:56) Info: Data output thread finished.\n",
      "2024-04-28 21:55:56) Info: Simulation file closed.\n"
     ]
    },
    {
     "name": "stderr",
     "output_type": "stream",
     "text": [
      "\r",
      " 32%|#####################################################5                                                                                                                    | 63/200 [00:06<00:14,  9.47it/s]"
     ]
    },
    {
     "name": "stdout",
     "output_type": "stream",
     "text": [
      "2024-04-28 21:55:56) Info: Using 56 processor(s) and 1 CUDA device(s) per process.\n",
      "2024-04-28 21:55:56) Info: Assigning 1.00 processor(s) and 1.00 CUDA device(s) per replicate.\n",
      "2024-04-28 21:55:56) Info: Data output thread running.\n",
      "2024-04-28 21:55:56) Info: Seeding xorwow rng with top word 64 and bottom word 33882926\n",
      "2024-04-28 21:55:56) Info: Data output thread finished.\n",
      "2024-04-28 21:55:56) Info: Simulation file closed.\n"
     ]
    },
    {
     "name": "stderr",
     "output_type": "stream",
     "text": [
      "\r",
      " 32%|######################################################4                                                                                                                   | 64/200 [00:06<00:14,  9.51it/s]"
     ]
    },
    {
     "name": "stdout",
     "output_type": "stream",
     "text": [
      "2024-04-28 21:55:56) Info: Using 56 processor(s) and 1 CUDA device(s) per process.\n",
      "2024-04-28 21:55:56) Info: Assigning 1.00 processor(s) and 1.00 CUDA device(s) per replicate.\n",
      "2024-04-28 21:55:56) Info: Data output thread running.\n",
      "2024-04-28 21:55:56) Info: Seeding xorwow rng with top word 65 and bottom word 137968172\n",
      "2024-04-28 21:55:56) Info: Data output thread finished.\n",
      "2024-04-28 21:55:56) Info: Simulation file closed.\n"
     ]
    },
    {
     "name": "stderr",
     "output_type": "stream",
     "text": [
      "\r",
      " 32%|#######################################################2                                                                                                                  | 65/200 [00:06<00:14,  9.53it/s]"
     ]
    },
    {
     "name": "stdout",
     "output_type": "stream",
     "text": [
      "2024-04-28 21:55:56) Info: Using 56 processor(s) and 1 CUDA device(s) per process.\n",
      "2024-04-28 21:55:56) Info: Assigning 1.00 processor(s) and 1.00 CUDA device(s) per replicate.\n",
      "2024-04-28 21:55:56) Info: Data output thread running.\n",
      "2024-04-28 21:55:56) Info: Seeding xorwow rng with top word 66 and bottom word 242216559\n",
      "2024-04-28 21:55:56) Info: Data output thread finished.\n",
      "2024-04-28 21:55:56) Info: Simulation file closed.\n"
     ]
    },
    {
     "name": "stderr",
     "output_type": "stream",
     "text": [
      "\r",
      " 33%|########################################################1                                                                                                                 | 66/200 [00:07<00:14,  9.56it/s]"
     ]
    },
    {
     "name": "stdout",
     "output_type": "stream",
     "text": [
      "2024-04-28 21:55:56) Info: Using 56 processor(s) and 1 CUDA device(s) per process.\n",
      "2024-04-28 21:55:56) Info: Assigning 1.00 processor(s) and 1.00 CUDA device(s) per replicate.\n",
      "2024-04-28 21:55:56) Info: Data output thread running.\n",
      "2024-04-28 21:55:56) Info: Seeding xorwow rng with top word 67 and bottom word 346426206\n",
      "2024-04-28 21:55:56) Info: Data output thread finished.\n",
      "2024-04-28 21:55:56) Info: Simulation file closed.\n"
     ]
    },
    {
     "name": "stderr",
     "output_type": "stream",
     "text": [
      "\r",
      " 34%|########################################################9                                                                                                                 | 67/200 [00:07<00:13,  9.66it/s]"
     ]
    },
    {
     "name": "stdout",
     "output_type": "stream",
     "text": [
      "2024-04-28 21:55:56) Info: Using 56 processor(s) and 1 CUDA device(s) per process.\n",
      "2024-04-28 21:55:56) Info: Assigning 1.00 processor(s) and 1.00 CUDA device(s) per replicate.\n",
      "2024-04-28 21:55:56) Info: Data output thread running.\n",
      "2024-04-28 21:55:56) Info: Seeding xorwow rng with top word 68 and bottom word 446879308\n",
      "2024-04-28 21:55:56) Info: Data output thread finished.\n",
      "2024-04-28 21:55:56) Info: Simulation file closed.\n"
     ]
    },
    {
     "name": "stderr",
     "output_type": "stream",
     "text": [
      "\r",
      " 34%|#########################################################8                                                                                                                | 68/200 [00:07<00:13,  9.64it/s]"
     ]
    },
    {
     "name": "stdout",
     "output_type": "stream",
     "text": [
      "2024-04-28 21:55:56) Info: Using 56 processor(s) and 1 CUDA device(s) per process.\n",
      "2024-04-28 21:55:56) Info: Assigning 1.00 processor(s) and 1.00 CUDA device(s) per replicate.\n",
      "2024-04-28 21:55:56) Info: Data output thread running.\n",
      "2024-04-28 21:55:56) Info: Seeding xorwow rng with top word 69 and bottom word 551376105\n",
      "2024-04-28 21:55:56) Info: Data output thread finished.\n",
      "2024-04-28 21:55:56) Info: Simulation file closed.\n"
     ]
    },
    {
     "name": "stderr",
     "output_type": "stream",
     "text": [
      "\r",
      " 34%|##########################################################6                                                                                                               | 69/200 [00:07<00:13,  9.66it/s]"
     ]
    },
    {
     "name": "stdout",
     "output_type": "stream",
     "text": [
      "2024-04-28 21:55:56) Info: Using 56 processor(s) and 1 CUDA device(s) per process.\n",
      "2024-04-28 21:55:56) Info: Assigning 1.00 processor(s) and 1.00 CUDA device(s) per replicate.\n",
      "2024-04-28 21:55:56) Info: Data output thread running.\n",
      "2024-04-28 21:55:56) Info: Seeding xorwow rng with top word 70 and bottom word 655257020\n",
      "2024-04-28 21:55:56) Info: Data output thread finished.\n",
      "2024-04-28 21:55:56) Info: Simulation file closed.\n"
     ]
    },
    {
     "name": "stderr",
     "output_type": "stream",
     "text": [
      "\r",
      " 35%|###########################################################4                                                                                                              | 70/200 [00:07<00:13,  9.58it/s]"
     ]
    },
    {
     "name": "stdout",
     "output_type": "stream",
     "text": [
      "2024-04-28 21:55:56) Info: Using 56 processor(s) and 1 CUDA device(s) per process.\n",
      "2024-04-28 21:55:56) Info: Assigning 1.00 processor(s) and 1.00 CUDA device(s) per replicate.\n",
      "2024-04-28 21:55:56) Info: Data output thread running.\n",
      "2024-04-28 21:55:56) Info: Seeding xorwow rng with top word 71 and bottom word 760797784\n",
      "2024-04-28 21:55:56) Info: Data output thread finished.\n",
      "2024-04-28 21:55:56) Info: Simulation file closed.\n"
     ]
    },
    {
     "name": "stderr",
     "output_type": "stream",
     "text": [
      "\r",
      " 36%|############################################################3                                                                                                             | 71/200 [00:07<00:13,  9.50it/s]"
     ]
    },
    {
     "name": "stdout",
     "output_type": "stream",
     "text": [
      "2024-04-28 21:55:56) Info: Using 56 processor(s) and 1 CUDA device(s) per process.\n",
      "2024-04-28 21:55:56) Info: Assigning 1.00 processor(s) and 1.00 CUDA device(s) per replicate.\n",
      "2024-04-28 21:55:56) Info: Data output thread running.\n",
      "2024-04-28 21:55:56) Info: Seeding xorwow rng with top word 72 and bottom word 868171044\n",
      "2024-04-28 21:55:56) Info: Data output thread finished.\n",
      "2024-04-28 21:55:56) Info: Simulation file closed.\n"
     ]
    },
    {
     "name": "stderr",
     "output_type": "stream",
     "text": [
      "\r",
      " 36%|#############################################################2                                                                                                            | 72/200 [00:07<00:13,  9.53it/s]"
     ]
    },
    {
     "name": "stdout",
     "output_type": "stream",
     "text": [
      "2024-04-28 21:55:56) Info: Using 56 processor(s) and 1 CUDA device(s) per process.\n",
      "2024-04-28 21:55:56) Info: Assigning 1.00 processor(s) and 1.00 CUDA device(s) per replicate.\n",
      "2024-04-28 21:55:56) Info: Data output thread running.\n",
      "2024-04-28 21:55:56) Info: Seeding xorwow rng with top word 73 and bottom word 972087396\n",
      "2024-04-28 21:55:57) Info: Data output thread finished.\n",
      "2024-04-28 21:55:57) Info: Simulation file closed.\n"
     ]
    },
    {
     "name": "stderr",
     "output_type": "stream",
     "text": [
      "\r",
      " 36%|##############################################################                                                                                                            | 73/200 [00:07<00:13,  9.49it/s]"
     ]
    },
    {
     "name": "stdout",
     "output_type": "stream",
     "text": [
      "2024-04-28 21:55:57) Info: Using 56 processor(s) and 1 CUDA device(s) per process.\n",
      "2024-04-28 21:55:57) Info: Assigning 1.00 processor(s) and 1.00 CUDA device(s) per replicate.\n",
      "2024-04-28 21:55:57) Info: Data output thread running.\n",
      "2024-04-28 21:55:57) Info: Seeding xorwow rng with top word 74 and bottom word 78522885\n",
      "2024-04-28 21:55:57) Info: Data output thread finished.\n",
      "2024-04-28 21:55:57) Info: Simulation file closed.\n"
     ]
    },
    {
     "name": "stderr",
     "output_type": "stream",
     "text": [
      "\r",
      " 37%|##############################################################9                                                                                                           | 74/200 [00:07<00:13,  9.62it/s]"
     ]
    },
    {
     "name": "stdout",
     "output_type": "stream",
     "text": [
      "2024-04-28 21:55:57) Info: Using 56 processor(s) and 1 CUDA device(s) per process.\n",
      "2024-04-28 21:55:57) Info: Assigning 1.00 processor(s) and 1.00 CUDA device(s) per replicate.\n",
      "2024-04-28 21:55:57) Info: Data output thread running.\n",
      "2024-04-28 21:55:57) Info: Seeding xorwow rng with top word 75 and bottom word 179727784\n",
      "2024-04-28 21:55:57) Info: Data output thread finished.\n",
      "2024-04-28 21:55:57) Info: Simulation file closed.\n"
     ]
    },
    {
     "name": "stderr",
     "output_type": "stream",
     "text": [
      "\r",
      " 38%|###############################################################7                                                                                                          | 75/200 [00:08<00:13,  9.24it/s]"
     ]
    },
    {
     "name": "stdout",
     "output_type": "stream",
     "text": [
      "2024-04-28 21:55:57) Info: Using 56 processor(s) and 1 CUDA device(s) per process.\n",
      "2024-04-28 21:55:57) Info: Assigning 1.00 processor(s) and 1.00 CUDA device(s) per replicate.\n",
      "2024-04-28 21:55:57) Info: Data output thread running.\n",
      "2024-04-28 21:55:57) Info: Seeding xorwow rng with top word 76 and bottom word 297656358\n",
      "2024-04-28 21:55:57) Info: Data output thread finished.\n",
      "2024-04-28 21:55:57) Info: Simulation file closed.\n"
     ]
    },
    {
     "name": "stderr",
     "output_type": "stream",
     "text": [
      "\r",
      " 38%|################################################################6                                                                                                         | 76/200 [00:08<00:13,  9.29it/s]"
     ]
    },
    {
     "name": "stdout",
     "output_type": "stream",
     "text": [
      "2024-04-28 21:55:57) Info: Using 56 processor(s) and 1 CUDA device(s) per process.\n",
      "2024-04-28 21:55:57) Info: Assigning 1.00 processor(s) and 1.00 CUDA device(s) per replicate.\n",
      "2024-04-28 21:55:57) Info: Data output thread running.\n",
      "2024-04-28 21:55:57) Info: Seeding xorwow rng with top word 77 and bottom word 404262123\n",
      "2024-04-28 21:55:57) Info: Data output thread finished.\n",
      "2024-04-28 21:55:57) Info: Simulation file closed.\n"
     ]
    },
    {
     "name": "stderr",
     "output_type": "stream",
     "text": [
      "\r",
      " 38%|#################################################################4                                                                                                        | 77/200 [00:08<00:13,  9.24it/s]"
     ]
    },
    {
     "name": "stdout",
     "output_type": "stream",
     "text": [
      "2024-04-28 21:55:57) Info: Using 56 processor(s) and 1 CUDA device(s) per process.\n",
      "2024-04-28 21:55:57) Info: Assigning 1.00 processor(s) and 1.00 CUDA device(s) per replicate.\n",
      "2024-04-28 21:55:57) Info: Data output thread running.\n",
      "2024-04-28 21:55:57) Info: Seeding xorwow rng with top word 78 and bottom word 513582060\n",
      "2024-04-28 21:55:57) Info: Data output thread finished.\n",
      "2024-04-28 21:55:57) Info: Simulation file closed.\n"
     ]
    },
    {
     "name": "stderr",
     "output_type": "stream",
     "text": [
      "\r",
      " 39%|##################################################################3                                                                                                       | 78/200 [00:08<00:13,  9.29it/s]"
     ]
    },
    {
     "name": "stdout",
     "output_type": "stream",
     "text": [
      "2024-04-28 21:55:57) Info: Using 56 processor(s) and 1 CUDA device(s) per process.\n",
      "2024-04-28 21:55:57) Info: Assigning 1.00 processor(s) and 1.00 CUDA device(s) per replicate.\n",
      "2024-04-28 21:55:57) Info: Data output thread running.\n",
      "2024-04-28 21:55:57) Info: Seeding xorwow rng with top word 79 and bottom word 620041726\n",
      "2024-04-28 21:55:57) Info: Data output thread finished.\n",
      "2024-04-28 21:55:57) Info: Simulation file closed.\n"
     ]
    },
    {
     "name": "stderr",
     "output_type": "stream",
     "text": [
      "\r",
      " 40%|###################################################################1                                                                                                      | 79/200 [00:08<00:12,  9.34it/s]"
     ]
    },
    {
     "name": "stdout",
     "output_type": "stream",
     "text": [
      "2024-04-28 21:55:57) Info: Using 56 processor(s) and 1 CUDA device(s) per process.\n",
      "2024-04-28 21:55:57) Info: Assigning 1.00 processor(s) and 1.00 CUDA device(s) per replicate.\n",
      "2024-04-28 21:55:57) Info: Data output thread running.\n",
      "2024-04-28 21:55:57) Info: Seeding xorwow rng with top word 80 and bottom word 725084460\n",
      "2024-04-28 21:55:57) Info: Data output thread finished.\n",
      "2024-04-28 21:55:57) Info: Simulation file closed.\n"
     ]
    },
    {
     "name": "stderr",
     "output_type": "stream",
     "text": [
      "\r",
      " 40%|####################################################################                                                                                                      | 80/200 [00:08<00:12,  9.43it/s]"
     ]
    },
    {
     "name": "stdout",
     "output_type": "stream",
     "text": [
      "2024-04-28 21:55:57) Info: Using 56 processor(s) and 1 CUDA device(s) per process.\n",
      "2024-04-28 21:55:57) Info: Assigning 1.00 processor(s) and 1.00 CUDA device(s) per replicate.\n",
      "2024-04-28 21:55:57) Info: Data output thread running.\n",
      "2024-04-28 21:55:57) Info: Seeding xorwow rng with top word 81 and bottom word 828860718\n",
      "2024-04-28 21:55:57) Info: Data output thread finished.\n",
      "2024-04-28 21:55:57) Info: Simulation file closed.\n"
     ]
    },
    {
     "name": "stderr",
     "output_type": "stream",
     "text": [
      "\r",
      " 40%|####################################################################8                                                                                                     | 81/200 [00:08<00:12,  9.45it/s]"
     ]
    },
    {
     "name": "stdout",
     "output_type": "stream",
     "text": [
      "2024-04-28 21:55:57) Info: Using 56 processor(s) and 1 CUDA device(s) per process.\n",
      "2024-04-28 21:55:57) Info: Assigning 1.00 processor(s) and 1.00 CUDA device(s) per replicate.\n",
      "2024-04-28 21:55:57) Info: Data output thread running.\n",
      "2024-04-28 21:55:57) Info: Seeding xorwow rng with top word 82 and bottom word 934082212\n",
      "2024-04-28 21:55:58) Info: Data output thread finished.\n",
      "2024-04-28 21:55:58) Info: Simulation file closed.\n"
     ]
    },
    {
     "name": "stderr",
     "output_type": "stream",
     "text": [
      "\r",
      " 41%|#####################################################################7                                                                                                    | 82/200 [00:08<00:12,  9.39it/s]"
     ]
    },
    {
     "name": "stdout",
     "output_type": "stream",
     "text": [
      "2024-04-28 21:55:58) Info: Using 56 processor(s) and 1 CUDA device(s) per process.\n",
      "2024-04-28 21:55:58) Info: Assigning 1.00 processor(s) and 1.00 CUDA device(s) per replicate.\n",
      "2024-04-28 21:55:58) Info: Data output thread running.\n",
      "2024-04-28 21:55:58) Info: Seeding xorwow rng with top word 83 and bottom word 42440348\n",
      "2024-04-28 21:55:58) Info: Data output thread finished.\n",
      "2024-04-28 21:55:58) Info: Simulation file closed.\n"
     ]
    },
    {
     "name": "stderr",
     "output_type": "stream",
     "text": [
      "\r",
      " 42%|######################################################################5                                                                                                   | 83/200 [00:08<00:12,  9.44it/s]"
     ]
    },
    {
     "name": "stdout",
     "output_type": "stream",
     "text": [
      "2024-04-28 21:55:58) Info: Using 56 processor(s) and 1 CUDA device(s) per process.\n",
      "2024-04-28 21:55:58) Info: Assigning 1.00 processor(s) and 1.00 CUDA device(s) per replicate.\n",
      "2024-04-28 21:55:58) Info: Data output thread running.\n",
      "2024-04-28 21:55:58) Info: Seeding xorwow rng with top word 84 and bottom word 147728560\n",
      "2024-04-28 21:55:58) Info: Data output thread finished.\n",
      "2024-04-28 21:55:58) Info: Simulation file closed.\n"
     ]
    },
    {
     "name": "stderr",
     "output_type": "stream",
     "text": [
      "\r",
      " 42%|#######################################################################3                                                                                                  | 84/200 [00:08<00:12,  9.25it/s]"
     ]
    },
    {
     "name": "stdout",
     "output_type": "stream",
     "text": [
      "2024-04-28 21:55:58) Info: Using 56 processor(s) and 1 CUDA device(s) per process.\n",
      "2024-04-28 21:55:58) Info: Assigning 1.00 processor(s) and 1.00 CUDA device(s) per replicate.\n",
      "2024-04-28 21:55:58) Info: Data output thread running.\n",
      "2024-04-28 21:55:58) Info: Seeding xorwow rng with top word 85 and bottom word 260388715\n",
      "2024-04-28 21:55:58) Info: Data output thread finished.\n",
      "2024-04-28 21:55:58) Info: Simulation file closed.\n"
     ]
    },
    {
     "name": "stderr",
     "output_type": "stream",
     "text": [
      "\r",
      " 42%|########################################################################2                                                                                                 | 85/200 [00:09<00:12,  9.29it/s]"
     ]
    },
    {
     "name": "stdout",
     "output_type": "stream",
     "text": [
      "2024-04-28 21:55:58) Info: Using 56 processor(s) and 1 CUDA device(s) per process.\n",
      "2024-04-28 21:55:58) Info: Assigning 1.00 processor(s) and 1.00 CUDA device(s) per replicate.\n",
      "2024-04-28 21:55:58) Info: Data output thread running.\n",
      "2024-04-28 21:55:58) Info: Seeding xorwow rng with top word 86 and bottom word 366595163\n",
      "2024-04-28 21:55:58) Info: Data output thread finished.\n",
      "2024-04-28 21:55:58) Info: Simulation file closed.\n"
     ]
    },
    {
     "name": "stderr",
     "output_type": "stream",
     "text": [
      "\r",
      " 43%|#########################################################################1                                                                                                | 86/200 [00:09<00:12,  9.46it/s]"
     ]
    },
    {
     "name": "stdout",
     "output_type": "stream",
     "text": [
      "2024-04-28 21:55:58) Info: Using 56 processor(s) and 1 CUDA device(s) per process.\n",
      "2024-04-28 21:55:58) Info: Assigning 1.00 processor(s) and 1.00 CUDA device(s) per replicate.\n",
      "2024-04-28 21:55:58) Info: Data output thread running.\n",
      "2024-04-28 21:55:58) Info: Seeding xorwow rng with top word 87 and bottom word 467578545\n",
      "2024-04-28 21:55:58) Info: Data output thread finished.\n",
      "2024-04-28 21:55:58) Info: Simulation file closed.\n"
     ]
    },
    {
     "name": "stderr",
     "output_type": "stream",
     "text": [
      "\r",
      " 44%|#########################################################################9                                                                                                | 87/200 [00:09<00:11,  9.61it/s]"
     ]
    },
    {
     "name": "stdout",
     "output_type": "stream",
     "text": [
      "2024-04-28 21:55:58) Info: Using 56 processor(s) and 1 CUDA device(s) per process.\n",
      "2024-04-28 21:55:58) Info: Assigning 1.00 processor(s) and 1.00 CUDA device(s) per replicate.\n",
      "2024-04-28 21:55:58) Info: Data output thread running.\n",
      "2024-04-28 21:55:58) Info: Seeding xorwow rng with top word 88 and bottom word 567904916\n",
      "2024-04-28 21:55:58) Info: Data output thread finished.\n",
      "2024-04-28 21:55:58) Info: Simulation file closed.\n"
     ]
    },
    {
     "name": "stderr",
     "output_type": "stream",
     "text": [
      "\r",
      " 44%|##########################################################################8                                                                                               | 88/200 [00:09<00:11,  9.72it/s]"
     ]
    },
    {
     "name": "stdout",
     "output_type": "stream",
     "text": [
      "2024-04-28 21:55:58) Info: Using 56 processor(s) and 1 CUDA device(s) per process.\n",
      "2024-04-28 21:55:58) Info: Assigning 1.00 processor(s) and 1.00 CUDA device(s) per replicate.\n",
      "2024-04-28 21:55:58) Info: Data output thread running.\n",
      "2024-04-28 21:55:58) Info: Seeding xorwow rng with top word 89 and bottom word 668075011\n",
      "2024-04-28 21:55:58) Info: Data output thread finished.\n",
      "2024-04-28 21:55:58) Info: Simulation file closed.\n"
     ]
    },
    {
     "name": "stderr",
     "output_type": "stream",
     "text": [
      "\r",
      " 44%|###########################################################################6                                                                                              | 89/200 [00:09<00:11,  9.75it/s]"
     ]
    },
    {
     "name": "stdout",
     "output_type": "stream",
     "text": [
      "2024-04-28 21:55:58) Info: Using 56 processor(s) and 1 CUDA device(s) per process.\n",
      "2024-04-28 21:55:58) Info: Assigning 1.00 processor(s) and 1.00 CUDA device(s) per replicate.\n",
      "2024-04-28 21:55:58) Info: Data output thread running.\n",
      "2024-04-28 21:55:58) Info: Seeding xorwow rng with top word 90 and bottom word 769973022\n",
      "2024-04-28 21:55:58) Info: Data output thread finished.\n",
      "2024-04-28 21:55:58) Info: Simulation file closed.\n"
     ]
    },
    {
     "name": "stderr",
     "output_type": "stream",
     "text": [
      "\r",
      " 45%|############################################################################5                                                                                             | 90/200 [00:09<00:11,  9.73it/s]"
     ]
    },
    {
     "name": "stdout",
     "output_type": "stream",
     "text": [
      "2024-04-28 21:55:58) Info: Using 56 processor(s) and 1 CUDA device(s) per process.\n",
      "2024-04-28 21:55:58) Info: Assigning 1.00 processor(s) and 1.00 CUDA device(s) per replicate.\n",
      "2024-04-28 21:55:58) Info: Data output thread running.\n",
      "2024-04-28 21:55:58) Info: Seeding xorwow rng with top word 91 and bottom word 873954626\n",
      "2024-04-28 21:55:58) Info: Data output thread finished.\n",
      "2024-04-28 21:55:58) Info: Simulation file closed.\n"
     ]
    },
    {
     "name": "stderr",
     "output_type": "stream",
     "text": [
      "\r",
      " 46%|#############################################################################3                                                                                            | 91/200 [00:09<00:11,  9.60it/s]"
     ]
    },
    {
     "name": "stdout",
     "output_type": "stream",
     "text": [
      "2024-04-28 21:55:58) Info: Using 56 processor(s) and 1 CUDA device(s) per process.\n",
      "2024-04-28 21:55:58) Info: Assigning 1.00 processor(s) and 1.00 CUDA device(s) per replicate.\n",
      "2024-04-28 21:55:58) Info: Data output thread running.\n",
      "2024-04-28 21:55:58) Info: Seeding xorwow rng with top word 92 and bottom word 980652713\n",
      "2024-04-28 21:55:59) Info: Data output thread finished.\n",
      "2024-04-28 21:55:59) Info: Simulation file closed.\n"
     ]
    },
    {
     "name": "stderr",
     "output_type": "stream",
     "text": [
      "\r",
      " 46%|##############################################################################2                                                                                           | 92/200 [00:09<00:11,  9.53it/s]"
     ]
    },
    {
     "name": "stdout",
     "output_type": "stream",
     "text": [
      "2024-04-28 21:55:59) Info: Using 56 processor(s) and 1 CUDA device(s) per process.\n",
      "2024-04-28 21:55:59) Info: Assigning 1.00 processor(s) and 1.00 CUDA device(s) per replicate.\n",
      "2024-04-28 21:55:59) Info: Data output thread running.\n",
      "2024-04-28 21:55:59) Info: Seeding xorwow rng with top word 93 and bottom word 87712499\n",
      "2024-04-28 21:55:59) Info: Data output thread finished.\n",
      "2024-04-28 21:55:59) Info: Simulation file closed.\n"
     ]
    },
    {
     "name": "stderr",
     "output_type": "stream",
     "text": [
      "\r",
      " 46%|###############################################################################                                                                                           | 93/200 [00:09<00:11,  9.42it/s]"
     ]
    },
    {
     "name": "stdout",
     "output_type": "stream",
     "text": [
      "2024-04-28 21:55:59) Info: Using 56 processor(s) and 1 CUDA device(s) per process.\n",
      "2024-04-28 21:55:59) Info: Assigning 1.00 processor(s) and 1.00 CUDA device(s) per replicate.\n",
      "2024-04-28 21:55:59) Info: Data output thread running.\n",
      "2024-04-28 21:55:59) Info: Seeding xorwow rng with top word 94 and bottom word 196643314\n",
      "2024-04-28 21:55:59) Info: Data output thread finished.\n",
      "2024-04-28 21:55:59) Info: Simulation file closed.\n"
     ]
    },
    {
     "name": "stderr",
     "output_type": "stream",
     "text": [
      "\r",
      " 47%|###############################################################################8                                                                                          | 94/200 [00:10<00:11,  9.48it/s]"
     ]
    },
    {
     "name": "stdout",
     "output_type": "stream",
     "text": [
      "2024-04-28 21:55:59) Info: Using 56 processor(s) and 1 CUDA device(s) per process.\n",
      "2024-04-28 21:55:59) Info: Assigning 1.00 processor(s) and 1.00 CUDA device(s) per replicate.\n",
      "2024-04-28 21:55:59) Info: Data output thread running.\n",
      "2024-04-28 21:55:59) Info: Seeding xorwow rng with top word 95 and bottom word 300771439\n",
      "2024-04-28 21:55:59) Info: Data output thread finished.\n",
      "2024-04-28 21:55:59) Info: Simulation file closed.\n"
     ]
    },
    {
     "name": "stderr",
     "output_type": "stream",
     "text": [
      "\r",
      " 48%|################################################################################7                                                                                         | 95/200 [00:10<00:11,  9.45it/s]"
     ]
    },
    {
     "name": "stdout",
     "output_type": "stream",
     "text": [
      "2024-04-28 21:55:59) Info: Using 56 processor(s) and 1 CUDA device(s) per process.\n",
      "2024-04-28 21:55:59) Info: Assigning 1.00 processor(s) and 1.00 CUDA device(s) per replicate.\n",
      "2024-04-28 21:55:59) Info: Data output thread running.\n",
      "2024-04-28 21:55:59) Info: Seeding xorwow rng with top word 96 and bottom word 407966488\n",
      "2024-04-28 21:55:59) Info: Data output thread finished.\n",
      "2024-04-28 21:55:59) Info: Simulation file closed.\n"
     ]
    },
    {
     "name": "stderr",
     "output_type": "stream",
     "text": [
      "\r",
      " 48%|#################################################################################6                                                                                        | 96/200 [00:10<00:11,  9.29it/s]"
     ]
    },
    {
     "name": "stdout",
     "output_type": "stream",
     "text": [
      "2024-04-28 21:55:59) Info: Using 56 processor(s) and 1 CUDA device(s) per process.\n",
      "2024-04-28 21:55:59) Info: Assigning 1.00 processor(s) and 1.00 CUDA device(s) per replicate.\n",
      "2024-04-28 21:55:59) Info: Data output thread running.\n",
      "2024-04-28 21:55:59) Info: Seeding xorwow rng with top word 97 and bottom word 518889197\n",
      "2024-04-28 21:55:59) Info: Data output thread finished.\n",
      "2024-04-28 21:55:59) Info: Simulation file closed.\n"
     ]
    },
    {
     "name": "stderr",
     "output_type": "stream",
     "text": [
      "\r",
      " 48%|##################################################################################4                                                                                       | 97/200 [00:10<00:11,  9.25it/s]"
     ]
    },
    {
     "name": "stdout",
     "output_type": "stream",
     "text": [
      "2024-04-28 21:55:59) Info: Using 56 processor(s) and 1 CUDA device(s) per process.\n",
      "2024-04-28 21:55:59) Info: Assigning 1.00 processor(s) and 1.00 CUDA device(s) per replicate.\n",
      "2024-04-28 21:55:59) Info: Data output thread running.\n",
      "2024-04-28 21:55:59) Info: Seeding xorwow rng with top word 98 and bottom word 628372660\n",
      "2024-04-28 21:55:59) Info: Data output thread finished.\n",
      "2024-04-28 21:55:59) Info: Simulation file closed.\n"
     ]
    },
    {
     "name": "stderr",
     "output_type": "stream",
     "text": [
      "\r",
      " 49%|###################################################################################3                                                                                      | 98/200 [00:10<00:11,  9.22it/s]"
     ]
    },
    {
     "name": "stdout",
     "output_type": "stream",
     "text": [
      "2024-04-28 21:55:59) Info: Using 56 processor(s) and 1 CUDA device(s) per process.\n",
      "2024-04-28 21:55:59) Info: Assigning 1.00 processor(s) and 1.00 CUDA device(s) per replicate.\n",
      "2024-04-28 21:55:59) Info: Data output thread running.\n",
      "2024-04-28 21:55:59) Info: Seeding xorwow rng with top word 99 and bottom word 737663261\n",
      "2024-04-28 21:55:59) Info: Data output thread finished.\n",
      "2024-04-28 21:55:59) Info: Simulation file closed.\n"
     ]
    },
    {
     "name": "stderr",
     "output_type": "stream",
     "text": [
      "\r",
      " 50%|####################################################################################1                                                                                     | 99/200 [00:10<00:11,  9.13it/s]"
     ]
    },
    {
     "name": "stdout",
     "output_type": "stream",
     "text": [
      "2024-04-28 21:55:59) Info: Using 56 processor(s) and 1 CUDA device(s) per process.\n",
      "2024-04-28 21:55:59) Info: Assigning 1.00 processor(s) and 1.00 CUDA device(s) per replicate.\n",
      "2024-04-28 21:55:59) Info: Data output thread running.\n",
      "2024-04-28 21:55:59) Info: Seeding xorwow rng with top word 100 and bottom word 849155745\n",
      "2024-04-28 21:56:00) Info: Data output thread finished.\n",
      "2024-04-28 21:56:00) Info: Simulation file closed.\n"
     ]
    },
    {
     "name": "stderr",
     "output_type": "stream",
     "text": [
      "\r",
      " 50%|####################################################################################5                                                                                    | 100/200 [00:11<00:38,  2.62it/s]"
     ]
    },
    {
     "name": "stdout",
     "output_type": "stream",
     "text": [
      "2024-04-28 21:56:00) Info: Using 56 processor(s) and 1 CUDA device(s) per process.\n",
      "2024-04-28 21:56:00) Info: Assigning 1.00 processor(s) and 1.00 CUDA device(s) per replicate.\n",
      "2024-04-28 21:56:00) Info: Data output thread running.\n",
      "2024-04-28 21:56:00) Info: Seeding xorwow rng with top word 101 and bottom word 977323616\n",
      "2024-04-28 21:56:01) Info: Data output thread finished.\n",
      "2024-04-28 21:56:01) Info: Simulation file closed.\n"
     ]
    },
    {
     "name": "stderr",
     "output_type": "stream",
     "text": [
      "\r",
      " 50%|#####################################################################################3                                                                                   | 101/200 [00:11<00:33,  2.99it/s]"
     ]
    },
    {
     "name": "stdout",
     "output_type": "stream",
     "text": [
      "2024-04-28 21:56:01) Info: Using 56 processor(s) and 1 CUDA device(s) per process.\n",
      "2024-04-28 21:56:01) Info: Assigning 1.00 processor(s) and 1.00 CUDA device(s) per replicate.\n",
      "2024-04-28 21:56:01) Info: Data output thread running.\n",
      "2024-04-28 21:56:01) Info: Seeding xorwow rng with top word 102 and bottom word 91092626\n",
      "2024-04-28 21:56:01) Info: Data output thread finished.\n",
      "2024-04-28 21:56:01) Info: Simulation file closed.\n"
     ]
    },
    {
     "name": "stderr",
     "output_type": "stream",
     "text": [
      "\r",
      " 51%|######################################################################################1                                                                                  | 102/200 [00:11<00:26,  3.74it/s]"
     ]
    },
    {
     "name": "stdout",
     "output_type": "stream",
     "text": [
      "2024-04-28 21:56:01) Info: Using 56 processor(s) and 1 CUDA device(s) per process.\n",
      "2024-04-28 21:56:01) Info: Assigning 1.00 processor(s) and 1.00 CUDA device(s) per replicate.\n",
      "2024-04-28 21:56:01) Info: Data output thread running.\n",
      "2024-04-28 21:56:01) Info: Seeding xorwow rng with top word 103 and bottom word 200231343\n",
      "2024-04-28 21:56:01) Info: Data output thread finished.\n",
      "2024-04-28 21:56:01) Info: Simulation file closed.\n"
     ]
    },
    {
     "name": "stderr",
     "output_type": "stream",
     "text": [
      "\r",
      " 52%|#######################################################################################                                                                                  | 103/200 [00:12<00:21,  4.58it/s]"
     ]
    },
    {
     "name": "stdout",
     "output_type": "stream",
     "text": [
      "2024-04-28 21:56:01) Info: Using 56 processor(s) and 1 CUDA device(s) per process.\n",
      "2024-04-28 21:56:01) Info: Assigning 1.00 processor(s) and 1.00 CUDA device(s) per replicate.\n",
      "2024-04-28 21:56:01) Info: Data output thread running.\n",
      "2024-04-28 21:56:01) Info: Seeding xorwow rng with top word 104 and bottom word 304237277\n",
      "2024-04-28 21:56:01) Info: Data output thread finished.\n",
      "2024-04-28 21:56:01) Info: Simulation file closed.\n"
     ]
    },
    {
     "name": "stderr",
     "output_type": "stream",
     "text": [
      "\r",
      " 52%|#######################################################################################8                                                                                 | 104/200 [00:12<00:17,  5.47it/s]"
     ]
    },
    {
     "name": "stdout",
     "output_type": "stream",
     "text": [
      "2024-04-28 21:56:01) Info: Using 56 processor(s) and 1 CUDA device(s) per process.\n",
      "2024-04-28 21:56:01) Info: Assigning 1.00 processor(s) and 1.00 CUDA device(s) per replicate.\n",
      "2024-04-28 21:56:01) Info: Data output thread running.\n",
      "2024-04-28 21:56:01) Info: Seeding xorwow rng with top word 105 and bottom word 405623339\n",
      "2024-04-28 21:56:01) Info: Data output thread finished.\n",
      "2024-04-28 21:56:01) Info: Simulation file closed.\n"
     ]
    },
    {
     "name": "stderr",
     "output_type": "stream",
     "text": [
      "\r",
      " 52%|########################################################################################7                                                                                | 105/200 [00:12<00:15,  6.29it/s]"
     ]
    },
    {
     "name": "stdout",
     "output_type": "stream",
     "text": [
      "2024-04-28 21:56:01) Info: Using 56 processor(s) and 1 CUDA device(s) per process.\n",
      "2024-04-28 21:56:01) Info: Assigning 1.00 processor(s) and 1.00 CUDA device(s) per replicate.\n",
      "2024-04-28 21:56:01) Info: Data output thread running.\n",
      "2024-04-28 21:56:01) Info: Seeding xorwow rng with top word 106 and bottom word 508204180\n",
      "2024-04-28 21:56:01) Info: Data output thread finished.\n",
      "2024-04-28 21:56:01) Info: Simulation file closed.\n"
     ]
    },
    {
     "name": "stderr",
     "output_type": "stream",
     "text": [
      "\r",
      " 53%|#########################################################################################5                                                                               | 106/200 [00:12<00:13,  7.06it/s]"
     ]
    },
    {
     "name": "stdout",
     "output_type": "stream",
     "text": [
      "2024-04-28 21:56:01) Info: Using 56 processor(s) and 1 CUDA device(s) per process.\n",
      "2024-04-28 21:56:01) Info: Assigning 1.00 processor(s) and 1.00 CUDA device(s) per replicate.\n",
      "2024-04-28 21:56:01) Info: Data output thread running.\n",
      "2024-04-28 21:56:01) Info: Seeding xorwow rng with top word 107 and bottom word 609182990\n",
      "2024-04-28 21:56:01) Info: Data output thread finished.\n",
      "2024-04-28 21:56:01) Info: Simulation file closed.\n"
     ]
    },
    {
     "name": "stderr",
     "output_type": "stream",
     "text": [
      "\r",
      " 54%|##########################################################################################4                                                                              | 107/200 [00:12<00:12,  7.70it/s]"
     ]
    },
    {
     "name": "stdout",
     "output_type": "stream",
     "text": [
      "2024-04-28 21:56:01) Info: Using 56 processor(s) and 1 CUDA device(s) per process.\n",
      "2024-04-28 21:56:01) Info: Assigning 1.00 processor(s) and 1.00 CUDA device(s) per replicate.\n",
      "2024-04-28 21:56:01) Info: Data output thread running.\n",
      "2024-04-28 21:56:01) Info: Seeding xorwow rng with top word 108 and bottom word 711183434\n",
      "2024-04-28 21:56:01) Info: Data output thread finished.\n",
      "2024-04-28 21:56:01) Info: Simulation file closed.\n"
     ]
    },
    {
     "name": "stderr",
     "output_type": "stream",
     "text": [
      "\r",
      " 54%|###########################################################################################2                                                                             | 108/200 [00:12<00:11,  8.19it/s]"
     ]
    },
    {
     "name": "stdout",
     "output_type": "stream",
     "text": [
      "2024-04-28 21:56:01) Info: Using 56 processor(s) and 1 CUDA device(s) per process.\n",
      "2024-04-28 21:56:01) Info: Assigning 1.00 processor(s) and 1.00 CUDA device(s) per replicate.\n",
      "2024-04-28 21:56:01) Info: Data output thread running.\n",
      "2024-04-28 21:56:01) Info: Seeding xorwow rng with top word 109 and bottom word 815777915\n",
      "2024-04-28 21:56:01) Info: Data output thread finished.\n",
      "2024-04-28 21:56:01) Info: Simulation file closed.\n"
     ]
    },
    {
     "name": "stderr",
     "output_type": "stream",
     "text": [
      "\r",
      " 55%|############################################################################################1                                                                            | 109/200 [00:12<00:10,  8.59it/s]"
     ]
    },
    {
     "name": "stdout",
     "output_type": "stream",
     "text": [
      "2024-04-28 21:56:01) Info: Using 56 processor(s) and 1 CUDA device(s) per process.\n",
      "2024-04-28 21:56:01) Info: Assigning 1.00 processor(s) and 1.00 CUDA device(s) per replicate.\n",
      "2024-04-28 21:56:01) Info: Data output thread running.\n",
      "2024-04-28 21:56:01) Info: Seeding xorwow rng with top word 110 and bottom word 918873734\n",
      "2024-04-28 21:56:02) Info: Data output thread finished.\n",
      "2024-04-28 21:56:02) Info: Simulation file closed.\n"
     ]
    },
    {
     "name": "stderr",
     "output_type": "stream",
     "text": [
      "\r",
      " 55%|############################################################################################9                                                                            | 110/200 [00:12<00:10,  8.77it/s]"
     ]
    },
    {
     "name": "stdout",
     "output_type": "stream",
     "text": [
      "2024-04-28 21:56:02) Info: Using 56 processor(s) and 1 CUDA device(s) per process.\n",
      "2024-04-28 21:56:02) Info: Assigning 1.00 processor(s) and 1.00 CUDA device(s) per replicate.\n",
      "2024-04-28 21:56:02) Info: Data output thread running.\n",
      "2024-04-28 21:56:02) Info: Seeding xorwow rng with top word 111 and bottom word 27301151\n",
      "2024-04-28 21:56:02) Info: Data output thread finished.\n",
      "2024-04-28 21:56:02) Info: Simulation file closed.\n"
     ]
    },
    {
     "name": "stderr",
     "output_type": "stream",
     "text": [
      "\r",
      " 56%|#############################################################################################7                                                                           | 111/200 [00:12<00:09,  9.02it/s]"
     ]
    },
    {
     "name": "stdout",
     "output_type": "stream",
     "text": [
      "2024-04-28 21:56:02) Info: Using 56 processor(s) and 1 CUDA device(s) per process.\n",
      "2024-04-28 21:56:02) Info: Assigning 1.00 processor(s) and 1.00 CUDA device(s) per replicate.\n",
      "2024-04-28 21:56:02) Info: Data output thread running.\n",
      "2024-04-28 21:56:02) Info: Seeding xorwow rng with top word 112 and bottom word 130875996\n",
      "2024-04-28 21:56:02) Info: Data output thread finished.\n",
      "2024-04-28 21:56:02) Info: Simulation file closed.\n"
     ]
    },
    {
     "name": "stderr",
     "output_type": "stream",
     "text": [
      "\r",
      " 56%|##############################################################################################6                                                                          | 112/200 [00:12<00:09,  9.18it/s]"
     ]
    },
    {
     "name": "stdout",
     "output_type": "stream",
     "text": [
      "2024-04-28 21:56:02) Info: Using 56 processor(s) and 1 CUDA device(s) per process.\n",
      "2024-04-28 21:56:02) Info: Assigning 1.00 processor(s) and 1.00 CUDA device(s) per replicate.\n",
      "2024-04-28 21:56:02) Info: Data output thread running.\n",
      "2024-04-28 21:56:02) Info: Seeding xorwow rng with top word 113 and bottom word 234684881\n",
      "2024-04-28 21:56:02) Info: Data output thread finished.\n",
      "2024-04-28 21:56:02) Info: Simulation file closed.\n"
     ]
    },
    {
     "name": "stderr",
     "output_type": "stream",
     "text": [
      "\r",
      " 56%|###############################################################################################4                                                                         | 113/200 [00:13<00:09,  9.25it/s]"
     ]
    },
    {
     "name": "stdout",
     "output_type": "stream",
     "text": [
      "2024-04-28 21:56:02) Info: Using 56 processor(s) and 1 CUDA device(s) per process.\n",
      "2024-04-28 21:56:02) Info: Assigning 1.00 processor(s) and 1.00 CUDA device(s) per replicate.\n",
      "2024-04-28 21:56:02) Info: Data output thread running.\n",
      "2024-04-28 21:56:02) Info: Seeding xorwow rng with top word 114 and bottom word 341057488\n",
      "2024-04-28 21:56:02) Info: Data output thread finished.\n",
      "2024-04-28 21:56:02) Info: Simulation file closed.\n"
     ]
    },
    {
     "name": "stderr",
     "output_type": "stream",
     "text": [
      "\r",
      " 57%|################################################################################################3                                                                        | 114/200 [00:13<00:09,  9.28it/s]"
     ]
    },
    {
     "name": "stdout",
     "output_type": "stream",
     "text": [
      "2024-04-28 21:56:02) Info: Using 56 processor(s) and 1 CUDA device(s) per process.\n",
      "2024-04-28 21:56:02) Info: Assigning 1.00 processor(s) and 1.00 CUDA device(s) per replicate.\n",
      "2024-04-28 21:56:02) Info: Data output thread running.\n",
      "2024-04-28 21:56:02) Info: Seeding xorwow rng with top word 115 and bottom word 448225580\n",
      "2024-04-28 21:56:02) Info: Data output thread finished.\n",
      "2024-04-28 21:56:02) Info: Simulation file closed.\n"
     ]
    },
    {
     "name": "stderr",
     "output_type": "stream",
     "text": [
      "\r",
      " 57%|#################################################################################################1                                                                       | 115/200 [00:13<00:09,  9.36it/s]"
     ]
    },
    {
     "name": "stdout",
     "output_type": "stream",
     "text": [
      "2024-04-28 21:56:02) Info: Using 56 processor(s) and 1 CUDA device(s) per process.\n",
      "2024-04-28 21:56:02) Info: Assigning 1.00 processor(s) and 1.00 CUDA device(s) per replicate.\n",
      "2024-04-28 21:56:02) Info: Data output thread running.\n",
      "2024-04-28 21:56:02) Info: Seeding xorwow rng with top word 116 and bottom word 552279247\n",
      "2024-04-28 21:56:02) Info: Data output thread finished.\n",
      "2024-04-28 21:56:02) Info: Simulation file closed.\n"
     ]
    },
    {
     "name": "stderr",
     "output_type": "stream",
     "text": [
      "\r",
      " 58%|##################################################################################################                                                                       | 116/200 [00:13<00:08,  9.36it/s]"
     ]
    },
    {
     "name": "stdout",
     "output_type": "stream",
     "text": [
      "2024-04-28 21:56:02) Info: Using 56 processor(s) and 1 CUDA device(s) per process.\n",
      "2024-04-28 21:56:02) Info: Assigning 1.00 processor(s) and 1.00 CUDA device(s) per replicate.\n",
      "2024-04-28 21:56:02) Info: Data output thread running.\n",
      "2024-04-28 21:56:02) Info: Seeding xorwow rng with top word 117 and bottom word 659587226\n",
      "2024-04-28 21:56:02) Info: Data output thread finished.\n",
      "2024-04-28 21:56:02) Info: Simulation file closed.\n"
     ]
    },
    {
     "name": "stderr",
     "output_type": "stream",
     "text": [
      "\r",
      " 58%|##################################################################################################8                                                                      | 117/200 [00:13<00:08,  9.41it/s]"
     ]
    },
    {
     "name": "stdout",
     "output_type": "stream",
     "text": [
      "2024-04-28 21:56:02) Info: Using 56 processor(s) and 1 CUDA device(s) per process.\n",
      "2024-04-28 21:56:02) Info: Assigning 1.00 processor(s) and 1.00 CUDA device(s) per replicate.\n",
      "2024-04-28 21:56:02) Info: Data output thread running.\n",
      "2024-04-28 21:56:02) Info: Seeding xorwow rng with top word 118 and bottom word 764877846\n",
      "2024-04-28 21:56:02) Info: Data output thread finished.\n",
      "2024-04-28 21:56:02) Info: Simulation file closed.\n"
     ]
    },
    {
     "name": "stderr",
     "output_type": "stream",
     "text": [
      "\r",
      " 59%|###################################################################################################7                                                                     | 118/200 [00:13<00:08,  9.39it/s]"
     ]
    },
    {
     "name": "stdout",
     "output_type": "stream",
     "text": [
      "2024-04-28 21:56:02) Info: Using 56 processor(s) and 1 CUDA device(s) per process.\n",
      "2024-04-28 21:56:02) Info: Assigning 1.00 processor(s) and 1.00 CUDA device(s) per replicate.\n",
      "2024-04-28 21:56:02) Info: Data output thread running.\n",
      "2024-04-28 21:56:02) Info: Seeding xorwow rng with top word 119 and bottom word 871503140\n",
      "2024-04-28 21:56:02) Info: Data output thread finished.\n",
      "2024-04-28 21:56:02) Info: Simulation file closed.\n"
     ]
    },
    {
     "name": "stderr",
     "output_type": "stream",
     "text": [
      "\r",
      " 60%|####################################################################################################5                                                                    | 119/200 [00:13<00:08,  9.36it/s]"
     ]
    },
    {
     "name": "stdout",
     "output_type": "stream",
     "text": [
      "2024-04-28 21:56:02) Info: Using 56 processor(s) and 1 CUDA device(s) per process.\n",
      "2024-04-28 21:56:02) Info: Assigning 1.00 processor(s) and 1.00 CUDA device(s) per replicate.\n",
      "2024-04-28 21:56:02) Info: Data output thread running.\n",
      "2024-04-28 21:56:02) Info: Seeding xorwow rng with top word 120 and bottom word 979268442\n",
      "2024-04-28 21:56:03) Info: Data output thread finished.\n",
      "2024-04-28 21:56:03) Info: Simulation file closed.\n"
     ]
    },
    {
     "name": "stderr",
     "output_type": "stream",
     "text": [
      "\r",
      " 60%|#####################################################################################################3                                                                   | 120/200 [00:13<00:08,  9.39it/s]"
     ]
    },
    {
     "name": "stdout",
     "output_type": "stream",
     "text": [
      "2024-04-28 21:56:03) Info: Using 56 processor(s) and 1 CUDA device(s) per process.\n",
      "2024-04-28 21:56:03) Info: Assigning 1.00 processor(s) and 1.00 CUDA device(s) per replicate.\n",
      "2024-04-28 21:56:03) Info: Data output thread running.\n",
      "2024-04-28 21:56:03) Info: Seeding xorwow rng with top word 121 and bottom word 85230895\n",
      "2024-04-28 21:56:03) Info: Data output thread finished.\n",
      "2024-04-28 21:56:03) Info: Simulation file closed.\n"
     ]
    },
    {
     "name": "stderr",
     "output_type": "stream",
     "text": [
      "\r",
      " 60%|######################################################################################################2                                                                  | 121/200 [00:13<00:08,  9.49it/s]"
     ]
    },
    {
     "name": "stdout",
     "output_type": "stream",
     "text": [
      "2024-04-28 21:56:03) Info: Using 56 processor(s) and 1 CUDA device(s) per process.\n",
      "2024-04-28 21:56:03) Info: Assigning 1.00 processor(s) and 1.00 CUDA device(s) per replicate.\n",
      "2024-04-28 21:56:03) Info: Data output thread running.\n",
      "2024-04-28 21:56:03) Info: Seeding xorwow rng with top word 122 and bottom word 187727332\n",
      "2024-04-28 21:56:03) Info: Data output thread finished.\n",
      "2024-04-28 21:56:03) Info: Simulation file closed.\n"
     ]
    },
    {
     "name": "stderr",
     "output_type": "stream",
     "text": [
      "\r",
      " 61%|#######################################################################################################                                                                  | 122/200 [00:13<00:08,  9.56it/s]"
     ]
    },
    {
     "name": "stdout",
     "output_type": "stream",
     "text": [
      "2024-04-28 21:56:03) Info: Using 56 processor(s) and 1 CUDA device(s) per process.\n",
      "2024-04-28 21:56:03) Info: Assigning 1.00 processor(s) and 1.00 CUDA device(s) per replicate.\n",
      "2024-04-28 21:56:03) Info: Data output thread running.\n",
      "2024-04-28 21:56:03) Info: Seeding xorwow rng with top word 123 and bottom word 290698456\n",
      "2024-04-28 21:56:03) Info: Data output thread finished.\n",
      "2024-04-28 21:56:03) Info: Simulation file closed.\n"
     ]
    },
    {
     "name": "stderr",
     "output_type": "stream",
     "text": [
      "\r",
      " 62%|#######################################################################################################9                                                                 | 123/200 [00:14<00:08,  9.58it/s]"
     ]
    },
    {
     "name": "stdout",
     "output_type": "stream",
     "text": [
      "2024-04-28 21:56:03) Info: Using 56 processor(s) and 1 CUDA device(s) per process.\n",
      "2024-04-28 21:56:03) Info: Assigning 1.00 processor(s) and 1.00 CUDA device(s) per replicate.\n",
      "2024-04-28 21:56:03) Info: Data output thread running.\n",
      "2024-04-28 21:56:03) Info: Seeding xorwow rng with top word 124 and bottom word 394342724\n",
      "2024-04-28 21:56:03) Info: Data output thread finished.\n",
      "2024-04-28 21:56:03) Info: Simulation file closed.\n"
     ]
    },
    {
     "name": "stderr",
     "output_type": "stream",
     "text": [
      "\r",
      " 62%|########################################################################################################7                                                                | 124/200 [00:14<00:07,  9.60it/s]"
     ]
    },
    {
     "name": "stdout",
     "output_type": "stream",
     "text": [
      "2024-04-28 21:56:03) Info: Using 56 processor(s) and 1 CUDA device(s) per process.\n",
      "2024-04-28 21:56:03) Info: Assigning 1.00 processor(s) and 1.00 CUDA device(s) per replicate.\n",
      "2024-04-28 21:56:03) Info: Data output thread running.\n",
      "2024-04-28 21:56:03) Info: Seeding xorwow rng with top word 125 and bottom word 498424416\n",
      "2024-04-28 21:56:03) Info: Data output thread finished.\n",
      "2024-04-28 21:56:03) Info: Simulation file closed.\n"
     ]
    },
    {
     "name": "stderr",
     "output_type": "stream",
     "text": [
      "\r",
      " 62%|#########################################################################################################6                                                               | 125/200 [00:14<00:07,  9.55it/s]"
     ]
    },
    {
     "name": "stdout",
     "output_type": "stream",
     "text": [
      "2024-04-28 21:56:03) Info: Using 56 processor(s) and 1 CUDA device(s) per process.\n",
      "2024-04-28 21:56:03) Info: Assigning 1.00 processor(s) and 1.00 CUDA device(s) per replicate.\n",
      "2024-04-28 21:56:03) Info: Data output thread running.\n",
      "2024-04-28 21:56:03) Info: Seeding xorwow rng with top word 126 and bottom word 604297715\n",
      "2024-04-28 21:56:03) Info: Data output thread finished.\n",
      "2024-04-28 21:56:03) Info: Simulation file closed.\n"
     ]
    },
    {
     "name": "stderr",
     "output_type": "stream",
     "text": [
      "\r",
      " 63%|##########################################################################################################4                                                              | 126/200 [00:14<00:07,  9.53it/s]"
     ]
    },
    {
     "name": "stdout",
     "output_type": "stream",
     "text": [
      "2024-04-28 21:56:03) Info: Using 56 processor(s) and 1 CUDA device(s) per process.\n",
      "2024-04-28 21:56:03) Info: Assigning 1.00 processor(s) and 1.00 CUDA device(s) per replicate.\n",
      "2024-04-28 21:56:03) Info: Data output thread running.\n",
      "2024-04-28 21:56:03) Info: Seeding xorwow rng with top word 127 and bottom word 709240266\n",
      "2024-04-28 21:56:03) Info: Data output thread finished.\n",
      "2024-04-28 21:56:03) Info: Simulation file closed.\n"
     ]
    },
    {
     "name": "stderr",
     "output_type": "stream",
     "text": [
      "\r",
      " 64%|###########################################################################################################3                                                             | 127/200 [00:14<00:07,  9.49it/s]"
     ]
    },
    {
     "name": "stdout",
     "output_type": "stream",
     "text": [
      "2024-04-28 21:56:03) Info: Using 56 processor(s) and 1 CUDA device(s) per process.\n",
      "2024-04-28 21:56:03) Info: Assigning 1.00 processor(s) and 1.00 CUDA device(s) per replicate.\n",
      "2024-04-28 21:56:03) Info: Data output thread running.\n",
      "2024-04-28 21:56:03) Info: Seeding xorwow rng with top word 128 and bottom word 816207759\n",
      "2024-04-28 21:56:03) Info: Data output thread finished.\n",
      "2024-04-28 21:56:03) Info: Simulation file closed.\n"
     ]
    },
    {
     "name": "stderr",
     "output_type": "stream",
     "text": [
      "\r",
      " 64%|############################################################################################################1                                                            | 128/200 [00:14<00:07,  9.49it/s]"
     ]
    },
    {
     "name": "stdout",
     "output_type": "stream",
     "text": [
      "2024-04-28 21:56:03) Info: Using 56 processor(s) and 1 CUDA device(s) per process.\n",
      "2024-04-28 21:56:03) Info: Assigning 1.00 processor(s) and 1.00 CUDA device(s) per replicate.\n",
      "2024-04-28 21:56:03) Info: Data output thread running.\n",
      "2024-04-28 21:56:03) Info: Seeding xorwow rng with top word 129 and bottom word 921780277\n",
      "2024-04-28 21:56:04) Info: Data output thread finished.\n",
      "2024-04-28 21:56:04) Info: Simulation file closed.\n"
     ]
    },
    {
     "name": "stderr",
     "output_type": "stream",
     "text": [
      "\r",
      " 64%|#############################################################################################################                                                            | 129/200 [00:14<00:07,  9.54it/s]"
     ]
    },
    {
     "name": "stdout",
     "output_type": "stream",
     "text": [
      "2024-04-28 21:56:04) Info: Using 56 processor(s) and 1 CUDA device(s) per process.\n",
      "2024-04-28 21:56:04) Info: Assigning 1.00 processor(s) and 1.00 CUDA device(s) per replicate.\n",
      "2024-04-28 21:56:04) Info: Data output thread running.\n",
      "2024-04-28 21:56:04) Info: Seeding xorwow rng with top word 130 and bottom word 24487536\n",
      "2024-04-28 21:56:04) Info: Data output thread finished.\n",
      "2024-04-28 21:56:04) Info: Simulation file closed.\n"
     ]
    },
    {
     "name": "stderr",
     "output_type": "stream",
     "text": [
      "\r",
      " 65%|#############################################################################################################8                                                           | 130/200 [00:14<00:07,  9.49it/s]"
     ]
    },
    {
     "name": "stdout",
     "output_type": "stream",
     "text": [
      "2024-04-28 21:56:04) Info: Using 56 processor(s) and 1 CUDA device(s) per process.\n",
      "2024-04-28 21:56:04) Info: Assigning 1.00 processor(s) and 1.00 CUDA device(s) per replicate.\n",
      "2024-04-28 21:56:04) Info: Data output thread running.\n",
      "2024-04-28 21:56:04) Info: Seeding xorwow rng with top word 131 and bottom word 131555134\n",
      "2024-04-28 21:56:04) Info: Data output thread finished.\n",
      "2024-04-28 21:56:04) Info: Simulation file closed.\n"
     ]
    },
    {
     "name": "stderr",
     "output_type": "stream",
     "text": [
      "\r",
      " 66%|##############################################################################################################6                                                          | 131/200 [00:14<00:07,  9.58it/s]"
     ]
    },
    {
     "name": "stdout",
     "output_type": "stream",
     "text": [
      "2024-04-28 21:56:04) Info: Using 56 processor(s) and 1 CUDA device(s) per process.\n",
      "2024-04-28 21:56:04) Info: Assigning 1.00 processor(s) and 1.00 CUDA device(s) per replicate.\n",
      "2024-04-28 21:56:04) Info: Data output thread running.\n",
      "2024-04-28 21:56:04) Info: Seeding xorwow rng with top word 132 and bottom word 233510507\n",
      "2024-04-28 21:56:04) Info: Data output thread finished.\n",
      "2024-04-28 21:56:04) Info: Simulation file closed.\n"
     ]
    },
    {
     "name": "stderr",
     "output_type": "stream",
     "text": [
      "\r",
      " 66%|###############################################################################################################5                                                         | 132/200 [00:15<00:07,  9.50it/s]"
     ]
    },
    {
     "name": "stdout",
     "output_type": "stream",
     "text": [
      "2024-04-28 21:56:04) Info: Using 56 processor(s) and 1 CUDA device(s) per process.\n",
      "2024-04-28 21:56:04) Info: Assigning 1.00 processor(s) and 1.00 CUDA device(s) per replicate.\n",
      "2024-04-28 21:56:04) Info: Data output thread running.\n",
      "2024-04-28 21:56:04) Info: Seeding xorwow rng with top word 133 and bottom word 341718256\n",
      "2024-04-28 21:56:04) Info: Data output thread finished.\n",
      "2024-04-28 21:56:04) Info: Simulation file closed.\n"
     ]
    },
    {
     "name": "stderr",
     "output_type": "stream",
     "text": [
      "\r",
      " 66%|################################################################################################################3                                                        | 133/200 [00:15<00:07,  9.40it/s]"
     ]
    },
    {
     "name": "stdout",
     "output_type": "stream",
     "text": [
      "2024-04-28 21:56:04) Info: Using 56 processor(s) and 1 CUDA device(s) per process.\n",
      "2024-04-28 21:56:04) Info: Assigning 1.00 processor(s) and 1.00 CUDA device(s) per replicate.\n",
      "2024-04-28 21:56:04) Info: Data output thread running.\n",
      "2024-04-28 21:56:04) Info: Seeding xorwow rng with top word 134 and bottom word 449673214\n",
      "2024-04-28 21:56:04) Info: Data output thread finished.\n",
      "2024-04-28 21:56:04) Info: Simulation file closed.\n"
     ]
    },
    {
     "name": "stderr",
     "output_type": "stream",
     "text": [
      "\r",
      " 67%|#################################################################################################################2                                                       | 134/200 [00:15<00:06,  9.49it/s]"
     ]
    },
    {
     "name": "stdout",
     "output_type": "stream",
     "text": [
      "2024-04-28 21:56:04) Info: Using 56 processor(s) and 1 CUDA device(s) per process.\n",
      "2024-04-28 21:56:04) Info: Assigning 1.00 processor(s) and 1.00 CUDA device(s) per replicate.\n",
      "2024-04-28 21:56:04) Info: Data output thread running.\n",
      "2024-04-28 21:56:04) Info: Seeding xorwow rng with top word 135 and bottom word 552618014\n",
      "2024-04-28 21:56:04) Info: Data output thread finished.\n",
      "2024-04-28 21:56:04) Info: Simulation file closed.\n"
     ]
    },
    {
     "name": "stderr",
     "output_type": "stream",
     "text": [
      "\r",
      " 68%|##################################################################################################################                                                       | 135/200 [00:15<00:06,  9.40it/s]"
     ]
    },
    {
     "name": "stdout",
     "output_type": "stream",
     "text": [
      "2024-04-28 21:56:04) Info: Using 56 processor(s) and 1 CUDA device(s) per process.\n",
      "2024-04-28 21:56:04) Info: Assigning 1.00 processor(s) and 1.00 CUDA device(s) per replicate.\n",
      "2024-04-28 21:56:04) Info: Data output thread running.\n",
      "2024-04-28 21:56:04) Info: Seeding xorwow rng with top word 136 and bottom word 661761588\n",
      "2024-04-28 21:56:04) Info: Data output thread finished.\n",
      "2024-04-28 21:56:04) Info: Simulation file closed.\n"
     ]
    },
    {
     "name": "stderr",
     "output_type": "stream",
     "text": [
      "\r",
      " 68%|##################################################################################################################9                                                      | 136/200 [00:15<00:06,  9.43it/s]"
     ]
    },
    {
     "name": "stdout",
     "output_type": "stream",
     "text": [
      "2024-04-28 21:56:04) Info: Using 56 processor(s) and 1 CUDA device(s) per process.\n",
      "2024-04-28 21:56:04) Info: Assigning 1.00 processor(s) and 1.00 CUDA device(s) per replicate.\n",
      "2024-04-28 21:56:04) Info: Data output thread running.\n",
      "2024-04-28 21:56:04) Info: Seeding xorwow rng with top word 137 and bottom word 766489443\n",
      "2024-04-28 21:56:04) Info: Data output thread finished.\n",
      "2024-04-28 21:56:04) Info: Simulation file closed.\n"
     ]
    },
    {
     "name": "stderr",
     "output_type": "stream",
     "text": [
      "\r",
      " 68%|###################################################################################################################7                                                     | 137/200 [00:15<00:06,  9.39it/s]"
     ]
    },
    {
     "name": "stdout",
     "output_type": "stream",
     "text": [
      "2024-04-28 21:56:04) Info: Using 56 processor(s) and 1 CUDA device(s) per process.\n",
      "2024-04-28 21:56:04) Info: Assigning 1.00 processor(s) and 1.00 CUDA device(s) per replicate.\n",
      "2024-04-28 21:56:04) Info: Data output thread running.\n",
      "2024-04-28 21:56:04) Info: Seeding xorwow rng with top word 138 and bottom word 874268892\n",
      "2024-04-28 21:56:04) Info: Data output thread finished.\n",
      "2024-04-28 21:56:04) Info: Simulation file closed.\n"
     ]
    },
    {
     "name": "stderr",
     "output_type": "stream",
     "text": [
      "\r",
      " 69%|####################################################################################################################6                                                    | 138/200 [00:15<00:06,  9.40it/s]"
     ]
    },
    {
     "name": "stdout",
     "output_type": "stream",
     "text": [
      "2024-04-28 21:56:04) Info: Using 56 processor(s) and 1 CUDA device(s) per process.\n",
      "2024-04-28 21:56:04) Info: Assigning 1.00 processor(s) and 1.00 CUDA device(s) per replicate.\n",
      "2024-04-28 21:56:04) Info: Data output thread running.\n",
      "2024-04-28 21:56:04) Info: Seeding xorwow rng with top word 139 and bottom word 980462256\n",
      "2024-04-28 21:56:05) Info: Data output thread finished.\n",
      "2024-04-28 21:56:05) Info: Simulation file closed.\n"
     ]
    },
    {
     "name": "stderr",
     "output_type": "stream",
     "text": [
      "\r",
      " 70%|#####################################################################################################################4                                                   | 139/200 [00:15<00:06,  9.38it/s]"
     ]
    },
    {
     "name": "stdout",
     "output_type": "stream",
     "text": [
      "2024-04-28 21:56:05) Info: Using 56 processor(s) and 1 CUDA device(s) per process.\n",
      "2024-04-28 21:56:05) Info: Assigning 1.00 processor(s) and 1.00 CUDA device(s) per replicate.\n",
      "2024-04-28 21:56:05) Info: Data output thread running.\n",
      "2024-04-28 21:56:05) Info: Seeding xorwow rng with top word 140 and bottom word 87902492\n",
      "2024-04-28 21:56:05) Info: Data output thread finished.\n",
      "2024-04-28 21:56:05) Info: Simulation file closed.\n"
     ]
    },
    {
     "name": "stderr",
     "output_type": "stream",
     "text": [
      "\r",
      " 70%|######################################################################################################################3                                                  | 140/200 [00:15<00:06,  9.30it/s]"
     ]
    },
    {
     "name": "stdout",
     "output_type": "stream",
     "text": [
      "2024-04-28 21:56:05) Info: Using 56 processor(s) and 1 CUDA device(s) per process.\n",
      "2024-04-28 21:56:05) Info: Assigning 1.00 processor(s) and 1.00 CUDA device(s) per replicate.\n",
      "2024-04-28 21:56:05) Info: Data output thread running.\n",
      "2024-04-28 21:56:05) Info: Seeding xorwow rng with top word 141 and bottom word 197382188\n",
      "2024-04-28 21:56:05) Info: Data output thread finished.\n",
      "2024-04-28 21:56:05) Info: Simulation file closed.\n"
     ]
    },
    {
     "name": "stderr",
     "output_type": "stream",
     "text": [
      "\r",
      " 70%|#######################################################################################################################1                                                 | 141/200 [00:16<00:06,  9.36it/s]"
     ]
    },
    {
     "name": "stdout",
     "output_type": "stream",
     "text": [
      "2024-04-28 21:56:05) Info: Using 56 processor(s) and 1 CUDA device(s) per process.\n",
      "2024-04-28 21:56:05) Info: Assigning 1.00 processor(s) and 1.00 CUDA device(s) per replicate.\n",
      "2024-04-28 21:56:05) Info: Data output thread running.\n",
      "2024-04-28 21:56:05) Info: Seeding xorwow rng with top word 142 and bottom word 302394869\n",
      "2024-04-28 21:56:05) Info: Data output thread finished.\n",
      "2024-04-28 21:56:05) Info: Simulation file closed.\n"
     ]
    },
    {
     "name": "stderr",
     "output_type": "stream",
     "text": [
      "\r",
      " 71%|#######################################################################################################################9                                                 | 142/200 [00:16<00:06,  9.42it/s]"
     ]
    },
    {
     "name": "stdout",
     "output_type": "stream",
     "text": [
      "2024-04-28 21:56:05) Info: Using 56 processor(s) and 1 CUDA device(s) per process.\n",
      "2024-04-28 21:56:05) Info: Assigning 1.00 processor(s) and 1.00 CUDA device(s) per replicate.\n",
      "2024-04-28 21:56:05) Info: Data output thread running.\n",
      "2024-04-28 21:56:05) Info: Seeding xorwow rng with top word 143 and bottom word 406929005\n",
      "2024-04-28 21:56:05) Info: Data output thread finished.\n",
      "2024-04-28 21:56:05) Info: Simulation file closed.\n"
     ]
    },
    {
     "name": "stderr",
     "output_type": "stream",
     "text": [
      "\r",
      " 72%|########################################################################################################################8                                                | 143/200 [00:16<00:05,  9.50it/s]"
     ]
    },
    {
     "name": "stdout",
     "output_type": "stream",
     "text": [
      "2024-04-28 21:56:05) Info: Using 56 processor(s) and 1 CUDA device(s) per process.\n",
      "2024-04-28 21:56:05) Info: Assigning 1.00 processor(s) and 1.00 CUDA device(s) per replicate.\n",
      "2024-04-28 21:56:05) Info: Data output thread running.\n",
      "2024-04-28 21:56:05) Info: Seeding xorwow rng with top word 144 and bottom word 510447091\n",
      "2024-04-28 21:56:05) Info: Data output thread finished.\n",
      "2024-04-28 21:56:05) Info: Simulation file closed.\n"
     ]
    },
    {
     "name": "stderr",
     "output_type": "stream",
     "text": [
      "\r",
      " 72%|#########################################################################################################################6                                               | 144/200 [00:16<00:05,  9.56it/s]"
     ]
    },
    {
     "name": "stdout",
     "output_type": "stream",
     "text": [
      "2024-04-28 21:56:05) Info: Using 56 processor(s) and 1 CUDA device(s) per process.\n",
      "2024-04-28 21:56:05) Info: Assigning 1.00 processor(s) and 1.00 CUDA device(s) per replicate.\n",
      "2024-04-28 21:56:05) Info: Data output thread running.\n",
      "2024-04-28 21:56:05) Info: Seeding xorwow rng with top word 145 and bottom word 613651147\n",
      "2024-04-28 21:56:05) Info: Data output thread finished.\n",
      "2024-04-28 21:56:05) Info: Simulation file closed.\n"
     ]
    },
    {
     "name": "stderr",
     "output_type": "stream",
     "text": [
      "\r",
      " 72%|##########################################################################################################################5                                              | 145/200 [00:16<00:05,  9.52it/s]"
     ]
    },
    {
     "name": "stdout",
     "output_type": "stream",
     "text": [
      "2024-04-28 21:56:05) Info: Using 56 processor(s) and 1 CUDA device(s) per process.\n",
      "2024-04-28 21:56:05) Info: Assigning 1.00 processor(s) and 1.00 CUDA device(s) per replicate.\n",
      "2024-04-28 21:56:05) Info: Data output thread running.\n",
      "2024-04-28 21:56:05) Info: Seeding xorwow rng with top word 146 and bottom word 719065782\n",
      "2024-04-28 21:56:05) Info: Data output thread finished.\n",
      "2024-04-28 21:56:05) Info: Simulation file closed.\n"
     ]
    },
    {
     "name": "stderr",
     "output_type": "stream",
     "text": [
      "\r",
      " 73%|###########################################################################################################################3                                             | 146/200 [00:16<00:05,  9.51it/s]"
     ]
    },
    {
     "name": "stdout",
     "output_type": "stream",
     "text": [
      "2024-04-28 21:56:05) Info: Using 56 processor(s) and 1 CUDA device(s) per process.\n",
      "2024-04-28 21:56:05) Info: Assigning 1.00 processor(s) and 1.00 CUDA device(s) per replicate.\n",
      "2024-04-28 21:56:05) Info: Data output thread running.\n",
      "2024-04-28 21:56:05) Info: Seeding xorwow rng with top word 147 and bottom word 825087909\n",
      "2024-04-28 21:56:05) Info: Data output thread finished.\n",
      "2024-04-28 21:56:05) Info: Simulation file closed.\n"
     ]
    },
    {
     "name": "stderr",
     "output_type": "stream",
     "text": [
      "\r",
      " 74%|############################################################################################################################2                                            | 147/200 [00:16<00:05,  9.46it/s]"
     ]
    },
    {
     "name": "stdout",
     "output_type": "stream",
     "text": [
      "2024-04-28 21:56:05) Info: Using 56 processor(s) and 1 CUDA device(s) per process.\n",
      "2024-04-28 21:56:05) Info: Assigning 1.00 processor(s) and 1.00 CUDA device(s) per replicate.\n",
      "2024-04-28 21:56:05) Info: Data output thread running.\n",
      "2024-04-28 21:56:05) Info: Seeding xorwow rng with top word 148 and bottom word 931926032\n",
      "2024-04-28 21:56:06) Info: Data output thread finished.\n",
      "2024-04-28 21:56:06) Info: Simulation file closed.\n"
     ]
    },
    {
     "name": "stderr",
     "output_type": "stream",
     "text": [
      "\r",
      " 74%|#############################################################################################################################                                            | 148/200 [00:16<00:05,  9.56it/s]"
     ]
    },
    {
     "name": "stdout",
     "output_type": "stream",
     "text": [
      "2024-04-28 21:56:06) Info: Using 56 processor(s) and 1 CUDA device(s) per process.\n",
      "2024-04-28 21:56:06) Info: Assigning 1.00 processor(s) and 1.00 CUDA device(s) per replicate.\n",
      "2024-04-28 21:56:06) Info: Data output thread running.\n",
      "2024-04-28 21:56:06) Info: Seeding xorwow rng with top word 149 and bottom word 34405553\n",
      "2024-04-28 21:56:06) Info: Data output thread finished.\n",
      "2024-04-28 21:56:06) Info: Simulation file closed.\n"
     ]
    },
    {
     "name": "stderr",
     "output_type": "stream",
     "text": [
      "\r",
      " 74%|#############################################################################################################################9                                           | 149/200 [00:16<00:05,  9.56it/s]"
     ]
    },
    {
     "name": "stdout",
     "output_type": "stream",
     "text": [
      "2024-04-28 21:56:06) Info: Using 56 processor(s) and 1 CUDA device(s) per process.\n",
      "2024-04-28 21:56:06) Info: Assigning 1.00 processor(s) and 1.00 CUDA device(s) per replicate.\n",
      "2024-04-28 21:56:06) Info: Data output thread running.\n",
      "2024-04-28 21:56:06) Info: Seeding xorwow rng with top word 150 and bottom word 138224713\n",
      "2024-04-28 21:56:06) Info: Data output thread finished.\n",
      "2024-04-28 21:56:06) Info: Simulation file closed.\n"
     ]
    },
    {
     "name": "stderr",
     "output_type": "stream",
     "text": [
      "\r",
      " 75%|##############################################################################################################################7                                          | 150/200 [00:16<00:05,  9.54it/s]"
     ]
    },
    {
     "name": "stdout",
     "output_type": "stream",
     "text": [
      "2024-04-28 21:56:06) Info: Using 56 processor(s) and 1 CUDA device(s) per process.\n",
      "2024-04-28 21:56:06) Info: Assigning 1.00 processor(s) and 1.00 CUDA device(s) per replicate.\n",
      "2024-04-28 21:56:06) Info: Data output thread running.\n",
      "2024-04-28 21:56:06) Info: Seeding xorwow rng with top word 151 and bottom word 244016986\n",
      "2024-04-28 21:56:06) Info: Data output thread finished.\n",
      "2024-04-28 21:56:06) Info: Simulation file closed.\n"
     ]
    },
    {
     "name": "stderr",
     "output_type": "stream",
     "text": [
      "\r",
      " 76%|###############################################################################################################################5                                         | 151/200 [00:17<00:05,  9.44it/s]"
     ]
    },
    {
     "name": "stdout",
     "output_type": "stream",
     "text": [
      "2024-04-28 21:56:06) Info: Using 56 processor(s) and 1 CUDA device(s) per process.\n",
      "2024-04-28 21:56:06) Info: Assigning 1.00 processor(s) and 1.00 CUDA device(s) per replicate.\n",
      "2024-04-28 21:56:06) Info: Data output thread running.\n",
      "2024-04-28 21:56:06) Info: Seeding xorwow rng with top word 152 and bottom word 353057565\n",
      "2024-04-28 21:56:06) Info: Data output thread finished.\n",
      "2024-04-28 21:56:06) Info: Simulation file closed.\n"
     ]
    },
    {
     "name": "stderr",
     "output_type": "stream",
     "text": [
      "\r",
      " 76%|################################################################################################################################4                                        | 152/200 [00:17<00:05,  9.41it/s]"
     ]
    },
    {
     "name": "stdout",
     "output_type": "stream",
     "text": [
      "2024-04-28 21:56:06) Info: Using 56 processor(s) and 1 CUDA device(s) per process.\n",
      "2024-04-28 21:56:06) Info: Assigning 1.00 processor(s) and 1.00 CUDA device(s) per replicate.\n",
      "2024-04-28 21:56:06) Info: Data output thread running.\n",
      "2024-04-28 21:56:06) Info: Seeding xorwow rng with top word 153 and bottom word 459849395\n",
      "2024-04-28 21:56:06) Info: Data output thread finished.\n",
      "2024-04-28 21:56:06) Info: Simulation file closed.\n"
     ]
    },
    {
     "name": "stderr",
     "output_type": "stream",
     "text": [
      "\r",
      " 76%|#################################################################################################################################2                                       | 153/200 [00:17<00:04,  9.40it/s]"
     ]
    },
    {
     "name": "stdout",
     "output_type": "stream",
     "text": [
      "2024-04-28 21:56:06) Info: Using 56 processor(s) and 1 CUDA device(s) per process.\n",
      "2024-04-28 21:56:06) Info: Assigning 1.00 processor(s) and 1.00 CUDA device(s) per replicate.\n",
      "2024-04-28 21:56:06) Info: Data output thread running.\n",
      "2024-04-28 21:56:06) Info: Seeding xorwow rng with top word 154 and bottom word 566103821\n",
      "2024-04-28 21:56:06) Info: Data output thread finished.\n",
      "2024-04-28 21:56:06) Info: Simulation file closed.\n"
     ]
    },
    {
     "name": "stderr",
     "output_type": "stream",
     "text": [
      "\r",
      " 77%|##################################################################################################################################1                                      | 154/200 [00:17<00:04,  9.49it/s]"
     ]
    },
    {
     "name": "stdout",
     "output_type": "stream",
     "text": [
      "2024-04-28 21:56:06) Info: Using 56 processor(s) and 1 CUDA device(s) per process.\n",
      "2024-04-28 21:56:06) Info: Assigning 1.00 processor(s) and 1.00 CUDA device(s) per replicate.\n",
      "2024-04-28 21:56:06) Info: Data output thread running.\n",
      "2024-04-28 21:56:06) Info: Seeding xorwow rng with top word 155 and bottom word 668953950\n",
      "2024-04-28 21:56:06) Info: Data output thread finished.\n",
      "2024-04-28 21:56:06) Info: Simulation file closed.\n"
     ]
    },
    {
     "name": "stderr",
     "output_type": "stream",
     "text": [
      "\r",
      " 78%|##################################################################################################################################9                                      | 155/200 [00:17<00:04,  9.36it/s]"
     ]
    },
    {
     "name": "stdout",
     "output_type": "stream",
     "text": [
      "2024-04-28 21:56:06) Info: Using 56 processor(s) and 1 CUDA device(s) per process.\n",
      "2024-04-28 21:56:06) Info: Assigning 1.00 processor(s) and 1.00 CUDA device(s) per replicate.\n",
      "2024-04-28 21:56:06) Info: Data output thread running.\n",
      "2024-04-28 21:56:06) Info: Seeding xorwow rng with top word 156 and bottom word 780111172\n",
      "2024-04-28 21:56:06) Info: Data output thread finished.\n",
      "2024-04-28 21:56:06) Info: Simulation file closed.\n"
     ]
    },
    {
     "name": "stderr",
     "output_type": "stream",
     "text": [
      "\r",
      " 78%|###################################################################################################################################8                                     | 156/200 [00:17<00:04,  9.29it/s]"
     ]
    },
    {
     "name": "stdout",
     "output_type": "stream",
     "text": [
      "2024-04-28 21:56:06) Info: Using 56 processor(s) and 1 CUDA device(s) per process.\n",
      "2024-04-28 21:56:06) Info: Assigning 1.00 processor(s) and 1.00 CUDA device(s) per replicate.\n",
      "2024-04-28 21:56:06) Info: Data output thread running.\n",
      "2024-04-28 21:56:06) Info: Seeding xorwow rng with top word 157 and bottom word 889152196\n",
      "2024-04-28 21:56:06) Info: Data output thread finished.\n",
      "2024-04-28 21:56:06) Info: Simulation file closed.\n"
     ]
    },
    {
     "name": "stderr",
     "output_type": "stream",
     "text": [
      "\r",
      " 78%|####################################################################################################################################6                                    | 157/200 [00:17<00:04,  9.22it/s]"
     ]
    },
    {
     "name": "stdout",
     "output_type": "stream",
     "text": [
      "2024-04-28 21:56:06) Info: Using 56 processor(s) and 1 CUDA device(s) per process.\n",
      "2024-04-28 21:56:06) Info: Assigning 1.00 processor(s) and 1.00 CUDA device(s) per replicate.\n",
      "2024-04-28 21:56:06) Info: Data output thread running.\n",
      "2024-04-28 21:56:07) Info: Seeding xorwow rng with top word 158 and bottom word 999219427\n",
      "2024-04-28 21:56:07) Info: Data output thread finished.\n",
      "2024-04-28 21:56:07) Info: Simulation file closed.\n"
     ]
    },
    {
     "name": "stderr",
     "output_type": "stream",
     "text": [
      "\r",
      " 79%|#####################################################################################################################################5                                   | 158/200 [00:17<00:04,  9.28it/s]"
     ]
    },
    {
     "name": "stdout",
     "output_type": "stream",
     "text": [
      "2024-04-28 21:56:07) Info: Using 56 processor(s) and 1 CUDA device(s) per process.\n",
      "2024-04-28 21:56:07) Info: Assigning 1.00 processor(s) and 1.00 CUDA device(s) per replicate.\n",
      "2024-04-28 21:56:07) Info: Data output thread running.\n",
      "2024-04-28 21:56:07) Info: Seeding xorwow rng with top word 159 and bottom word 105523469\n",
      "2024-04-28 21:56:07) Info: Data output thread finished.\n",
      "2024-04-28 21:56:07) Info: Simulation file closed.\n"
     ]
    },
    {
     "name": "stderr",
     "output_type": "stream",
     "text": [
      "\r",
      " 80%|######################################################################################################################################3                                  | 159/200 [00:17<00:04,  9.34it/s]"
     ]
    },
    {
     "name": "stdout",
     "output_type": "stream",
     "text": [
      "2024-04-28 21:56:07) Info: Using 56 processor(s) and 1 CUDA device(s) per process.\n",
      "2024-04-28 21:56:07) Info: Assigning 1.00 processor(s) and 1.00 CUDA device(s) per replicate.\n",
      "2024-04-28 21:56:07) Info: Data output thread running.\n",
      "2024-04-28 21:56:07) Info: Seeding xorwow rng with top word 160 and bottom word 210907070\n",
      "2024-04-28 21:56:07) Info: Data output thread finished.\n",
      "2024-04-28 21:56:07) Info: Simulation file closed.\n"
     ]
    },
    {
     "name": "stderr",
     "output_type": "stream",
     "text": [
      "\r",
      " 80%|#######################################################################################################################################2                                 | 160/200 [00:18<00:04,  9.42it/s]"
     ]
    },
    {
     "name": "stdout",
     "output_type": "stream",
     "text": [
      "2024-04-28 21:56:07) Info: Using 56 processor(s) and 1 CUDA device(s) per process.\n",
      "2024-04-28 21:56:07) Info: Assigning 1.00 processor(s) and 1.00 CUDA device(s) per replicate.\n",
      "2024-04-28 21:56:07) Info: Data output thread running.\n",
      "2024-04-28 21:56:07) Info: Seeding xorwow rng with top word 161 and bottom word 314852964\n",
      "2024-04-28 21:56:07) Info: Data output thread finished.\n",
      "2024-04-28 21:56:07) Info: Simulation file closed.\n"
     ]
    },
    {
     "name": "stderr",
     "output_type": "stream",
     "text": [
      "\r",
      " 80%|########################################################################################################################################                                 | 161/200 [00:18<00:04,  9.42it/s]"
     ]
    },
    {
     "name": "stdout",
     "output_type": "stream",
     "text": [
      "2024-04-28 21:56:07) Info: Using 56 processor(s) and 1 CUDA device(s) per process.\n",
      "2024-04-28 21:56:07) Info: Assigning 1.00 processor(s) and 1.00 CUDA device(s) per replicate.\n",
      "2024-04-28 21:56:07) Info: Data output thread running.\n",
      "2024-04-28 21:56:07) Info: Seeding xorwow rng with top word 162 and bottom word 420863191\n",
      "2024-04-28 21:56:07) Info: Data output thread finished.\n",
      "2024-04-28 21:56:07) Info: Simulation file closed.\n"
     ]
    },
    {
     "name": "stderr",
     "output_type": "stream",
     "text": [
      "\r",
      " 81%|########################################################################################################################################8                                | 162/200 [00:18<00:04,  9.41it/s]"
     ]
    },
    {
     "name": "stdout",
     "output_type": "stream",
     "text": [
      "2024-04-28 21:56:07) Info: Using 56 processor(s) and 1 CUDA device(s) per process.\n",
      "2024-04-28 21:56:07) Info: Assigning 1.00 processor(s) and 1.00 CUDA device(s) per replicate.\n",
      "2024-04-28 21:56:07) Info: Data output thread running.\n",
      "2024-04-28 21:56:07) Info: Seeding xorwow rng with top word 163 and bottom word 527418736\n",
      "2024-04-28 21:56:07) Info: Data output thread finished.\n",
      "2024-04-28 21:56:07) Info: Simulation file closed.\n"
     ]
    },
    {
     "name": "stderr",
     "output_type": "stream",
     "text": [
      "\r",
      " 82%|#########################################################################################################################################7                               | 163/200 [00:18<00:03,  9.35it/s]"
     ]
    },
    {
     "name": "stdout",
     "output_type": "stream",
     "text": [
      "2024-04-28 21:56:07) Info: Using 56 processor(s) and 1 CUDA device(s) per process.\n",
      "2024-04-28 21:56:07) Info: Assigning 1.00 processor(s) and 1.00 CUDA device(s) per replicate.\n",
      "2024-04-28 21:56:07) Info: Data output thread running.\n",
      "2024-04-28 21:56:07) Info: Seeding xorwow rng with top word 164 and bottom word 635863141\n",
      "2024-04-28 21:56:07) Info: Data output thread finished.\n",
      "2024-04-28 21:56:07) Info: Simulation file closed.\n"
     ]
    },
    {
     "name": "stderr",
     "output_type": "stream",
     "text": [
      "\r",
      " 82%|##########################################################################################################################################5                              | 164/200 [00:18<00:03,  9.36it/s]"
     ]
    },
    {
     "name": "stdout",
     "output_type": "stream",
     "text": [
      "2024-04-28 21:56:07) Info: Using 56 processor(s) and 1 CUDA device(s) per process.\n",
      "2024-04-28 21:56:07) Info: Assigning 1.00 processor(s) and 1.00 CUDA device(s) per replicate.\n",
      "2024-04-28 21:56:07) Info: Data output thread running.\n",
      "2024-04-28 21:56:07) Info: Seeding xorwow rng with top word 165 and bottom word 743055735\n",
      "2024-04-28 21:56:07) Info: Data output thread finished.\n",
      "2024-04-28 21:56:07) Info: Simulation file closed.\n"
     ]
    },
    {
     "name": "stderr",
     "output_type": "stream",
     "text": [
      "\r",
      " 82%|###########################################################################################################################################4                             | 165/200 [00:18<00:03,  9.30it/s]"
     ]
    },
    {
     "name": "stdout",
     "output_type": "stream",
     "text": [
      "2024-04-28 21:56:07) Info: Using 56 processor(s) and 1 CUDA device(s) per process.\n",
      "2024-04-28 21:56:07) Info: Assigning 1.00 processor(s) and 1.00 CUDA device(s) per replicate.\n",
      "2024-04-28 21:56:07) Info: Data output thread running.\n",
      "2024-04-28 21:56:07) Info: Seeding xorwow rng with top word 166 and bottom word 851762095\n",
      "2024-04-28 21:56:07) Info: Data output thread finished.\n",
      "2024-04-28 21:56:07) Info: Simulation file closed.\n"
     ]
    },
    {
     "name": "stderr",
     "output_type": "stream",
     "text": [
      "\r",
      " 83%|############################################################################################################################################2                            | 166/200 [00:18<00:03,  9.33it/s]"
     ]
    },
    {
     "name": "stdout",
     "output_type": "stream",
     "text": [
      "2024-04-28 21:56:07) Info: Using 56 processor(s) and 1 CUDA device(s) per process.\n",
      "2024-04-28 21:56:07) Info: Assigning 1.00 processor(s) and 1.00 CUDA device(s) per replicate.\n",
      "2024-04-28 21:56:07) Info: Data output thread running.\n",
      "2024-04-28 21:56:07) Info: Seeding xorwow rng with top word 167 and bottom word 957922352\n",
      "2024-04-28 21:56:08) Info: Data output thread finished.\n",
      "2024-04-28 21:56:08) Info: Simulation file closed.\n"
     ]
    },
    {
     "name": "stderr",
     "output_type": "stream",
     "text": [
      "\r",
      " 84%|#############################################################################################################################################1                           | 167/200 [00:18<00:03,  9.35it/s]"
     ]
    },
    {
     "name": "stdout",
     "output_type": "stream",
     "text": [
      "2024-04-28 21:56:08) Info: Using 56 processor(s) and 1 CUDA device(s) per process.\n",
      "2024-04-28 21:56:08) Info: Assigning 1.00 processor(s) and 1.00 CUDA device(s) per replicate.\n",
      "2024-04-28 21:56:08) Info: Data output thread running.\n",
      "2024-04-28 21:56:08) Info: Seeding xorwow rng with top word 168 and bottom word 64490190\n",
      "2024-04-28 21:56:08) Info: Data output thread finished.\n",
      "2024-04-28 21:56:08) Info: Simulation file closed.\n"
     ]
    },
    {
     "name": "stderr",
     "output_type": "stream",
     "text": [
      "\r",
      " 84%|#############################################################################################################################################9                           | 168/200 [00:18<00:03,  9.37it/s]"
     ]
    },
    {
     "name": "stdout",
     "output_type": "stream",
     "text": [
      "2024-04-28 21:56:08) Info: Using 56 processor(s) and 1 CUDA device(s) per process.\n",
      "2024-04-28 21:56:08) Info: Assigning 1.00 processor(s) and 1.00 CUDA device(s) per replicate.\n",
      "2024-04-28 21:56:08) Info: Data output thread running.\n",
      "2024-04-28 21:56:08) Info: Seeding xorwow rng with top word 169 and bottom word 170645842\n",
      "2024-04-28 21:56:08) Info: Data output thread finished.\n",
      "2024-04-28 21:56:08) Info: Simulation file closed.\n"
     ]
    },
    {
     "name": "stderr",
     "output_type": "stream",
     "text": [
      "\r",
      " 84%|##############################################################################################################################################8                          | 169/200 [00:18<00:03,  9.43it/s]"
     ]
    },
    {
     "name": "stdout",
     "output_type": "stream",
     "text": [
      "2024-04-28 21:56:08) Info: Using 56 processor(s) and 1 CUDA device(s) per process.\n",
      "2024-04-28 21:56:08) Info: Assigning 1.00 processor(s) and 1.00 CUDA device(s) per replicate.\n",
      "2024-04-28 21:56:08) Info: Data output thread running.\n",
      "2024-04-28 21:56:08) Info: Seeding xorwow rng with top word 170 and bottom word 274871843\n",
      "2024-04-28 21:56:08) Info: Data output thread finished.\n",
      "2024-04-28 21:56:08) Info: Simulation file closed.\n"
     ]
    },
    {
     "name": "stderr",
     "output_type": "stream",
     "text": [
      "\r",
      " 85%|###############################################################################################################################################6                         | 170/200 [00:19<00:03,  9.49it/s]"
     ]
    },
    {
     "name": "stdout",
     "output_type": "stream",
     "text": [
      "2024-04-28 21:56:08) Info: Using 56 processor(s) and 1 CUDA device(s) per process.\n",
      "2024-04-28 21:56:08) Info: Assigning 1.00 processor(s) and 1.00 CUDA device(s) per replicate.\n",
      "2024-04-28 21:56:08) Info: Data output thread running.\n",
      "2024-04-28 21:56:08) Info: Seeding xorwow rng with top word 171 and bottom word 379312244\n",
      "2024-04-28 21:56:08) Info: Data output thread finished.\n",
      "2024-04-28 21:56:08) Info: Simulation file closed.\n"
     ]
    },
    {
     "name": "stderr",
     "output_type": "stream",
     "text": [
      "\r",
      " 86%|################################################################################################################################################4                        | 171/200 [00:19<00:03,  9.46it/s]"
     ]
    },
    {
     "name": "stdout",
     "output_type": "stream",
     "text": [
      "2024-04-28 21:56:08) Info: Using 56 processor(s) and 1 CUDA device(s) per process.\n",
      "2024-04-28 21:56:08) Info: Assigning 1.00 processor(s) and 1.00 CUDA device(s) per replicate.\n",
      "2024-04-28 21:56:08) Info: Data output thread running.\n",
      "2024-04-28 21:56:08) Info: Seeding xorwow rng with top word 172 and bottom word 485889504\n",
      "2024-04-28 21:56:08) Info: Data output thread finished.\n",
      "2024-04-28 21:56:08) Info: Simulation file closed.\n"
     ]
    },
    {
     "name": "stderr",
     "output_type": "stream",
     "text": [
      "\r",
      " 86%|#################################################################################################################################################3                       | 172/200 [00:19<00:02,  9.48it/s]"
     ]
    },
    {
     "name": "stdout",
     "output_type": "stream",
     "text": [
      "2024-04-28 21:56:08) Info: Using 56 processor(s) and 1 CUDA device(s) per process.\n",
      "2024-04-28 21:56:08) Info: Assigning 1.00 processor(s) and 1.00 CUDA device(s) per replicate.\n",
      "2024-04-28 21:56:08) Info: Data output thread running.\n",
      "2024-04-28 21:56:08) Info: Seeding xorwow rng with top word 173 and bottom word 590460957\n",
      "2024-04-28 21:56:08) Info: Data output thread finished.\n",
      "2024-04-28 21:56:08) Info: Simulation file closed.\n"
     ]
    },
    {
     "name": "stderr",
     "output_type": "stream",
     "text": [
      "\r",
      " 86%|##################################################################################################################################################1                      | 173/200 [00:19<00:02,  9.44it/s]"
     ]
    },
    {
     "name": "stdout",
     "output_type": "stream",
     "text": [
      "2024-04-28 21:56:08) Info: Using 56 processor(s) and 1 CUDA device(s) per process.\n",
      "2024-04-28 21:56:08) Info: Assigning 1.00 processor(s) and 1.00 CUDA device(s) per replicate.\n",
      "2024-04-28 21:56:08) Info: Data output thread running.\n",
      "2024-04-28 21:56:08) Info: Seeding xorwow rng with top word 174 and bottom word 697125351\n",
      "2024-04-28 21:56:08) Info: Data output thread finished.\n",
      "2024-04-28 21:56:08) Info: Simulation file closed.\n"
     ]
    },
    {
     "name": "stderr",
     "output_type": "stream",
     "text": [
      "\r",
      " 87%|###################################################################################################################################################                      | 174/200 [00:19<00:02,  9.43it/s]"
     ]
    },
    {
     "name": "stdout",
     "output_type": "stream",
     "text": [
      "2024-04-28 21:56:08) Info: Using 56 processor(s) and 1 CUDA device(s) per process.\n",
      "2024-04-28 21:56:08) Info: Assigning 1.00 processor(s) and 1.00 CUDA device(s) per replicate.\n",
      "2024-04-28 21:56:08) Info: Data output thread running.\n",
      "2024-04-28 21:56:08) Info: Seeding xorwow rng with top word 175 and bottom word 803840254\n",
      "2024-04-28 21:56:08) Info: Data output thread finished.\n",
      "2024-04-28 21:56:08) Info: Simulation file closed.\n"
     ]
    },
    {
     "name": "stderr",
     "output_type": "stream",
     "text": [
      "\r",
      " 88%|###################################################################################################################################################8                     | 175/200 [00:19<00:02,  9.43it/s]"
     ]
    },
    {
     "name": "stdout",
     "output_type": "stream",
     "text": [
      "2024-04-28 21:56:08) Info: Using 56 processor(s) and 1 CUDA device(s) per process.\n",
      "2024-04-28 21:56:08) Info: Assigning 1.00 processor(s) and 1.00 CUDA device(s) per replicate.\n",
      "2024-04-28 21:56:08) Info: Data output thread running.\n",
      "2024-04-28 21:56:08) Info: Seeding xorwow rng with top word 176 and bottom word 909618858\n",
      "2024-04-28 21:56:08) Info: Data output thread finished.\n",
      "2024-04-28 21:56:09) Info: Simulation file closed.\n"
     ]
    },
    {
     "name": "stderr",
     "output_type": "stream",
     "text": [
      "\r",
      " 88%|####################################################################################################################################################7                    | 176/200 [00:19<00:02,  9.51it/s]"
     ]
    },
    {
     "name": "stdout",
     "output_type": "stream",
     "text": [
      "2024-04-28 21:56:09) Info: Using 56 processor(s) and 1 CUDA device(s) per process.\n",
      "2024-04-28 21:56:09) Info: Assigning 1.00 processor(s) and 1.00 CUDA device(s) per replicate.\n",
      "2024-04-28 21:56:09) Info: Data output thread running.\n",
      "2024-04-28 21:56:09) Info: Seeding xorwow rng with top word 177 and bottom word 13041685\n",
      "2024-04-28 21:56:09) Info: Data output thread finished.\n",
      "2024-04-28 21:56:09) Info: Simulation file closed.\n"
     ]
    },
    {
     "name": "stderr",
     "output_type": "stream",
     "text": [
      "\r",
      " 88%|#####################################################################################################################################################5                   | 177/200 [00:19<00:02,  9.49it/s]"
     ]
    },
    {
     "name": "stdout",
     "output_type": "stream",
     "text": [
      "2024-04-28 21:56:09) Info: Using 56 processor(s) and 1 CUDA device(s) per process.\n",
      "2024-04-28 21:56:09) Info: Assigning 1.00 processor(s) and 1.00 CUDA device(s) per replicate.\n",
      "2024-04-28 21:56:09) Info: Data output thread running.\n",
      "2024-04-28 21:56:09) Info: Seeding xorwow rng with top word 178 and bottom word 118813083\n",
      "2024-04-28 21:56:09) Info: Data output thread finished.\n",
      "2024-04-28 21:56:09) Info: Simulation file closed.\n"
     ]
    },
    {
     "name": "stderr",
     "output_type": "stream",
     "text": [
      "\r",
      " 89%|######################################################################################################################################################4                  | 178/200 [00:19<00:02,  9.54it/s]"
     ]
    },
    {
     "name": "stdout",
     "output_type": "stream",
     "text": [
      "2024-04-28 21:56:09) Info: Using 56 processor(s) and 1 CUDA device(s) per process.\n",
      "2024-04-28 21:56:09) Info: Assigning 1.00 processor(s) and 1.00 CUDA device(s) per replicate.\n",
      "2024-04-28 21:56:09) Info: Data output thread running.\n",
      "2024-04-28 21:56:09) Info: Seeding xorwow rng with top word 179 and bottom word 222125662\n",
      "2024-04-28 21:56:09) Info: Data output thread finished.\n",
      "2024-04-28 21:56:09) Info: Simulation file closed.\n"
     ]
    },
    {
     "name": "stderr",
     "output_type": "stream",
     "text": [
      "\r",
      " 90%|#######################################################################################################################################################2                 | 179/200 [00:20<00:02,  9.53it/s]"
     ]
    },
    {
     "name": "stdout",
     "output_type": "stream",
     "text": [
      "2024-04-28 21:56:09) Info: Using 56 processor(s) and 1 CUDA device(s) per process.\n",
      "2024-04-28 21:56:09) Info: Assigning 1.00 processor(s) and 1.00 CUDA device(s) per replicate.\n",
      "2024-04-28 21:56:09) Info: Data output thread running.\n",
      "2024-04-28 21:56:09) Info: Seeding xorwow rng with top word 180 and bottom word 327679512\n",
      "2024-04-28 21:56:09) Info: Data output thread finished.\n",
      "2024-04-28 21:56:09) Info: Simulation file closed.\n"
     ]
    },
    {
     "name": "stderr",
     "output_type": "stream",
     "text": [
      "\r",
      " 90%|########################################################################################################################################################1                | 180/200 [00:20<00:02,  9.53it/s]"
     ]
    },
    {
     "name": "stdout",
     "output_type": "stream",
     "text": [
      "2024-04-28 21:56:09) Info: Using 56 processor(s) and 1 CUDA device(s) per process.\n",
      "2024-04-28 21:56:09) Info: Assigning 1.00 processor(s) and 1.00 CUDA device(s) per replicate.\n",
      "2024-04-28 21:56:09) Info: Data output thread running.\n",
      "2024-04-28 21:56:09) Info: Seeding xorwow rng with top word 181 and bottom word 431948912\n",
      "2024-04-28 21:56:09) Info: Data output thread finished.\n",
      "2024-04-28 21:56:09) Info: Simulation file closed.\n"
     ]
    },
    {
     "name": "stderr",
     "output_type": "stream",
     "text": [
      "\r",
      " 90%|########################################################################################################################################################9                | 181/200 [00:20<00:02,  9.29it/s]"
     ]
    },
    {
     "name": "stdout",
     "output_type": "stream",
     "text": [
      "2024-04-28 21:56:09) Info: Using 56 processor(s) and 1 CUDA device(s) per process.\n",
      "2024-04-28 21:56:09) Info: Assigning 1.00 processor(s) and 1.00 CUDA device(s) per replicate.\n",
      "2024-04-28 21:56:09) Info: Data output thread running.\n",
      "2024-04-28 21:56:09) Info: Seeding xorwow rng with top word 182 and bottom word 546284883\n",
      "2024-04-28 21:56:09) Info: Data output thread finished.\n",
      "2024-04-28 21:56:09) Info: Simulation file closed.\n"
     ]
    },
    {
     "name": "stderr",
     "output_type": "stream",
     "text": [
      "\r",
      " 91%|#########################################################################################################################################################7               | 182/200 [00:20<00:01,  9.21it/s]"
     ]
    },
    {
     "name": "stdout",
     "output_type": "stream",
     "text": [
      "2024-04-28 21:56:09) Info: Using 56 processor(s) and 1 CUDA device(s) per process.\n",
      "2024-04-28 21:56:09) Info: Assigning 1.00 processor(s) and 1.00 CUDA device(s) per replicate.\n",
      "2024-04-28 21:56:09) Info: Data output thread running.\n",
      "2024-04-28 21:56:09) Info: Seeding xorwow rng with top word 183 and bottom word 658295768\n",
      "2024-04-28 21:56:09) Info: Data output thread finished.\n",
      "2024-04-28 21:56:09) Info: Simulation file closed.\n"
     ]
    },
    {
     "name": "stderr",
     "output_type": "stream",
     "text": [
      "\r",
      " 92%|##########################################################################################################################################################6              | 183/200 [00:20<00:01,  9.26it/s]"
     ]
    },
    {
     "name": "stdout",
     "output_type": "stream",
     "text": [
      "2024-04-28 21:56:09) Info: Using 56 processor(s) and 1 CUDA device(s) per process.\n",
      "2024-04-28 21:56:09) Info: Assigning 1.00 processor(s) and 1.00 CUDA device(s) per replicate.\n",
      "2024-04-28 21:56:09) Info: Data output thread running.\n",
      "2024-04-28 21:56:09) Info: Seeding xorwow rng with top word 184 and bottom word 764450017\n",
      "2024-04-28 21:56:09) Info: Data output thread finished.\n",
      "2024-04-28 21:56:09) Info: Simulation file closed.\n"
     ]
    },
    {
     "name": "stderr",
     "output_type": "stream",
     "text": [
      "\r",
      " 92%|###########################################################################################################################################################4             | 184/200 [00:20<00:01,  9.26it/s]"
     ]
    },
    {
     "name": "stdout",
     "output_type": "stream",
     "text": [
      "2024-04-28 21:56:09) Info: Using 56 processor(s) and 1 CUDA device(s) per process.\n",
      "2024-04-28 21:56:09) Info: Assigning 1.00 processor(s) and 1.00 CUDA device(s) per replicate.\n",
      "2024-04-28 21:56:09) Info: Data output thread running.\n",
      "2024-04-28 21:56:09) Info: Seeding xorwow rng with top word 185 and bottom word 871856709\n",
      "2024-04-28 21:56:09) Info: Data output thread finished.\n",
      "2024-04-28 21:56:09) Info: Simulation file closed.\n"
     ]
    },
    {
     "name": "stderr",
     "output_type": "stream",
     "text": [
      "\r",
      " 92%|############################################################################################################################################################3            | 185/200 [00:20<00:01,  9.28it/s]"
     ]
    },
    {
     "name": "stdout",
     "output_type": "stream",
     "text": [
      "2024-04-28 21:56:09) Info: Using 56 processor(s) and 1 CUDA device(s) per process.\n",
      "2024-04-28 21:56:09) Info: Assigning 1.00 processor(s) and 1.00 CUDA device(s) per replicate.\n",
      "2024-04-28 21:56:09) Info: Data output thread running.\n",
      "2024-04-28 21:56:09) Info: Seeding xorwow rng with top word 186 and bottom word 979331144\n",
      "2024-04-28 21:56:10) Info: Data output thread finished.\n",
      "2024-04-28 21:56:10) Info: Simulation file closed.\n"
     ]
    },
    {
     "name": "stderr",
     "output_type": "stream",
     "text": [
      "\r",
      " 93%|#############################################################################################################################################################1           | 186/200 [00:20<00:01,  9.30it/s]"
     ]
    },
    {
     "name": "stdout",
     "output_type": "stream",
     "text": [
      "2024-04-28 21:56:10) Info: Using 56 processor(s) and 1 CUDA device(s) per process.\n",
      "2024-04-28 21:56:10) Info: Assigning 1.00 processor(s) and 1.00 CUDA device(s) per replicate.\n",
      "2024-04-28 21:56:10) Info: Data output thread running.\n",
      "2024-04-28 21:56:10) Info: Seeding xorwow rng with top word 187 and bottom word 86285232\n",
      "2024-04-28 21:56:10) Info: Data output thread finished.\n",
      "2024-04-28 21:56:10) Info: Simulation file closed.\n"
     ]
    },
    {
     "name": "stderr",
     "output_type": "stream",
     "text": [
      "\r",
      " 94%|##############################################################################################################################################################           | 187/200 [00:20<00:01,  9.36it/s]"
     ]
    },
    {
     "name": "stdout",
     "output_type": "stream",
     "text": [
      "2024-04-28 21:56:10) Info: Using 56 processor(s) and 1 CUDA device(s) per process.\n",
      "2024-04-28 21:56:10) Info: Assigning 1.00 processor(s) and 1.00 CUDA device(s) per replicate.\n",
      "2024-04-28 21:56:10) Info: Data output thread running.\n",
      "2024-04-28 21:56:10) Info: Seeding xorwow rng with top word 188 and bottom word 191024148\n",
      "2024-04-28 21:56:10) Info: Data output thread finished.\n",
      "2024-04-28 21:56:10) Info: Simulation file closed.\n"
     ]
    },
    {
     "name": "stderr",
     "output_type": "stream",
     "text": [
      "\r",
      " 94%|##############################################################################################################################################################8          | 188/200 [00:21<00:01,  9.38it/s]"
     ]
    },
    {
     "name": "stdout",
     "output_type": "stream",
     "text": [
      "2024-04-28 21:56:10) Info: Using 56 processor(s) and 1 CUDA device(s) per process.\n",
      "2024-04-28 21:56:10) Info: Assigning 1.00 processor(s) and 1.00 CUDA device(s) per replicate.\n",
      "2024-04-28 21:56:10) Info: Data output thread running.\n",
      "2024-04-28 21:56:10) Info: Seeding xorwow rng with top word 189 and bottom word 297728948\n",
      "2024-04-28 21:56:10) Info: Data output thread finished.\n",
      "2024-04-28 21:56:10) Info: Simulation file closed.\n"
     ]
    },
    {
     "name": "stderr",
     "output_type": "stream",
     "text": [
      "\r",
      " 94%|###############################################################################################################################################################7         | 189/200 [00:21<00:01,  9.48it/s]"
     ]
    },
    {
     "name": "stdout",
     "output_type": "stream",
     "text": [
      "2024-04-28 21:56:10) Info: Using 56 processor(s) and 1 CUDA device(s) per process.\n",
      "2024-04-28 21:56:10) Info: Assigning 1.00 processor(s) and 1.00 CUDA device(s) per replicate.\n",
      "2024-04-28 21:56:10) Info: Data output thread running.\n",
      "2024-04-28 21:56:10) Info: Seeding xorwow rng with top word 190 and bottom word 400195138\n",
      "2024-04-28 21:56:10) Info: Data output thread finished.\n",
      "2024-04-28 21:56:10) Info: Simulation file closed.\n"
     ]
    },
    {
     "name": "stderr",
     "output_type": "stream",
     "text": [
      "\r",
      " 95%|################################################################################################################################################################5        | 190/200 [00:21<00:01,  9.49it/s]"
     ]
    },
    {
     "name": "stdout",
     "output_type": "stream",
     "text": [
      "2024-04-28 21:56:10) Info: Using 56 processor(s) and 1 CUDA device(s) per process.\n",
      "2024-04-28 21:56:10) Info: Assigning 1.00 processor(s) and 1.00 CUDA device(s) per replicate.\n",
      "2024-04-28 21:56:10) Info: Data output thread running.\n",
      "2024-04-28 21:56:10) Info: Seeding xorwow rng with top word 191 and bottom word 504900545\n",
      "2024-04-28 21:56:10) Info: Data output thread finished.\n",
      "2024-04-28 21:56:10) Info: Simulation file closed.\n"
     ]
    },
    {
     "name": "stderr",
     "output_type": "stream",
     "text": [
      "\r",
      " 96%|#################################################################################################################################################################3       | 191/200 [00:21<00:00,  9.55it/s]"
     ]
    },
    {
     "name": "stdout",
     "output_type": "stream",
     "text": [
      "2024-04-28 21:56:10) Info: Using 56 processor(s) and 1 CUDA device(s) per process.\n",
      "2024-04-28 21:56:10) Info: Assigning 1.00 processor(s) and 1.00 CUDA device(s) per replicate.\n",
      "2024-04-28 21:56:10) Info: Data output thread running.\n",
      "2024-04-28 21:56:10) Info: Seeding xorwow rng with top word 192 and bottom word 608583639\n",
      "2024-04-28 21:56:10) Info: Data output thread finished.\n",
      "2024-04-28 21:56:10) Info: Simulation file closed.\n"
     ]
    },
    {
     "name": "stderr",
     "output_type": "stream",
     "text": [
      "\r",
      " 96%|##################################################################################################################################################################2      | 192/200 [00:21<00:00,  9.59it/s]"
     ]
    },
    {
     "name": "stdout",
     "output_type": "stream",
     "text": [
      "2024-04-28 21:56:10) Info: Using 56 processor(s) and 1 CUDA device(s) per process.\n",
      "2024-04-28 21:56:10) Info: Assigning 1.00 processor(s) and 1.00 CUDA device(s) per replicate.\n",
      "2024-04-28 21:56:10) Info: Data output thread running.\n",
      "2024-04-28 21:56:10) Info: Seeding xorwow rng with top word 193 and bottom word 711653665\n",
      "2024-04-28 21:56:10) Info: Data output thread finished.\n",
      "2024-04-28 21:56:10) Info: Simulation file closed.\n"
     ]
    },
    {
     "name": "stderr",
     "output_type": "stream",
     "text": [
      "\r",
      " 96%|###################################################################################################################################################################      | 193/200 [00:21<00:00,  9.44it/s]"
     ]
    },
    {
     "name": "stdout",
     "output_type": "stream",
     "text": [
      "2024-04-28 21:56:10) Info: Using 56 processor(s) and 1 CUDA device(s) per process.\n",
      "2024-04-28 21:56:10) Info: Assigning 1.00 processor(s) and 1.00 CUDA device(s) per replicate.\n",
      "2024-04-28 21:56:10) Info: Data output thread running.\n",
      "2024-04-28 21:56:10) Info: Seeding xorwow rng with top word 194 and bottom word 821295212\n",
      "2024-04-28 21:56:10) Info: Data output thread finished.\n",
      "2024-04-28 21:56:10) Info: Simulation file closed.\n"
     ]
    },
    {
     "name": "stderr",
     "output_type": "stream",
     "text": [
      "\r",
      " 97%|###################################################################################################################################################################9     | 194/200 [00:21<00:00,  9.40it/s]"
     ]
    },
    {
     "name": "stdout",
     "output_type": "stream",
     "text": [
      "2024-04-28 21:56:10) Info: Using 56 processor(s) and 1 CUDA device(s) per process.\n",
      "2024-04-28 21:56:10) Info: Assigning 1.00 processor(s) and 1.00 CUDA device(s) per replicate.\n",
      "2024-04-28 21:56:10) Info: Data output thread running.\n",
      "2024-04-28 21:56:10) Info: Seeding xorwow rng with top word 195 and bottom word 929379985\n",
      "2024-04-28 21:56:11) Info: Data output thread finished.\n",
      "2024-04-28 21:56:11) Info: Simulation file closed.\n"
     ]
    },
    {
     "name": "stderr",
     "output_type": "stream",
     "text": [
      "\r",
      " 98%|####################################################################################################################################################################7    | 195/200 [00:21<00:00,  9.33it/s]"
     ]
    },
    {
     "name": "stdout",
     "output_type": "stream",
     "text": [
      "2024-04-28 21:56:11) Info: Using 56 processor(s) and 1 CUDA device(s) per process.\n",
      "2024-04-28 21:56:11) Info: Assigning 1.00 processor(s) and 1.00 CUDA device(s) per replicate.\n",
      "2024-04-28 21:56:11) Info: Data output thread running.\n",
      "2024-04-28 21:56:11) Info: Seeding xorwow rng with top word 196 and bottom word 38181245\n",
      "2024-04-28 21:56:11) Info: Data output thread finished.\n",
      "2024-04-28 21:56:11) Info: Simulation file closed.\n"
     ]
    },
    {
     "name": "stderr",
     "output_type": "stream",
     "text": [
      "\r",
      " 98%|#####################################################################################################################################################################6   | 196/200 [00:21<00:00,  9.35it/s]"
     ]
    },
    {
     "name": "stdout",
     "output_type": "stream",
     "text": [
      "2024-04-28 21:56:11) Info: Using 56 processor(s) and 1 CUDA device(s) per process.\n",
      "2024-04-28 21:56:11) Info: Assigning 1.00 processor(s) and 1.00 CUDA device(s) per replicate.\n",
      "2024-04-28 21:56:11) Info: Data output thread running.\n",
      "2024-04-28 21:56:11) Info: Seeding xorwow rng with top word 197 and bottom word 145140251\n",
      "2024-04-28 21:56:11) Info: Data output thread finished.\n",
      "2024-04-28 21:56:11) Info: Simulation file closed.\n"
     ]
    },
    {
     "name": "stderr",
     "output_type": "stream",
     "text": [
      "\r",
      " 98%|######################################################################################################################################################################4  | 197/200 [00:21<00:00,  9.33it/s]"
     ]
    },
    {
     "name": "stdout",
     "output_type": "stream",
     "text": [
      "2024-04-28 21:56:11) Info: Using 56 processor(s) and 1 CUDA device(s) per process.\n",
      "2024-04-28 21:56:11) Info: Assigning 1.00 processor(s) and 1.00 CUDA device(s) per replicate.\n",
      "2024-04-28 21:56:11) Info: Data output thread running.\n",
      "2024-04-28 21:56:11) Info: Seeding xorwow rng with top word 198 and bottom word 252539940\n",
      "2024-04-28 21:56:11) Info: Data output thread finished.\n",
      "2024-04-28 21:56:11) Info: Simulation file closed.\n"
     ]
    },
    {
     "name": "stderr",
     "output_type": "stream",
     "text": [
      "\r",
      " 99%|#######################################################################################################################################################################3 | 198/200 [00:22<00:00,  9.42it/s]"
     ]
    },
    {
     "name": "stdout",
     "output_type": "stream",
     "text": [
      "2024-04-28 21:56:11) Info: Using 56 processor(s) and 1 CUDA device(s) per process.\n",
      "2024-04-28 21:56:11) Info: Assigning 1.00 processor(s) and 1.00 CUDA device(s) per replicate.\n",
      "2024-04-28 21:56:11) Info: Data output thread running.\n",
      "2024-04-28 21:56:11) Info: Seeding xorwow rng with top word 199 and bottom word 355853272\n",
      "2024-04-28 21:56:11) Info: Data output thread finished.\n",
      "2024-04-28 21:56:11) Info: Simulation file closed.\n"
     ]
    },
    {
     "name": "stderr",
     "output_type": "stream",
     "text": [
      "\r",
      "100%|########################################################################################################################################################################1| 199/200 [00:22<00:00,  9.41it/s]"
     ]
    },
    {
     "name": "stdout",
     "output_type": "stream",
     "text": [
      "2024-04-28 21:56:11) Info: Using 56 processor(s) and 1 CUDA device(s) per process.\n",
      "2024-04-28 21:56:11) Info: Assigning 1.00 processor(s) and 1.00 CUDA device(s) per replicate.\n",
      "2024-04-28 21:56:11) Info: Data output thread running.\n",
      "2024-04-28 21:56:11) Info: Seeding xorwow rng with top word 200 and bottom word 462443674\n",
      "2024-04-28 21:56:11) Info: Data output thread finished.\n",
      "2024-04-28 21:56:11) Info: Simulation file closed.\n"
     ]
    },
    {
     "name": "stderr",
     "output_type": "stream",
     "text": [
      "100%|#########################################################################################################################################################################| 200/200 [00:22<00:00,  8.98it/s]\n"
     ]
    }
   ],
   "source": [
    "# Run multipled replicates using the Gillespie solver\n",
    "# Will cost less than 1 minute\n",
    "reps = 200\n",
    "\n",
    "sim.run(filename=filename, method=\"lm::cme::GillespieDSolver\", replicates=reps)"
   ]
  },
  {
   "cell_type": "markdown",
   "metadata": {},
   "source": [
    "## Post-Processing"
   ]
  },
  {
   "cell_type": "code",
   "execution_count": 28,
   "metadata": {},
   "outputs": [],
   "source": [
    "fileHandle = PostProcessing.openLMFile(filename) # Create h5py file handle\n",
    "\n",
    "plotfolder = './plots_gene_expression/'\n",
    "\n",
    "if not os.path.exists(plotfolder):\n",
    "    os.mkdir(plotfolder)\n"
   ]
  },
  {
   "cell_type": "markdown",
   "metadata": {},
   "source": [
    "#### Using [```plotAvgVarFromFile()```](https://luthey-schulten.chemistry.illinois.edu/software/LM2.4/_autosummary/pySTDLM.PostProcessing.html#module-pySTDLM.PostProcessing) built-in function in PostProcessing to plot the average and variance of species. "
   ]
  },
  {
   "cell_type": "code",
   "execution_count": 29,
   "metadata": {},
   "outputs": [
    {
     "data": {
      "text/plain": [
       "<Figure size 640x480 with 0 Axes>"
      ]
     },
     "metadata": {},
     "output_type": "display_data"
    }
   ],
   "source": [
    "for i_specie, specie in enumerate(species):\n",
    "\n",
    "    picturepath = plotfolder + 'Trace.{0}.png'.format(specie)\n",
    "\n",
    "    PostProcessing.plotAvgVarFromFile(filename = filename, species = [specie], outfile = picturepath)"
   ]
  },
  {
   "cell_type": "markdown",
   "metadata": {},
   "source": [
    "#### Using user-defined function to serialize traces in LM file to a 3D Numpy Array with dimesions *(reps, species, time)*."
   ]
  },
  {
   "cell_type": "code",
   "execution_count": 30,
   "metadata": {},
   "outputs": [],
   "source": [
    "import h5py\n",
    "\n",
    "timestep = PostProcessing.getTimesteps(fileHandle) # use PostProcessing to get the timesteps of the simulation\n",
    "\n",
    "traces = np.zeros((reps,len(sim.particleMap),len(timestep)))\n",
    "\n",
    "def get_sim_data(filename):\n",
    "\n",
    "    f=h5py.File(filename, \"r\")\n",
    "\n",
    "    for r in range(reps):\n",
    "        \n",
    "        traces[r]=f['Simulations'][str(r+1).zfill(7)]['SpeciesCounts'][()].transpose()\n",
    "        \n",
    "    f.close()\n",
    "\n",
    "    return traces\n",
    "\n",
    "traces = get_sim_data(filename)\n",
    "\n",
    "# print(traces)"
   ]
  },
  {
   "cell_type": "markdown",
   "metadata": {},
   "source": [
    "#### Plot the distribution of Protein at the end of the simulation"
   ]
  },
  {
   "cell_type": "markdown",
   "metadata": {},
   "source": [
    "User defined function to draw histogram"
   ]
  },
  {
   "cell_type": "code",
   "execution_count": 31,
   "metadata": {},
   "outputs": [],
   "source": [
    "def plot_histogram(data, figure_path, bins, xlabel, title):\n",
    "    \n",
    "    fig_size = [87,87/1.618]\n",
    "\n",
    "    fig = plt.figure(figsize=(fig_size[0]/25.4,fig_size[1]/25.4))\n",
    "\n",
    "    plt.hist(ptns_end, bins=20, alpha=0.7, color='limegreen')\n",
    "\n",
    "    ax = plt.gca()\n",
    "\n",
    "    xlabel = xlabel.replace('_','\\_')\n",
    "    ax.set_xlabel(r'{0}'.format(xlabel),\n",
    "                  fontsize=7,\n",
    "                  labelpad=1.5)\n",
    "\n",
    "    ax.set_ylabel(r'{0}'.format('Frequency'),\n",
    "                fontsize=7,\n",
    "                labelpad=1.5)\n",
    "\n",
    "    title = title.replace('_','\\_')\n",
    "    ax.set_title(r'{0}'.format(title),\n",
    "                 fontsize=8,\n",
    "                 pad=4)\n",
    "\n",
    "    tick_length = 4.0\n",
    "    tick_width = 1.5\n",
    "    ax.tick_params(labelsize=5,\n",
    "                    length=tick_length,\n",
    "                    width=tick_width,\n",
    "                    direction='in',\n",
    "                    left=True,\n",
    "                    right=True,\n",
    "                    bottom=True,\n",
    "                    top=True,\n",
    "                    which='major')\n",
    "\n",
    "    ax.tick_params(labelsize=5,\n",
    "                    length=tick_length/1.5,\n",
    "                    width=tick_width/1.5,\n",
    "                    direction='in',\n",
    "                    left=True,\n",
    "                    right=False,\n",
    "                    bottom=True,\n",
    "                    top=False,\n",
    "                    which='minor')\n",
    "\n",
    "    ax.spines['left'].set_linewidth(1.5)\n",
    "    ax.spines['bottom'].set_linewidth(1.5)\n",
    "    ax.spines['right'].set_linewidth(1.5)\n",
    "    ax.spines['top'].set_linewidth(1.5)\n",
    "\n",
    "    mean = np.mean(ptns_end)\n",
    "    plt.axvline(mean, color='red', linestyle='dashed', linewidth=1.5, label = 'Mean: {0:.3f}'.format(mean))\n",
    "\n",
    "    median = np.median(ptns_end)\n",
    "    plt.axvline(median, color='black', linestyle='dashed', linewidth=1.5, label = 'Median: {0:.3f}'.format(median))      \n",
    "\n",
    "    min = np.min(ptns_end)\n",
    "    plt.axvline(min, color='blue', linestyle='dashed', linewidth=1.5, label = 'Min: {0:.3f}'.format(min))  \n",
    "\n",
    "    ax.legend(fontsize = 8)\n",
    "\n",
    "    fig.savefig(fig_path, dpi = 300)\n",
    "\n",
    "    plt.close()\n",
    "    \n",
    "    return None"
   ]
  },
  {
   "cell_type": "code",
   "execution_count": 32,
   "metadata": {
    "scrolled": true
   },
   "outputs": [],
   "source": [
    "ptns_end = traces[:,2,-1] # Slice Numpy array to get the counts of ptn at the end of the whole cell cycle\n",
    "# print(ptns_end)\n",
    "\n",
    "fig_path = plotfolder + 'Distribution_Ptns_End.png'\n",
    "\n",
    "xlabel = 'Counts of Protein [#]'\n",
    "\n",
    "title = 'Distribution of Ptn Counts at the end of the simulation'\n",
    "        \n",
    "plot_histogram(data = ptns_end, figure_path = fig_path, bins = 20, xlabel = xlabel, title = title)\n",
    "\n",
    "# plt.hist(ptns_end)"
   ]
  },
  {
   "cell_type": "code",
   "execution_count": 33,
   "metadata": {},
   "outputs": [],
   "source": [
    "ptns_end = traces[:,1,-1] # Slice Numpy array to get the counts of ptn at the end of the whole cell cycle\n",
    "# print(ptns_end)\n",
    "\n",
    "fig_path = plotfolder + 'Distribution_mRNA_End.png'\n",
    "\n",
    "xlabel = 'Counts of mRNA [#]'\n",
    "\n",
    "title = 'Distribution of mRNA Counts at the end of the simulation'\n",
    "        \n",
    "plot_histogram(data = ptns_end, figure_path = fig_path, bins = 5, xlabel = xlabel, title = title)"
   ]
  },
  {
   "cell_type": "code",
   "execution_count": 34,
   "metadata": {},
   "outputs": [
    {
     "ename": "SyntaxError",
     "evalue": "'break' outside loop (668683560.py, line 4)",
     "output_type": "error",
     "traceback": [
      "\u001b[0;36m  File \u001b[0;32m\"/tmp/ipykernel_2508336/668683560.py\"\u001b[0;36m, line \u001b[0;32m4\u001b[0m\n\u001b[0;31mSyntaxError\u001b[0m\u001b[0;31m:\u001b[0m 'break' outside loop\n"
     ]
    }
   ],
   "source": [
    "break"
   ]
  },
  {
   "cell_type": "code",
   "execution_count": null,
   "metadata": {
    "scrolled": true
   },
   "outputs": [],
   "source": [
    "from scipy.special import gamma\n",
    "\n",
    "a = v0/d1\n",
    "b = v1/d0\n",
    "\n",
    "print('a',a,'b',b)\n",
    "ns = np.linspace(0, 250, 251)\n",
    "\n",
    "prefactor = gamma(ns+a)/gamma(ns+1)/gamma(a)\n",
    "\n",
    "print(prefactor)"
   ]
  },
  {
   "cell_type": "code",
   "execution_count": null,
   "metadata": {},
   "outputs": [],
   "source": [
    "import math as m\n",
    "\n",
    "m.gamma(3000)"
   ]
  },
  {
   "cell_type": "markdown",
   "metadata": {},
   "source": [
    "## Questions 2.1\n",
    "\n",
    "1. Do mRNA and protein reach steady-state during the entire cell cycle? How can you tell this from the plots?\n",
    "\n",
    "2. In the whole cell model of JCVI-SYN3A, the initial count of protein (P_0001/DnaA) is 148. Does the protein count double during the entire cell cyle? And why this is important?\n",
    "\n",
    "3. (Challenge) Try to increase the simulation time to see the steady state of protein.\n",
    "\n"
   ]
  },
  {
   "cell_type": "code",
   "execution_count": null,
   "metadata": {},
   "outputs": [],
   "source": []
  }
 ],
 "metadata": {
  "kernelspec": {
   "display_name": "Python 3 (ipykernel)",
   "language": "python",
   "name": "python3"
  },
  "language_info": {
   "codemirror_mode": {
    "name": "ipython",
    "version": 3
   },
   "file_extension": ".py",
   "mimetype": "text/x-python",
   "name": "python",
   "nbconvert_exporter": "python",
   "pygments_lexer": "ipython3",
   "version": "3.7.3"
  }
 },
 "nbformat": 4,
 "nbformat_minor": 2
}
