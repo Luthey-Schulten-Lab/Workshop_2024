{
 "cells": [
  {
   "cell_type": "code",
   "execution_count": 5,
   "metadata": {},
   "outputs": [
    {
     "name": "stdout",
     "output_type": "stream",
     "text": [
      "['ALA_cost_unpaid', 'ARG_cost_unpaid', 'ASN_cost_unpaid', 'ASP_cost_unpaid', 'CYS_cost_unpaid', 'GLU_cost_unpaid', 'GLN_cost_unpaid', 'GLY_cost_unpaid', 'HIS_cost_unpaid', 'ILE_cost_unpaid', 'LEU_cost_unpaid', 'LYS_cost_unpaid', 'MET_cost_unpaid', 'PHE_cost_unpaid', 'PRO_cost_unpaid', 'SER_cost_unpaid', 'THR_cost_unpaid', 'TRP_cost_unpaid', 'TYR_cost_unpaid', 'VAL_cost_unpaid']\n",
      "<generator object <genexpr> at 0x79f9b48d1cf0>\n"
     ]
    }
   ],
   "source": [
    "sim_properties = {}\n",
    "\n",
    "sim_properties['unpaidaaCostMap'] = {'A': 'ALA_cost_unpaid', 'R': 'ARG_cost_unpaid', 'N': 'ASN_cost_unpaid', 'D': 'ASP_cost_unpaid', 'C': 'CYS_cost_unpaid',\n",
    "    'E': 'GLU_cost_unpaid', 'Q': 'GLN_cost_unpaid', 'G': 'GLY_cost_unpaid', 'H': 'HIS_cost_unpaid', 'I': 'ILE_cost_unpaid', \n",
    "    'L': 'LEU_cost_unpaid', 'K': 'LYS_cost_unpaid', 'M': 'MET_cost_unpaid', 'F': 'PHE_cost_unpaid', 'P': 'PRO_cost_unpaid', \n",
    "    'S': 'SER_cost_unpaid','T': 'THR_cost_unpaid', 'W': 'TRP_cost_unpaid', 'Y': 'TYR_cost_unpaid', 'V': 'VAL_cost_unpaid'}\n",
    "\n",
    "b = list(sim_properties['unpaidaaCostMap'].values())\n",
    "\n",
    "print(b)\n",
    "\n",
    "print(a for a in b)"
   ]
  },
  {
   "cell_type": "code",
   "execution_count": null,
   "metadata": {},
   "outputs": [],
   "source": []
  }
 ],
 "metadata": {
  "kernelspec": {
   "display_name": "LM_Cell",
   "language": "python",
   "name": "python3"
  },
  "language_info": {
   "codemirror_mode": {
    "name": "ipython",
    "version": 3
   },
   "file_extension": ".py",
   "mimetype": "text/x-python",
   "name": "python",
   "nbconvert_exporter": "python",
   "pygments_lexer": "ipython3",
   "version": "3.7.3"
  }
 },
 "nbformat": 4,
 "nbformat_minor": 2
}
